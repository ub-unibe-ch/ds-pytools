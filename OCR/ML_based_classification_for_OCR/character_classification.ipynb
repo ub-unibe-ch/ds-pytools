{
 "cells": [
  {
   "cell_type": "markdown",
   "metadata": {},
   "source": [
    "# Image Classification for Optical Character Recognition (OCR)"
   ]
  },
  {
   "cell_type": "markdown",
   "metadata": {},
   "source": [
    "**Python** version: 3.7.7   \n",
    "**numpy** version: 1.19.0   \n",
    "**matplotlib** version: 3.2.2  \n",
    "**scikit-image** version: 0.17.2  \n",
    "**scikit-learn** version: 0.23.1  \n",
    "**joblib** version: 0.16.0  "
   ]
  },
  {
   "cell_type": "markdown",
   "metadata": {},
   "source": [
    "This Python Jupyter notebook introduces some basic image processing techniques that can be used in the context of optical character recognition (OCR). It combines methods such as image flattening and image reconstruction with basic machine learning approaches.   \n",
    "The data used for the training and validation of a machine learning (ML) classifier is extracted from weather tables form the [Bozner Zeitung](https://digital.tessmann.it/tessmannDigital/Zeitungsarchiv/Jahresuebersicht/Zeitung/2) (year 1844). Predictions are made on data from the same newspaper, but from another year (year 1842)."
   ]
  },
  {
   "cell_type": "markdown",
   "metadata": {},
   "source": [
    "The required libraries are loaded:"
   ]
  },
  {
   "cell_type": "code",
   "execution_count": 1,
   "metadata": {},
   "outputs": [],
   "source": [
    "import os\n",
    "import numpy as np\n",
    "import matplotlib.pyplot as plt\n",
    "\n",
    "import skimage\n",
    "from skimage import io\n",
    "from skimage import transform\n",
    "\n",
    "from sklearn.model_selection import train_test_split\n",
    "from sklearn.ensemble import RandomForestClassifier\n",
    "from sklearn import metrics\n",
    "\n",
    "from joblib import dump\n",
    "from joblib import load"
   ]
  },
  {
   "cell_type": "markdown",
   "metadata": {},
   "source": [
    "## Data loading"
   ]
  },
  {
   "cell_type": "markdown",
   "metadata": {},
   "source": [
    "The training and validation dataset to be used in the machine learning approach is loaded from a csv-file and stored in a list (**data_list**)."
   ]
  },
  {
   "cell_type": "code",
   "execution_count": 2,
   "metadata": {},
   "outputs": [],
   "source": [
    "data_file = open(\"digits_0-9.csv\", \"r\")\n",
    "data_list = data_file.readlines()\n",
    "data_file.close()"
   ]
  },
  {
   "cell_type": "code",
   "execution_count": 3,
   "metadata": {},
   "outputs": [
    {
     "data": {
      "text/plain": [
       "2067"
      ]
     },
     "execution_count": 3,
     "metadata": {},
     "output_type": "execute_result"
    }
   ],
   "source": [
    "len(data_list)"
   ]
  },
  {
   "cell_type": "markdown",
   "metadata": {},
   "source": [
    "The data list contains 2067 items, each one representing the data for one image. In order to get an impression of the data structure, we look at one individual item (e.g. the item with index 2000 in the data list):  "
   ]
  },
  {
   "cell_type": "code",
   "execution_count": 4,
   "metadata": {},
   "outputs": [
    {
     "name": "stdout",
     "output_type": "stream",
     "text": [
      "Data points in item: 1876\n",
      " \n",
      "Data content of item: \n",
      " \n",
      "255,255,255,255,255,255,255,255,255,255,255,255,255,255,255,255,255,255,255,255,255,255,255,255,255,255,255,255,255,255,255,255,255,255,255,255,255,255,255,255,255,255,255,255,255,255,255,255,255,255,255,255,255,255,255,255,255,255,255,255,255,255,255,255,255,255,255,255,255,255,255,255,255,255,255,255,255,255,255,255,255,255,255,255,255,255,255,255,255,255,255,255,255,255,255,255,255,255,255,255,255,255,255,255,255,255,255,255,255,255,255,255,255,255,255,255,255,255,255,255,255,255,255,255,255,255,255,255,255,255,255,255,255,255,255,255,255,255,255,255,255,255,255,255,255,255,255,255,255,255,255,255,255,255,255,255,255,255,255,255,255,255,255,255,255,255,255,255,255,255,255,255,255,255,255,255,255,255,255,255,255,255,255,255,255,255,255,255,255,255,255,255,255,255,255,255,255,255,255,255,255,255,255,255,255,255,255,255,255,255,255,255,255,255,255,255,255,255,255,255,255,255,255,255,255,255,255,255,255,255,255,255,255,255,255,255,255,255,255,255,255,255,255,255,255,255,255,255,255,255,255,255,255,255,255,255,255,255,255,255,255,255,255,255,255,255,255,255,255,255,255,255,255,255,255,255,255,255,255,255,255,255,255,255,255,255,255,255,255,255,255,255,255,255,255,255,255,255,255,255,255,255,255,255,255,255,255,255,255,255,255,255,255,255,255,255,255,255,255,255,255,254,254,254,254,254,254,254,254,254,254,254,254,254,254,254,254,254,254,254,254,254,254,254,254,254,254,254,254,254,254,255,255,255,255,255,255,255,255,255,255,255,255,255,255,255,255,255,255,255,255,255,255,255,255,255,255,255,255,255,255,255,255,255,255,255,255,255,255,255,255,255,255,255,255,255,254,254,254,254,254,254,254,254,254,254,254,254,254,254,254,254,254,254,254,254,254,254,254,254,254,254,254,254,254,254,255,255,255,255,255,255,255,255,255,255,255,255,255,255,255,255,255,255,255,255,255,255,255,255,255,255,255,255,255,255,255,255,255,255,255,255,255,255,255,255,255,255,255,255,255,254,254,254,163,163,163,163,163,163,254,254,254,254,254,254,254,254,254,254,254,254,254,254,254,163,163,163,254,254,254,255,255,255,255,255,255,255,255,255,255,255,255,255,255,255,255,255,255,255,255,255,255,255,255,255,255,255,255,255,255,255,255,255,255,255,255,255,255,255,255,255,255,255,255,255,254,254,254,14,14,14,14,14,14,163,163,163,254,254,254,254,254,254,254,254,254,100,100,100,14,14,14,163,163,163,255,255,255,255,255,255,255,255,255,255,255,255,255,255,255,255,255,255,255,255,255,255,255,255,255,255,255,255,255,255,255,255,255,255,255,255,255,255,255,255,255,255,255,255,255,160,160,160,9,9,9,9,9,9,160,160,160,254,254,254,254,254,254,254,254,254,95,95,95,9,9,9,97,97,97,255,255,255,255,255,255,255,255,255,255,255,255,255,255,255,255,255,255,255,255,255,255,255,255,255,255,255,255,255,255,255,255,255,255,255,255,255,255,255,255,255,255,255,255,255,95,95,95,9,9,9,9,9,9,160,160,160,254,254,254,254,254,254,254,254,254,95,95,95,9,9,9,12,12,12,255,255,255,255,255,255,255,255,255,255,255,255,255,255,255,255,255,255,255,255,255,255,255,255,255,255,255,255,255,255,255,255,255,255,255,255,255,255,255,255,255,255,255,255,255,95,95,95,9,9,9,9,9,9,160,160,160,254,254,254,254,254,254,254,254,254,95,95,95,9,9,9,9,9,9,255,255,255,255,255,255,255,255,255,255,255,255,255,255,255,255,255,255,255,255,255,255,255,255,255,255,255,255,255,255,255,255,255,255,255,255,255,255,255,255,255,255,255,255,255,95,95,95,9,9,9,9,9,9,160,160,160,254,254,254,254,254,254,254,254,254,95,95,95,9,9,9,9,9,9,255,255,255,255,255,255,255,255,255,255,255,255,255,255,255,255,255,255,255,255,255,255,255,255,255,255,255,255,255,255,255,255,255,255,255,255,255,255,255,255,255,255,255,255,255,254,254,254,9,9,9,9,9,9,14,14,14,163,163,163,254,254,254,163,163,163,12,12,12,9,9,9,9,9,9,255,255,255,255,255,255,255,255,255,255,255,255,255,255,255,255,255,255,255,255,255,255,255,255,255,255,255,255,255,255,255,255,255,255,255,255,255,255,255,255,255,255,255,255,255,254,254,254,155,155,155,92,92,92,9,9,9,14,14,14,17,17,17,14,14,14,9,9,9,9,9,9,92,92,92,255,255,255,255,255,255,255,255,255,255,255,255,255,255,255,255,255,255,255,255,255,255,255,255,255,255,255,255,255,255,255,255,255,255,255,255,255,255,255,255,255,255,255,255,255,254,254,254,251,251,251,249,249,249,155,155,155,246,246,246,155,155,155,155,155,155,9,9,9,9,9,9,95,95,95,255,255,255,255,255,255,255,255,255,255,255,255,255,255,255,255,255,255,255,255,255,255,255,255,255,255,255,255,255,255,255,255,255,255,255,255,255,255,255,255,255,255,255,255,255,254,254,254,254,254,254,254,254,254,251,251,251,254,254,254,251,251,251,251,251,251,9,9,9,9,9,9,158,158,158,255,255,255,255,255,255,255,255,255,255,255,255,255,255,255,255,255,255,255,255,255,255,255,255,255,255,255,255,255,255,255,255,255,255,255,255,255,255,255,255,255,255,255,255,255,254,254,254,254,254,254,254,254,254,254,254,254,254,254,254,247,247,247,16,16,16,12,12,12,97,97,97,251,251,251,255,255,255,255,255,255,255,255,255,255,255,255,255,255,255,255,255,255,255,255,255,255,255,255,255,255,255,255,255,255,255,255,255,255,255,255,255,255,255,255,255,255,255,255,255,160,160,160,166,166,166,254,254,254,254,254,254,251,251,251,158,158,158,9,9,9,17,17,17,249,249,249,254,254,254,255,255,255,255,255,255,255,255,255,255,255,255,255,255,255,255,255,255,255,255,255,255,255,255,255,255,255,255,255,255,255,255,255,255,255,255,255,255,255,255,255,255,255,255,255,92,92,92,14,14,14,24,24,24,251,251,251,158,158,158,14,14,14,12,12,12,97,97,97,254,254,254,254,254,254,255,255,255,255,255,255,255,255,255,255,255,255,255,255,255,255,255,255,255,255,255,255,255,255,255,255,255,255,255,255,255,255,255,255,255,255,255,255,255,255,255,255,255,255,255,92,92,92,9,9,9,9,9,9,17,17,17,14,14,14,14,14,14,158,158,158,249,249,249,254,254,254,254,254,254,255,255,255,255,255,255,255,255,255,255,255,255,255,255,255,255,255,255,255,255,255,255,255,255,255,255,255,255,255,255,255,255,255,255,255,255,255,255,255,255,255,255,255,255,255,155,155,155,9,9,9,9,9,9,14,14,14,158,158,158,246,246,246,251,251,251,254,254,254,254,254,254,254,254,254,255,255,255,255,255,255,255,255,255,255,255,255,255,255,255,255,255,255,255,255,255,255,255,255,255,255,255,255,255,255,255,255,255,255,255,255,255,255,255,255,255,255,255,255,255,255,255,255,255,255,255,255,255,255,255,255,255,255,255,255,255,255,255,255,255,255,255,255,255,255,255,255,255,255,255,255,255,255,255,255,255,255,255,255,255,255,255,255,255,255,255,255,255,255,255,255,255,255,255,255,255,255,255,255,255,255,255,255,255,255,255,255,255,255,255,255,255,255,255,255,255,255,255,255,255,255,255,255,255,255,255,255,255,255,255,255,255,255,255,255,255,255,255,255,255,255,255,255,255,255,255,255,255,255,255,255,255,255,255,255,255,255,255,255,255,255,255,255,255,255,255,255,255,255,255,255,255,255,255,255,255,255,255,255,255,255,255,255,255,255,255,255,255,255,255,255,255,255,255,255,255,255,255,255,255,255,255,255,255,255,255,255,255,255,255,255,255,255,255,255,255,255,255,255,255,255,255,255,255,255,255,255,255,255,255,255,255,255,255,255,255,255,255,255,255,255,255,255,255,255,255,255,255,255,255,255,255,255,255,255,255,255,255,255,255,255,255,255,255,255,255,255,255,255,255,255,255,255,255,255,255,255,255,255,255,255,255,255,255,255,255,255,255,255,255,255,255,255,255,255,255,255,255,255,255,255,255,255,255,255,255,255,255,255,255,255,255,255,255,255,255,255,255,255,9\n",
      "\n"
     ]
    }
   ],
   "source": [
    "item_2000 = data_list[2000]\n",
    "print(\"Data points in item: \" + str(item_2000.count(',') + 1))\n",
    "print(\" \")\n",
    "print(\"Data content of item: \")\n",
    "print(\" \")\n",
    "print(item_2000)"
   ]
  },
  {
   "cell_type": "markdown",
   "metadata": {},
   "source": [
    "The item contains 1876 data points, separated by commas. The first 1875 data points represent pixel values of a square image with 25 x 25 pixels organized in 3 channels (8-bit, RGB). The last character (9) is the label of the image."
   ]
  },
  {
   "cell_type": "markdown",
   "metadata": {},
   "source": [
    "## Image reconstruction for data visualization"
   ]
  },
  {
   "cell_type": "markdown",
   "metadata": {},
   "source": [
    "In the data list, the images are provided in a flatten format. In order to visualize them, they need to be reconstructed to the initial shape. This operation requires 2 steps:  \n",
    "- separation of the pixel values from the label value  \n",
    "- reshaping the flat data line in an array with shape 25x25x3 (25x25 pixels in 3 channels).\n",
    "\n",
    "These operations are performed by the following method:"
   ]
  },
  {
   "cell_type": "code",
   "execution_count": 5,
   "metadata": {},
   "outputs": [],
   "source": [
    "def datalist_element_label(datalist_element):\n",
    "    \n",
    "    data_element_raw = datalist_element\n",
    "    data_element_label = data_element_raw[-2:-1]\n",
    "    data_element = data_element_raw[0:-2]\n",
    "    data_element_str = data_element.split(\",\")[:-1]\n",
    "    data_element_int = [int(x) for x in data_element_str]\n",
    "    image_array = np.asfarray(data_element_int).reshape((25,25,3))\n",
    "    \n",
    "    return image_array, data_element_label"
   ]
  },
  {
   "cell_type": "markdown",
   "metadata": {},
   "source": [
    "By applying this method to some items in the data list, we can reconstruct the respective images and also show the labels of each image. This is done for 10 random images."
   ]
  },
  {
   "cell_type": "code",
   "execution_count": 6,
   "metadata": {},
   "outputs": [],
   "source": [
    "indices = np.random.randint(0, 2066, size=10)\n",
    "elements = [data_list[x] for x in indices]"
   ]
  },
  {
   "cell_type": "code",
   "execution_count": 7,
   "metadata": {},
   "outputs": [
    {
     "data": {
      "image/png": "[encoded data removed]",
      "text/plain": [
       "<Figure size 1440x360 with 10 Axes>"
      ]
     },
     "metadata": {
      "needs_background": "light"
     },
     "output_type": "display_data"
    }
   ],
   "source": [
    "plt.figure(figsize=(20,5))\n",
    "\n",
    "for i in range (0,10):\n",
    "    img = datalist_element_label(elements[i])[0]\n",
    "    label = datalist_element_label(elements[i])[1]\n",
    "    \n",
    "    plt.subplot(1,10,i + 1)\n",
    "    plt.imshow(img.astype(np.uint8), cmap=\"gray\")\n",
    "    plt.axis(\"off\")\n",
    "    plt.title(\"Label: \" + label)\n",
    "\n",
    "plt.show()"
   ]
  },
  {
   "cell_type": "markdown",
   "metadata": {},
   "source": [
    "## Data preparation for machine learning"
   ]
  },
  {
   "cell_type": "markdown",
   "metadata": {},
   "source": [
    "Machine learning requires some data preparation first. Since the data in the data list is a mixture of pixel values and image labels, it needs to be split accordingly. This can be done by using the **datalist_element_label** method defined above.\n",
    "\n",
    "In this notebook, we use the machine learning library [**scikit-learn**](https://scikit-learn.org/stable/). The ML-algorithms in scikit-learn can be used with arrays of linearized data. The data is therefore converted in such arrays."
   ]
  },
  {
   "cell_type": "code",
   "execution_count": 8,
   "metadata": {},
   "outputs": [],
   "source": [
    "img_lin = []\n",
    "labels = []\n",
    "\n",
    "for item in data_list:\n",
    "    img = datalist_element_label(item)[0]\n",
    "    img_linear = np.reshape(img, img.shape[0]*img.shape[1]*img.shape[2])\n",
    "    label = datalist_element_label(item)[1]\n",
    "    img_lin.append(img_linear)\n",
    "    labels.append(label)"
   ]
  },
  {
   "cell_type": "markdown",
   "metadata": {},
   "source": [
    "The result is a list of pixel values, organized in arrays (**img_lin**), and a list of image labels (**labels**) finally converted to an array (**categories**)."
   ]
  },
  {
   "cell_type": "code",
   "execution_count": 9,
   "metadata": {},
   "outputs": [
    {
     "data": {
      "text/plain": [
       "2067"
      ]
     },
     "execution_count": 9,
     "metadata": {},
     "output_type": "execute_result"
    }
   ],
   "source": [
    "len(img_lin) "
   ]
  },
  {
   "cell_type": "code",
   "execution_count": 10,
   "metadata": {},
   "outputs": [
    {
     "name": "stdout",
     "output_type": "stream",
     "text": [
      "[255. 255. 255. ... 255. 255. 255.]\n"
     ]
    }
   ],
   "source": [
    "print(img_lin[2000])"
   ]
  },
  {
   "cell_type": "code",
   "execution_count": 11,
   "metadata": {},
   "outputs": [
    {
     "data": {
      "text/plain": [
       "2067"
      ]
     },
     "execution_count": 11,
     "metadata": {},
     "output_type": "execute_result"
    }
   ],
   "source": [
    "len(labels) "
   ]
  },
  {
   "cell_type": "code",
   "execution_count": 12,
   "metadata": {},
   "outputs": [
    {
     "name": "stdout",
     "output_type": "stream",
     "text": [
      "9\n"
     ]
    }
   ],
   "source": [
    "print(labels[2000])"
   ]
  },
  {
   "cell_type": "code",
   "execution_count": 13,
   "metadata": {},
   "outputs": [],
   "source": [
    "categories = np.asarray(labels, dtype='<U2')"
   ]
  },
  {
   "cell_type": "code",
   "execution_count": 14,
   "metadata": {},
   "outputs": [
    {
     "name": "stdout",
     "output_type": "stream",
     "text": [
      "['0' '0' '0' ... '9' '9' '9']\n"
     ]
    }
   ],
   "source": [
    "print(categories)"
   ]
  },
  {
   "cell_type": "markdown",
   "metadata": {},
   "source": [
    "## Training a machine learning algorithm"
   ]
  },
  {
   "cell_type": "markdown",
   "metadata": {},
   "source": [
    "In order to train and validate a machine learning algorithm, the data needs to be divided in a training and a validation data set.  \n",
    "A good splitting rate is 80/20 (80 % training data, 20 % validation data)."
   ]
  },
  {
   "cell_type": "code",
   "execution_count": 15,
   "metadata": {},
   "outputs": [],
   "source": [
    "Xtrain, Xtest, ytrain, ytest = train_test_split(img_lin, categories, test_size=0.2, random_state=0)"
   ]
  },
  {
   "cell_type": "markdown",
   "metadata": {},
   "source": [
    "The training data set is used to train a **Random Forest Classifier** with 1000 estimators."
   ]
  },
  {
   "cell_type": "code",
   "execution_count": 16,
   "metadata": {},
   "outputs": [
    {
     "data": {
      "text/plain": [
       "RandomForestClassifier(n_estimators=1000)"
      ]
     },
     "execution_count": 16,
     "metadata": {},
     "output_type": "execute_result"
    }
   ],
   "source": [
    "model = RandomForestClassifier(n_estimators=1000)\n",
    "model.fit(Xtrain, ytrain)"
   ]
  },
  {
   "cell_type": "code",
   "execution_count": 17,
   "metadata": {},
   "outputs": [],
   "source": [
    "ypred = model.predict(Xtest)"
   ]
  },
  {
   "cell_type": "markdown",
   "metadata": {},
   "source": [
    "The performance of the trained model is checked on the validation data set:"
   ]
  },
  {
   "cell_type": "code",
   "execution_count": 18,
   "metadata": {},
   "outputs": [
    {
     "name": "stdout",
     "output_type": "stream",
     "text": [
      "              precision    recall  f1-score   support\n",
      "\n",
      "           0       1.00      1.00      1.00        28\n",
      "           1       0.98      0.98      0.98        43\n",
      "           2       1.00      1.00      1.00        56\n",
      "           3       0.97      1.00      0.98        29\n",
      "           4       1.00      1.00      1.00        22\n",
      "           5       1.00      1.00      1.00        28\n",
      "           6       1.00      0.99      0.99        73\n",
      "           7       1.00      0.98      0.99        42\n",
      "           8       1.00      1.00      1.00        42\n",
      "           9       0.98      1.00      0.99        51\n",
      "\n",
      "    accuracy                           0.99       414\n",
      "   macro avg       0.99      0.99      0.99       414\n",
      "weighted avg       0.99      0.99      0.99       414\n",
      "\n"
     ]
    }
   ],
   "source": [
    "print(metrics.classification_report(ypred, ytest))"
   ]
  },
  {
   "cell_type": "markdown",
   "metadata": {},
   "source": [
    "Depending on the character type, the prediction accuracy is roughly between 97 % and 100 %. This (improvable) prediction accuracy reflects the rather small amount of data used for training."
   ]
  },
  {
   "cell_type": "markdown",
   "metadata": {},
   "source": [
    "## Testing the trained algorithm on new data"
   ]
  },
  {
   "cell_type": "markdown",
   "metadata": {},
   "source": [
    "The trained algorithm can be used to predict labels for new data.  \n",
    "Loading of the prediction data:"
   ]
  },
  {
   "cell_type": "code",
   "execution_count": 19,
   "metadata": {},
   "outputs": [],
   "source": [
    "prediction_path = \"predict_img/\""
   ]
  },
  {
   "cell_type": "code",
   "execution_count": 20,
   "metadata": {},
   "outputs": [
    {
     "data": {
      "image/png": "[encoded data removed]",
      "text/plain": [
       "<Figure size 1440x360 with 17 Axes>"
      ]
     },
     "metadata": {
      "needs_background": "light"
     },
     "output_type": "display_data"
    }
   ],
   "source": [
    "plt.figure(figsize=(20,5))\n",
    "\n",
    "for index, file in enumerate(os.listdir(prediction_path)):\n",
    "    img = skimage.io.imread(prediction_path + file)    \n",
    "    plt.subplot(2, 10, index + 1)\n",
    "    plt.imshow(img.astype(np.uint8), cmap=\"gray\")\n",
    "    plt.axis(\"off\")\n",
    "    plt.title(file[:-4])\n",
    "\n",
    "plt.show()"
   ]
  },
  {
   "cell_type": "markdown",
   "metadata": {},
   "source": [
    "After loading, the prediction data has to be flattened (as shown for the training data) and presented to the model, which then predicts the label:"
   ]
  },
  {
   "cell_type": "code",
   "execution_count": 21,
   "metadata": {},
   "outputs": [
    {
     "data": {
      "image/png": "[encoded data removed]",
      "text/plain": [
       "<Figure size 1440x360 with 17 Axes>"
      ]
     },
     "metadata": {
      "needs_background": "light"
     },
     "output_type": "display_data"
    }
   ],
   "source": [
    "plt.figure(figsize=(20,5))\n",
    "\n",
    "for index, file in enumerate(os.listdir(prediction_path)):\n",
    "    img = skimage.io.imread(prediction_path + file)\n",
    "    img_linear = np.reshape(img, img.shape[0]*img.shape[1]*img.shape[2])\n",
    "    img_linear_single = img_linear.reshape(1, -1)\n",
    "    ypred = model.predict(img_linear_single)\n",
    "    \n",
    "    plt.subplot(2, 10, index + 1)\n",
    "    plt.imshow(img.astype(np.uint8), cmap=\"gray\")\n",
    "    plt.axis(\"off\")\n",
    "    plt.title(\"Prediction: \" + ypred[0])\n",
    "\n",
    "plt.show()"
   ]
  },
  {
   "cell_type": "markdown",
   "metadata": {},
   "source": [
    "The trained algorithm provided some useful predictions, even though the prediction quality is improvable. A substantial improvement can be achieved by increasing the amount of training data, for example by means of data augmentation (not described in this notebook)."
   ]
  },
  {
   "cell_type": "markdown",
   "metadata": {},
   "source": [
    "## Saving the trained model for further use"
   ]
  },
  {
   "cell_type": "markdown",
   "metadata": {},
   "source": [
    "Trained machine learning models can be saved and reused. For saving, we use the **dump** method, for loading the **load** method."
   ]
  },
  {
   "cell_type": "code",
   "execution_count": 22,
   "metadata": {},
   "outputs": [
    {
     "data": {
      "text/plain": [
       "['cc_trained_algorithm.joblib']"
      ]
     },
     "execution_count": 22,
     "metadata": {},
     "output_type": "execute_result"
    }
   ],
   "source": [
    "dump(model, \"cc_trained_algorithm.joblib\")"
   ]
  },
  {
   "cell_type": "code",
   "execution_count": 23,
   "metadata": {},
   "outputs": [],
   "source": [
    "loaded_model = load(\"cc_trained_algorithm.joblib\") "
   ]
  },
  {
   "cell_type": "code",
   "execution_count": 24,
   "metadata": {},
   "outputs": [
    {
     "data": {
      "image/png": "[encoded data removed]",
      "text/plain": [
       "<Figure size 1440x360 with 17 Axes>"
      ]
     },
     "metadata": {
      "needs_background": "light"
     },
     "output_type": "display_data"
    }
   ],
   "source": [
    "plt.figure(figsize=(20,5))\n",
    "\n",
    "for index, file in enumerate(os.listdir(prediction_path)):\n",
    "    img = skimage.io.imread(prediction_path + file)\n",
    "    img_linear = np.reshape(img, img.shape[0]*img.shape[1]*img.shape[2])\n",
    "    img_linear_single = img_linear.reshape(1, -1)\n",
    "    ypred = loaded_model.predict(img_linear_single)\n",
    "    \n",
    "    plt.subplot(2, 10, index + 1)\n",
    "    plt.imshow(img.astype(np.uint8), cmap=\"gray\")\n",
    "    plt.axis(\"off\")\n",
    "    plt.title(\"Prediction: \" + ypred[0])\n",
    "\n",
    "plt.show()"
   ]
  },
  {
   "cell_type": "code",
   "execution_count": null,
   "metadata": {},
   "outputs": [],
   "source": []
  }
 ],
 "metadata": {
  "kernelspec": {
   "display_name": "Python 3",
   "language": "python",
   "name": "python3"
  },
  "language_info": {
   "codemirror_mode": {
    "name": "ipython",
    "version": 3
   },
   "file_extension": ".py",
   "mimetype": "text/x-python",
   "name": "python",
   "nbconvert_exporter": "python",
   "pygments_lexer": "ipython3",
   "version": "3.7.7"
  }
 },
 "nbformat": 4,
 "nbformat_minor": 4
}
