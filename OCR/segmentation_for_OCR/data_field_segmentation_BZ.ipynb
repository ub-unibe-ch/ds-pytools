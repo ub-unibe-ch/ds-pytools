{
 "cells": [
  {
   "cell_type": "markdown",
   "metadata": {},
   "source": [
    "# Data Field Segmentation for Optical Character Recognition (OCR)"
   ]
  },
  {
   "cell_type": "markdown",
   "metadata": {},
   "source": [
    "**Python** version: 3.7.7   \n",
    "**OpenCV** version: 4.3.0.36   \n",
    "**numpy** version: 1.19.2   \n",
    "**matplotlib** version: 3.2.2   "
   ]
  },
  {
   "cell_type": "markdown",
   "metadata": {},
   "source": [
    "This Python Jupyter notebook presents some basic image processing techniques useful for the segmentation of data fields into images representing individual characters (e.g. digits).\n",
    "It uses example data fields extracted from a weather table from the [Bozner Zeitung]( https://digital.tessmann.it/tessmannDigital/Zeitungsarchiv/Monatsuebersicht/Zeitung/2/1842;jsessionid=6134EF3892401068CFB26FE42CBC1E64) and illustrates the deterministic steps required for data field segmentation."
   ]
  },
  {
   "cell_type": "markdown",
   "metadata": {},
   "source": [
    "The required libraries are imported:"
   ]
  },
  {
   "cell_type": "code",
   "execution_count": 1,
   "metadata": {},
   "outputs": [],
   "source": [
    "import cv2\n",
    "import numpy as np\n",
    "import matplotlib.pyplot as plt"
   ]
  },
  {
   "cell_type": "markdown",
   "metadata": {},
   "source": [
    "Some example datafields are loaded and plotted:"
   ]
  },
  {
   "cell_type": "code",
   "execution_count": 2,
   "metadata": {},
   "outputs": [
    {
     "data": {
      "image/png": "[encoded data removed]",
      "text/plain": [
       "<Figure size 720x216 with 4 Axes>"
      ]
     },
     "metadata": {
      "needs_background": "light"
     },
     "output_type": "display_data"
    }
   ],
   "source": [
    "img_rgb_2_0 = cv2.imread(\"segmentation_data_fields/2_character_number/datafield_5.png\")  \n",
    "img_rgb_2_1 = cv2.imread(\"segmentation_data_fields/2_character_number/datafield_9.png\")  \n",
    "img_rgb_3_0 = cv2.imread(\"segmentation_data_fields/3_character_number/datafield_3.png\")  \n",
    "img_rgb_3_1 = cv2.imread(\"segmentation_data_fields/3_character_number/datafield_56.png\")\n",
    "\n",
    "plt.figure(figsize=(10,3))   \n",
    "plt.subplot(3,2,1)\n",
    "plt.imshow(img_rgb_2_0, cmap=\"gray\")\n",
    "plt.title(\"2 characters\")\n",
    "plt.subplot(3,2,2)\n",
    "plt.imshow(img_rgb_2_1, cmap=\"gray\")\n",
    "plt.title(\"2 characters\")\n",
    "plt.subplot(3,2,5)\n",
    "plt.imshow(img_rgb_3_0, cmap=\"gray\")\n",
    "plt.title(\"3 characters\")\n",
    "plt.subplot(3,2,6)\n",
    "plt.imshow(img_rgb_3_1, cmap=\"gray\")\n",
    "plt.title(\"3 characters\")\n",
    "plt.show()"
   ]
  },
  {
   "cell_type": "markdown",
   "metadata": {},
   "source": [
    "## Segmentation of a data field containing 2 characters"
   ]
  },
  {
   "cell_type": "markdown",
   "metadata": {},
   "source": [
    "The data field to be segmented has to be preprocessed. We need to subject it to thresholding and binarization, in order to extract the relevant contours."
   ]
  },
  {
   "cell_type": "code",
   "execution_count": 3,
   "metadata": {},
   "outputs": [
    {
     "data": {
      "image/png": "[encoded data removed]",
      "text/plain": [
       "<Figure size 360x360 with 1 Axes>"
      ]
     },
     "metadata": {
      "needs_background": "light"
     },
     "output_type": "display_data"
    }
   ],
   "source": [
    "img_rgb = img_rgb_2_1 \n",
    "\n",
    "gray_img = cv2.cvtColor(img_rgb, cv2.COLOR_BGR2GRAY)\n",
    "ret, thr = cv2.threshold(gray_img, 105, 255, cv2.THRESH_BINARY)\n",
    "thr_inv= cv2.bitwise_not(thr)\n",
    "\n",
    "plt.figure(figsize=(5,5))\n",
    "plt.imshow(thr_inv, cmap=\"gray\")\n",
    "plt.show()"
   ]
  },
  {
   "cell_type": "markdown",
   "metadata": {},
   "source": [
    "We extract the x- and y-coordinates of the points that constitute the contours of each structure."
   ]
  },
  {
   "cell_type": "code",
   "execution_count": 4,
   "metadata": {},
   "outputs": [],
   "source": [
    "contours, hierarchy = cv2.findContours(thr_inv, cv2.RETR_EXTERNAL, cv2.CHAIN_APPROX_SIMPLE)"
   ]
  },
  {
   "cell_type": "markdown",
   "metadata": {},
   "source": [
    "The variable **contours** contains a list of the coordinates of all contours. We filter this list and obtain the for us relevant x-coordinates of each individual contour, which we save in **list_x_all_cont**. **list_x_all_cont_merged** is a merged version of this list, which we need for the calculation of the center of all contours."
   ]
  },
  {
   "cell_type": "code",
   "execution_count": 5,
   "metadata": {},
   "outputs": [],
   "source": [
    "list_x_all_cont = []\n",
    "for cont in contours: \n",
    "    list_x_cont = []\n",
    "    for n in range(0, len(cont)):\n",
    "        a = 2*n\n",
    "        x = np.take(cont, a)\n",
    "        list_x_cont.append(x)\n",
    "    list_x_all_cont.append(list_x_cont)\n",
    "list_x_all_cont_merged = [item for items in list_x_all_cont for item in items]"
   ]
  },
  {
   "cell_type": "markdown",
   "metadata": {},
   "source": [
    "We determine the minimal and maximal values in **list_x_all_cont_merged** and calculate the center of all contours (**reference_point**)."
   ]
  },
  {
   "cell_type": "code",
   "execution_count": 6,
   "metadata": {},
   "outputs": [],
   "source": [
    "minimum_x = np.amin(list_x_all_cont_merged)\n",
    "maximum_x = np.amax(list_x_all_cont_merged)\n",
    "reference_point = 1/2 * (maximum_x - minimum_x) + minimum_x"
   ]
  },
  {
   "cell_type": "code",
   "execution_count": 7,
   "metadata": {},
   "outputs": [
    {
     "data": {
      "text/plain": [
       "11.0"
      ]
     },
     "execution_count": 7,
     "metadata": {},
     "output_type": "execute_result"
    }
   ],
   "source": [
    "reference_point"
   ]
  },
  {
   "cell_type": "markdown",
   "metadata": {},
   "source": [
    "For each individual contour we now determine the contour point closest to the center of all contours and save it the list **nearest_list**. For reasons of calculation efficiency we then convert this list into an array (**nearest_array**)."
   ]
  },
  {
   "cell_type": "code",
   "execution_count": 8,
   "metadata": {},
   "outputs": [],
   "source": [
    "nearest_list = []\n",
    "for item in list_x_all_cont:\n",
    "    nearest = item[np.abs(item - reference_point).argmin()] + 1\n",
    "    nearest_list.append(nearest)\n",
    "\n",
    "nearest_array = np.asarray(nearest_list)"
   ]
  },
  {
   "cell_type": "markdown",
   "metadata": {},
   "source": [
    "We then determine the two contour points closest to the center of all contours, one having a value larger and one having a value lower than the center."
   ]
  },
  {
   "cell_type": "code",
   "execution_count": 9,
   "metadata": {},
   "outputs": [],
   "source": [
    "try:\n",
    "    if reference_point > nearest_array.max():\n",
    "        nearest_bigger = nearest_array.max()\n",
    "    elif reference_point < nearest_array.min():\n",
    "        nearest_bigger = nearest_array.min()\n",
    "    else:\n",
    "        nearest_bigger = nearest_array[nearest_array >= reference_point].min()\n",
    "except:\n",
    "    pass\n",
    "\n",
    "try: \n",
    "    if reference_point < nearest_array.min():\n",
    "        nearest_smaller = nearest_array.min()\n",
    "    elif reference_point > nearest_array.max():\n",
    "        nearest_smaller = nearest_array.max()\n",
    "    else:\n",
    "        nearest_smaller = nearest_array[nearest_array <= reference_point].max()  \n",
    "except:\n",
    "    pass"
   ]
  },
  {
   "cell_type": "markdown",
   "metadata": {},
   "source": [
    "The center of these two points (**cutting_x**) is the location that we use for image segmentation."
   ]
  },
  {
   "cell_type": "code",
   "execution_count": 10,
   "metadata": {},
   "outputs": [],
   "source": [
    "cutting_x = np.mean([nearest_bigger, nearest_smaller])"
   ]
  },
  {
   "cell_type": "markdown",
   "metadata": {},
   "source": [
    "We finally perform the image segmentation."
   ]
  },
  {
   "cell_type": "code",
   "execution_count": 11,
   "metadata": {},
   "outputs": [
    {
     "data": {
      "image/png": "[encoded data removed]",
      "text/plain": [
       "<Figure size 576x72 with 3 Axes>"
      ]
     },
     "metadata": {
      "needs_background": "light"
     },
     "output_type": "display_data"
    }
   ],
   "source": [
    "y = 0\n",
    "x = 0\n",
    "h = len(img_rgb)\n",
    "w = int(cutting_x)        \n",
    "left_character = img_rgb[y:y+h, x:x+w]\n",
    "\n",
    "y = 0\n",
    "x = int(cutting_x)\n",
    "h = len(img_rgb)\n",
    "w = img_rgb.shape[1] - x        \n",
    "right_character = img_rgb[y:y+h, x:x+w]\n",
    "\n",
    "plt.figure(figsize=(8,1))  \n",
    "plt.subplot(1,4,1)\n",
    "plt.imshow(img_rgb, cmap=\"gray\")\n",
    "plt.title(\"initial data field\")\n",
    "plt.subplot(1,4,3)\n",
    "plt.imshow(left_character, cmap=\"gray\")\n",
    "plt.title(\"left character\")\n",
    "plt.subplot(1,4,4)\n",
    "plt.imshow(right_character, cmap=\"gray\")\n",
    "plt.title(\"right character\")\n",
    "plt.show()"
   ]
  },
  {
   "cell_type": "markdown",
   "metadata": {},
   "source": [
    "## Refactoring the code"
   ]
  },
  {
   "cell_type": "markdown",
   "metadata": {},
   "source": [
    "In order to be able to efficiently use the segmentation algorithm we just developped, we bring it together in a function:"
   ]
  },
  {
   "cell_type": "code",
   "execution_count": 12,
   "metadata": {},
   "outputs": [],
   "source": [
    "def two_character_segmentation_symmetric (img_rgb):\n",
    "    \n",
    "    gray_img = cv2.cvtColor(img_rgb, cv2.COLOR_BGR2GRAY)\n",
    "    ret, thr = cv2.threshold(gray_img, 105, 255, cv2.THRESH_BINARY)\n",
    "    thr_inv= cv2.bitwise_not(thr)\n",
    "    \n",
    "    contours, hierarchy = cv2.findContours(thr_inv, cv2.RETR_EXTERNAL, cv2.CHAIN_APPROX_SIMPLE)\n",
    "    \n",
    "    list_x_all_cont = []\n",
    "    for cont in contours: \n",
    "        list_x_cont = []\n",
    "        for n in range(0, len(cont)):\n",
    "            a = 2*n\n",
    "            x = np.take(cont, a)\n",
    "            list_x_cont.append(x)\n",
    "        list_x_all_cont.append(list_x_cont)\n",
    "    list_x_all_cont_merged = [item for items in list_x_all_cont for item in items]\n",
    "    \n",
    "    minimum_x = np.amin(list_x_all_cont_merged)\n",
    "    maximum_x = np.amax(list_x_all_cont_merged)\n",
    "    reference_point = 1/2 * (maximum_x - minimum_x) + minimum_x\n",
    "    \n",
    "    nearest_list = []\n",
    "    for item in list_x_all_cont:\n",
    "        nearest = item[np.abs(item - reference_point).argmin()] + 1\n",
    "        nearest_list.append(nearest)\n",
    "\n",
    "    nearest_array = np.asarray(nearest_list)\n",
    "    \n",
    "    try:\n",
    "        if reference_point > nearest_array.max():\n",
    "            nearest_bigger = nearest_array.max()\n",
    "        elif reference_point < nearest_array.min():\n",
    "            nearest_bigger = nearest_array.min()\n",
    "        else:\n",
    "            nearest_bigger = nearest_array[nearest_array >= reference_point].min()\n",
    "    except:\n",
    "        pass\n",
    "\n",
    "    try: \n",
    "        if reference_point < nearest_array.min():\n",
    "            nearest_smaller = nearest_array.min()\n",
    "        elif reference_point > nearest_array.max():\n",
    "            nearest_smaller = nearest_array.max()\n",
    "        else:\n",
    "            nearest_smaller = nearest_array[nearest_array <= reference_point].max()  \n",
    "    except:\n",
    "        pass\n",
    "    \n",
    "    cutting_x = np.mean([nearest_bigger, nearest_smaller])\n",
    "    \n",
    "    y = 0\n",
    "    x = 0\n",
    "    h = len(img_rgb)\n",
    "    w = int(cutting_x)        \n",
    "    left_character = img_rgb[y:y+h, x:x+w]\n",
    "\n",
    "    y = 0\n",
    "    x = int(cutting_x)\n",
    "    h = len(img_rgb)\n",
    "    w = img_rgb.shape[1] - x        \n",
    "    right_character = img_rgb[y:y+h, x:x+w]\n",
    "    \n",
    "    return left_character, right_character"
   ]
  },
  {
   "cell_type": "markdown",
   "metadata": {},
   "source": [
    "We check, whether the refactoring worked correctly:"
   ]
  },
  {
   "cell_type": "code",
   "execution_count": 13,
   "metadata": {},
   "outputs": [
    {
     "data": {
      "image/png": "[encoded data removed]",
      "text/plain": [
       "<Figure size 576x72 with 3 Axes>"
      ]
     },
     "metadata": {
      "needs_background": "light"
     },
     "output_type": "display_data"
    }
   ],
   "source": [
    "segmented_symmetric = two_character_segmentation_symmetric(img_rgb_2_0)\n",
    "\n",
    "plt.figure(figsize=(8,1))  \n",
    "plt.subplot(1,4,1)\n",
    "plt.imshow(img_rgb_2_0, cmap=\"gray\")\n",
    "plt.title(\"initial data field\")\n",
    "plt.subplot(1,4,3)\n",
    "plt.imshow(segmented_symmetric[0], cmap=\"gray\")\n",
    "plt.title(\"left character\")\n",
    "plt.subplot(1,4,4)\n",
    "plt.imshow(segmented_symmetric[1], cmap=\"gray\")\n",
    "plt.title(\"right character\")\n",
    "plt.show()"
   ]
  },
  {
   "cell_type": "code",
   "execution_count": 14,
   "metadata": {},
   "outputs": [
    {
     "data": {
      "image/png": "[encoded data removed]",
      "text/plain": [
       "<Figure size 576x72 with 3 Axes>"
      ]
     },
     "metadata": {
      "needs_background": "light"
     },
     "output_type": "display_data"
    }
   ],
   "source": [
    "segmented_symmetric = two_character_segmentation_symmetric(img_rgb_2_1)\n",
    "\n",
    "plt.figure(figsize=(8,1))  \n",
    "plt.subplot(1,4,1)\n",
    "plt.imshow(img_rgb_2_1, cmap=\"gray\")\n",
    "plt.title(\"initial data field\")\n",
    "plt.subplot(1,4,3)\n",
    "plt.imshow(segmented_symmetric[0], cmap=\"gray\")\n",
    "plt.title(\"left character\")\n",
    "plt.subplot(1,4,4)\n",
    "plt.imshow(segmented_symmetric[1], cmap=\"gray\")\n",
    "plt.title(\"right character\")\n",
    "plt.show()"
   ]
  },
  {
   "cell_type": "markdown",
   "metadata": {},
   "source": [
    "As we can see, the code we refactored works nicely."
   ]
  },
  {
   "cell_type": "markdown",
   "metadata": {},
   "source": [
    "## Segmentation of a data field containing 3 characters"
   ]
  },
  {
   "cell_type": "markdown",
   "metadata": {},
   "source": [
    "In order to segment a data field containing 3 characters, we use the approach we just developped in a repetitive way. First, we segment the data field into 2 new data fields, one containing 1 character, the other containing 2 characters. After that we segment the data field containing 2 characters again, just the way we did it above."
   ]
  },
  {
   "cell_type": "markdown",
   "metadata": {},
   "source": [
    "The code for the segmentation of a 3 character data field into a data field containing 1 character and a data field containing 2 characters is nearly the same as above, with only one different codeline:  \n",
    "instead of    \n",
    "**reference_point = 1/2 * (maximum_x - minimum_x) + minimum_x**  \n",
    "we use     \n",
    "**reference_point = 1/3 * (maximum_x - minimum_x) + minimum_x**.  \n",
    "\n",
    "We call this modified algorithm **two_character_segmentation_asymmetric**."
   ]
  },
  {
   "cell_type": "code",
   "execution_count": 15,
   "metadata": {},
   "outputs": [],
   "source": [
    "def two_character_segmentation_asymmetric (img_rgb):\n",
    "    \n",
    "    gray_img = cv2.cvtColor(img_rgb, cv2.COLOR_BGR2GRAY)\n",
    "    ret, thr = cv2.threshold(gray_img, 105, 255, cv2.THRESH_BINARY)\n",
    "    thr_inv= cv2.bitwise_not(thr)\n",
    "    \n",
    "    contours, hierarchy = cv2.findContours(thr_inv, cv2.RETR_EXTERNAL, cv2.CHAIN_APPROX_SIMPLE)\n",
    "    \n",
    "    list_x_all_cont = []\n",
    "    for cont in contours: \n",
    "        list_x_cont = []\n",
    "        for n in range(0, len(cont)):\n",
    "            a = 2*n\n",
    "            x = np.take(cont, a)\n",
    "            list_x_cont.append(x)\n",
    "        list_x_all_cont.append(list_x_cont)\n",
    "    list_x_all_cont_merged = [item for items in list_x_all_cont for item in items]\n",
    "    \n",
    "    minimum_x = np.amin(list_x_all_cont_merged)\n",
    "    maximum_x = np.amax(list_x_all_cont_merged)\n",
    "    reference_point = 1/3 * (maximum_x - minimum_x) + minimum_x\n",
    "    \n",
    "    nearest_list = []\n",
    "    for item in list_x_all_cont:\n",
    "        nearest = item[np.abs(item - reference_point).argmin()] + 1\n",
    "        nearest_list.append(nearest)\n",
    "\n",
    "    nearest_array = np.asarray(nearest_list)\n",
    "    \n",
    "    try:\n",
    "        if reference_point > nearest_array.max():\n",
    "            nearest_bigger = nearest_array.max()\n",
    "        elif reference_point < nearest_array.min():\n",
    "            nearest_bigger = nearest_array.min()\n",
    "        else:\n",
    "            nearest_bigger = nearest_array[nearest_array >= reference_point].min()\n",
    "    except:\n",
    "        pass\n",
    "\n",
    "    try: \n",
    "        if reference_point < nearest_array.min():\n",
    "            nearest_smaller = nearest_array.min()\n",
    "        elif reference_point > nearest_array.max():\n",
    "            nearest_smaller = nearest_array.max()\n",
    "        else:\n",
    "            nearest_smaller = nearest_array[nearest_array <= reference_point].max()  \n",
    "    except:\n",
    "        pass\n",
    "    \n",
    "    cutting_x = np.mean([nearest_bigger, nearest_smaller])\n",
    "    \n",
    "    y = 0\n",
    "    x = 0\n",
    "    h = len(img_rgb)\n",
    "    w = int(cutting_x)        \n",
    "    left_character = img_rgb[y:y+h, x:x+w]\n",
    "\n",
    "    y = 0\n",
    "    x = int(cutting_x)\n",
    "    h = len(img_rgb)\n",
    "    w = img_rgb.shape[1] - x        \n",
    "    right_character = img_rgb[y:y+h, x:x+w]\n",
    "    \n",
    "    return left_character, right_character"
   ]
  },
  {
   "cell_type": "markdown",
   "metadata": {},
   "source": [
    "Now we can perform the asymmetric segmentation, which is the first step for the segmentation of a 3 character data field."
   ]
  },
  {
   "cell_type": "code",
   "execution_count": 16,
   "metadata": {},
   "outputs": [
    {
     "data": {
      "image/png": "[encoded data removed]",
      "text/plain": [
       "<Figure size 576x72 with 3 Axes>"
      ]
     },
     "metadata": {
      "needs_background": "light"
     },
     "output_type": "display_data"
    }
   ],
   "source": [
    "segmented_asymmetric = two_character_segmentation_asymmetric(img_rgb_3_1)\n",
    "\n",
    "plt.figure(figsize=(8,1))  \n",
    "plt.subplot(1,4,1)\n",
    "plt.imshow(img_rgb_3_1, cmap=\"gray\")\n",
    "plt.title(\"initial data field\")\n",
    "plt.subplot(1,4,3)\n",
    "plt.imshow(segmented_asymmetric[0], cmap=\"gray\")\n",
    "plt.title(\"left character\")\n",
    "plt.subplot(1,4,4)\n",
    "plt.imshow(segmented_asymmetric[1], cmap=\"gray\")\n",
    "plt.title(\"right field\")\n",
    "plt.show()"
   ]
  },
  {
   "cell_type": "markdown",
   "metadata": {},
   "source": [
    "Using the **two_character_segmentation_symmetric** - function we segment the right field and obtain the individual characters:"
   ]
  },
  {
   "cell_type": "code",
   "execution_count": 17,
   "metadata": {},
   "outputs": [
    {
     "data": {
      "image/png": "[encoded data removed]",
      "text/plain": [
       "<Figure size 576x72 with 3 Axes>"
      ]
     },
     "metadata": {
      "needs_background": "light"
     },
     "output_type": "display_data"
    }
   ],
   "source": [
    "segmented_symmetric_rf = two_character_segmentation_symmetric(segmented_asymmetric[1])\n",
    "plt.figure(figsize=(8,1))  \n",
    "plt.subplot(1,4,1)\n",
    "plt.imshow(segmented_asymmetric[1], cmap=\"gray\")\n",
    "plt.title(\"right field\")\n",
    "plt.subplot(1,4,3)\n",
    "plt.imshow(segmented_symmetric_rf[0], cmap=\"gray\")\n",
    "plt.title(\"left character\")\n",
    "plt.subplot(1,4,4)\n",
    "plt.imshow(segmented_symmetric_rf[1], cmap=\"gray\")\n",
    "plt.title(\"right character\")\n",
    "plt.show()"
   ]
  },
  {
   "cell_type": "markdown",
   "metadata": {},
   "source": [
    "And here the result of the 2 segmentation steps put together:"
   ]
  },
  {
   "cell_type": "code",
   "execution_count": 18,
   "metadata": {},
   "outputs": [
    {
     "data": {
      "image/png": "[encoded data removed]",
      "text/plain": [
       "<Figure size 864x72 with 4 Axes>"
      ]
     },
     "metadata": {
      "needs_background": "light"
     },
     "output_type": "display_data"
    }
   ],
   "source": [
    "left_character = two_character_segmentation_asymmetric(img_rgb_3_1)[0]\n",
    "right_field = two_character_segmentation_asymmetric(img_rgb_3_1)[1]\n",
    "\n",
    "middle_character = two_character_segmentation_symmetric(right_field)[0]\n",
    "right_character = two_character_segmentation_symmetric(right_field)[1]\n",
    "\n",
    "plt.figure(figsize=(12,1))  \n",
    "plt.subplot(1,5,1)\n",
    "plt.imshow(img_rgb_3_1, cmap=\"gray\")\n",
    "plt.title(\"initial datafield\")\n",
    "plt.subplot(1,5,3)\n",
    "plt.imshow(left_character, cmap=\"gray\")\n",
    "plt.title(\"left character\")\n",
    "plt.subplot(1,5,4)\n",
    "plt.imshow(middle_character, cmap=\"gray\")\n",
    "plt.title(\"middle character\")\n",
    "plt.subplot(1,5,5)\n",
    "plt.imshow(right_character, cmap=\"gray\")\n",
    "plt.title(\"right character\")\n",
    "plt.show()"
   ]
  },
  {
   "cell_type": "markdown",
   "metadata": {},
   "source": [
    "## Size normalization of character images from segmented data fields"
   ]
  },
  {
   "cell_type": "markdown",
   "metadata": {},
   "source": [
    "Machine-learning based optical character recognition requires standardized image formats. We can standardize the size of the character images we obtained from the data field segmentation by cropping the images around their contours and placing these cropped images in the center of new blank images of a defined format. "
   ]
  },
  {
   "cell_type": "markdown",
   "metadata": {},
   "source": [
    "In order to do so, we first need to perform the image preprocessing steps described above and to extract the contours:"
   ]
  },
  {
   "cell_type": "code",
   "execution_count": 19,
   "metadata": {},
   "outputs": [
    {
     "data": {
      "image/png": "[encoded data removed]",
      "text/plain": [
       "<Figure size 360x360 with 1 Axes>"
      ]
     },
     "metadata": {
      "needs_background": "light"
     },
     "output_type": "display_data"
    }
   ],
   "source": [
    "img_rgb = right_character\n",
    "\n",
    "gray_img = cv2.cvtColor(img_rgb, cv2.COLOR_BGR2GRAY)\n",
    "# please be aware that the thresholding parameter (220) is different from the one used above\n",
    "ret, thr = cv2.threshold(gray_img, 220, 255, cv2.THRESH_BINARY)\n",
    "thr_inv= cv2.bitwise_not(thr)\n",
    "\n",
    "plt.figure(figsize=(5,5))\n",
    "plt.imshow(thr_inv, cmap=\"gray\")\n",
    "plt.show()"
   ]
  },
  {
   "cell_type": "markdown",
   "metadata": {},
   "source": [
    "We extract the left and right margins of the contours (**min_largest_cont_x** and **max_largest_cont_x**):"
   ]
  },
  {
   "cell_type": "code",
   "execution_count": 20,
   "metadata": {},
   "outputs": [],
   "source": [
    "contours, hierarchy = cv2.findContours(thr_inv, cv2.RETR_EXTERNAL, cv2.CHAIN_APPROX_SIMPLE)\n",
    "\n",
    "largest_cont = max(contours, key=len)\n",
    "\n",
    "largest_cont_x = [i[0][0] for i in largest_cont]\n",
    "median_largest_cont_x = np.median(largest_cont_x)\n",
    "min_largest_cont_x = np.amin(largest_cont_x)\n",
    "max_largest_cont_x = np.amax(largest_cont_x)"
   ]
  },
  {
   "cell_type": "code",
   "execution_count": 21,
   "metadata": {},
   "outputs": [
    {
     "data": {
      "text/plain": [
       "0"
      ]
     },
     "execution_count": 21,
     "metadata": {},
     "output_type": "execute_result"
    }
   ],
   "source": [
    "min_largest_cont_x"
   ]
  },
  {
   "cell_type": "code",
   "execution_count": 22,
   "metadata": {},
   "outputs": [
    {
     "data": {
      "text/plain": [
       "9"
      ]
     },
     "execution_count": 22,
     "metadata": {},
     "output_type": "execute_result"
    }
   ],
   "source": [
    "max_largest_cont_x"
   ]
  },
  {
   "cell_type": "markdown",
   "metadata": {},
   "source": [
    "With these margins we can crop the image:"
   ]
  },
  {
   "cell_type": "code",
   "execution_count": 23,
   "metadata": {},
   "outputs": [
    {
     "data": {
      "image/png": "[encoded data removed]",
      "text/plain": [
       "<Figure size 360x360 with 1 Axes>"
      ]
     },
     "metadata": {
      "needs_background": "light"
     },
     "output_type": "display_data"
    }
   ],
   "source": [
    "y = 0\n",
    "x = int(min_largest_cont_x)\n",
    "h = int(img_rgb.shape[0])\n",
    "w = int(max_largest_cont_x - min_largest_cont_x) + 1    \n",
    "cropped = img_rgb[y:y+h, x:x+w]\n",
    "\n",
    "plt.figure(figsize=(5,5))\n",
    "plt.imshow(cropped, cmap=\"gray\")\n",
    "plt.show()"
   ]
  },
  {
   "cell_type": "markdown",
   "metadata": {},
   "source": [
    "We finally generate a blank image of 25x25 pixels and place the cropped image in its center:"
   ]
  },
  {
   "cell_type": "code",
   "execution_count": 24,
   "metadata": {},
   "outputs": [
    {
     "data": {
      "image/png": "[encoded data removed]",
      "text/plain": [
       "<Figure size 864x72 with 2 Axes>"
      ]
     },
     "metadata": {
      "needs_background": "light"
     },
     "output_type": "display_data"
    }
   ],
   "source": [
    "# Code reference:\n",
    "# https://stackoverflow.com/questions/14063070/overlay-a-smaller-image-on-a-larger-image-python-opencv\n",
    "\n",
    "height, width = (25, 25)\n",
    "blank_image = np.full((height, width, 3), 255, dtype=int)\n",
    "\n",
    "x_offset = int((width  - cropped.shape[1])/2)\n",
    "y_offset = int((height - cropped.shape[0])/2)\n",
    "\n",
    "blank_image[y_offset:y_offset + cropped.shape[0], x_offset:x_offset + cropped.shape[1]] = cropped\n",
    "\n",
    "plt.figure(figsize=(12,1))  \n",
    "plt.subplot(1,3,1)\n",
    "plt.imshow(img_rgb, cmap=\"gray\")\n",
    "plt.title(\"initial segmented character\")\n",
    "plt.subplot(1,3,3)\n",
    "plt.imshow(blank_image, cmap=\"gray\")\n",
    "plt.title(\"normalized segmented character with size = \" + str(height) + \"x\" + str(width) + \" pixels\")\n",
    "plt.show()"
   ]
  },
  {
   "cell_type": "code",
   "execution_count": null,
   "metadata": {},
   "outputs": [],
   "source": []
  }
 ],
 "metadata": {
  "kernelspec": {
   "display_name": "Python 3",
   "language": "python",
   "name": "python3"
  },
  "language_info": {
   "codemirror_mode": {
    "name": "ipython",
    "version": 3
   },
   "file_extension": ".py",
   "mimetype": "text/x-python",
   "name": "python",
   "nbconvert_exporter": "python",
   "pygments_lexer": "ipython3",
   "version": "3.7.7"
  }
 },
 "nbformat": 4,
 "nbformat_minor": 4
}
