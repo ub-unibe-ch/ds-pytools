{
 "cells": [
  {
   "cell_type": "markdown",
   "metadata": {},
   "source": [
    "# Crossref API basics \n",
    "##                                     using Crossref Commons and Habanero\n",
    "\n",
    "Basic literature search in Crossref https://search.crossref.org using the Crossref-API. This is done using Crossref-Commons:\n",
    "\n",
    "https://gitlab.com/crossref/crossref_commons_py\n",
    "\n",
    "and the Habanero package:\n",
    "\n",
    "https://habanero.readthedocs.io/en/latest/index.html\n"
   ]
  },
  {
   "cell_type": "markdown",
   "metadata": {},
   "source": [
    "Required packages and installation (in addition to standard packages):\n",
    "\n",
    "     pip install crossref-commons\n",
    "     \n",
    "     pip install habanero\n",
    " "
   ]
  },
  {
   "cell_type": "markdown",
   "metadata": {},
   "source": [
    "#### Check python version and import general packages"
   ]
  },
  {
   "cell_type": "code",
   "execution_count": 1,
   "metadata": {},
   "outputs": [
    {
     "name": "stdout",
     "output_type": "stream",
     "text": [
      "Python version =  3.9.5 (default, Jun  4 2021, 12:28:51) \n",
      "[GCC 7.5.0]\n"
     ]
    }
   ],
   "source": [
    "# Check python version for reproducibility and import general packages\n",
    "import sys, os\n",
    "print(\"Python version = \", sys.version)"
   ]
  },
  {
   "cell_type": "markdown",
   "metadata": {},
   "source": [
    "# 1. Crossref Commons\n",
    "\n",
    "We start with the Crossref Commons packages and look at some basic functionality"
   ]
  },
  {
   "cell_type": "markdown",
   "metadata": {},
   "source": [
    "### 1. 1 Crossref Common imports and setup\n",
    "\n",
    "Import some Crossref Commons modules and set up your crossref user agent "
   ]
  },
  {
   "cell_type": "code",
   "execution_count": 2,
   "metadata": {},
   "outputs": [],
   "source": [
    "# import required packages\n",
    "import crossref_commons.retrieval\n",
    "from crossref_commons.relations import get_related\n",
    "from crossref_commons.iteration import iterate_publications_as_json"
   ]
  },
  {
   "cell_type": "markdown",
   "metadata": {},
   "source": [
    "Setting up the crossref user agent below is optional, but may help to get more reliable server responses"
   ]
  },
  {
   "cell_type": "code",
   "execution_count": 3,
   "metadata": {},
   "outputs": [
    {
     "data": {
      "text/plain": [
       "'polite user agent; including mailto:foo@bar.com'"
      ]
     },
     "execution_count": 3,
     "metadata": {},
     "output_type": "execute_result"
    }
   ],
   "source": [
    "# setup crossref user agent using environmental variables\n",
    "os.environ['CR_API_AGENT'] = \"polite user agent; including mailto:foo@bar.com\"\n",
    "os.environ.get('CR_API_AGENT')"
   ]
  },
  {
   "cell_type": "code",
   "execution_count": 4,
   "metadata": {},
   "outputs": [
    {
     "data": {
      "text/plain": [
       "'foo@bar.com'"
      ]
     },
     "execution_count": 4,
     "metadata": {},
     "output_type": "execute_result"
    }
   ],
   "source": [
    "# setup crossref user agent using environmental variables\n",
    "os.environ['CR_API_MAILTO'] = \"foo@bar.com\"\n",
    "os.environ.get('CR_API_MAILTO')"
   ]
  },
  {
   "cell_type": "markdown",
   "metadata": {},
   "source": [
    "### 1.2 Get reference details from DOI via CrossRef Commons\n",
    "\n",
    "Use crossref to retrieve the details of a literature reference from its DOI. You can choose a DOI as input in the field below:"
   ]
  },
  {
   "cell_type": "code",
   "execution_count": 5,
   "metadata": {},
   "outputs": [],
   "source": [
    "# define DOI\n",
    "doi_var = '10.1063/1.1699114'"
   ]
  },
  {
   "cell_type": "markdown",
   "metadata": {},
   "source": [
    "#### Retrieve bibliographic information in JSON format\n",
    "\n",
    "We can retrieve the bibliographic information linked to this DOI in different formats. Here we choose the JSON format."
   ]
  },
  {
   "cell_type": "code",
   "execution_count": 6,
   "metadata": {},
   "outputs": [],
   "source": [
    "# retrieve bibliographic information related to DOI\n",
    "ref = crossref_commons.retrieval.get_publication_as_json( doi_var)"
   ]
  },
  {
   "cell_type": "code",
   "execution_count": 7,
   "metadata": {},
   "outputs": [
    {
     "name": "stdout",
     "output_type": "stream",
     "text": [
      "{'indexed': {'date-parts': [[2022, 2, 8]], 'date-time': '2022-02-08T13:26:13Z', 'timestamp': 1644326773327}, 'reference-count': 1, 'publisher': 'AIP Publishing', 'issue': '6', 'content-domain': {'domain': [], 'crossmark-restriction': False}, 'short-container-title': ['The Journal of Chemical Physics'], 'published-print': {'date-parts': [[1953, 6]]}, 'DOI': '10.1063/1.1699114', 'type': 'journal-article', 'created': {'date-parts': [[2005, 1, 5]], 'date-time': '2005-01-05T19:34:37Z', 'timestamp': 1104953677000}, 'page': '1087-1092', 'source': 'Crossref', 'is-referenced-by-count': 24174, 'title': ['Equation of State Calculations by Fast Computing Machines'], 'prefix': '10.1063', 'volume': '21', 'author': [{'given': 'Nicholas', 'family': 'Metropolis', 'sequence': 'first', 'affiliation': []}, {'given': 'Arianna W.', 'family': 'Rosenbluth', 'sequence': 'additional', 'affiliation': []}, {'given': 'Marshall N.', 'family': 'Rosenbluth', 'sequence': 'additional', 'affiliation': []}, {'given': 'Augusta H.', 'family': 'Teller', 'sequence': 'additional', 'affiliation': []}, {'given': 'Edward', 'family': 'Teller', 'sequence': 'additional', 'affiliation': []}], 'member': '317', 'reference': [{'key': 'r1', 'doi-asserted-by': 'publisher', 'DOI': '10.1063/1.1700747'}], 'container-title': ['The Journal of Chemical Physics'], 'original-title': [], 'language': 'en', 'link': [{'URL': 'http://aip.scitation.org/doi/pdf/10.1063/1.1699114', 'content-type': 'unspecified', 'content-version': 'vor', 'intended-application': 'similarity-checking'}], 'deposited': {'date-parts': [[2016, 12, 27]], 'date-time': '2016-12-27T07:54:59Z', 'timestamp': 1482825299000}, 'score': 1, 'subtitle': [], 'short-title': [], 'issued': {'date-parts': [[1953, 6]]}, 'references-count': 1, 'journal-issue': {'issue': '6', 'published-print': {'date-parts': [[1953, 6]]}}, 'alternative-id': ['10.1063/1.1699114'], 'URL': 'http://dx.doi.org/10.1063/1.1699114', 'relation': {}, 'ISSN': ['0021-9606', '1089-7690'], 'issn-type': [{'value': '0021-9606', 'type': 'print'}, {'value': '1089-7690', 'type': 'electronic'}], 'subject': ['Physical and Theoretical Chemistry', 'General Physics and Astronomy'], 'published': {'date-parts': [[1953, 6]]}}\n"
     ]
    }
   ],
   "source": [
    "# print result\n",
    "print(ref)"
   ]
  },
  {
   "cell_type": "markdown",
   "metadata": {},
   "source": [
    "This is a lot of information! In order to access specific fields, we have a look at how the data is structured. The information is stored in a structure called 'dictionnary' which has 'keys' for each information field. We can easily find out which keys are used here:"
   ]
  },
  {
   "cell_type": "code",
   "execution_count": 8,
   "metadata": {},
   "outputs": [
    {
     "data": {
      "text/plain": [
       "dict_keys(['indexed', 'reference-count', 'publisher', 'issue', 'content-domain', 'short-container-title', 'published-print', 'DOI', 'type', 'created', 'page', 'source', 'is-referenced-by-count', 'title', 'prefix', 'volume', 'author', 'member', 'reference', 'container-title', 'original-title', 'language', 'link', 'deposited', 'score', 'subtitle', 'short-title', 'issued', 'references-count', 'journal-issue', 'alternative-id', 'URL', 'relation', 'ISSN', 'issn-type', 'subject', 'published'])"
      ]
     },
     "execution_count": 8,
     "metadata": {},
     "output_type": "execute_result"
    }
   ],
   "source": [
    "# get keys\n",
    "ref.keys()"
   ]
  },
  {
   "cell_type": "markdown",
   "metadata": {},
   "source": [
    "Now we can get the information stored for each key."
   ]
  },
  {
   "cell_type": "code",
   "execution_count": 9,
   "metadata": {},
   "outputs": [
    {
     "data": {
      "text/plain": [
       "[{'given': 'Nicholas',\n",
       "  'family': 'Metropolis',\n",
       "  'sequence': 'first',\n",
       "  'affiliation': []},\n",
       " {'given': 'Arianna W.',\n",
       "  'family': 'Rosenbluth',\n",
       "  'sequence': 'additional',\n",
       "  'affiliation': []},\n",
       " {'given': 'Marshall N.',\n",
       "  'family': 'Rosenbluth',\n",
       "  'sequence': 'additional',\n",
       "  'affiliation': []},\n",
       " {'given': 'Augusta H.',\n",
       "  'family': 'Teller',\n",
       "  'sequence': 'additional',\n",
       "  'affiliation': []},\n",
       " {'given': 'Edward',\n",
       "  'family': 'Teller',\n",
       "  'sequence': 'additional',\n",
       "  'affiliation': []}]"
      ]
     },
     "execution_count": 9,
     "metadata": {},
     "output_type": "execute_result"
    }
   ],
   "source": [
    "# get authors\n",
    "ref['author']"
   ]
  },
  {
   "cell_type": "code",
   "execution_count": 10,
   "metadata": {},
   "outputs": [
    {
     "data": {
      "text/plain": [
       "{'given': 'Nicholas',\n",
       " 'family': 'Metropolis',\n",
       " 'sequence': 'first',\n",
       " 'affiliation': []}"
      ]
     },
     "execution_count": 10,
     "metadata": {},
     "output_type": "execute_result"
    }
   ],
   "source": [
    "# get only first author\n",
    "ref['author'][0]"
   ]
  },
  {
   "cell_type": "code",
   "execution_count": 11,
   "metadata": {},
   "outputs": [
    {
     "data": {
      "text/plain": [
       "{'date-parts': [[1953, 6]]}"
      ]
     },
     "execution_count": 11,
     "metadata": {},
     "output_type": "execute_result"
    }
   ],
   "source": [
    "# get publication date\n",
    "ref['published']"
   ]
  },
  {
   "cell_type": "markdown",
   "metadata": {},
   "source": [
    "This can now be repeated for other fields, depending on what information we need."
   ]
  },
  {
   "cell_type": "markdown",
   "metadata": {},
   "source": [
    "### 1.3 Iterate queries with filter options\n",
    "\n",
    "Crossref allows to query specific information using different filter options. Crossref filters are described here:\n",
    "https://docs.ropensci.org/rcrossref/articles/crossref_filters.html"
   ]
  },
  {
   "cell_type": "markdown",
   "metadata": {},
   "source": [
    "#### Example 1): Filter for a specific funder defined by its funder ID and reference type 'journal-article'."
   ]
  },
  {
   "cell_type": "code",
   "execution_count": 12,
   "metadata": {},
   "outputs": [],
   "source": [
    "# Define Filter\n",
    "filter = {'funder': '10.13039/501100000038', 'type': 'journal-article'}"
   ]
  },
  {
   "cell_type": "markdown",
   "metadata": {},
   "source": [
    "Now we define a query for using this filter. We search for authors named 'muller' affiliated with a university."
   ]
  },
  {
   "cell_type": "code",
   "execution_count": 13,
   "metadata": {},
   "outputs": [],
   "source": [
    "# Define query\n",
    "queries = {'query.author': 'muller', 'query.affiliation': 'university'}"
   ]
  },
  {
   "cell_type": "code",
   "execution_count": 14,
   "metadata": {},
   "outputs": [
    {
     "name": "stdout",
     "output_type": "stream",
     "text": [
      "10.1080/03081087.2021.1965947\n",
      "10.1021/jacs.7b07047\n",
      "10.1096/fasebj.2021.35.s1.04751\n",
      "10.1002/ange.202111977\n",
      "10.1002/anie.202111977\n",
      "10.1002/jbm.a.35392\n"
     ]
    }
   ],
   "source": [
    "# Now iterate over search results and print the DOI for each result\n",
    "for p in iterate_publications_as_json(max_results=189, filter=filter, queries=queries):\n",
    "  print(p['DOI'])"
   ]
  },
  {
   "cell_type": "markdown",
   "metadata": {},
   "source": [
    "#### Example 2): Filter for specific author defined by ORCID and journal articles\n",
    "\n",
    "ORCID is a mechanism to unambiguosly identify an author. Authors can choose to create an ORCID which will then help to find their publications. In case you don't know the ORCID ID of the author your searching for (if it exists), you can directly search for the author name on the ORCID webpage: https://orcid.org."
   ]
  },
  {
   "cell_type": "code",
   "execution_count": 15,
   "metadata": {},
   "outputs": [],
   "source": [
    "# Define another filter\n",
    "filter = {'orcid': '0000-0003-4169-9324', 'type': 'journal-article'}"
   ]
  },
  {
   "cell_type": "code",
   "execution_count": 16,
   "metadata": {},
   "outputs": [],
   "source": [
    "# Define query; in this case we look for affiliations containing \"Texas\"\n",
    "queries = {'query.affiliation': 'Texas', }"
   ]
  },
  {
   "cell_type": "code",
   "execution_count": 17,
   "metadata": {},
   "outputs": [
    {
     "name": "stdout",
     "output_type": "stream",
     "text": [
      "10.1063/5.0059915\n",
      "10.1063/5.0041022\n",
      "10.1063/5.0007276\n",
      "10.1063/5.0026133\n",
      "10.1063/5.0064668\n",
      "10.1063/1.5099194\n",
      "10.1063/5.0032346\n",
      "10.1063/5.0032836\n",
      "10.1063/5.0060314\n",
      "10.1063/1.5083627\n",
      "10.1063/1.4976518\n",
      "10.1063/1.5083040\n"
     ]
    }
   ],
   "source": [
    "# Do query and get results as DOI\n",
    "for p in iterate_publications_as_json(max_results=189, filter=filter, queries=queries):\n",
    "  print(p['DOI'])"
   ]
  },
  {
   "cell_type": "markdown",
   "metadata": {},
   "source": [
    "Theses were just some of the many query and filter options provided by Crossref Commons. For more options check the documentation page: https://gitlab.com/crossref/crossref_commons_py"
   ]
  },
  {
   "cell_type": "markdown",
   "metadata": {},
   "source": [
    "# 2. Habanero\n",
    "\n",
    "In this second part we use the Habanero package to access the CrossRef API. Again we will just do some simple examples to show basic Habanero functionality"
   ]
  },
  {
   "cell_type": "markdown",
   "metadata": {},
   "source": [
    "### 2.1 Habanero imports and setup\n",
    "\n",
    "Import Habanero modules and set server communication variables"
   ]
  },
  {
   "cell_type": "markdown",
   "metadata": {},
   "source": [
    "#### Import Modules"
   ]
  },
  {
   "cell_type": "code",
   "execution_count": 18,
   "metadata": {},
   "outputs": [],
   "source": [
    "from habanero import Crossref"
   ]
  },
  {
   "cell_type": "code",
   "execution_count": 19,
   "metadata": {},
   "outputs": [],
   "source": [
    "from habanero import counts"
   ]
  },
  {
   "cell_type": "markdown",
   "metadata": {},
   "source": [
    "#### Server communication variables: set up user agent\n",
    "\n",
    "This is again optional (see above)."
   ]
  },
  {
   "cell_type": "code",
   "execution_count": 20,
   "metadata": {},
   "outputs": [
    {
     "data": {
      "text/plain": [
       "< Crossref \n",
       "URL: https://api.crossref.org\n",
       "KEY: None\n",
       "MAILTO: None\n",
       "ADDITIONAL UA STRING: foo bar\n",
       ">"
      ]
     },
     "execution_count": 20,
     "metadata": {},
     "output_type": "execute_result"
    }
   ],
   "source": [
    "cr = Crossref()\n",
    "# set a different base url\n",
    "Crossref(base_url = \"http://some.other.url\")\n",
    "# set an api key\n",
    "Crossref(api_key = \"123456\")\n",
    "# set a mailto address to get into the \"polite pool\"\n",
    "Crossref(mailto = \"foo@bar.com\")\n",
    "# set an additional user-agent string\n",
    "Crossref(ua_string = \"foo bar\")"
   ]
  },
  {
   "cell_type": "markdown",
   "metadata": {},
   "source": [
    "### 2.2  Citation counts\n",
    "\n",
    "Get the number of citations for a given paper defined by its DOI from the CrossRef database."
   ]
  },
  {
   "cell_type": "code",
   "execution_count": 21,
   "metadata": {},
   "outputs": [],
   "source": [
    "# define DOI of paper\n",
    "doi_var = '10.1371/journal.pone.0042793'"
   ]
  },
  {
   "cell_type": "code",
   "execution_count": 22,
   "metadata": {},
   "outputs": [
    {
     "name": "stdout",
     "output_type": "stream",
     "text": [
      "number of citations =  47\n"
     ]
    }
   ],
   "source": [
    "# get citation counts\n",
    "print(\"number of citations = \", counts.citation_count(doi = doi_var))"
   ]
  },
  {
   "cell_type": "markdown",
   "metadata": {},
   "source": [
    "### 2.3 Queries\n",
    "\n",
    "Different query options can be found here: https://habanero.readthedocs.io/en/latest/modules/crossref.html Below two example queries are used to test some of the options."
   ]
  },
  {
   "cell_type": "markdown",
   "metadata": {},
   "source": [
    "#### Example A: Query for a specific topic defined by keywords"
   ]
  },
  {
   "cell_type": "code",
   "execution_count": 23,
   "metadata": {},
   "outputs": [],
   "source": [
    "# define search topic\n",
    "search_topic = \"Gauge field theory\""
   ]
  },
  {
   "cell_type": "markdown",
   "metadata": {},
   "source": [
    "Now we do the querry for the defined seach topic, we limit the number of results we get to the 10 first results using the \"limit\" variable, and we filter for journal articles by defining 'type' as 'journal-article'."
   ]
  },
  {
   "cell_type": "code",
   "execution_count": 24,
   "metadata": {},
   "outputs": [],
   "source": [
    "# do query \n",
    "test_query = cr.works(query = search_topic, limit=10, filter = {'type': 'journal-article'})"
   ]
  },
  {
   "cell_type": "code",
   "execution_count": 25,
   "metadata": {},
   "outputs": [],
   "source": [
    "# store main query result\n",
    "query_result = test_query['message']"
   ]
  },
  {
   "cell_type": "code",
   "execution_count": 26,
   "metadata": {},
   "outputs": [
    {
     "data": {
      "text/plain": [
       "dict_keys(['facets', 'total-results', 'items', 'items-per-page', 'query'])"
      ]
     },
     "execution_count": 26,
     "metadata": {},
     "output_type": "execute_result"
    }
   ],
   "source": [
    "# the query result is provided as a dictionary structure with different keys\n",
    "query_result.keys()"
   ]
  },
  {
   "cell_type": "markdown",
   "metadata": {},
   "source": [
    "We had our query limited to the 10 first result, which is what we get as a result. However, we also got the informations how many results there are in total for this query in the database."
   ]
  },
  {
   "cell_type": "code",
   "execution_count": 27,
   "metadata": {},
   "outputs": [
    {
     "name": "stdout",
     "output_type": "stream",
     "text": [
      "total results =  1541840\n"
     ]
    }
   ],
   "source": [
    "# find out the total number of results in the database \n",
    "print(\"total results = \", query_result['total-results'])"
   ]
  },
  {
   "cell_type": "markdown",
   "metadata": {},
   "source": [
    "Now we look at our 10 results, again by using the keys of the dictionnary data structure."
   ]
  },
  {
   "cell_type": "code",
   "execution_count": 28,
   "metadata": {},
   "outputs": [
    {
     "data": {
      "text/plain": [
       "dict_keys(['indexed', 'reference-count', 'publisher', 'issue', 'content-domain', 'short-container-title', 'published-print', 'DOI', 'type', 'created', 'page', 'source', 'is-referenced-by-count', 'title', 'prefix', 'volume', 'author', 'member', 'published-online', 'container-title', 'link', 'deposited', 'score', 'issued', 'references-count', 'journal-issue', 'URL', 'ISSN', 'issn-type', 'subject', 'published'])"
      ]
     },
     "execution_count": 28,
     "metadata": {},
     "output_type": "execute_result"
    }
   ],
   "source": [
    "# the information we need is stored in the key \"items\", again in a dictionnary structure with keys:\n",
    "query_result['items'][0].keys()"
   ]
  },
  {
   "cell_type": "markdown",
   "metadata": {},
   "source": [
    "We can look at each of the keys and list items separately. Here two examples:"
   ]
  },
  {
   "cell_type": "code",
   "execution_count": 29,
   "metadata": {},
   "outputs": [
    {
     "data": {
      "text/plain": [
       "'10.1088/0253-6102/37/4/427'"
      ]
     },
     "execution_count": 29,
     "metadata": {},
     "output_type": "execute_result"
    }
   ],
   "source": [
    "# look at the DOI of the first item\n",
    "query_result['items'][0]['DOI']"
   ]
  },
  {
   "cell_type": "code",
   "execution_count": 30,
   "metadata": {},
   "outputs": [
    {
     "data": {
      "text/plain": [
       "['Physical Review D']"
      ]
     },
     "execution_count": 30,
     "metadata": {},
     "output_type": "execute_result"
    }
   ],
   "source": [
    "# look at the journal title of the third item\n",
    "query_result['items'][2]['container-title']"
   ]
  },
  {
   "cell_type": "markdown",
   "metadata": {},
   "source": [
    "We can also make a list of all the 10 results, selecting some information fields to be displayed. Here we make a list of the 10 result with publisher, DOI, author list and title."
   ]
  },
  {
   "cell_type": "code",
   "execution_count": 31,
   "metadata": {},
   "outputs": [
    {
     "name": "stdout",
     "output_type": "stream",
     "text": [
      "0 \t Publisher = IOP Publishing ,\tDOI = 10.1088/0253-6102/37/4/427\n",
      "[{'given': 'Wu', 'family': 'Ning', 'sequence': 'first', 'affiliation': []}]\n",
      "['Supersymmetric U(1) Gauge Field Theory with Massive Gauge Field']\n",
      "---------------------------------------------------------------------------------------------------\n",
      "1 \t Publisher = Elsevier BV ,\tDOI = 10.1006/aphy.1996.0139\n",
      "[{'given': 'Haruichi', 'family': 'Yabuki', 'sequence': 'first', 'affiliation': []}]\n",
      "['Partially Gauge Invariant Field Configurations and the Gribov Horizon inSU(2) Gauge Field Theory']\n",
      "---------------------------------------------------------------------------------------------------\n",
      "2 \t Publisher = American Physical Society (APS) ,\tDOI = 10.1103/physrevd.21.1067\n",
      "[{'given': 'B.', 'family': 'Sakita', 'sequence': 'first', 'affiliation': []}]\n",
      "['Field theory of strings as a collective field theory ofU(N)gauge fields']\n",
      "---------------------------------------------------------------------------------------------------\n",
      "3 \t Publisher = American Physical Society (APS) ,\tDOI = 10.1103/physrevd.85.065009\n",
      "[{'given': 'Hiroshi', 'family': 'Matsuoka', 'sequence': 'first', 'affiliation': []}]\n",
      "['Chromo-field flux sheets as confining gauge field configurations in the SU(N) Euclidean Yang-Mills theory in the Landau gauge']\n",
      "---------------------------------------------------------------------------------------------------\n",
      "4 \t Publisher = Springer Science and Business Media LLC ,\tDOI = 10.1038/260736b0\n",
      "[{'given': 'D.', 'family': 'Bailin', 'sequence': 'first', 'affiliation': []}]\n",
      "['Gauge field theory']\n",
      "---------------------------------------------------------------------------------------------------\n",
      "5 \t Publisher = American Physical Society (APS) ,\tDOI = 10.1103/physrevd.29.757\n",
      "[{'given': 'Lawrence', 'family': 'Tyburski', 'sequence': 'first', 'affiliation': []}]\n",
      "['Yang-Mills field theory in an axial field-strength gauge']\n",
      "---------------------------------------------------------------------------------------------------\n",
      "6 \t Publisher = Springer Science and Business Media LLC ,\tDOI = 10.1007/bf00895210\n",
      "[{'given': 'G. A.', 'family': 'Sardanashvili', 'sequence': 'first', 'affiliation': []}]\n",
      "['Determination of a gauge transformation group in gauge field theory']\n",
      "---------------------------------------------------------------------------------------------------\n",
      "7 \t Publisher = American Physical Society (APS) ,\tDOI = 10.1103/physrev.162.1429\n",
      "[{'given': 'F.', 'family': 'Strocchi', 'sequence': 'first', 'affiliation': []}]\n",
      "['Gauge Problem in Quantum Field Theory']\n",
      "---------------------------------------------------------------------------------------------------\n",
      "8 \t Publisher = Oxford University Press (OUP) ,\tDOI = 10.1143/ptp.58.943\n",
      "[{'given': 'T.', 'family': 'Okabayashi', 'sequence': 'first', 'affiliation': []}, {'given': 'N.', 'family': 'Nakagawa', 'sequence': 'additional', 'affiliation': []}]\n",
      "['Local Gauge Invariance of Non-Abelian Gauge Field Theory']\n",
      "---------------------------------------------------------------------------------------------------\n",
      "9 \t Publisher = Elsevier BV ,\tDOI = 10.1016/0370-2693(86)90233-9\n",
      "[{'given': 'H.', 'family': 'Terao', 'sequence': 'first', 'affiliation': []}, {'given': 'S.', 'family': 'Uehara', 'sequence': 'additional', 'affiliation': []}]\n",
      "['Gauge invariant actions and gauge fixed actions of free superstring field theory']\n",
      "---------------------------------------------------------------------------------------------------\n"
     ]
    }
   ],
   "source": [
    "# Display list with selected fields\n",
    "for n, item in enumerate(query_result['items']):\n",
    "    print(n, '\\t Publisher =',  item['publisher'], ',\\tDOI =', item['DOI'])\n",
    "    print(item['author'])\n",
    "    print(item['title'])\n",
    "    print('---------------------------------------------------------------------------------------------------')"
   ]
  },
  {
   "cell_type": "markdown",
   "metadata": {},
   "source": [
    "#### Example B: Query for publications of a given author defined by name and ORCID\n",
    "\n",
    "In the second query example, we look for the publication of a specific researcher which we define by his name and ORCID. In case you don't know the ORCID ID of the author your searching for (if it exists), you can directly search for the author name on the ORCID webpage: https://orcid.org."
   ]
  },
  {
   "cell_type": "code",
   "execution_count": 32,
   "metadata": {},
   "outputs": [],
   "source": [
    "#Define author by Name and ORCID\n",
    "author_name = \"Walter Thiel\"\n",
    "author_orcid = \"0000-0001-6780-0350\""
   ]
  },
  {
   "cell_type": "markdown",
   "metadata": {},
   "source": [
    "Now we do the query for the defined author. Instead of sorting by relevance (default), we have the results sorted by the number of times they are references. The query is limited to the first 5 items."
   ]
  },
  {
   "cell_type": "code",
   "execution_count": 33,
   "metadata": {},
   "outputs": [],
   "source": [
    "# do query\n",
    "test_query2 = cr.works(query_author = author_name, sort=\"is-referenced-by-count\", limit=5, filter = {'orcid': author_orcid})"
   ]
  },
  {
   "cell_type": "code",
   "execution_count": 34,
   "metadata": {},
   "outputs": [
    {
     "name": "stdout",
     "output_type": "stream",
     "text": [
      "total results =  40\n"
     ]
    }
   ],
   "source": [
    "# store result in query2_result variable and get total number of results\n",
    "query2_result = test_query2['message']\n",
    "print(\"total results = \", query2_result['total-results'])"
   ]
  },
  {
   "cell_type": "markdown",
   "metadata": {},
   "source": [
    "We can again display the results as a list. Here we choose to display the results with  publication date, author, title, journal name, volume, and issue information. In contrast to the list above, we only list authors given and family names, not the entire author field. This makes the list more readable."
   ]
  },
  {
   "cell_type": "code",
   "execution_count": 35,
   "metadata": {},
   "outputs": [
    {
     "name": "stdout",
     "output_type": "stream",
     "text": [
      "0 \t publication date = [[2017, 1, 3]]\n",
      "[['Xing Gao'], ['Shuming Bai'], ['Daniele Fazzi'], ['Thomas Niehaus'], ['Mario Barbatti'], ['Walter Thiel']]\n",
      "['Evaluation of Spin-Orbit Couplings with Linear-Response Time-Dependent Density Functional Methods']\n",
      "['Journal of Chemical Theory and Computation']  volume = 13 , issue = 2\n",
      "---------------------------------------------------------------------------------------------------\n",
      "1 \t publication date = [[2017, 2, 7]]\n",
      "[['Dragoş-Adrian Roşca'], ['Karin Radkowski'], ['Larry M. Wolf'], ['Minal Wagh'], ['Richard Goddard'], ['Walter Thiel'], ['Alois Fürstner']]\n",
      "['Ruthenium-Catalyzed Alkyne trans-Hydrometalation: Mechanistic Insights and Preparative Implications']\n",
      "['Journal of the American Chemical Society']  volume = 139 , issue = 6\n",
      "---------------------------------------------------------------------------------------------------\n",
      "2 \t publication date = [[2018, 2, 16]]\n",
      "[['Alexandre Guthertz'], ['Markus Leutzsch'], ['Lawrence M. Wolf'], ['Puneet Gupta'], ['Stephan M. Rummelt'], ['Richard Goddard'], ['Christophe Farès'], ['Walter Thiel'], ['Alois Fürstner']]\n",
      "['Half-Sandwich Ruthenium Carbene Complexes Link trans-Hydrogenation and gem-Hydrogenation of Internal Alkynes']\n",
      "['Journal of the American Chemical Society']  volume = 140 , issue = 8\n",
      "---------------------------------------------------------------------------------------------------\n",
      "3 \t publication date = [[2018, 9, 10]]\n",
      "[['Pavlo O. Dral'], ['Mario Barbatti'], ['Walter Thiel']]\n",
      "['Nonadiabatic Excited-State Dynamics with Machine Learning']\n",
      "['The Journal of Physical Chemistry Letters']  volume = 9 , issue = 19\n",
      "---------------------------------------------------------------------------------------------------\n",
      "4 \t publication date = [[2017, 6, 27]]\n",
      "[['Pavlo O. Dral'], ['Alec Owens'], ['Sergei N. Yurchenko'], ['Walter Thiel']]\n",
      "['Structure-based sampling and self-correcting machine learning for accurate calculations of potential energy surfaces and vibrational levels']\n",
      "['The Journal of Chemical Physics']  volume = 146 , issue = 24\n",
      "---------------------------------------------------------------------------------------------------\n"
     ]
    }
   ],
   "source": [
    "# display results as a list\n",
    "for n, item in enumerate(query2_result['items']):\n",
    "    print(n, '\\t', 'publication date =', item['published']['date-parts'])\n",
    "    authors = [[item['author'][x]['given']+\" \"+item['author'][x]['family']] for x in range(len(item['author']))]\n",
    "    print(authors)\n",
    "    print(item['title'])\n",
    "    print(item['container-title'], \" volume =\", item['volume'], \", issue =\", item['issue'])\n",
    "    print('---------------------------------------------------------------------------------------------------')"
   ]
  },
  {
   "cell_type": "code",
   "execution_count": null,
   "metadata": {},
   "outputs": [],
   "source": []
  }
 ],
 "metadata": {
  "kernelspec": {
   "display_name": "Python 3",
   "language": "python",
   "name": "python3"
  },
  "language_info": {
   "codemirror_mode": {
    "name": "ipython",
    "version": 3
   },
   "file_extension": ".py",
   "mimetype": "text/x-python",
   "name": "python",
   "nbconvert_exporter": "python",
   "pygments_lexer": "ipython3",
   "version": "3.9.5"
  }
 },
 "nbformat": 4,
 "nbformat_minor": 2
}
