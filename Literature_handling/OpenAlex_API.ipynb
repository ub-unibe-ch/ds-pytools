{
 "cells": [
  {
   "cell_type": "markdown",
   "metadata": {
    "toc": true
   },
   "source": [
    "<h1> Using the OpenAlex API<span class=\"tocSkip\"></span></h1>\n",
    "<div class=\"toc\"><ul class=\"toc-item\"><li><span><a href=\"#🎓-About-OpenAlex\" data-toc-modified-id=\"🎓-About-OpenAlex-1\"><span class=\"toc-item-num\">1&nbsp;&nbsp;</span>🎓 About OpenAlex</a></span></li><li><span><a href=\"#📚-Works-endpoint\" data-toc-modified-id=\"📚-Works-endpoint-2\"><span class=\"toc-item-num\">2&nbsp;&nbsp;</span>📚 Works endpoint</a></span><ul class=\"toc-item\"><li><span><a href=\"#Author-and-affiliation-data\" data-toc-modified-id=\"Author-and-affiliation-data-2.1\"><span class=\"toc-item-num\">2.1&nbsp;&nbsp;</span>Author and affiliation data</a></span></li><li><span><a href=\"#Use-the-search-parameter\" data-toc-modified-id=\"Use-the-search-parameter-2.2\"><span class=\"toc-item-num\">2.2&nbsp;&nbsp;</span>Use the search parameter</a></span></li><li><span><a href=\"#Access-multiple-Work-entities\" data-toc-modified-id=\"Access-multiple-Work-entities-2.3\"><span class=\"toc-item-num\">2.3&nbsp;&nbsp;</span>Access multiple Work entities</a></span><ul class=\"toc-item\"><li><span><a href=\"#Filter-works-by-publication-type\" data-toc-modified-id=\"Filter-works-by-publication-type-2.3.1\"><span class=\"toc-item-num\">2.3.1&nbsp;&nbsp;</span>Filter works by publication type</a></span></li><li><span><a href=\"#Filter-works-by-&quot;venue&quot;:--journal,-repository-etc\" data-toc-modified-id=\"Filter-works-by-&quot;venue&quot;:--journal,-repository-etc-2.3.2\"><span class=\"toc-item-num\">2.3.2&nbsp;&nbsp;</span>Filter works by \"venue\":  journal, repository etc</a></span></li><li><span><a href=\"#Filter-works-by-author-&amp;-handle-big-result-sets\" data-toc-modified-id=\"Filter-works-by-author-&amp;-handle-big-result-sets-2.3.3\"><span class=\"toc-item-num\">2.3.3&nbsp;&nbsp;</span>Filter works by author &amp; handle big result sets</a></span></li><li><span><a href=\"#Group-works-due-to-a-certain-feature\" data-toc-modified-id=\"Group-works-due-to-a-certain-feature-2.3.4\"><span class=\"toc-item-num\">2.3.4&nbsp;&nbsp;</span>Group works due to a certain feature</a></span></li><li><span><a href=\"#Combine-filters-and-grouping\" data-toc-modified-id=\"Combine-filters-and-grouping-2.3.5\"><span class=\"toc-item-num\">2.3.5&nbsp;&nbsp;</span>Combine filters and grouping</a></span></li></ul></li></ul></li><li><span><a href=\"#👨‍🎓--Authors-endpoint\" data-toc-modified-id=\"👨‍🎓--Authors-endpoint-3\"><span class=\"toc-item-num\">3&nbsp;&nbsp;</span>👨‍🎓  Authors endpoint</a></span><ul class=\"toc-item\"><li><span><a href=\"#Use-the-search-parameter\" data-toc-modified-id=\"Use-the-search-parameter-3.1\"><span class=\"toc-item-num\">3.1&nbsp;&nbsp;</span>Use the search parameter</a></span></li><li><span><a href=\"#Access-multiple-Author-entities\" data-toc-modified-id=\"Access-multiple-Author-entities-3.2\"><span class=\"toc-item-num\">3.2&nbsp;&nbsp;</span>Access multiple Author entities</a></span><ul class=\"toc-item\"><li><span><a href=\"#Filter-authors-by-institution-&amp;-put-the-data-into-a-dataframe\" data-toc-modified-id=\"Filter-authors-by-institution-&amp;-put-the-data-into-a-dataframe-3.2.1\"><span class=\"toc-item-num\">3.2.1&nbsp;&nbsp;</span>Filter authors by institution &amp; put the data into a dataframe</a></span></li><li><span><a href=\"#Filter-by-multiple-features-&amp;-use-logical-operators\" data-toc-modified-id=\"Filter-by-multiple-features-&amp;-use-logical-operators-3.2.2\"><span class=\"toc-item-num\">3.2.2&nbsp;&nbsp;</span>Filter by multiple features &amp; use logical operators</a></span></li><li><span><a href=\"#Group-authors-due-to-a-certain-feature\" data-toc-modified-id=\"Group-authors-due-to-a-certain-feature-3.2.3\"><span class=\"toc-item-num\">3.2.3&nbsp;&nbsp;</span>Group authors due to a certain feature</a></span></li><li><span><a href=\"#Combine-filters-and-grouping\" data-toc-modified-id=\"Combine-filters-and-grouping-3.2.4\"><span class=\"toc-item-num\">3.2.4&nbsp;&nbsp;</span>Combine filters and grouping</a></span></li></ul></li></ul></li><li><span><a href=\"#🔖-Concepts-endpoint\" data-toc-modified-id=\"🔖-Concepts-endpoint-4\"><span class=\"toc-item-num\">4&nbsp;&nbsp;</span>🔖 Concepts endpoint</a></span></li><li><span><a href=\"#🏫-Institutions-endpoint\" data-toc-modified-id=\"🏫-Institutions-endpoint-5\"><span class=\"toc-item-num\">5&nbsp;&nbsp;</span>🏫 Institutions endpoint</a></span><ul class=\"toc-item\"><li><span><a href=\"#Access-multiple-Institution-entities\" data-toc-modified-id=\"Access-multiple-Institution-entities-5.1\"><span class=\"toc-item-num\">5.1&nbsp;&nbsp;</span>Access multiple Institution entities</a></span></li></ul></li><li><span><a href=\"#📰-Venues-endpoint\" data-toc-modified-id=\"📰-Venues-endpoint-6\"><span class=\"toc-item-num\">6&nbsp;&nbsp;</span>📰 Venues endpoint</a></span><ul class=\"toc-item\"><li><span><a href=\"#Access-multiple-Venue-entities\" data-toc-modified-id=\"Access-multiple-Venue-entities-6.1\"><span class=\"toc-item-num\">6.1&nbsp;&nbsp;</span>Access multiple Venue entities</a></span></li></ul></li></ul></div>"
   ]
  },
  {
   "cell_type": "markdown",
   "metadata": {},
   "source": [
    "##  🎓 About OpenAlex"
   ]
  },
  {
   "cell_type": "markdown",
   "metadata": {},
   "source": [
    "[OpenAlex](https://docs.openalex.org/) is a great resource for searching and accessing **scholarly publication data** comprehensively. Furthermore, OpenAlex holds data about **authors, institutions, venues and concepts** relating to those publications. For this, it brings together data from a series well-known [sources](https://docs.openalex.org/about-the-data-1#sources).\n",
    "\n",
    "And, what's maybe the best about it: OpenAlex data is published under the Creative Commons Public Domain Dedication ([CC0](https://creativecommons.org/publicdomain/zero/1.0/)) - waiving copyright at all!\n",
    "\n",
    "**💻 Snapshots and API**\n",
    "\n",
    "OpenAlex offers data [snapshots](https://docs.openalex.org/download-snapshot) on a regularly basis, but can accessed far more nuanced via [**REST API**](https://docs.openalex.org/api). This notebook will give you a small overview about its functionality and the data which can be accessed there.\n",
    "\n",
    "There is one thing which is central to understand and use OpenAlex' API: It consists of 5 different endpoints representing the 5 different entity types, OpenAlex provides data on:\n",
    "* `/works` - scholarly publications like journal articles, book chapters etc.\n",
    "* `/authors` - the contributors of these publications\n",
    "* `/concepts` - the subjects or topics, which are treated by publications (and by authors, institutions, venues)\n",
    "* `/institutions` - the institutions, which host contributors of publications\n",
    "* `/venues` - the venues which host the single publications, like journals, repositories etc.\n",
    "\n",
    "This notebook will show all these endpoints, but not all possible actions. Despite this, OpenAlex API is constantly growing: To get it all, consult the [documentation](https://docs.openalex.org/api).\n",
    "\n",
    "**☝️ Caveat**\n",
    "\n",
    "Gathering and integrating data of scholarly publications is a tough thing to do. Data sources are manifold and even original data is often incomplete. So, also data of aggregators like OpenAlex will not be 100% complete, free from errors or duplicates. **Handle all derivative numbers with care** and draw conclusions with respect to this imperfect data base. If possible, use other data sources to crosscheck your findings.\n",
    "\n",
    "**😇 Be polite and show who you are**\n",
    "\n",
    "One more essential hint about using the OpenAlex API: You can access it freely and without any API key or any other authentication. However, it is recommended to be \"polite\" and show who you are resp. that you are human by **specifying your e-mail address**. This also will give you faster and more consistent **response times**!"
   ]
  },
  {
   "cell_type": "code",
   "execution_count": 1,
   "metadata": {},
   "outputs": [],
   "source": [
    "# Import the necessary libraries\n",
    "import json, requests\n",
    "import pandas as pd"
   ]
  },
  {
   "cell_type": "code",
   "execution_count": 2,
   "metadata": {},
   "outputs": [],
   "source": [
    "# IMPORTANT: Fill in your e-mail address\n",
    "email = '...'"
   ]
  },
  {
   "cell_type": "markdown",
   "metadata": {},
   "source": [
    "## 📚 Works endpoint"
   ]
  },
  {
   "cell_type": "markdown",
   "metadata": {},
   "source": [
    "The core of OpenAlex data are **scholarly publications**. These are are represented as ***Work* entities**, which can be retrieved via the `/works` endpoint. Single *Work* entities can be directly accessed by their OpenAlex identifier (starting with a \"W\" like `W3093430496`) or by their Digital Object Identifier (DOI) respectively. You can access a random publication with `https://api.openalex.org/works/random`.\n",
    "\n",
    "To learn about the attributes a *Work* entity can have, take a look into the [Work](https://docs.openalex.org/about-the-data/work) object documentation.\n",
    "\n",
    "We'll start by accessing a single *Work* entity aka a publication record. The code cell below queries the OpenAlex API (via it's `/works` endpoint). The base URL is completed with an identifier and enriched with the e-mail statement.\n",
    "\n",
    "There are several examples you might try by commenting out the identifiers and adapt the request accordingly. Note the use of the name spaces `openalex:` and `doi:` with the different identifiers."
   ]
  },
  {
   "cell_type": "code",
   "execution_count": 3,
   "metadata": {},
   "outputs": [
    {
     "data": {
      "text/plain": [
       "dict"
      ]
     },
     "execution_count": 3,
     "metadata": {},
     "output_type": "execute_result"
    }
   ],
   "source": [
    "base_url = 'https://api.openalex.org/works/'\n",
    "params = {'mailto': email}\n",
    "\n",
    "# Using different work identifiers\n",
    "#openalex_id = 'W3093430496'                               # doctoral thesis\n",
    "#openalex_id = 'W2489129678'                              # monograph\n",
    "#openalex_id_namespace = 'openalex:W4200635144'            # conference publication\n",
    "#doi = 'doi:10.1007/978-3-319-20319-5_4'                  # book part\n",
    "#doi = 'doi:10.1007/10.22617/tim210529'                   # report\n",
    "\n",
    "doi =  'doi:https://doi.org/10.1007/s10479-016-2314-1'    # green OA article\n",
    "#doi = 'doi:https://doi.org/10.1371/journal.pone.0121874' # gold OA article\n",
    "#doi = 'doi:https://doi.org/10.1007/s10489-020-02029-z'   # bronze OA article\n",
    "#doi = 'https://doi.org/10.1134/s2079086415010053'         # closed article\n",
    "\n",
    "    \n",
    "# Adapt identifier if necessary: doi, openalex_id, openalex_id_namespace\n",
    "r = requests.get(base_url + doi, params=params)\n",
    "data = r.json()\n",
    "type(data)"
   ]
  },
  {
   "cell_type": "markdown",
   "metadata": {},
   "source": [
    "The data answer of the OpenAlex API is [JSON](https://en.wikipedia.org/wiki/JSON) formatted. Therefore, it is decoded with the `json()` command and written into an Python object named `data`. Resembling the JSON structure, this is a Python [dictionary](https://docs.python.org/3/tutorial/datastructures.html#dictionaries).\n",
    "\n",
    "This request and decoding method will be used throughout the whole notebook.\n",
    "\n",
    "The `list()` function gives you an overview of the available data fields (which are the *Work*'s attributes) in the dictionary by listing all its *keys*. Calling a certain attribute *value* can easily done with its key, for instance `data['id']`."
   ]
  },
  {
   "cell_type": "code",
   "execution_count": 4,
   "metadata": {},
   "outputs": [
    {
     "data": {
      "text/plain": [
       "['id',\n",
       " 'doi',\n",
       " 'title',\n",
       " 'display_name',\n",
       " 'publication_year',\n",
       " 'publication_date',\n",
       " 'ids',\n",
       " 'host_venue',\n",
       " 'type',\n",
       " 'open_access',\n",
       " 'authorships',\n",
       " 'cited_by_count',\n",
       " 'biblio',\n",
       " 'is_retracted',\n",
       " 'is_paratext',\n",
       " 'concepts',\n",
       " 'mesh',\n",
       " 'alternate_host_venues',\n",
       " 'referenced_works',\n",
       " 'related_works',\n",
       " 'abstract_inverted_index',\n",
       " 'cited_by_api_url',\n",
       " 'counts_by_year',\n",
       " 'updated_date',\n",
       " 'created_date']"
      ]
     },
     "execution_count": 4,
     "metadata": {},
     "output_type": "execute_result"
    }
   ],
   "source": [
    "# Overview of available data fields\n",
    "list(data)"
   ]
  },
  {
   "cell_type": "code",
   "execution_count": 5,
   "metadata": {},
   "outputs": [
    {
     "data": {
      "text/plain": [
       "'https://openalex.org/W2518998880'"
      ]
     },
     "execution_count": 5,
     "metadata": {},
     "output_type": "execute_result"
    }
   ],
   "source": [
    "# Calling the OpenAlex work ID field by its key (\"id\")\n",
    "data['id']"
   ]
  },
  {
   "cell_type": "code",
   "execution_count": 6,
   "metadata": {},
   "outputs": [
    {
     "data": {
      "text/plain": [
       "'A framework for investigating optimization of service parts performance with big data'"
      ]
     },
     "execution_count": 6,
     "metadata": {},
     "output_type": "execute_result"
    }
   ],
   "source": [
    "# Publication title\n",
    "data['title']"
   ]
  },
  {
   "cell_type": "code",
   "execution_count": 7,
   "metadata": {},
   "outputs": [
    {
     "data": {
      "text/plain": [
       "{'openalex': 'https://openalex.org/W2518998880',\n",
       " 'doi': 'https://doi.org/10.1007/s10479-016-2314-1',\n",
       " 'mag': '2518998880'}"
      ]
     },
     "execution_count": 7,
     "metadata": {},
     "output_type": "execute_result"
    }
   ],
   "source": [
    "# All available identifiers, given as an own Python dictionary\n",
    "data['ids']"
   ]
  },
  {
   "cell_type": "code",
   "execution_count": 8,
   "metadata": {},
   "outputs": [
    {
     "data": {
      "text/plain": [
       "'journal-article'"
      ]
     },
     "execution_count": 8,
     "metadata": {},
     "output_type": "execute_result"
    }
   ],
   "source": [
    "# Publication type\n",
    "data['type']"
   ]
  },
  {
   "cell_type": "code",
   "execution_count": 9,
   "metadata": {},
   "outputs": [
    {
     "data": {
      "text/plain": [
       "{'volume': '270', 'issue': '1', 'first_page': '65', 'last_page': '74'}"
      ]
     },
     "execution_count": 9,
     "metadata": {},
     "output_type": "execute_result"
    }
   ],
   "source": [
    "# Bibliographic information\n",
    "data['biblio']"
   ]
  },
  {
   "cell_type": "code",
   "execution_count": 10,
   "metadata": {},
   "outputs": [
    {
     "data": {
      "text/plain": [
       "{'id': 'https://openalex.org/V57667410',\n",
       " 'issn_l': '0254-5330',\n",
       " 'issn': ['1572-9338', '0254-5330'],\n",
       " 'display_name': 'Annals of Operations Research',\n",
       " 'publisher': 'Springer Nature',\n",
       " 'type': 'publisher',\n",
       " 'url': 'https://doi.org/10.1007/s10479-016-2314-1',\n",
       " 'is_oa': None,\n",
       " 'version': None,\n",
       " 'license': None}"
      ]
     },
     "execution_count": 10,
     "metadata": {},
     "output_type": "execute_result"
    }
   ],
   "source": [
    "# Bibliographic information of host venue (= publication medium/infrastructure)\n",
    "# \"issn_l\" should be used preferably of all ISSNs while using OpenAlex API with ISSN identifier\n",
    "data['host_venue']"
   ]
  },
  {
   "cell_type": "code",
   "execution_count": 11,
   "metadata": {},
   "outputs": [
    {
     "data": {
      "text/plain": [
       "[]"
      ]
     },
     "execution_count": 11,
     "metadata": {},
     "output_type": "execute_result"
    }
   ],
   "source": [
    "# Alternative hosting venue, especially to provide Open Access versions of closed publications\n",
    "data['alternate_host_venues']"
   ]
  },
  {
   "cell_type": "code",
   "execution_count": 12,
   "metadata": {},
   "outputs": [
    {
     "data": {
      "text/plain": [
       "{'is_oa': True,\n",
       " 'oa_status': 'green',\n",
       " 'oa_url': 'https://lib.dr.iastate.edu/cgi/viewcontent.cgi?article=1058&context=scm_pubs'}"
      ]
     },
     "execution_count": 12,
     "metadata": {},
     "output_type": "execute_result"
    }
   ],
   "source": [
    "# Open Access status\n",
    "data['open_access']"
   ]
  },
  {
   "cell_type": "code",
   "execution_count": 13,
   "metadata": {},
   "outputs": [
    {
     "data": {
      "text/plain": [
       "['https://openalex.org/W2006003195',\n",
       " 'https://openalex.org/W2046909913',\n",
       " 'https://openalex.org/W1935143412',\n",
       " 'https://openalex.org/W2086834950',\n",
       " 'https://openalex.org/W2317379158']"
      ]
     },
     "execution_count": 13,
     "metadata": {},
     "output_type": "execute_result"
    }
   ],
   "source": [
    "# The first 5 cited works by their OpenAlex links\n",
    "data['referenced_works'][:5]"
   ]
  },
  {
   "cell_type": "code",
   "execution_count": 14,
   "metadata": {},
   "outputs": [
    {
     "data": {
      "text/plain": [
       "16"
      ]
     },
     "execution_count": 14,
     "metadata": {},
     "output_type": "execute_result"
    }
   ],
   "source": [
    "# Times cited\n",
    "data['cited_by_count']"
   ]
  },
  {
   "cell_type": "code",
   "execution_count": 15,
   "metadata": {},
   "outputs": [
    {
     "data": {
      "text/plain": [
       "[{'year': 2022, 'cited_by_count': 2},\n",
       " {'year': 2021, 'cited_by_count': 2},\n",
       " {'year': 2020, 'cited_by_count': 4},\n",
       " {'year': 2019, 'cited_by_count': 3},\n",
       " {'year': 2018, 'cited_by_count': 2},\n",
       " {'year': 2017, 'cited_by_count': 3}]"
      ]
     },
     "execution_count": 15,
     "metadata": {},
     "output_type": "execute_result"
    }
   ],
   "source": [
    "# Citations by year (since 2012)\n",
    "data['counts_by_year']"
   ]
  },
  {
   "cell_type": "code",
   "execution_count": 16,
   "metadata": {},
   "outputs": [
    {
     "data": {
      "text/plain": [
       "'https://api.openalex.org/works?filter=cites:W2518998880'"
      ]
     },
     "execution_count": 16,
     "metadata": {},
     "output_type": "execute_result"
    }
   ],
   "source": [
    "# API link to citing publications\n",
    "data['cited_by_api_url']"
   ]
  },
  {
   "cell_type": "code",
   "execution_count": 17,
   "metadata": {},
   "outputs": [
    {
     "name": "stdout",
     "output_type": "stream",
     "text": [
      "False\n"
     ]
    },
    {
     "data": {
      "text/plain": [
       "False"
      ]
     },
     "execution_count": 17,
     "metadata": {},
     "output_type": "execute_result"
    }
   ],
   "source": [
    "# Status information: paratext, retraction\n",
    "print(data['is_paratext'])\n",
    "data['is_retracted']"
   ]
  },
  {
   "cell_type": "markdown",
   "metadata": {},
   "source": [
    "A special feature of OpenAlex *Work* data is the attribute `abstract_inverted_index`. Instead of delivering the plain text **abstract of a publication**, its vocabulary or tokenized version is given, listing all words/tokens with their position in the abstract. This is done for copyright reasons. However, this information can be used to search *Works* (see 2.2) and build other applications upon.\n",
    "Note that punctuation is treated as part of the tokens."
   ]
  },
  {
   "cell_type": "code",
   "execution_count": 18,
   "metadata": {},
   "outputs": [
    {
     "data": {
      "text/plain": [
       "{'As': [0],\n",
       " 'national': [1],\n",
       " 'economies': [2],\n",
       " 'continue': [3],\n",
       " 'to': [4, 14, 23, 27, 52, 78, 92, 120, 133, 149, 177],\n",
       " 'evolve': [5],\n",
       " 'across': [6],\n",
       " 'the': [7, 126, 156],\n",
       " 'globe,': [8],\n",
       " 'businesses': [9, 46, 116, 122],\n",
       " 'are': [10, 47, 57, 69, 75, 108, 117],\n",
       " 'increasing': [11],\n",
       " 'their': [12],\n",
       " 'capacity': [13],\n",
       " 'not': [15, 58],\n",
       " 'only': [16],\n",
       " 'generate': [17],\n",
       " 'new': [18],\n",
       " 'products': [19],\n",
       " 'and': [20, 56, 162, 169],\n",
       " 'deliver': [21],\n",
       " 'them': [22],\n",
       " 'customers,': [24],\n",
       " 'but': [25],\n",
       " 'also': [26],\n",
       " 'increase': [28],\n",
       " 'levels': [29],\n",
       " 'of': [30, 36, 97, 128, 158],\n",
       " 'after-sales': [31],\n",
       " 'service.': [32],\n",
       " 'One': [33],\n",
       " 'major': [34],\n",
       " 'component': [35],\n",
       " 'after-sale': [37],\n",
       " 'service': [38, 40, 44, 66, 98, 105, 114, 151, 179],\n",
       " 'involves': [39],\n",
       " 'parts': [41, 45, 67, 99, 106, 115, 152, 180],\n",
       " 'management.': [42, 100],\n",
       " 'However,': [43, 101],\n",
       " 'typically': [48],\n",
       " 'seen': [49],\n",
       " 'as': [50],\n",
       " 'add-ons': [51],\n",
       " 'existing': [53],\n",
       " 'business': [54],\n",
       " 'models,': [55],\n",
       " 'well': [59],\n",
       " 'integrated': [60],\n",
       " 'with': [61],\n",
       " 'primary': [62, 79, 121],\n",
       " 'businesses.': [63, 80],\n",
       " 'Consequently,': [64],\n",
       " 'many': [65],\n",
       " 'operations': [68],\n",
       " 'managed': [70],\n",
       " 'using': [71],\n",
       " 'ad-hoc': [72],\n",
       " 'practices': [73],\n",
       " 'that': [74, 147],\n",
       " 'often': [76, 109, 118],\n",
       " 'subordinated': [77, 119],\n",
       " 'Early': [81],\n",
       " 'research': [82],\n",
       " 'in': [83, 89],\n",
       " 'this': [84],\n",
       " 'area': [85],\n",
       " 'has': [86],\n",
       " 'been': [87],\n",
       " 'instrumental': [88],\n",
       " 'assisting': [90],\n",
       " 'organizations': [91],\n",
       " 'begin': [93],\n",
       " 'optimizing': [94],\n",
       " 'some': [95],\n",
       " 'aspects': [96],\n",
       " 'performance': [102, 153],\n",
       " 'goals': [103, 154],\n",
       " 'for': [104, 155],\n",
       " 'management': [107, 181],\n",
       " 'ill-defined.': [110],\n",
       " 'Further,': [111],\n",
       " 'because': [112],\n",
       " 'these': [113, 136],\n",
       " 'within': [123],\n",
       " 'a': [124, 145],\n",
       " 'firm,': [125],\n",
       " 'use': [127],\n",
       " 'newer': [129],\n",
       " 'big': [130, 171],\n",
       " 'data': [131, 172],\n",
       " 'applications': [132, 173],\n",
       " 'help': [134],\n",
       " 'manage': [135],\n",
       " 'processes': [137],\n",
       " 'is': [138],\n",
       " 'almost': [139],\n",
       " 'completely': [140],\n",
       " 'absent.': [141],\n",
       " 'Herein,': [142],\n",
       " 'we': [143],\n",
       " 'develop': [144],\n",
       " 'framework': [146],\n",
       " 'seeks': [148],\n",
       " 'define': [150],\n",
       " 'purpose': [157],\n",
       " 'outlining': [159],\n",
       " 'where': [160],\n",
       " 'scholars': [161],\n",
       " 'practitioners': [163],\n",
       " 'can': [164, 174],\n",
       " 'further': [165],\n",
       " 'examine': [166],\n",
       " 'where,': [167],\n",
       " 'how,': [168],\n",
       " 'why': [170],\n",
       " 'be': [175],\n",
       " 'employed': [176],\n",
       " 'enhance': [178],\n",
       " 'performance.': [182]}"
      ]
     },
     "execution_count": 18,
     "metadata": {},
     "output_type": "execute_result"
    }
   ],
   "source": [
    "# Inverted index with positions of words\n",
    "data['abstract_inverted_index']"
   ]
  },
  {
   "cell_type": "code",
   "execution_count": 19,
   "metadata": {},
   "outputs": [
    {
     "data": {
      "text/plain": [
       "['https://openalex.org/W3125021983',\n",
       " 'https://openalex.org/W2053955562',\n",
       " 'https://openalex.org/W1530533824',\n",
       " 'https://openalex.org/W2182805052',\n",
       " 'https://openalex.org/W2306196080']"
      ]
     },
     "execution_count": 19,
     "metadata": {},
     "output_type": "execute_result"
    }
   ],
   "source": [
    "# First 5 related works by their OpenAlex links\n",
    "data['related_works'][:5]"
   ]
  },
  {
   "cell_type": "code",
   "execution_count": 20,
   "metadata": {},
   "outputs": [
    {
     "data": {
      "text/plain": [
       "'2022-02-28'"
      ]
     },
     "execution_count": 20,
     "metadata": {},
     "output_type": "execute_result"
    }
   ],
   "source": [
    "# How up to date is this information?\n",
    "data['updated_date']"
   ]
  },
  {
   "cell_type": "code",
   "execution_count": 21,
   "metadata": {},
   "outputs": [
    {
     "data": {
      "text/plain": [
       "[{'id': 'https://openalex.org/C41008148',\n",
       "  'wikidata': 'https://www.wikidata.org/wiki/Q21198',\n",
       "  'display_name': 'Computer science',\n",
       "  'level': 0,\n",
       "  'score': '0.714159'},\n",
       " {'id': 'https://openalex.org/C75684735',\n",
       "  'wikidata': 'https://www.wikidata.org/wiki/Q858810',\n",
       "  'display_name': 'Big data',\n",
       "  'level': 2,\n",
       "  'score': '0.538703'},\n",
       " {'id': 'https://openalex.org/C2780378061',\n",
       "  'wikidata': 'https://www.wikidata.org/wiki/Q25351891',\n",
       "  'display_name': 'Service (business)',\n",
       "  'level': 2,\n",
       "  'score': '0.40567'}]"
      ]
     },
     "execution_count": 21,
     "metadata": {},
     "output_type": "execute_result"
    }
   ],
   "source": [
    "# Attached concepts (subjects) - with a more sophisticated data structure: a list of dictionaries\n",
    "data['concepts'][:3]"
   ]
  },
  {
   "cell_type": "code",
   "execution_count": 22,
   "metadata": {},
   "outputs": [
    {
     "data": {
      "text/plain": [
       "['Computer science',\n",
       " 'Big data',\n",
       " 'Service (business)',\n",
       " 'Cloud computing',\n",
       " 'Theory of computation']"
      ]
     },
     "execution_count": 22,
     "metadata": {},
     "output_type": "execute_result"
    }
   ],
   "source": [
    "# Use Python list comprehension to access the display names of subjects\n",
    "[i['display_name'] for i in data['concepts']]"
   ]
  },
  {
   "cell_type": "code",
   "execution_count": 23,
   "metadata": {},
   "outputs": [
    {
     "data": {
      "text/plain": [
       "0"
      ]
     },
     "execution_count": 23,
     "metadata": {},
     "output_type": "execute_result"
    }
   ],
   "source": [
    "# How many MESH descriptors are there?\n",
    "len(data['mesh'])"
   ]
  },
  {
   "cell_type": "code",
   "execution_count": 24,
   "metadata": {},
   "outputs": [
    {
     "data": {
      "text/plain": [
       "[]"
      ]
     },
     "execution_count": 24,
     "metadata": {},
     "output_type": "execute_result"
    }
   ],
   "source": [
    "# Show the first 5 MESH descriptors with qualifier (\"None\" = no qualifier)\n",
    "[[i['descriptor_name'], i['qualifier_name']] for i in data['mesh'][:5]]"
   ]
  },
  {
   "cell_type": "markdown",
   "metadata": {},
   "source": [
    "### Author and affiliation data"
   ]
  },
  {
   "cell_type": "markdown",
   "metadata": {},
   "source": [
    "The *Works* object holds 3 attributes which provide more detailed information, or in a certain way, sub-attributes. These are:\n",
    "* `authorships` \n",
    "* `hosting_venue`\n",
    "* `open_access`.\n",
    "\n",
    "Let's take a look at the `authorships` data: It holds all authors of the publication, each introduced by the `author_position` statement. Thereafter follows the individual author's data, resembling the *Author* entity will get to now later with its own endpoint.\n",
    "\n",
    "Note that authors can have multiple `institutions` (which are their affiliations), each in turn described in detail, too."
   ]
  },
  {
   "cell_type": "code",
   "execution_count": 25,
   "metadata": {},
   "outputs": [
    {
     "data": {
      "text/plain": [
       "[{'author_position': 'first',\n",
       "  'author': {'id': 'https://openalex.org/A2256112286',\n",
       "   'display_name': 'Christopher A. Boone',\n",
       "   'orcid': None},\n",
       "  'institutions': [{'id': 'https://openalex.org/I128956969',\n",
       "    'display_name': 'Texas Christian University',\n",
       "    'ror': 'https://ror.org/054b0b564',\n",
       "    'country_code': 'US',\n",
       "    'type': 'education'}],\n",
       "  'raw_affiliation_string': 'Neeley School of Business, Texas Christian University, TX, USA'},\n",
       " {'author_position': 'middle',\n",
       "  'author': {'id': 'https://openalex.org/A1919322360',\n",
       "   'display_name': 'Benjamin T. Hazen',\n",
       "   'orcid': 'https://orcid.org/0000-0003-4891-3071'},\n",
       "  'institutions': [{'id': 'https://openalex.org/I55061410',\n",
       "    'display_name': 'Air Force Institute of Technology',\n",
       "    'ror': 'https://ror.org/03f9f1d95',\n",
       "    'country_code': 'US',\n",
       "    'type': 'education'}],\n",
       "  'raw_affiliation_string': 'Department of Operational Sciences, Air Force Institute of Technology, OH, USA'}]"
      ]
     },
     "execution_count": 25,
     "metadata": {},
     "output_type": "execute_result"
    }
   ],
   "source": [
    "# Showing the first 2 authors, assembled in \"authorships\" attribute\n",
    "data['authorships'][:2]"
   ]
  },
  {
   "cell_type": "code",
   "execution_count": 26,
   "metadata": {},
   "outputs": [
    {
     "name": "stdout",
     "output_type": "stream",
     "text": [
      "Christopher A. Boone\n",
      "None\n",
      "Neeley School of Business, Texas Christian University, TX, USA\n",
      "first\n",
      "---\n",
      "Benjamin T. Hazen\n",
      "https://orcid.org/0000-0003-4891-3071\n",
      "Department of Operational Sciences, Air Force Institute of Technology, OH, USA\n",
      "middle\n",
      "---\n",
      "Joseph B. Skipper\n",
      "None\n",
      "Stafford School of Business, Abraham Baldwin Agricultural College, Tifton, USA\n",
      "middle\n",
      "---\n",
      "Robert E. Overstreet\n",
      "https://orcid.org/0000-0002-5047-2415\n",
      "Department of Supply Chain and Information Systems, Iowa State University, Ames, USA#TAB#\n",
      "last\n",
      "---\n"
     ]
    }
   ],
   "source": [
    "# Print out the names, ORCIDs, raw affiliation strings and positions of all authors with a loop\n",
    "for i in data['authorships']:\n",
    "    print(i['author']['display_name'])\n",
    "    print(i['author']['orcid'])\n",
    "    print(i['raw_affiliation_string'])\n",
    "    print(i['author_position'])\n",
    "    print('---')"
   ]
  },
  {
   "cell_type": "code",
   "execution_count": 27,
   "metadata": {},
   "outputs": [
    {
     "name": "stdout",
     "output_type": "stream",
     "text": [
      "Texas Christian University\n",
      "Air Force Institute of Technology\n",
      "Abraham Baldwin Agricultural College\n",
      "Iowa State University\n"
     ]
    }
   ],
   "source": [
    "# Print out all affiliations (short, normalized form) of the authors with a nested loop\n",
    "for i in data['authorships']:\n",
    "    for j in i['institutions']:\n",
    "        print(j['display_name'])"
   ]
  },
  {
   "cell_type": "markdown",
   "metadata": {},
   "source": [
    "### Use the search parameter"
   ]
  },
  {
   "cell_type": "markdown",
   "metadata": {},
   "source": [
    "With a slight adjustment you can use the *Works* endpoint for a simple **search in the title and abstract fields**. You can search multiple terms just by separating them with a blank. You can also search for **exact phrases** using quotation marks.\n",
    "\n",
    "The ranking (`relevance_score`) depends on similarity between request and field data, proximity of the single terms and citation counts. See [here](https://docs.openalex.org/api/get-lists-of-entities/search-entity-lists#the-search-parameter) for a more detailed description of the search functionality."
   ]
  },
  {
   "cell_type": "code",
   "execution_count": 28,
   "metadata": {},
   "outputs": [],
   "source": [
    "# Search 2 terms in title and abstract\n",
    "url = 'https://api.openalex.org/works?search=einstein philosoph'\n",
    "\n",
    "# Compare with automatic stemming (cutting to the word trunk)\n",
    "#url = 'https://api.openalex.org/works?search=einsteins philosophs'\n",
    "\n",
    "# Search an exact phrase using quotes \"\"\n",
    "#url = 'https://api.openalex.org/works?search=\"einstein als philosoph\"'\n",
    "\n",
    "params = {'mailto': email}\n",
    "\n",
    "r = requests.get(url, params=params)\n",
    "data = r.json()"
   ]
  },
  {
   "cell_type": "code",
   "execution_count": 29,
   "metadata": {},
   "outputs": [
    {
     "data": {
      "text/plain": [
       "{'count': 14, 'db_response_time_ms': 46, 'page': 1, 'per_page': 25}"
      ]
     },
     "execution_count": 29,
     "metadata": {},
     "output_type": "execute_result"
    }
   ],
   "source": [
    "data['meta']"
   ]
  },
  {
   "cell_type": "code",
   "execution_count": 30,
   "metadata": {},
   "outputs": [
    {
     "name": "stdout",
     "output_type": "stream",
     "text": [
      "Albert Einstein als Philosoph und Naturforscher\n",
      "149.64871\n",
      "book\n",
      "---\n",
      "Albert Einstein als Philosoph und Naturforscher : eine Auswahl\n",
      "32.187626\n",
      "None\n",
      "---\n",
      "Die Korrespondenz Einstein-Schlick: Zum Verhältnis der Physik zur Philosophie\n",
      "9.877976\n",
      "journal-article\n",
      "---\n",
      "Wissenschaftsphilosophie als kulturelle Aufgabe. Überlegungen zu Philipp Frank und Ernst Cassirer1\n",
      "2.9962566\n",
      "book-chapter\n",
      "---\n",
      "Albert Einstein als Philosoph und Naturforscher\n",
      "0.0\n",
      "journal-article\n",
      "---\n",
      "Schill, P. A. : Albert Einstein als Philosoph und Naturforscher\n",
      "0.0\n",
      "journal-article\n",
      "---\n",
      "Landolt‐Börnstein: Molekelkonstanten, Elektronenresonanz‐Spektroskopie, Ergänzung der Bände II/4 und II/6/Pais: „Subtle is the Lord …”︁ The Science and Life of Albert Einstein/Schilpp: Albert Einstein als Philosoph und Naturforscher/Svelto: Principles of Lasers/Sexl, Blackmore: Ludwig Boltzmann Gesamtausgabe: Band 8: Ausgewählte Abhandlungen der internationalen Tagung, Wien 1981\n",
      "0.0\n",
      "journal-article\n",
      "---\n",
      "P. A. Schilpp (Ed.): Albert Einstein als Philosoph und Naturforscher. Eine Auswahl. Friedr. Vieweg & Sohn, Braunschweig/Wiesbaden 1983. 250 Seiten, Preis: DM 34,—\n",
      "0.0\n",
      "journal-article\n",
      "---\n",
      "P. A. SCHILPP (Hrsg.) : ALBERT EINSTEIN als Philosoph und Naturforscher (Eine Auswahl). Facetten der Physik Bd. 8. herausgegeben von R. U. SEXL, Friedrich Vieweg & Sohn, Braunschweig/Wiesbaden 1983. VI + 247 Seitcn, Kart. 32.‐ DM. ISBN 3‐528‐08538‐X\n",
      "0.0\n",
      "journal-article\n",
      "---\n",
      "Ernst Mach — Wegbereiter der modernen Physik: Zum 75. Todestag des Physikers, Physiologen und Philosophen\n",
      "0.0\n",
      "journal-article\n",
      "---\n",
      "[Rezension von:] Hans Driesch, Der Begriff der organischen Form\n",
      "0.0\n",
      "book-chapter\n",
      "---\n",
      "Das aufgeteilte Erbe Moritz Schlicks: Zu den Transformationen der wissenschaftlichen Philosophie in den Werken von Karl R. Popper und Thomas S. Kuhn\n",
      "0.0\n",
      "book-chapter\n",
      "---\n",
      "Licht, Elektrizität und Magnetismus\n",
      "0.0\n",
      "book-chapter\n",
      "---\n",
      "Einsteins Philosoph: Moritz Schlick und die Relativitätstheorie\n",
      "0.0\n",
      "None\n",
      "---\n"
     ]
    }
   ],
   "source": [
    "for i in data['results']:\n",
    "    print(i['title'])\n",
    "    print(i['relevance_score'])\n",
    "    print(i['type'])\n",
    "    print('---')"
   ]
  },
  {
   "cell_type": "markdown",
   "metadata": {},
   "source": [
    "### Access multiple Work entities"
   ]
  },
  {
   "cell_type": "markdown",
   "metadata": {},
   "source": [
    "After retrieving one specific publication record successfully, it's time to look for a bunch of publications. First of all, it is easy to **access all available works** with the OpenAlex API - just use the *Works* endpoint without any further parameters. But presumably you will need this amount of data only in exceptional cases.\n",
    "\n",
    "But you can easily **add** to the *Work* endpoint **several filters** to narrow down your search. You find the **available filters** for *Work* entities [here](https://docs.openalex.org/api/get-lists-of-entities/filter-entity-lists#works-filters). As you may notice these are mainly the attributes and sub-attributes of the *Work* entities seen above."
   ]
  },
  {
   "cell_type": "markdown",
   "metadata": {},
   "source": [
    "#### Filter works by publication type"
   ]
  },
  {
   "cell_type": "markdown",
   "metadata": {},
   "source": [
    "Let's start with filtering all available publications due to a **certain publication type**, like for instance book parts or reports. Note that OpenAlex uses the same publication types like [Crossref](https://api.crossref.org/types). Feel free to try them out in the  code cell below."
   ]
  },
  {
   "cell_type": "code",
   "execution_count": 31,
   "metadata": {},
   "outputs": [],
   "source": [
    "# Accessing all publication of a certain publication type\n",
    "#url = 'https://api.openalex.org/works'   # all available publications\n",
    "\n",
    "url = 'https://api.openalex.org/works?filter=type:dissertation'\n",
    "params = {'mailto': email}\n",
    "\n",
    "r = requests.get(url, params=params) \n",
    "data = r.json()"
   ]
  },
  {
   "cell_type": "code",
   "execution_count": 32,
   "metadata": {},
   "outputs": [
    {
     "name": "stdout",
     "output_type": "stream",
     "text": [
      "['meta', 'results', 'group_by']\n"
     ]
    },
    {
     "data": {
      "text/plain": [
       "{'count': 6253189, 'db_response_time_ms': 32, 'page': 1, 'per_page': 25}"
      ]
     },
     "execution_count": 32,
     "metadata": {},
     "output_type": "execute_result"
    }
   ],
   "source": [
    "print(list(data))\n",
    "data['meta']"
   ]
  },
  {
   "cell_type": "markdown",
   "metadata": {},
   "source": [
    "In the `results` section you will find the matching records.\n",
    "\n",
    "The `count` attribute in the `meta`section says how many results are there at all. The `per_page` attribute tells you how many records are delivered at once as default."
   ]
  },
  {
   "cell_type": "code",
   "execution_count": 33,
   "metadata": {},
   "outputs": [
    {
     "data": {
      "text/plain": [
       "{'id': 'https://openalex.org/W3093430496',\n",
       " 'doi': 'https://doi.org/10.33540/13',\n",
       " 'title': 'Change in the Law of the Sea. Context, Mechanisms and Practice',\n",
       " 'display_name': 'Change in the Law of the Sea. Context, Mechanisms and Practice',\n",
       " 'publication_year': 2022,\n",
       " 'publication_date': '2022-04-21',\n",
       " 'ids': {'openalex': 'https://openalex.org/W3093430496',\n",
       "  'doi': 'https://doi.org/10.33540/13',\n",
       "  'mag': '3093430496'},\n",
       " 'host_venue': {'id': None,\n",
       "  'issn_l': None,\n",
       "  'issn': None,\n",
       "  'display_name': None,\n",
       "  'publisher': 'Utrecht University',\n",
       "  'type': 'publisher',\n",
       "  'url': 'https://doi.org/10.33540/13',\n",
       "  'is_oa': False,\n",
       "  'version': None,\n",
       "  'license': None},\n",
       " 'type': 'dissertation',\n",
       " 'open_access': {'is_oa': False, 'oa_status': 'closed', 'oa_url': None},\n",
       " 'authorships': [{'author_position': 'first',\n",
       "   'author': {'id': 'https://openalex.org/A3093418650',\n",
       "    'display_name': 'Roland Holst',\n",
       "    'orcid': None},\n",
       "   'institutions': [],\n",
       "   'raw_affiliation_string': None},\n",
       "  {'author_position': 'last',\n",
       "   'author': {'id': 'https://openalex.org/A3093229956',\n",
       "    'display_name': 'Rozemarijn Jorinde',\n",
       "    'orcid': None},\n",
       "   'institutions': [],\n",
       "   'raw_affiliation_string': None}],\n",
       " 'cited_by_count': 0,\n",
       " 'biblio': {'volume': None,\n",
       "  'issue': None,\n",
       "  'first_page': '1',\n",
       "  'last_page': '349'},\n",
       " 'is_retracted': False,\n",
       " 'is_paratext': False,\n",
       " 'concepts': [{'id': 'https://openalex.org/C2779343474',\n",
       "   'wikidata': 'https://www.wikidata.org/wiki/Q3109175',\n",
       "   'display_name': 'Context (archaeology)',\n",
       "   'level': 2,\n",
       "   'score': '0.675732'},\n",
       "  {'id': 'https://openalex.org/C17744445',\n",
       "   'wikidata': 'https://www.wikidata.org/wiki/Q36442',\n",
       "   'display_name': 'Political science',\n",
       "   'level': 0,\n",
       "   'score': '0.52362'},\n",
       "  {'id': 'https://openalex.org/C199539241',\n",
       "   'wikidata': 'https://www.wikidata.org/wiki/Q7748',\n",
       "   'display_name': 'Law',\n",
       "   'level': 1,\n",
       "   'score': '0.429735'},\n",
       "  {'id': 'https://openalex.org/C552677042',\n",
       "   'wikidata': 'https://www.wikidata.org/wiki/Q1088099',\n",
       "   'display_name': 'Law of the sea',\n",
       "   'level': 4,\n",
       "   'score': '0.409921'},\n",
       "  {'id': 'https://openalex.org/C95124753',\n",
       "   'wikidata': 'https://www.wikidata.org/wiki/Q875686',\n",
       "   'display_name': 'Environmental ethics',\n",
       "   'level': 1,\n",
       "   'score': '0.385448'},\n",
       "  {'id': 'https://openalex.org/C55447825',\n",
       "   'wikidata': 'https://www.wikidata.org/wiki/Q4394526',\n",
       "   'display_name': 'International law',\n",
       "   'level': 2,\n",
       "   'score': '0.382769'},\n",
       "  {'id': 'https://openalex.org/C144024400',\n",
       "   'wikidata': 'https://www.wikidata.org/wiki/Q21201',\n",
       "   'display_name': 'Sociology',\n",
       "   'level': 0,\n",
       "   'score': '0.354994'},\n",
       "  {'id': 'https://openalex.org/C190253527',\n",
       "   'wikidata': 'https://www.wikidata.org/wiki/Q295354',\n",
       "   'display_name': 'Law and economics',\n",
       "   'level': 1,\n",
       "   'score': '0.325575'},\n",
       "  {'id': 'https://openalex.org/C111472728',\n",
       "   'wikidata': 'https://www.wikidata.org/wiki/Q9471',\n",
       "   'display_name': 'Epistemology',\n",
       "   'level': 1,\n",
       "   'score': '0.32523'}],\n",
       " 'mesh': [],\n",
       " 'alternate_host_venues': [],\n",
       " 'referenced_works': [],\n",
       " 'related_works': ['https://openalex.org/W3123081820',\n",
       "  'https://openalex.org/W3162398730',\n",
       "  'https://openalex.org/W644029950',\n",
       "  'https://openalex.org/W2908537715',\n",
       "  'https://openalex.org/W2908943521',\n",
       "  'https://openalex.org/W1494345512',\n",
       "  'https://openalex.org/W3123057477',\n",
       "  'https://openalex.org/W827144029',\n",
       "  'https://openalex.org/W1585413224',\n",
       "  'https://openalex.org/W893023633',\n",
       "  'https://openalex.org/W2581588773',\n",
       "  'https://openalex.org/W3124125822',\n",
       "  'https://openalex.org/W2775516595',\n",
       "  'https://openalex.org/W3163836671',\n",
       "  'https://openalex.org/W1890923948',\n",
       "  'https://openalex.org/W2110329457',\n",
       "  'https://openalex.org/W3174253029',\n",
       "  'https://openalex.org/W1837773143',\n",
       "  'https://openalex.org/W2989911733',\n",
       "  'https://openalex.org/W2061870816'],\n",
       " 'abstract_inverted_index': {'The': [0, 82, 213],\n",
       "  'adoption': [1],\n",
       "  'of': [2, 9, 21, 24, 57, 75, 90, 100, 110, 126, 150, 157, 167, 225],\n",
       "  'the': [3,\n",
       "   7,\n",
       "   10,\n",
       "   19,\n",
       "   22,\n",
       "   25,\n",
       "   34,\n",
       "   37,\n",
       "   39,\n",
       "   55,\n",
       "   73,\n",
       "   76,\n",
       "   80,\n",
       "   98,\n",
       "   107,\n",
       "   124,\n",
       "   127,\n",
       "   145,\n",
       "   148,\n",
       "   155,\n",
       "   164,\n",
       "   185,\n",
       "   223,\n",
       "   226,\n",
       "   233,\n",
       "   241,\n",
       "   247],\n",
       "  'UN': [4],\n",
       "  'Convention': [5, 40],\n",
       "  'on': [6, 72, 144, 229],\n",
       "  'Law': [8],\n",
       "  'Sea': [11],\n",
       "  '(UNCLOS)': [12],\n",
       "  'in': [13, 18, 28, 31, 66, 79, 197, 216, 222, 256],\n",
       "  '1982': [14],\n",
       "  'was': [15],\n",
       "  'a': [16, 45, 151],\n",
       "  'milestone': [17],\n",
       "  'development': [20],\n",
       "  'law': [23, 125, 199, 224],\n",
       "  'sea,': [26],\n",
       "  'and': [27, 68, 94, 103, 113, 119, 129, 135, 162, 251],\n",
       "  'international': [29, 198, 248],\n",
       "  'law-making': [30],\n",
       "  'general.': [32],\n",
       "  'As': [33],\n",
       "  '‘constitution': [35],\n",
       "  'for': [36, 123, 138, 206, 238, 243],\n",
       "  'oceans’,': [38],\n",
       "  'has': [41],\n",
       "  'been': [42],\n",
       "  'praised': [43],\n",
       "  'as': [44, 48, 50],\n",
       "  'monumental': [46],\n",
       "  'achievement,': [47],\n",
       "  'much': [49],\n",
       "  'it': [51],\n",
       "  'continues': [52],\n",
       "  'to': [53, 106, 132, 180, 204, 219],\n",
       "  'be': [54],\n",
       "  'subject': [56],\n",
       "  'contemporary': [58, 211],\n",
       "  'debates.': [59],\n",
       "  'Many': [60],\n",
       "  'present-day': [61],\n",
       "  'exigencies': [62],\n",
       "  'are': [63, 84],\n",
       "  'dramatically': [64],\n",
       "  'different': [65],\n",
       "  'nature': [67, 93],\n",
       "  'scope': [69],\n",
       "  'than': [70],\n",
       "  'those': [71],\n",
       "  'table': [74],\n",
       "  'drafters': [77],\n",
       "  'back': [78],\n",
       "  'seventies.': [81],\n",
       "  'oceans': [83],\n",
       "  'under': [85],\n",
       "  'stress': [86],\n",
       "  'from': [87, 97, 209, 235],\n",
       "  'cumulative': [88],\n",
       "  'pressures': [89],\n",
       "  'an': [91, 158, 168],\n",
       "  'unprecedented': [92],\n",
       "  'scale:': [95],\n",
       "  'ranging': [96],\n",
       "  'impacts': [99],\n",
       "  'climate': [101],\n",
       "  'change': [102, 207, 239, 244, 255],\n",
       "  'ocean': [104, 130],\n",
       "  'acidification,': [105],\n",
       "  'widespread': [108],\n",
       "  'loss': [109],\n",
       "  'biodiversity,': [111],\n",
       "  'pollution': [112],\n",
       "  'ecosystem': [114],\n",
       "  'degradation.': [115],\n",
       "  'These': [116],\n",
       "  'changing': [117],\n",
       "  'circumstances': [118],\n",
       "  'interests': [120],\n",
       "  'pose': [121],\n",
       "  'challenges': [122],\n",
       "  'sea': [128, 227],\n",
       "  'governance': [131],\n",
       "  'respond,': [133],\n",
       "  'adapt,': [134],\n",
       "  'mediate': [136, 254],\n",
       "  'demand': [137, 205, 237],\n",
       "  'normative': [139],\n",
       "  'change.': [140, 181],\n",
       "  'This': [141],\n",
       "  'thesis': [142],\n",
       "  'builds': [143, 228],\n",
       "  'premise': [146],\n",
       "  'that': [147, 163, 190],\n",
       "  'conclusion': [149],\n",
       "  'treaty': [152],\n",
       "  'is': [153],\n",
       "  'only': [154],\n",
       "  'beginning': [156],\n",
       "  'ongoing': [159],\n",
       "  '‘law-building': [160],\n",
       "  'process’,': [161],\n",
       "  'formal': [165],\n",
       "  'shape': [166],\n",
       "  'instrument': [169],\n",
       "  'does': [170],\n",
       "  'not': [171],\n",
       "  'guarantee': [172],\n",
       "  'either': [173],\n",
       "  'its': [174, 178, 210],\n",
       "  'continued': [175],\n",
       "  '‘stability’': [176],\n",
       "  'or': [177],\n",
       "  'susceptibility': [179],\n",
       "  'It': [182],\n",
       "  'centres': [183],\n",
       "  'around': [184],\n",
       "  'research': [186],\n",
       "  'question': [187],\n",
       "  'how': [188, 252],\n",
       "  '-': [189, 200],\n",
       "  'is,': [191],\n",
       "  'through': [192],\n",
       "  'which': [193, 236],\n",
       "  'mechanisms': [194, 242],\n",
       "  'already': [195],\n",
       "  'present': [196],\n",
       "  'UNCLOS': [201],\n",
       "  'can': [202],\n",
       "  'respond': [203],\n",
       "  'arising': [208],\n",
       "  'context.': [212],\n",
       "  'approach': [214],\n",
       "  'adopted': [215],\n",
       "  'this': [217],\n",
       "  'study': [218],\n",
       "  'analyse': [220],\n",
       "  '‘change’': [221],\n",
       "  'three': [230],\n",
       "  'inseparable': [231],\n",
       "  'pillars:': [232],\n",
       "  'context': [234],\n",
       "  'emerges,': [240],\n",
       "  'available': [245],\n",
       "  'within': [246],\n",
       "  'legal': [249],\n",
       "  'system,': [250],\n",
       "  'these': [253],\n",
       "  'practice.': [257]},\n",
       " 'cited_by_api_url': 'https://api.openalex.org/works?filter=cites:W3093430496',\n",
       " 'counts_by_year': [],\n",
       " 'updated_date': '2021-11-03',\n",
       " 'created_date': '2020-10-22'}"
      ]
     },
     "execution_count": 33,
     "metadata": {},
     "output_type": "execute_result"
    }
   ],
   "source": [
    "# Pick one example from the results list\n",
    "data['results'][17]"
   ]
  },
  {
   "cell_type": "markdown",
   "metadata": {},
   "source": [
    "#### Filter works by \"venue\":  journal, repository etc"
   ]
  },
  {
   "cell_type": "markdown",
   "metadata": {},
   "source": [
    "Next we try to retrieve all publications of a certain \"venue\". ***Venue* entities** in OpenAlex are the **media, infrastructures or organizations, which host publications**. For journals articles this will be their journals, for book parts their volume. Venues can also be monograph series like `V4210167446`, repositories like `V2734324842`.\n",
    "\n",
    "Venue information is given in the *Works* attribute `host_venue`. To get an impression of venues you may use the random generation `https://api.openalex.org/venues/random`.\n",
    "\n",
    "To identify the desired venue you can use its OpenAlex ID (starting with a \"V\"), for instance `V4210209919`. This identifier is also a sub-attribute of `host_venue`, and can be addressed with `host_venue.id` in the *Works* endpoint filter. You may also use the popular [ISSN](https://en.wikipedia.org/wiki/International_Standard_Serial_Number) identifier in the same way."
   ]
  },
  {
   "cell_type": "code",
   "execution_count": 34,
   "metadata": {},
   "outputs": [
    {
     "data": {
      "text/plain": [
       "{'count': 65, 'db_response_time_ms': 28, 'page': 1, 'per_page': 25}"
      ]
     },
     "execution_count": 34,
     "metadata": {},
     "output_type": "execute_result"
    }
   ],
   "source": [
    "# Accessing works of a certain host venue, using OpenAlex ID\n",
    "url = 'https://api.openalex.org/works?filter=host_venue.id:V4210209919'\n",
    "\n",
    "# Using ISSN identifier\n",
    "#url = 'https://api.openalex.org/works?filter=host_venue.issn:2391-7652'\n",
    "\n",
    "params = {'mailto': email}\n",
    "\n",
    "r = requests.get(url, params=params) \n",
    "data = r.json()\n",
    "data['meta']"
   ]
  },
  {
   "cell_type": "code",
   "execution_count": 35,
   "metadata": {},
   "outputs": [
    {
     "data": {
      "text/plain": [
       "['Cover and Table of Contents',\n",
       " 'Retro-Modern India',\n",
       " 'Spotted Goddesses: Dalit Women’s Agency-narratives on Caste and Gender Violence',\n",
       " 'Ari Varutada',\n",
       " 'A Critique of Sanskritization from Dalit/Caste-Subaltern Perspective',\n",
       " 'Caste, Gender and Fire in Maadathy: an Unconventional Fairy Tale',\n",
       " 'Ethnic Identity, Discrimination and the Shaping of Remittance Culture in Ghana',\n",
       " 'A Commentary on Ambedkar\\'s Posthumously Published \"Philosophy of Hinduism\"- Part III',\n",
       " 'Norm Entrepreneurship at the UN - Dalits and Communities Discriminated on Work and Descent',\n",
       " 'Dalit-Bahujan Feminism: A Newly Emerging Discourse',\n",
       " 'Reflection',\n",
       " 'Reading Dalit Autobiographies in English: A Top Ten List',\n",
       " 'Tending Immanence, Transcending Sectarianism: Plane of Mixed Castes and Religions',\n",
       " 'On the margins of Healthcare: Role of Social Capital in Health of Migrants in India',\n",
       " 'Exclusion of Tribal Women from Property Inheritance Rights: A Study of Tripuri Women of India',\n",
       " 'Margin and Transcendence',\n",
       " \"Ambedkar and the Buddha's Sangha: A Ground for Buddhist Ethics\",\n",
       " 'Cover and Table of Contents',\n",
       " \"'Ambedkar's Constitution': A Radical Phenomenon in Anti-Caste Discourse?\",\n",
       " 'Caste, The Origins of Our Discontents: A Historical Reflection On Two Cultures',\n",
       " 'Caste and Counselling Psychology in India: Dalit Perspectives in Theory and Practice',\n",
       " 'Hate Speech against Dalits on Social Media: Would a Penny Sparrow be Prosecuted in India for Online Hate Speech?',\n",
       " 'Fracturing the Historical Continuity on Truth: Jotiba Phule in the Quest for Personhood of Shudras',\n",
       " 'Indian Media and Caste: Of Politics, Portrayals and Beyond',\n",
       " '“I Can’t Breathe”: Perspectives on Emancipation from Caste']"
      ]
     },
     "execution_count": 35,
     "metadata": {},
     "output_type": "execute_result"
    }
   ],
   "source": [
    "# Article titles of the result set\n",
    "[i['title'] for i in data['results']]"
   ]
  },
  {
   "cell_type": "markdown",
   "metadata": {},
   "source": [
    "We might adapt now the request by defining a **bigger default result set** to get all hits at once.\n",
    "\n",
    "Instead to add the parameter to the URL directly, you may also use the `params` dictionary for more clarity."
   ]
  },
  {
   "cell_type": "code",
   "execution_count": 36,
   "metadata": {},
   "outputs": [],
   "source": [
    "url = 'https://api.openalex.org/works?'\n",
    "\n",
    "params = {'mailto': email,\n",
    "          'filter': 'host_venue.id:V4210209919',\n",
    "          'per_page': 100}\n",
    "\n",
    "r = requests.get(url, params=params) \n",
    "data = r.json()"
   ]
  },
  {
   "cell_type": "code",
   "execution_count": 37,
   "metadata": {},
   "outputs": [
    {
     "data": {
      "text/plain": [
       "{'count': 65, 'db_response_time_ms': 21, 'page': 1, 'per_page': 100}"
      ]
     },
     "execution_count": 37,
     "metadata": {},
     "output_type": "execute_result"
    }
   ],
   "source": [
    "data['meta']"
   ]
  },
  {
   "cell_type": "code",
   "execution_count": 38,
   "metadata": {},
   "outputs": [
    {
     "data": {
      "text/plain": [
       "{'id': 'https://openalex.org/W3007938811',\n",
       " 'doi': 'https://doi.org/10.26812/caste.v1i1.139',\n",
       " 'title': 'Caste, Religion and Ethnicity',\n",
       " 'display_name': 'Caste, Religion and Ethnicity',\n",
       " 'publication_year': 2020,\n",
       " 'publication_date': '2020-02-14',\n",
       " 'ids': {'openalex': 'https://openalex.org/W3007938811',\n",
       "  'doi': 'https://doi.org/10.26812/caste.v1i1.139',\n",
       "  'mag': '3007938811'},\n",
       " 'host_venue': {'id': 'https://openalex.org/V4210209919',\n",
       "  'issn_l': '2639-4928',\n",
       "  'issn': ['2639-4928'],\n",
       "  'display_name': 'Caste',\n",
       "  'publisher': 'Brandeis University',\n",
       "  'type': 'publisher',\n",
       "  'url': 'https://doi.org/10.26812/caste.v1i1.139',\n",
       "  'is_oa': True,\n",
       "  'version': 'publishedVersion',\n",
       "  'license': 'cc-by'},\n",
       " 'type': 'journal-article',\n",
       " 'open_access': {'is_oa': True,\n",
       "  'oa_status': 'gold',\n",
       "  'oa_url': 'https://journals.library.brandeis.edu/index.php/caste/article/download/139/8'},\n",
       " 'authorships': [{'author_position': 'first',\n",
       "   'author': {'id': 'https://openalex.org/A3007975902',\n",
       "    'display_name': 'Vinod Kumar Mishra',\n",
       "    'orcid': None},\n",
       "   'institutions': [],\n",
       "   'raw_affiliation_string': None}],\n",
       " 'cited_by_count': 0,\n",
       " 'biblio': {'volume': '1',\n",
       "  'issue': '1',\n",
       "  'first_page': '71',\n",
       "  'last_page': '94'},\n",
       " 'is_retracted': False,\n",
       " 'is_paratext': False,\n",
       " 'concepts': [{'id': 'https://openalex.org/C2779509574',\n",
       "   'wikidata': 'https://www.wikidata.org/wiki/Q484416',\n",
       "   'display_name': 'Caste',\n",
       "   'level': 2,\n",
       "   'score': '0.828058'},\n",
       "  {'id': 'https://openalex.org/C137403100',\n",
       "   'wikidata': 'https://www.wikidata.org/wiki/Q41710',\n",
       "   'display_name': 'Ethnic group',\n",
       "   'level': 2,\n",
       "   'score': '0.660942'},\n",
       "  {'id': 'https://openalex.org/C144024400',\n",
       "   'wikidata': 'https://www.wikidata.org/wiki/Q21201',\n",
       "   'display_name': 'Sociology',\n",
       "   'level': 0,\n",
       "   'score': '0.508874'},\n",
       "  {'id': 'https://openalex.org/C107993555',\n",
       "   'wikidata': 'https://www.wikidata.org/wiki/Q1662673',\n",
       "   'display_name': 'Gender studies',\n",
       "   'level': 1,\n",
       "   'score': '0.473152'},\n",
       "  {'id': 'https://openalex.org/C19165224',\n",
       "   'wikidata': 'https://www.wikidata.org/wiki/Q23404',\n",
       "   'display_name': 'Anthropology',\n",
       "   'level': 1,\n",
       "   'score': '0.321693'}],\n",
       " 'mesh': [],\n",
       " 'alternate_host_venues': [{'id': 'https://openalex.org/V4210209919',\n",
       "   'display_name': 'Caste',\n",
       "   'type': 'journal',\n",
       "   'url': 'https://journals.library.brandeis.edu/index.php/caste/article/download/139/8',\n",
       "   'is_oa': True,\n",
       "   'version': 'publishedVersion',\n",
       "   'license': 'cc-by'}],\n",
       " 'referenced_works': [],\n",
       " 'related_works': ['https://openalex.org/W2593584860',\n",
       "  'https://openalex.org/W3131637113',\n",
       "  'https://openalex.org/W2484758895',\n",
       "  'https://openalex.org/W2601409698',\n",
       "  'https://openalex.org/W597276751',\n",
       "  'https://openalex.org/W3200520091',\n",
       "  'https://openalex.org/W2323288765',\n",
       "  'https://openalex.org/W2340697530',\n",
       "  'https://openalex.org/W2409400310',\n",
       "  'https://openalex.org/W2494019639',\n",
       "  'https://openalex.org/W2501641068',\n",
       "  'https://openalex.org/W580637956',\n",
       "  'https://openalex.org/W1565147215',\n",
       "  'https://openalex.org/W2795777844',\n",
       "  'https://openalex.org/W2487079435',\n",
       "  'https://openalex.org/W2482600586',\n",
       "  'https://openalex.org/W2910378081',\n",
       "  'https://openalex.org/W624375911',\n",
       "  'https://openalex.org/W273297432',\n",
       "  'https://openalex.org/W3004481380'],\n",
       " 'abstract_inverted_index': None,\n",
       " 'cited_by_api_url': 'https://api.openalex.org/works?filter=cites:W3007938811',\n",
       " 'counts_by_year': [],\n",
       " 'updated_date': '2022-02-03',\n",
       " 'created_date': '2020-03-06'}"
      ]
     },
     "execution_count": 38,
     "metadata": {},
     "output_type": "execute_result"
    }
   ],
   "source": [
    "# Pick one example of the result set\n",
    "data['results'][55]"
   ]
  },
  {
   "cell_type": "code",
   "execution_count": 39,
   "metadata": {},
   "outputs": [
    {
     "data": {
      "text/plain": [
       "['Why a Journal on Caste',\n",
       " 'Nationalism, Caste-blindness and the Continuing Problems of War-Displaced Panchamars in Post-war Jaffna Society',\n",
       " 'Dalit or Brahmanical Patriarchy? Rethinking Indian Feminism',\n",
       " 'As a Dalit Women',\n",
       " 'Gendering Caste: Through a Feminist Lens']"
      ]
     },
     "execution_count": 39,
     "metadata": {},
     "output_type": "execute_result"
    }
   ],
   "source": [
    "# Access the last 5 publications by title\n",
    "[i['title'] for i in data['results'][60:]]"
   ]
  },
  {
   "cell_type": "code",
   "execution_count": 40,
   "metadata": {},
   "outputs": [
    {
     "data": {
      "text/plain": [
       "[['Caste', 'Sociology'],\n",
       " ['Psychology', 'Sociology', 'Reading (process)'],\n",
       " ['Sociology', 'Media studies', 'Caste', 'Social science'],\n",
       " ['Caste', 'Higher education', 'Sociology', 'Political science'],\n",
       " ['Witch', 'Criminology', 'Political science', 'History']]"
      ]
     },
     "execution_count": 40,
     "metadata": {},
     "output_type": "execute_result"
    }
   ],
   "source": [
    "# Access the subjects of a sample from the middle of the publication set\n",
    "[[j['display_name'] for j in i['concepts']] for i in data['results'][35:40]]"
   ]
  },
  {
   "cell_type": "markdown",
   "metadata": {},
   "source": [
    "#### Filter works by author & handle big result sets"
   ]
  },
  {
   "cell_type": "markdown",
   "metadata": {},
   "source": [
    "Similarly to the venue filtering, you may show all publication by a certain author, using its OpenAlex ID (starting with a \"A\"), for instance `A2420227930`. This identifier can be addressed with `authorships.author.id` or shorter, `author.id` in the *Works* endpoint filter.\n",
    "\n",
    "Furthermore, you may access a certain sub result set (\"result page\") via the `page` parameter, like in the example below."
   ]
  },
  {
   "cell_type": "code",
   "execution_count": 41,
   "metadata": {},
   "outputs": [
    {
     "data": {
      "text/plain": [
       "{'count': 563, 'db_response_time_ms': 26, 'page': 6, 'per_page': 25}"
      ]
     },
     "execution_count": 41,
     "metadata": {},
     "output_type": "execute_result"
    }
   ],
   "source": [
    "url = 'https://api.openalex.org/works?filter=author.id:A2420227930&page=6'\n",
    "params = {'mailto': email}\n",
    "\n",
    "r = requests.get(url, params=params) \n",
    "data = r.json()\n",
    "data['meta']"
   ]
  },
  {
   "cell_type": "markdown",
   "metadata": {},
   "source": [
    "Since the `per-page` parameter only can be set up to 200, several requests are necessary to access the whole result set.\n",
    "\n",
    "This can be easily done by writing a small loop."
   ]
  },
  {
   "cell_type": "code",
   "execution_count": 42,
   "metadata": {},
   "outputs": [
    {
     "data": {
      "text/plain": [
       "563"
      ]
     },
     "execution_count": 42,
     "metadata": {},
     "output_type": "execute_result"
    }
   ],
   "source": [
    "results = []\n",
    "for page in range(1,7):\n",
    "    url = 'https://api.openalex.org/works?'\n",
    "    params = {'mailto': email,\n",
    "              'filter': 'author.id:A2420227930',\n",
    "              'per-page': 100,\n",
    "              'page': page}\n",
    "    r = requests.get(url, params=params)\n",
    "    data = r.json()\n",
    "    for record in data['results']:\n",
    "        results.append(record)\n",
    "len(results)"
   ]
  },
  {
   "cell_type": "code",
   "execution_count": 43,
   "metadata": {},
   "outputs": [
    {
     "data": {
      "text/plain": [
       "['First Measurements of Inclusive Muon Neutrino Charged Current Differential Cross Sections on Argon',\n",
       " 'Measurement of Production Properties of Positively Charged Kaons in Proton-Carbon Interactions at 31 GeV/c',\n",
       " 'Search for nu(mu) -> nu(tau) oscillation with the OPERA experiment in the CNGS beam',\n",
       " '163 AN INNOVATIVE BEAM MONITOR DETECTOR FOR THE NEW BERN CYCLOTRON LABORATORY',\n",
       " '237 RESEARCH AND DEVELOPMENT ACTIVITIES ON NUCLEAR EMULSION DETECTORS FOR MEDICAL APPLICATIONS',\n",
       " 'First muon-neutrino disappearance study with an off-axis beam',\n",
       " 'Argontube: an R&D Liquid Argon Time projection Chamber',\n",
       " 'A beam monitor detector based on doped silica and optical fibres',\n",
       " 'A dedicated device for measuring the magnetic field of the ND280 magnet in the T2K experiment',\n",
       " 'A Global R&D Program on Liquid Ar Time Projection Chambers Under Execution at the University of Bern']"
      ]
     },
     "execution_count": 43,
     "metadata": {},
     "output_type": "execute_result"
    }
   ],
   "source": [
    "[i['title'] for i in results[390:400]]"
   ]
  },
  {
   "cell_type": "markdown",
   "metadata": {},
   "source": [
    "#### Group works due to a certain feature"
   ]
  },
  {
   "cell_type": "markdown",
   "metadata": {},
   "source": [
    "Grouping is another way to adjust your data search. Here, you **split the result set** into groups **according to a certain data attribute**. Note that doing so, you are not targeting the records themselves, but deriving statements from the data. Because of this you will not use `filter` as parameter but `group_by` in your request. Accordingly, you will find the `results` section empty, but your demanded data in the `group_by`section.\n",
    "\n",
    "You find **all attributes you can use** for building groups for the 5 endpoints [here](https://docs.openalex.org/api/get-groups-of-entities#groupable-attributes).\n",
    "\n",
    "For example you might look for the hosting venues of all publications, grouping them around this feature, and get the size of these groups. Note that the maximum of groups is 200 - if there are more variants you will get the 200 biggest of them."
   ]
  },
  {
   "cell_type": "code",
   "execution_count": 44,
   "metadata": {},
   "outputs": [],
   "source": [
    "url = 'https://api.openalex.org/works'\n",
    "params = {'mailto': email,\n",
    "         'group_by': 'host_venue.id'}\n",
    "\n",
    "r = requests.get(url, params=params) \n",
    "data = r.json()"
   ]
  },
  {
   "cell_type": "code",
   "execution_count": 45,
   "metadata": {},
   "outputs": [
    {
     "data": {
      "text/plain": [
       "['meta', 'results', 'group_by']"
      ]
     },
     "execution_count": 45,
     "metadata": {},
     "output_type": "execute_result"
    }
   ],
   "source": [
    "list(data)"
   ]
  },
  {
   "cell_type": "code",
   "execution_count": 46,
   "metadata": {},
   "outputs": [
    {
     "data": {
      "text/plain": [
       "{'count': 200, 'db_response_time_ms': 1308, 'page': 1, 'per_page': 200}"
      ]
     },
     "execution_count": 46,
     "metadata": {},
     "output_type": "execute_result"
    }
   ],
   "source": [
    "data['meta']"
   ]
  },
  {
   "cell_type": "code",
   "execution_count": 47,
   "metadata": {},
   "outputs": [
    {
     "data": {
      "text/plain": [
       "[{'key': 'unknown', 'key_display_name': 'unknown', 'count': 100480229},\n",
       " {'key': 'https://openalex.org/V2751751161',\n",
       "  'key_display_name': 'Social Science Research Network',\n",
       "  'count': 874765},\n",
       " {'key': 'https://openalex.org/V3121261024',\n",
       "  'key_display_name': 'Research Papers in Economics',\n",
       "  'count': 791008},\n",
       " {'key': 'https://openalex.org/V41354064',\n",
       "  'key_display_name': 'ChemInform',\n",
       "  'count': 728208},\n",
       " {'key': 'https://openalex.org/V106296714',\n",
       "  'key_display_name': 'Lecture Notes in Computer Science',\n",
       "  'count': 491671}]"
      ]
     },
     "execution_count": 47,
     "metadata": {},
     "output_type": "execute_result"
    }
   ],
   "source": [
    "data['group_by'][:5]"
   ]
  },
  {
   "cell_type": "code",
   "execution_count": 48,
   "metadata": {},
   "outputs": [
    {
     "data": {
      "text/plain": [
       "[['unknown', 100480229],\n",
       " ['Social Science Research Network', 874765],\n",
       " ['Research Papers in Economics', 791008],\n",
       " ['ChemInform', 728208],\n",
       " ['Lecture Notes in Computer Science', 491671],\n",
       " ['BMJ', 301738],\n",
       " ['PLOS ONE', 283828],\n",
       " ['Nature', 272967],\n",
       " ['The Lancet', 253384],\n",
       " ['Bulletin of the American Physical Society', 235245],\n",
       " ['Science', 225327],\n",
       " ['Physical Review B', 205393],\n",
       " ['Journal of the American Chemical Society', 195250],\n",
       " ['Journal of Biological Chemistry', 193729],\n",
       " ['Journal of physics', 160705],\n",
       " ['JAMA', 158456],\n",
       " ['Scientific Reports', 155170],\n",
       " ['bioRxiv', 153959],\n",
       " ['Proceedings of the National Academy of Sciences of the United States of America',\n",
       "  149540],\n",
       " ['Journal of Applied Physics', 144895],\n",
       " ['Blood', 144625],\n",
       " ['Advanced Materials Research', 143682],\n",
       " ['Cancer Research', 142650],\n",
       " ['Journal of Chemical Physics', 140081],\n",
       " ['Physical Review Letters', 135064],\n",
       " ['Journal of the Acoustical Society of America', 133728],\n",
       " ['Investigative Ophthalmology & Visual Science', 133473],\n",
       " ['Applied Physics Letters', 129903],\n",
       " ['Notes and Queries', 126029],\n",
       " ['The Astrophysical Journal', 123768],\n",
       " ['Journal of Clinical Oncology', 122862],\n",
       " ['Angewandte Chemie', 122487],\n",
       " ['The FASEB Journal', 119496],\n",
       " ['Circulation', 118893],\n",
       " ['Journal of Geophysical Research', 115507],\n",
       " ['Proceedings of SPIE', 114125],\n",
       " ['Biochimica et Biophysica Acta', 113429],\n",
       " ['Gastroenterology', 112751],\n",
       " ['The Journal of Urology', 110051],\n",
       " ['Applied Mechanics and Materials', 108805],\n",
       " ['Physical Review D', 101992],\n",
       " ['Journal of the American College of Cardiology', 98460],\n",
       " ['The New England Journal of Medicine', 96273],\n",
       " ['Tetrahedron Letters', 94368],\n",
       " ['Biochemical and Biophysical Research Communications', 94304],\n",
       " ['Journal of Organic Chemistry', 91130],\n",
       " ['Japanese Circulation Journal-english Edition', 89315],\n",
       " ['Physical Review A', 89287],\n",
       " ['IOP conference series', 87878],\n",
       " ['arXiv: Astrophysics', 84875],\n",
       " ['IOP conference series', 83712],\n",
       " ['Journal of Immunology', 78493],\n",
       " ['Japanese Journal of Applied Physics', 77404],\n",
       " ['American Journal of Obstetrics and Gynecology', 76995],\n",
       " ['arXiv: High Energy Physics - Phenomenology', 76676],\n",
       " ['Analytical Chemistry', 76443],\n",
       " ['Medicine and Science in Sports and Exercise', 75119],\n",
       " ['Biochemistry', 73513],\n",
       " ['Monthly Notices of the Royal Astronomical Society', 73356],\n",
       " ['arXiv: High Energy Physics - Theory', 72138],\n",
       " ['Advances in intelligent systems and computing', 68443],\n",
       " ['MRS Proceedings', 67146],\n",
       " ['Fresenius Journal of Analytical Chemistry', 66712],\n",
       " ['Chest', 66649],\n",
       " ['Journal of Alloys and Compounds', 66586],\n",
       " ['The American Journal of Gastroenterology', 66365],\n",
       " ['Acta horticulturae', 66127],\n",
       " ['International Journal of Radiation Oncology Biology Physics', 66026],\n",
       " ['RSC Advances', 65807],\n",
       " ['Inorganic Chemistry', 65802],\n",
       " ['Astronomy and Astrophysics', 64504],\n",
       " ['Physical Review E', 64158],\n",
       " ['IFAC Proceedings Volumes', 63359],\n",
       " ['Biophysical Journal', 63316],\n",
       " ['Neurology', 62889],\n",
       " ['The Japan Society of Applied Physics', 60960],\n",
       " ['Deutsche Medizinische Wochenschrift', 59570],\n",
       " ['Annals of the New York Academy of Sciences', 59456],\n",
       " ['Chemical Communications', 58898],\n",
       " ['arXiv: Quantum Physics', 58612],\n",
       " ['Nuclear Physics', 58030],\n",
       " ['IEEE Access', 57143],\n",
       " ['Journal of Chromatography A', 57060],\n",
       " ['Materials Science Forum', 56624],\n",
       " ['Chemical & Engineering News', 55472],\n",
       " ['Value in Health', 55444],\n",
       " ['Nucleation and Atmospheric Aerosols', 55169],\n",
       " ['Applied Optics', 55147],\n",
       " ['Applied Surface Science', 53227],\n",
       " ['Chemical Physics Letters', 53178],\n",
       " ['Communications in computer and information science', 53075],\n",
       " ['Brain Research', 53000],\n",
       " ['Pediatrics', 52756],\n",
       " ['Plastic and Reconstructive Surgery', 52554],\n",
       " ['Journal of Applied Polymer Science', 51959],\n",
       " ['The Journal of Physical Chemistry', 50697],\n",
       " ['Physics Letters B', 50661],\n",
       " ['Optics Express', 50184],\n",
       " ['Nursing Standard', 49720],\n",
       " ['The American Historical Review', 49640],\n",
       " ['Biochemical Journal', 49499],\n",
       " ['International Journal of Molecular Sciences', 49246],\n",
       " ['AAPG Bulletin', 49000],\n",
       " ['Methods of Molecular Biology', 48841],\n",
       " ['Fertility and Sterility', 48717],\n",
       " ['Journal of Physical Chemistry C', 48416],\n",
       " ['Journal of Bacteriology', 48411],\n",
       " ['European Respiratory Journal', 47999],\n",
       " ['Lecture notes in electrical engineering', 47681],\n",
       " ['arXiv: Computer Vision and Pattern Recognition', 47650],\n",
       " ['Journal of Anhui Agricultural Sciences', 47380],\n",
       " ['NEJM Journal Watch', 47068],\n",
       " ['Physical Review', 46927],\n",
       " ['Langmuir', 46729],\n",
       " ['FEBS Letters', 45674],\n",
       " ['Sustainability', 45624],\n",
       " ['Tetrahedron', 45426],\n",
       " ['Environmental Science & Technology', 44988],\n",
       " ['Journal of The Electrochemical Society', 44982],\n",
       " ['Tidsskrift for Den Norske Laegeforening', 44657],\n",
       " ['Key Engineering Materials', 44230],\n",
       " ['Review of Scientific Instruments', 44149],\n",
       " ['Journal of the Royal Society of Medicine', 44104],\n",
       " ['The Medical Journal of Australia', 43330],\n",
       " ['Annals of the Rheumatic Diseases', 43296],\n",
       " ['Nucleic Acids Research', 43224],\n",
       " ['Nature Communications', 43037],\n",
       " ['Electronics Letters', 42648],\n",
       " ['Critical Care Medicine', 42418],\n",
       " ['arXiv: Learning', 42382],\n",
       " ['Journal of Virology', 42063],\n",
       " ['ACS Applied Materials & Interfaces', 41365],\n",
       " ['Canadian Medical Association Journal', 41036],\n",
       " ['Science of The Total Environment', 40800],\n",
       " ['Journal of Physical Chemistry B', 40513],\n",
       " ['Journal of Agricultural and Food Chemistry', 40371],\n",
       " ['International Journal of Environmental Research and Public Health', 40263],\n",
       " ['Anesthesiology', 40224],\n",
       " ['The Journal of Allergy and Clinical Immunology', 40164],\n",
       " ['Sensors', 39735],\n",
       " ['Experimental Biology and Medicine', 39573],\n",
       " ['Geophysical Research Letters', 39559],\n",
       " ['Physical Chemistry Chemical Physics', 39378],\n",
       " ['Physics Letters A', 39295],\n",
       " ['Acta Crystallographica Section E-structure Reports Online', 39134],\n",
       " ['Pediatric Research', 39065],\n",
       " ['Nuclear Instruments & Methods in Physics Research Section A-accelerators Spectrometers Detectors and Associated Equipment',\n",
       "  39005],\n",
       " ['Physical Review C', 38926],\n",
       " ['American Journal of Cardiology', 38828],\n",
       " ['Thin Solid Films', 38443],\n",
       " ['Alzheimers & Dementia', 38126],\n",
       " ['American Journal of Nursing', 38085],\n",
       " ['Chemistry: A European Journal', 37897],\n",
       " ['Radiology', 37752],\n",
       " ['Proceedings - Academy of Management', 37581],\n",
       " ['arXiv: General Relativity and Quantum Cosmology', 37480],\n",
       " ['Journal of Chemical Education', 36991],\n",
       " ['Macromolecules', 35629],\n",
       " ['Ugeskrift for Læger', 35580],\n",
       " ['American Journal of Psychiatry', 35417],\n",
       " ['Transplantation', 35397],\n",
       " ['IEEE Transactions on Magnetics', 35277],\n",
       " ['Journal of Hepatology', 35258],\n",
       " ['Optics Letters', 35246],\n",
       " ['Materials Science and Engineering A-structural Materials Properties Microstructure and Processing',\n",
       "  34984],\n",
       " ['Gastrointestinal Endoscopy', 34934],\n",
       " ['Organic Letters', 34926],\n",
       " ['Journal of Magnetism and Magnetic Materials', 34574],\n",
       " ['Stroke', 34572],\n",
       " ['Journal of High Energy Physics', 34512],\n",
       " ['Annals of Internal Medicine', 34467],\n",
       " ['Annals of Oncology', 34405],\n",
       " ['European Journal of Inorganic Chemistry', 34104],\n",
       " ['Bulletin of Experimental Biology and Medicine', 33797],\n",
       " ['Applied and Environmental Microbiology', 33791],\n",
       " ['Industrial & Engineering Chemistry Research', 33564],\n",
       " ['arXiv: Analysis of PDEs', 33504],\n",
       " ['Nuclear Instruments & Methods in Physics Research Section B-beam Interactions With Materials and Atoms',\n",
       "  33361],\n",
       " ['The Journal of Physiology', 33227],\n",
       " ['Nederlands Tijdschrift voor Geneeskunde', 33157],\n",
       " ['Books abroad', 33138],\n",
       " ['European Heart Journal', 32583],\n",
       " ['International Journal of Hydrogen Energy', 32570],\n",
       " ['Molecules', 32128],\n",
       " ['The American Journal of the Medical Sciences', 32005],\n",
       " ['Journal of Materials Chemistry', 31922],\n",
       " ['Journal of the Physical Society of Japan', 31855],\n",
       " ['Cancer', 31658],\n",
       " ['Endocrinology', 31480],\n",
       " ['Physica B-condensed Matter', 31334],\n",
       " ['Radiotherapy and Oncology', 31285],\n",
       " ['Medicine', 31206],\n",
       " ['Zootaxa', 31029],\n",
       " ['Electrochimica Acta', 30953],\n",
       " ['arXiv: Probability', 30945],\n",
       " ['Transactions of the American Nuclear Society', 30879],\n",
       " ['arXiv: Combinatorics', 30802],\n",
       " ['Nihon rinsho. Japanese journal of clinical medicine', 30674],\n",
       " ['arXiv: Solar and Stellar Astrophysics', 30671],\n",
       " ['E3S web of conferences', 30600]]"
      ]
     },
     "execution_count": 48,
     "metadata": {},
     "output_type": "execute_result"
    }
   ],
   "source": [
    "# Accessing the biggest 200 publishing venues, default sorted in descending count\n",
    "[[i['key_display_name'], i['count']] for i in data['group_by']]"
   ]
  },
  {
   "cell_type": "markdown",
   "metadata": {},
   "source": [
    "#### Combine filters and grouping"
   ]
  },
  {
   "cell_type": "markdown",
   "metadata": {},
   "source": [
    "You can easily combine filters and grouping, for instance, filter according to a specific institution, like *University of Bern* `I118564535`, and group its publications by `concepts.id`. Then, of course, the resulting groups are based on the filtered subset."
   ]
  },
  {
   "cell_type": "code",
   "execution_count": 49,
   "metadata": {},
   "outputs": [],
   "source": [
    "# Use the \"params\" dictionary for using filter and group_by at the same time\n",
    "url = 'https://api.openalex.org/works'\n",
    "params = {'mailto': email,\n",
    "          'filter': 'institutions.id:I118564535',\n",
    "          'group_by': 'concepts.id'}\n",
    "\n",
    "r = requests.get(url, params=params) \n",
    "data = r.json()"
   ]
  },
  {
   "cell_type": "code",
   "execution_count": 50,
   "metadata": {},
   "outputs": [
    {
     "data": {
      "text/plain": [
       "[{'key': 'https://openalex.org/C71924100',\n",
       "  'key_display_name': 'Medicine',\n",
       "  'count': 34619},\n",
       " {'key': 'https://openalex.org/C86803240',\n",
       "  'key_display_name': 'Biology',\n",
       "  'count': 14973},\n",
       " {'key': 'https://openalex.org/C185592680',\n",
       "  'key_display_name': 'Chemistry',\n",
       "  'count': 13786},\n",
       " {'key': 'https://openalex.org/C126322002',\n",
       "  'key_display_name': 'Internal medicine',\n",
       "  'count': 13624},\n",
       " {'key': 'https://openalex.org/C121332964',\n",
       "  'key_display_name': 'Physics',\n",
       "  'count': 6872}]"
      ]
     },
     "execution_count": 50,
     "metadata": {},
     "output_type": "execute_result"
    }
   ],
   "source": [
    "data['group_by'][:5]"
   ]
  },
  {
   "cell_type": "code",
   "execution_count": 51,
   "metadata": {},
   "outputs": [
    {
     "data": {
      "text/plain": [
       "[['Medicine', 34619],\n",
       " ['Biology', 14973],\n",
       " ['Chemistry', 13786],\n",
       " ['Internal medicine', 13624],\n",
       " ['Physics', 6872],\n",
       " ['Computer science', 6798],\n",
       " ['Psychology', 5622],\n",
       " ['Materials science', 5584],\n",
       " ['Cell biology', 5042],\n",
       " ['Surgery', 4363],\n",
       " ['Geology', 3923],\n",
       " ['Environmental science', 3633],\n",
       " ['Cardiology', 3474],\n",
       " ['Endocrinology', 3227],\n",
       " ['Political science', 2630],\n",
       " ['Biochemistry', 2558],\n",
       " ['Cancer research', 2556],\n",
       " ['Population', 2521],\n",
       " ['Radiology', 2429],\n",
       " ['Immunology', 2358],\n",
       " ['Geography', 2322],\n",
       " ['Pathology', 2291],\n",
       " ['Ecology', 2270],\n",
       " ['Dentistry', 2154],\n",
       " ['Mathematics', 2153],\n",
       " ['Molecular biology', 2122],\n",
       " ['Cancer', 2084],\n",
       " ['Virology', 2078],\n",
       " ['Gene', 2060],\n",
       " ['Business', 2002],\n",
       " ['Artificial intelligence', 1961],\n",
       " ['Gastroenterology', 1779],\n",
       " ['Oncology', 1777],\n",
       " ['Randomized controlled trial', 1768],\n",
       " ['MEDLINE', 1751],\n",
       " ['Particle physics', 1748],\n",
       " ['unknown', 1671],\n",
       " ['Genetics', 1656],\n",
       " ['Biophysics', 1620],\n",
       " ['Intensive care medicine', 1606],\n",
       " ['Anesthesia', 1550],\n",
       " ['Microbiology', 1549],\n",
       " ['Orthodontics', 1548],\n",
       " ['Economics', 1528],\n",
       " ['Pharmacology', 1501],\n",
       " ['Neuroscience', 1481],\n",
       " ['Zoology', 1468],\n",
       " ['Optics', 1391],\n",
       " ['Clinical psychology', 1381],\n",
       " ['Disease', 1375],\n",
       " ['Climate change', 1362],\n",
       " ['Anatomy', 1340],\n",
       " ['Geochemistry', 1331],\n",
       " ['Physical geography', 1311],\n",
       " ['Immune system', 1307],\n",
       " ['Antibody', 1253],\n",
       " ['Astrophysics', 1233],\n",
       " ['Nuclear medicine', 1209],\n",
       " ['Climatology', 1158],\n",
       " ['Nuclear physics', 1138],\n",
       " ['Family medicine', 1136],\n",
       " ['Atmospheric sciences', 1120],\n",
       " ['Inflammation', 1103],\n",
       " ['Pediatrics', 1101],\n",
       " ['Cohort', 1095],\n",
       " ['Clinical trial', 1090],\n",
       " ['Cognition', 1067],\n",
       " ['Biomedical engineering', 1065],\n",
       " ['Receptor', 1065],\n",
       " ['Sociology', 1057],\n",
       " ['Retrospective cohort study', 1035],\n",
       " ['Physical therapy', 1025],\n",
       " ['Virus', 1008],\n",
       " ['Evolutionary biology', 997],\n",
       " ['Optoelectronics', 981],\n",
       " ['Cognitive psychology', 970],\n",
       " ['Philosophy', 943],\n",
       " ['In vitro', 940],\n",
       " ['Astrobiology', 913],\n",
       " ['Analytical Chemistry (journal)', 905],\n",
       " ['Humanities', 904],\n",
       " ['Medicinal chemistry', 897],\n",
       " ['Crystallography', 895],\n",
       " ['In vivo', 889],\n",
       " ['Implant', 889],\n",
       " ['Antigen', 865],\n",
       " ['Mathematical physics', 861],\n",
       " ['Psychiatry', 854],\n",
       " ['Meta-analysis', 843],\n",
       " ['Laser', 841],\n",
       " ['Gynecology', 840],\n",
       " ['Demography', 834],\n",
       " ['Psychological intervention', 823],\n",
       " ['Art', 810],\n",
       " ['Social psychology', 790],\n",
       " ['Veterinary medicine', 784],\n",
       " ['Remote sensing', 781],\n",
       " ['Computational biology', 770],\n",
       " ['Magnetic resonance imaging', 769],\n",
       " ['Chromatography', 768],\n",
       " ['Stereochemistry', 763],\n",
       " ['Lung', 758],\n",
       " ['Planet', 757],\n",
       " ['Epidemiology', 749],\n",
       " ['Cell', 749],\n",
       " ['Dermatology', 743],\n",
       " ['Pattern recognition (psychology)', 742],\n",
       " ['Confidence interval', 716],\n",
       " ['Large Hadron Collider', 714],\n",
       " ['Stroke (engine)', 709],\n",
       " ['Computer vision', 698],\n",
       " ['Emergency medicine', 696],\n",
       " ['Chemical engineering', 696],\n",
       " ['Holocene', 686],\n",
       " ['Molecule', 677],\n",
       " ['Atomic physics', 672],\n",
       " ['Developmental psychology', 668],\n",
       " ['Cohort study', 660],\n",
       " ['Animal science', 647],\n",
       " ['Glacial period', 647],\n",
       " ['Audiology', 633],\n",
       " ['Public health', 628],\n",
       " ['Environmental chemistry', 625],\n",
       " ['Genome', 624],\n",
       " ['Myocardial infarction', 622],\n",
       " ['Coronavirus disease 2019 (COVID-19)', 620],\n",
       " ['Enzyme', 618],\n",
       " ['Detector', 614],\n",
       " ['Incidence (geometry)', 602],\n",
       " ['Blood pressure', 597],\n",
       " ['Urology', 587],\n",
       " ['Oceanography', 580],\n",
       " ['Pure mathematics', 577],\n",
       " ['Statistics', 565],\n",
       " ['Severe acute respiratory syndrome coronavirus 2 (SARS-CoV-2)', 563],\n",
       " ['Physical medicine and rehabilitation', 558],\n",
       " ['Pregnancy', 555],\n",
       " ['Prospective cohort study', 554],\n",
       " ['Combinatorial chemistry', 549],\n",
       " ['Atmosphere (unit)', 548],\n",
       " ['Quantum chromodynamics', 544],\n",
       " ['Algorithm', 539],\n",
       " ['Ion', 539],\n",
       " ['Odds ratio', 538],\n",
       " ['2019-20 coronavirus outbreak', 534],\n",
       " ['Health care', 533],\n",
       " ['Theoretical physics', 528],\n",
       " ['RNA', 522],\n",
       " ['Biodiversity', 521],\n",
       " ['Human immunodeficiency virus (HIV)', 514],\n",
       " ['Ophthalmology', 512],\n",
       " ['Apoptosis', 509],\n",
       " ['Hadron', 508],\n",
       " ['Antibiotics', 508],\n",
       " ['Ecosystem', 507],\n",
       " ['Hazard ratio', 496],\n",
       " ['Medical education', 489],\n",
       " ['Quality of life (healthcare)', 488],\n",
       " ['Transplantation', 479],\n",
       " ['Mutation', 474],\n",
       " ['Chemotherapy', 469],\n",
       " ['Atlas (anatomy)', 463],\n",
       " ['Composite material', 457],\n",
       " ['Percutaneous coronary intervention', 457],\n",
       " ['Environmental health', 457],\n",
       " ['Perception', 454],\n",
       " ['Precipitation', 452],\n",
       " ['Habitat', 449],\n",
       " ['Hydrology (agriculture)', 446],\n",
       " ['Paleontology', 439],\n",
       " ['Stem cell', 439],\n",
       " ['Astronomy', 436],\n",
       " ['Pandemic', 436],\n",
       " ['Anxiety', 435],\n",
       " ['Radiography', 433],\n",
       " ['Heart failure', 431],\n",
       " ['Atlas detector', 429],\n",
       " ['Econometrics', 424],\n",
       " ['Mineralogy', 424],\n",
       " ['Diabetes mellitus', 423],\n",
       " ['DNA', 421],\n",
       " ['Depression (economics)', 420],\n",
       " ['Obstetrics', 419],\n",
       " ['Radiation therapy', 414],\n",
       " ['Condensed matter physics', 407],\n",
       " ['Physics beyond the Standard Model', 404],\n",
       " ['Global warming', 396],\n",
       " ['Calcium', 396],\n",
       " ['Higgs boson', 393],\n",
       " ['Orthopedic surgery', 393],\n",
       " ['Paleoclimatology', 387],\n",
       " ['Schizophrenia (object-oriented programming)', 386],\n",
       " ['Mental health', 384],\n",
       " ['Standard Model (mathematical formulation)', 371],\n",
       " ['Crystal structure', 370],\n",
       " ['Political economy', 369],\n",
       " ['Adverse effect', 367],\n",
       " ['Cell culture', 361],\n",
       " ['Combinatorics', 360],\n",
       " ['Membrane', 360]]"
      ]
     },
     "execution_count": 51,
     "metadata": {},
     "output_type": "execute_result"
    }
   ],
   "source": [
    "concepts_data =[[i['key_display_name'], i['count']] for i in data['group_by']]\n",
    "concepts_data"
   ]
  },
  {
   "cell_type": "code",
   "execution_count": 52,
   "metadata": {},
   "outputs": [
    {
     "data": {
      "text/plain": [
       "297081"
      ]
     },
     "execution_count": 52,
     "metadata": {},
     "output_type": "execute_result"
    }
   ],
   "source": [
    "concepts_sum = 0\n",
    "for i in concepts_data:\n",
    "    concepts_sum += i[1]\n",
    "concepts_sum"
   ]
  },
  {
   "cell_type": "code",
   "execution_count": 53,
   "metadata": {},
   "outputs": [
    {
     "data": {
      "text/plain": [
       "[['Medicine', 34619, '11.7%'],\n",
       " ['Biology', 14973, '5.0%'],\n",
       " ['Chemistry', 13786, '4.6%'],\n",
       " ['Internal medicine', 13624, '4.6%'],\n",
       " ['Physics', 6872, '2.3%'],\n",
       " ['Computer science', 6798, '2.3%'],\n",
       " ['Psychology', 5622, '1.9%'],\n",
       " ['Materials science', 5584, '1.9%'],\n",
       " ['Cell biology', 5042, '1.7%'],\n",
       " ['Surgery', 4363, '1.5%'],\n",
       " ['Geology', 3923, '1.3%'],\n",
       " ['Environmental science', 3633, '1.2%'],\n",
       " ['Cardiology', 3474, '1.2%'],\n",
       " ['Endocrinology', 3227, '1.1%'],\n",
       " ['Political science', 2630, '0.9%'],\n",
       " ['Biochemistry', 2558, '0.9%'],\n",
       " ['Cancer research', 2556, '0.9%'],\n",
       " ['Population', 2521, '0.8%'],\n",
       " ['Radiology', 2429, '0.8%'],\n",
       " ['Immunology', 2358, '0.8%'],\n",
       " ['Geography', 2322, '0.8%'],\n",
       " ['Pathology', 2291, '0.8%'],\n",
       " ['Ecology', 2270, '0.8%'],\n",
       " ['Dentistry', 2154, '0.7%'],\n",
       " ['Mathematics', 2153, '0.7%'],\n",
       " ['Molecular biology', 2122, '0.7%'],\n",
       " ['Cancer', 2084, '0.7%'],\n",
       " ['Virology', 2078, '0.7%'],\n",
       " ['Gene', 2060, '0.7%'],\n",
       " ['Business', 2002, '0.7%'],\n",
       " ['Artificial intelligence', 1961, '0.7%'],\n",
       " ['Gastroenterology', 1779, '0.6%'],\n",
       " ['Oncology', 1777, '0.6%'],\n",
       " ['Randomized controlled trial', 1768, '0.6%'],\n",
       " ['MEDLINE', 1751, '0.6%'],\n",
       " ['Particle physics', 1748, '0.6%'],\n",
       " ['unknown', 1671, '0.6%'],\n",
       " ['Genetics', 1656, '0.6%'],\n",
       " ['Biophysics', 1620, '0.5%'],\n",
       " ['Intensive care medicine', 1606, '0.5%'],\n",
       " ['Anesthesia', 1550, '0.5%'],\n",
       " ['Microbiology', 1549, '0.5%'],\n",
       " ['Orthodontics', 1548, '0.5%'],\n",
       " ['Economics', 1528, '0.5%'],\n",
       " ['Pharmacology', 1501, '0.5%'],\n",
       " ['Neuroscience', 1481, '0.5%'],\n",
       " ['Zoology', 1468, '0.5%'],\n",
       " ['Optics', 1391, '0.5%'],\n",
       " ['Clinical psychology', 1381, '0.5%'],\n",
       " ['Disease', 1375, '0.5%'],\n",
       " ['Climate change', 1362, '0.5%'],\n",
       " ['Anatomy', 1340, '0.5%'],\n",
       " ['Geochemistry', 1331, '0.4%'],\n",
       " ['Physical geography', 1311, '0.4%'],\n",
       " ['Immune system', 1307, '0.4%'],\n",
       " ['Antibody', 1253, '0.4%'],\n",
       " ['Astrophysics', 1233, '0.4%'],\n",
       " ['Nuclear medicine', 1209, '0.4%'],\n",
       " ['Climatology', 1158, '0.4%'],\n",
       " ['Nuclear physics', 1138, '0.4%'],\n",
       " ['Family medicine', 1136, '0.4%'],\n",
       " ['Atmospheric sciences', 1120, '0.4%'],\n",
       " ['Inflammation', 1103, '0.4%'],\n",
       " ['Pediatrics', 1101, '0.4%'],\n",
       " ['Cohort', 1095, '0.4%'],\n",
       " ['Clinical trial', 1090, '0.4%'],\n",
       " ['Cognition', 1067, '0.4%'],\n",
       " ['Biomedical engineering', 1065, '0.4%'],\n",
       " ['Receptor', 1065, '0.4%'],\n",
       " ['Sociology', 1057, '0.4%'],\n",
       " ['Retrospective cohort study', 1035, '0.3%'],\n",
       " ['Physical therapy', 1025, '0.3%'],\n",
       " ['Virus', 1008, '0.3%'],\n",
       " ['Evolutionary biology', 997, '0.3%'],\n",
       " ['Optoelectronics', 981, '0.3%'],\n",
       " ['Cognitive psychology', 970, '0.3%'],\n",
       " ['Philosophy', 943, '0.3%'],\n",
       " ['In vitro', 940, '0.3%'],\n",
       " ['Astrobiology', 913, '0.3%'],\n",
       " ['Analytical Chemistry (journal)', 905, '0.3%'],\n",
       " ['Humanities', 904, '0.3%'],\n",
       " ['Medicinal chemistry', 897, '0.3%'],\n",
       " ['Crystallography', 895, '0.3%'],\n",
       " ['In vivo', 889, '0.3%'],\n",
       " ['Implant', 889, '0.3%'],\n",
       " ['Antigen', 865, '0.3%'],\n",
       " ['Mathematical physics', 861, '0.3%'],\n",
       " ['Psychiatry', 854, '0.3%'],\n",
       " ['Meta-analysis', 843, '0.3%'],\n",
       " ['Laser', 841, '0.3%'],\n",
       " ['Gynecology', 840, '0.3%'],\n",
       " ['Demography', 834, '0.3%'],\n",
       " ['Psychological intervention', 823, '0.3%'],\n",
       " ['Art', 810, '0.3%'],\n",
       " ['Social psychology', 790, '0.3%'],\n",
       " ['Veterinary medicine', 784, '0.3%'],\n",
       " ['Remote sensing', 781, '0.3%'],\n",
       " ['Computational biology', 770, '0.3%'],\n",
       " ['Magnetic resonance imaging', 769, '0.3%'],\n",
       " ['Chromatography', 768, '0.3%'],\n",
       " ['Stereochemistry', 763, '0.3%'],\n",
       " ['Lung', 758, '0.3%'],\n",
       " ['Planet', 757, '0.3%'],\n",
       " ['Epidemiology', 749, '0.3%'],\n",
       " ['Cell', 749, '0.3%'],\n",
       " ['Dermatology', 743, '0.3%'],\n",
       " ['Pattern recognition (psychology)', 742, '0.2%'],\n",
       " ['Confidence interval', 716, '0.2%'],\n",
       " ['Large Hadron Collider', 714, '0.2%'],\n",
       " ['Stroke (engine)', 709, '0.2%'],\n",
       " ['Computer vision', 698, '0.2%'],\n",
       " ['Emergency medicine', 696, '0.2%'],\n",
       " ['Chemical engineering', 696, '0.2%'],\n",
       " ['Holocene', 686, '0.2%'],\n",
       " ['Molecule', 677, '0.2%'],\n",
       " ['Atomic physics', 672, '0.2%'],\n",
       " ['Developmental psychology', 668, '0.2%'],\n",
       " ['Cohort study', 660, '0.2%'],\n",
       " ['Animal science', 647, '0.2%'],\n",
       " ['Glacial period', 647, '0.2%'],\n",
       " ['Audiology', 633, '0.2%'],\n",
       " ['Public health', 628, '0.2%'],\n",
       " ['Environmental chemistry', 625, '0.2%'],\n",
       " ['Genome', 624, '0.2%'],\n",
       " ['Myocardial infarction', 622, '0.2%'],\n",
       " ['Coronavirus disease 2019 (COVID-19)', 620, '0.2%'],\n",
       " ['Enzyme', 618, '0.2%'],\n",
       " ['Detector', 614, '0.2%'],\n",
       " ['Incidence (geometry)', 602, '0.2%'],\n",
       " ['Blood pressure', 597, '0.2%'],\n",
       " ['Urology', 587, '0.2%'],\n",
       " ['Oceanography', 580, '0.2%'],\n",
       " ['Pure mathematics', 577, '0.2%'],\n",
       " ['Statistics', 565, '0.2%'],\n",
       " ['Severe acute respiratory syndrome coronavirus 2 (SARS-CoV-2)', 563, '0.2%'],\n",
       " ['Physical medicine and rehabilitation', 558, '0.2%'],\n",
       " ['Pregnancy', 555, '0.2%'],\n",
       " ['Prospective cohort study', 554, '0.2%'],\n",
       " ['Combinatorial chemistry', 549, '0.2%'],\n",
       " ['Atmosphere (unit)', 548, '0.2%'],\n",
       " ['Quantum chromodynamics', 544, '0.2%'],\n",
       " ['Algorithm', 539, '0.2%'],\n",
       " ['Ion', 539, '0.2%'],\n",
       " ['Odds ratio', 538, '0.2%'],\n",
       " ['2019-20 coronavirus outbreak', 534, '0.2%'],\n",
       " ['Health care', 533, '0.2%'],\n",
       " ['Theoretical physics', 528, '0.2%'],\n",
       " ['RNA', 522, '0.2%'],\n",
       " ['Biodiversity', 521, '0.2%'],\n",
       " ['Human immunodeficiency virus (HIV)', 514, '0.2%'],\n",
       " ['Ophthalmology', 512, '0.2%'],\n",
       " ['Apoptosis', 509, '0.2%'],\n",
       " ['Hadron', 508, '0.2%'],\n",
       " ['Antibiotics', 508, '0.2%'],\n",
       " ['Ecosystem', 507, '0.2%'],\n",
       " ['Hazard ratio', 496, '0.2%'],\n",
       " ['Medical education', 489, '0.2%'],\n",
       " ['Quality of life (healthcare)', 488, '0.2%'],\n",
       " ['Transplantation', 479, '0.2%'],\n",
       " ['Mutation', 474, '0.2%'],\n",
       " ['Chemotherapy', 469, '0.2%'],\n",
       " ['Atlas (anatomy)', 463, '0.2%'],\n",
       " ['Composite material', 457, '0.2%'],\n",
       " ['Percutaneous coronary intervention', 457, '0.2%'],\n",
       " ['Environmental health', 457, '0.2%'],\n",
       " ['Perception', 454, '0.2%'],\n",
       " ['Precipitation', 452, '0.2%'],\n",
       " ['Habitat', 449, '0.2%'],\n",
       " ['Hydrology (agriculture)', 446, '0.2%'],\n",
       " ['Paleontology', 439, '0.1%'],\n",
       " ['Stem cell', 439, '0.1%'],\n",
       " ['Astronomy', 436, '0.1%'],\n",
       " ['Pandemic', 436, '0.1%'],\n",
       " ['Anxiety', 435, '0.1%'],\n",
       " ['Radiography', 433, '0.1%'],\n",
       " ['Heart failure', 431, '0.1%'],\n",
       " ['Atlas detector', 429, '0.1%'],\n",
       " ['Econometrics', 424, '0.1%'],\n",
       " ['Mineralogy', 424, '0.1%'],\n",
       " ['Diabetes mellitus', 423, '0.1%'],\n",
       " ['DNA', 421, '0.1%'],\n",
       " ['Depression (economics)', 420, '0.1%'],\n",
       " ['Obstetrics', 419, '0.1%'],\n",
       " ['Radiation therapy', 414, '0.1%'],\n",
       " ['Condensed matter physics', 407, '0.1%'],\n",
       " ['Physics beyond the Standard Model', 404, '0.1%'],\n",
       " ['Global warming', 396, '0.1%'],\n",
       " ['Calcium', 396, '0.1%'],\n",
       " ['Higgs boson', 393, '0.1%'],\n",
       " ['Orthopedic surgery', 393, '0.1%'],\n",
       " ['Paleoclimatology', 387, '0.1%'],\n",
       " ['Schizophrenia (object-oriented programming)', 386, '0.1%'],\n",
       " ['Mental health', 384, '0.1%'],\n",
       " ['Standard Model (mathematical formulation)', 371, '0.1%'],\n",
       " ['Crystal structure', 370, '0.1%'],\n",
       " ['Political economy', 369, '0.1%'],\n",
       " ['Adverse effect', 367, '0.1%'],\n",
       " ['Cell culture', 361, '0.1%'],\n",
       " ['Combinatorics', 360, '0.1%'],\n",
       " ['Membrane', 360, '0.1%']]"
      ]
     },
     "execution_count": 53,
     "metadata": {},
     "output_type": "execute_result"
    }
   ],
   "source": [
    "# Calculating and adding percentages\n",
    "for i in concepts_data:\n",
    "    i.append(str(round(i[1]/concepts_sum*100,1)) + '%')\n",
    "concepts_data"
   ]
  },
  {
   "cell_type": "markdown",
   "metadata": {},
   "source": [
    "## 👨‍🎓  Authors endpoint"
   ]
  },
  {
   "cell_type": "markdown",
   "metadata": {},
   "source": [
    "Similar to the *Works* endpoint, there is an ***Authors*** endpoint in OpenAlex, delivering rich information about authors of scholarly publications: `/authors`. The *Authors* endpoint can be accessed via OpenAlex identifier (starting with an \"A\" like `A2156811675`) or for instance, via the popular [ORCID](https://orcid.org/) identifier. For detailed information see the *Author* object documentation [here](https://docs.openalex.org/about-the-data/author).\n"
   ]
  },
  {
   "cell_type": "code",
   "execution_count": 54,
   "metadata": {},
   "outputs": [],
   "source": [
    "base_url = 'https://api.openalex.org/authors/'\n",
    "params = {'mailto': email} \n",
    "\n",
    "# Usable identifiers:\n",
    "openalex_id = 'A2156811675'\n",
    "openalex_id_namespace = 'openalex:A2156811675'\n",
    "orcid = 'orcid:0000-0002-9344-1029'\n",
    "\n",
    "# Adjust the used identifier\n",
    "r = requests.get(base_url + orcid, params=params) \n",
    "data = r.json()"
   ]
  },
  {
   "cell_type": "code",
   "execution_count": 55,
   "metadata": {},
   "outputs": [
    {
     "data": {
      "text/plain": [
       "['id',\n",
       " 'orcid',\n",
       " 'display_name',\n",
       " 'display_name_alternatives',\n",
       " 'works_count',\n",
       " 'cited_by_count',\n",
       " 'ids',\n",
       " 'last_known_institution',\n",
       " 'x_concepts',\n",
       " 'counts_by_year',\n",
       " 'works_api_url',\n",
       " 'updated_date',\n",
       " 'created_date']"
      ]
     },
     "execution_count": 55,
     "metadata": {},
     "output_type": "execute_result"
    }
   ],
   "source": [
    "list(data)"
   ]
  },
  {
   "cell_type": "code",
   "execution_count": 56,
   "metadata": {},
   "outputs": [
    {
     "data": {
      "text/plain": [
       "'https://openalex.org/A2156811675'"
      ]
     },
     "execution_count": 56,
     "metadata": {},
     "output_type": "execute_result"
    }
   ],
   "source": [
    "data['id']"
   ]
  },
  {
   "cell_type": "code",
   "execution_count": 57,
   "metadata": {},
   "outputs": [
    {
     "data": {
      "text/plain": [
       "{'openalex': 'https://openalex.org/A2156811675',\n",
       " 'orcid': 'https://orcid.org/0000-0002-9344-1029',\n",
       " 'mag': '2156811675'}"
      ]
     },
     "execution_count": 57,
     "metadata": {},
     "output_type": "execute_result"
    }
   ],
   "source": [
    "# All available person identifiers\n",
    "data['ids']"
   ]
  },
  {
   "cell_type": "code",
   "execution_count": 58,
   "metadata": {},
   "outputs": [
    {
     "data": {
      "text/plain": [
       "'Christine L. Borgman'"
      ]
     },
     "execution_count": 58,
     "metadata": {},
     "output_type": "execute_result"
    }
   ],
   "source": [
    "# Normalized plain name\n",
    "data['display_name']"
   ]
  },
  {
   "cell_type": "code",
   "execution_count": 59,
   "metadata": {},
   "outputs": [
    {
     "data": {
      "text/plain": [
       "7778"
      ]
     },
     "execution_count": 59,
     "metadata": {},
     "output_type": "execute_result"
    }
   ],
   "source": [
    "# How many times the publications of this person were cited?\n",
    "data['cited_by_count']"
   ]
  },
  {
   "cell_type": "code",
   "execution_count": 60,
   "metadata": {},
   "outputs": [
    {
     "data": {
      "text/plain": [
       "[{'year': 2022, 'works_count': 0, 'cited_by_count': 62},\n",
       " {'year': 2021, 'works_count': 17, 'cited_by_count': 409},\n",
       " {'year': 2020, 'works_count': 13, 'cited_by_count': 504},\n",
       " {'year': 2019, 'works_count': 8, 'cited_by_count': 367},\n",
       " {'year': 2018, 'works_count': 17, 'cited_by_count': 338},\n",
       " {'year': 2017, 'works_count': 15, 'cited_by_count': 442},\n",
       " {'year': 2016, 'works_count': 12, 'cited_by_count': 501},\n",
       " {'year': 2015, 'works_count': 36, 'cited_by_count': 494},\n",
       " {'year': 2014, 'works_count': 14, 'cited_by_count': 463},\n",
       " {'year': 2013, 'works_count': 13, 'cited_by_count': 337},\n",
       " {'year': 2012, 'works_count': 17, 'cited_by_count': 385}]"
      ]
     },
     "execution_count": 60,
     "metadata": {},
     "output_type": "execute_result"
    }
   ],
   "source": [
    "# Count of published works and citations per year, sicne 2012\n",
    "data['counts_by_year']"
   ]
  },
  {
   "cell_type": "code",
   "execution_count": 61,
   "metadata": {},
   "outputs": [
    {
     "data": {
      "text/plain": [
       "'https://api.openalex.org/works?filter=author.id:A2156811675'"
      ]
     },
     "execution_count": 61,
     "metadata": {},
     "output_type": "execute_result"
    }
   ],
   "source": [
    "# API link to the publications of the author (using filter of the \"Works\" endpoint)\n",
    "data['works_api_url']"
   ]
  },
  {
   "cell_type": "code",
   "execution_count": 62,
   "metadata": {},
   "outputs": [
    {
     "data": {
      "text/plain": [
       "{'id': 'https://openalex.org/I161318765',\n",
       " 'ror': 'https://ror.org/046rm7j60',\n",
       " 'display_name': 'University of California, Los Angeles',\n",
       " 'country_code': 'US',\n",
       " 'type': 'education'}"
      ]
     },
     "execution_count": 62,
     "metadata": {},
     "output_type": "execute_result"
    }
   ],
   "source": [
    "# The persons last known affiliation\n",
    "data['last_known_institution']"
   ]
  },
  {
   "cell_type": "code",
   "execution_count": 63,
   "metadata": {},
   "outputs": [
    {
     "data": {
      "text/plain": [
       "[{'id': 'https://openalex.org/C41008148',\n",
       "  'wikidata': 'https://www.wikidata.org/wiki/Q21198',\n",
       "  'display_name': 'Computer science',\n",
       "  'level': 0,\n",
       "  'score': 90.9},\n",
       " {'id': 'https://openalex.org/C136764020',\n",
       "  'wikidata': 'https://www.wikidata.org/wiki/Q466',\n",
       "  'display_name': 'World Wide Web',\n",
       "  'level': 1,\n",
       "  'score': 43.2},\n",
       " {'id': 'https://openalex.org/C17744445',\n",
       "  'wikidata': 'https://www.wikidata.org/wiki/Q36442',\n",
       "  'display_name': 'Political science',\n",
       "  'level': 0,\n",
       "  'score': 39.6},\n",
       " {'id': 'https://openalex.org/C199539241',\n",
       "  'wikidata': 'https://www.wikidata.org/wiki/Q7748',\n",
       "  'display_name': 'Law',\n",
       "  'level': 1,\n",
       "  'score': 36.8},\n",
       " {'id': 'https://openalex.org/C111919701',\n",
       "  'wikidata': 'https://www.wikidata.org/wiki/Q9135',\n",
       "  'display_name': 'Operating system',\n",
       "  'level': 1,\n",
       "  'score': 35.2},\n",
       " {'id': 'https://openalex.org/C127413603',\n",
       "  'wikidata': 'https://www.wikidata.org/wiki/Q11023',\n",
       "  'display_name': 'Engineering',\n",
       "  'level': 0,\n",
       "  'score': 33.0},\n",
       " {'id': 'https://openalex.org/C2522767166',\n",
       "  'wikidata': 'https://www.wikidata.org/wiki/Q2374463',\n",
       "  'display_name': 'Data science',\n",
       "  'level': 1,\n",
       "  'score': 30.2},\n",
       " {'id': 'https://openalex.org/C144024400',\n",
       "  'wikidata': 'https://www.wikidata.org/wiki/Q21201',\n",
       "  'display_name': 'Sociology',\n",
       "  'level': 0,\n",
       "  'score': 22.7},\n",
       " {'id': 'https://openalex.org/C161191863',\n",
       "  'wikidata': 'https://www.wikidata.org/wiki/Q199655',\n",
       "  'display_name': 'Library science',\n",
       "  'level': 1,\n",
       "  'score': 22.7},\n",
       " {'id': 'https://openalex.org/C124101348',\n",
       "  'wikidata': 'https://www.wikidata.org/wiki/Q172491',\n",
       "  'display_name': 'Data mining',\n",
       "  'level': 1,\n",
       "  'score': 21.6},\n",
       " {'id': 'https://openalex.org/C33923547',\n",
       "  'wikidata': 'https://www.wikidata.org/wiki/Q395',\n",
       "  'display_name': 'Mathematics',\n",
       "  'level': 0,\n",
       "  'score': 21.3}]"
      ]
     },
     "execution_count": 63,
     "metadata": {},
     "output_type": "execute_result"
    }
   ],
   "source": [
    "# Please notice: Concepts for authors is a experimental fetaure by now - use with caution!\n",
    "data['x_concepts']"
   ]
  },
  {
   "cell_type": "markdown",
   "metadata": {},
   "source": [
    "### Use the search parameter"
   ]
  },
  {
   "cell_type": "markdown",
   "metadata": {},
   "source": [
    "Using the search parameter on the `/authors`endpoint looks for the terms in the `display_name` attribute only. Read more about the search functionality [here](https://docs.openalex.org/api/get-lists-of-entities/search-entity-lists#the-search-parameter)."
   ]
  },
  {
   "cell_type": "code",
   "execution_count": 64,
   "metadata": {},
   "outputs": [],
   "source": [
    "base_url = 'https://api.openalex.org/authors?'\n",
    "params = {'mailto': email,\n",
    "         'search': 'ted underwood'}\n",
    "\n",
    "r = requests.get(base_url, params=params)\n",
    "data = r.json()"
   ]
  },
  {
   "cell_type": "code",
   "execution_count": 65,
   "metadata": {},
   "outputs": [
    {
     "data": {
      "text/plain": [
       "{'count': 36, 'db_response_time_ms': 74, 'page': 1, 'per_page': 25}"
      ]
     },
     "execution_count": 65,
     "metadata": {},
     "output_type": "execute_result"
    }
   ],
   "source": [
    "data['meta']"
   ]
  },
  {
   "cell_type": "code",
   "execution_count": 66,
   "metadata": {},
   "outputs": [
    {
     "data": {
      "text/plain": [
       "[['Ted Underwood', 57, 'Philosophy'],\n",
       " ['Ted Underwood', 1, 'Sociology'],\n",
       " ['Ted Underwood', 1, 'Law'],\n",
       " ['Ted L. Underwood', 5, 'History'],\n",
       " ['Ted L. Underwood', 2, 'Law'],\n",
       " ['Ted Underwood', 1, 'Computer science'],\n",
       " ['Ted L. Underwood', 1, 'Doctrine'],\n",
       " ['Ted Underwood', 1, 'Geology'],\n",
       " ['Ted Underwood', 1, 'Linguistics'],\n",
       " ['Ted Underwood', 1, 'Computer science']]"
      ]
     },
     "execution_count": 66,
     "metadata": {},
     "output_type": "execute_result"
    }
   ],
   "source": [
    "# Name, number of works and first ranked concept of \"ted underwood\" authors\n",
    "[[i['display_name'], i['works_count'], i['x_concepts'][0]['display_name']] \\\n",
    "                     for i in data['results'][:10]]"
   ]
  },
  {
   "cell_type": "markdown",
   "metadata": {},
   "source": [
    "### Access multiple Author entities"
   ]
  },
  {
   "cell_type": "markdown",
   "metadata": {},
   "source": [
    "Like for publications (aka *Works* entities), you can search for mutliple authors at once, and **use filters and groupings**. "
   ]
  },
  {
   "cell_type": "markdown",
   "metadata": {},
   "source": [
    "#### Filter authors by institution & put the data into a dataframe"
   ]
  },
  {
   "cell_type": "markdown",
   "metadata": {},
   "source": [
    "For example, you might search for all authors, which last known affiliation is *University of Bern*. For this, you can use its OpenAlex identifier `I118564535`. Filtering authors will use the `works_count` attribute to sort the results by default. To adjust the default sorting methods look [here](https://docs.openalex.org/api/get-lists-of-entities/sort-entity-lists)."
   ]
  },
  {
   "cell_type": "code",
   "execution_count": 67,
   "metadata": {},
   "outputs": [],
   "source": [
    "url = 'https://api.openalex.org/authors?'\n",
    "params = {'mailto': email,\n",
    "         'filter': 'last_known_institution.id:I118564535',\n",
    "         'per-page': 20}\n",
    "\n",
    "r = requests.get(url, params=params) \n",
    "data = r.json()"
   ]
  },
  {
   "cell_type": "code",
   "execution_count": 68,
   "metadata": {},
   "outputs": [
    {
     "data": {
      "text/plain": [
       "{'count': 33624, 'db_response_time_ms': 107, 'page': 1, 'per_page': 20}"
      ]
     },
     "execution_count": 68,
     "metadata": {},
     "output_type": "execute_result"
    }
   ],
   "source": [
    "data['meta']"
   ]
  },
  {
   "cell_type": "markdown",
   "metadata": {},
   "source": [
    "By reading out certain attributes of the result set you can easily transform the data into a dataframe for further research."
   ]
  },
  {
   "cell_type": "code",
   "execution_count": 69,
   "metadata": {},
   "outputs": [],
   "source": [
    "names = []\n",
    "ids = []\n",
    "orcids = []\n",
    "workcounts = []\n",
    "citedcounts = []\n",
    "workslinks = []\n",
    "\n",
    "for i in data['results']:\n",
    "    names.append(i['display_name'])\n",
    "    ids.append(i['id'])\n",
    "    orcids.append(i['orcid'])\n",
    "    workcounts.append(i['works_count'])\n",
    "    citedcounts.append(i['cited_by_count'])\n",
    "    workslinks.append(i['works_api_url'])\n",
    "    \n",
    "zipped = list(zip(names, ids, orcids, workcounts, citedcounts, workslinks))\n",
    "df = pd.DataFrame(zipped, columns=['author', 'openalex_id', 'orcid', \\\n",
    "                                    'works_count', 'cited_by_count', 'works_link'])"
   ]
  },
  {
   "cell_type": "code",
   "execution_count": 70,
   "metadata": {},
   "outputs": [
    {
     "data": {
      "text/html": [
       "<div>\n",
       "<style scoped>\n",
       "    .dataframe tbody tr th:only-of-type {\n",
       "        vertical-align: middle;\n",
       "    }\n",
       "\n",
       "    .dataframe tbody tr th {\n",
       "        vertical-align: top;\n",
       "    }\n",
       "\n",
       "    .dataframe thead th {\n",
       "        text-align: right;\n",
       "    }\n",
       "</style>\n",
       "<table border=\"1\" class=\"dataframe\">\n",
       "  <thead>\n",
       "    <tr style=\"text-align: right;\">\n",
       "      <th></th>\n",
       "      <th>author</th>\n",
       "      <th>openalex_id</th>\n",
       "      <th>orcid</th>\n",
       "      <th>works_count</th>\n",
       "      <th>cited_by_count</th>\n",
       "      <th>works_link</th>\n",
       "    </tr>\n",
       "  </thead>\n",
       "  <tbody>\n",
       "    <tr>\n",
       "      <th>0</th>\n",
       "      <td>Antonio Ereditato</td>\n",
       "      <td>https://openalex.org/A2420227930</td>\n",
       "      <td>https://orcid.org/0000-0002-5423-8079</td>\n",
       "      <td>1608</td>\n",
       "      <td>83747</td>\n",
       "      <td>https://api.openalex.org/works?filter=author.i...</td>\n",
       "    </tr>\n",
       "    <tr>\n",
       "      <th>1</th>\n",
       "      <td>Stephan Windecker</td>\n",
       "      <td>https://openalex.org/A2149334469</td>\n",
       "      <td>https://orcid.org/0000-0003-2653-6762</td>\n",
       "      <td>1458</td>\n",
       "      <td>138808</td>\n",
       "      <td>https://api.openalex.org/works?filter=author.i...</td>\n",
       "    </tr>\n",
       "    <tr>\n",
       "      <th>2</th>\n",
       "      <td>Hans Peter Beck</td>\n",
       "      <td>https://openalex.org/A2944228016</td>\n",
       "      <td>https://orcid.org/0000-0001-7212-1096</td>\n",
       "      <td>1241</td>\n",
       "      <td>80620</td>\n",
       "      <td>https://api.openalex.org/works?filter=author.i...</td>\n",
       "    </tr>\n",
       "    <tr>\n",
       "      <th>3</th>\n",
       "      <td>Peter Wurz</td>\n",
       "      <td>https://openalex.org/A2190147612</td>\n",
       "      <td>https://orcid.org/0000-0002-2603-1169</td>\n",
       "      <td>1046</td>\n",
       "      <td>16068</td>\n",
       "      <td>https://api.openalex.org/works?filter=author.i...</td>\n",
       "    </tr>\n",
       "    <tr>\n",
       "      <th>4</th>\n",
       "      <td>Matthias Egger</td>\n",
       "      <td>https://openalex.org/A2132296772</td>\n",
       "      <td>https://orcid.org/0000-0001-7462-5132</td>\n",
       "      <td>1024</td>\n",
       "      <td>205205</td>\n",
       "      <td>https://api.openalex.org/works?filter=author.i...</td>\n",
       "    </tr>\n",
       "    <tr>\n",
       "      <th>5</th>\n",
       "      <td>Sigve Haug</td>\n",
       "      <td>https://openalex.org/A2108311072</td>\n",
       "      <td>https://orcid.org/0000-0003-0442-3361</td>\n",
       "      <td>997</td>\n",
       "      <td>67892</td>\n",
       "      <td>https://api.openalex.org/works?filter=author.i...</td>\n",
       "    </tr>\n",
       "    <tr>\n",
       "      <th>6</th>\n",
       "      <td>Bernhard Meier</td>\n",
       "      <td>https://openalex.org/A2019380442</td>\n",
       "      <td>https://orcid.org/0000-0001-7566-8011</td>\n",
       "      <td>956</td>\n",
       "      <td>35063</td>\n",
       "      <td>https://api.openalex.org/works?filter=author.i...</td>\n",
       "    </tr>\n",
       "    <tr>\n",
       "      <th>7</th>\n",
       "      <td>Oscar H. Franco</td>\n",
       "      <td>https://openalex.org/A2780562525</td>\n",
       "      <td>https://orcid.org/0000-0002-4606-4929</td>\n",
       "      <td>949</td>\n",
       "      <td>60692</td>\n",
       "      <td>https://api.openalex.org/works?filter=author.i...</td>\n",
       "    </tr>\n",
       "    <tr>\n",
       "      <th>8</th>\n",
       "      <td>Mark A. Rubin</td>\n",
       "      <td>https://openalex.org/A2098244239</td>\n",
       "      <td>https://orcid.org/0000-0001-5421-0220</td>\n",
       "      <td>855</td>\n",
       "      <td>92276</td>\n",
       "      <td>https://api.openalex.org/works?filter=author.i...</td>\n",
       "    </tr>\n",
       "    <tr>\n",
       "      <th>9</th>\n",
       "      <td>Marco Valgimigli</td>\n",
       "      <td>https://openalex.org/A2787512318</td>\n",
       "      <td>https://orcid.org/0000-0002-4353-7110</td>\n",
       "      <td>843</td>\n",
       "      <td>65194</td>\n",
       "      <td>https://api.openalex.org/works?filter=author.i...</td>\n",
       "    </tr>\n",
       "    <tr>\n",
       "      <th>10</th>\n",
       "      <td>Thierry Carrel</td>\n",
       "      <td>https://openalex.org/A604791313</td>\n",
       "      <td>https://orcid.org/0000-0002-7881-6822</td>\n",
       "      <td>824</td>\n",
       "      <td>18136</td>\n",
       "      <td>https://api.openalex.org/works?filter=author.i...</td>\n",
       "    </tr>\n",
       "    <tr>\n",
       "      <th>11</th>\n",
       "      <td>Norbert Thom</td>\n",
       "      <td>https://openalex.org/A2590639528</td>\n",
       "      <td>None</td>\n",
       "      <td>780</td>\n",
       "      <td>706</td>\n",
       "      <td>https://api.openalex.org/works?filter=author.i...</td>\n",
       "    </tr>\n",
       "    <tr>\n",
       "      <th>12</th>\n",
       "      <td>Thomas Geiser</td>\n",
       "      <td>https://openalex.org/A2073116349</td>\n",
       "      <td>None</td>\n",
       "      <td>735</td>\n",
       "      <td>5628</td>\n",
       "      <td>https://api.openalex.org/works?filter=author.i...</td>\n",
       "    </tr>\n",
       "    <tr>\n",
       "      <th>13</th>\n",
       "      <td>Heinrich Mattle</td>\n",
       "      <td>https://openalex.org/A228242714</td>\n",
       "      <td>https://orcid.org/0000-0001-7968-1731</td>\n",
       "      <td>701</td>\n",
       "      <td>25084</td>\n",
       "      <td>https://api.openalex.org/works?filter=author.i...</td>\n",
       "    </tr>\n",
       "    <tr>\n",
       "      <th>14</th>\n",
       "      <td>Alberto Cervelli</td>\n",
       "      <td>https://openalex.org/A2818111121</td>\n",
       "      <td>https://orcid.org/0000-0002-0518-1459</td>\n",
       "      <td>663</td>\n",
       "      <td>25129</td>\n",
       "      <td>https://api.openalex.org/works?filter=author.i...</td>\n",
       "    </tr>\n",
       "    <tr>\n",
       "      <th>15</th>\n",
       "      <td>Nicolas Thomas</td>\n",
       "      <td>https://openalex.org/A2136270743</td>\n",
       "      <td>https://orcid.org/0000-0002-0146-0071</td>\n",
       "      <td>657</td>\n",
       "      <td>14496</td>\n",
       "      <td>https://api.openalex.org/works?filter=author.i...</td>\n",
       "    </tr>\n",
       "    <tr>\n",
       "      <th>16</th>\n",
       "      <td>Maria Elena Stramaglia</td>\n",
       "      <td>https://openalex.org/A2904670603</td>\n",
       "      <td>None</td>\n",
       "      <td>632</td>\n",
       "      <td>22574</td>\n",
       "      <td>https://api.openalex.org/works?filter=author.i...</td>\n",
       "    </tr>\n",
       "    <tr>\n",
       "      <th>17</th>\n",
       "      <td>Horst Bunke</td>\n",
       "      <td>https://openalex.org/A1948338481</td>\n",
       "      <td>None</td>\n",
       "      <td>599</td>\n",
       "      <td>22092</td>\n",
       "      <td>https://api.openalex.org/works?filter=author.i...</td>\n",
       "    </tr>\n",
       "    <tr>\n",
       "      <th>18</th>\n",
       "      <td>Emanuele Zucca</td>\n",
       "      <td>https://openalex.org/A2019598601</td>\n",
       "      <td>https://orcid.org/0000-0002-5522-6109</td>\n",
       "      <td>575</td>\n",
       "      <td>27332</td>\n",
       "      <td>https://api.openalex.org/works?filter=author.i...</td>\n",
       "    </tr>\n",
       "    <tr>\n",
       "      <th>19</th>\n",
       "      <td>Niklaus P. Lang</td>\n",
       "      <td>https://openalex.org/A2633098061</td>\n",
       "      <td>https://orcid.org/0000-0002-6496-6846</td>\n",
       "      <td>559</td>\n",
       "      <td>44311</td>\n",
       "      <td>https://api.openalex.org/works?filter=author.i...</td>\n",
       "    </tr>\n",
       "  </tbody>\n",
       "</table>\n",
       "</div>"
      ],
      "text/plain": [
       "                    author                       openalex_id  \\\n",
       "0        Antonio Ereditato  https://openalex.org/A2420227930   \n",
       "1        Stephan Windecker  https://openalex.org/A2149334469   \n",
       "2          Hans Peter Beck  https://openalex.org/A2944228016   \n",
       "3               Peter Wurz  https://openalex.org/A2190147612   \n",
       "4           Matthias Egger  https://openalex.org/A2132296772   \n",
       "5               Sigve Haug  https://openalex.org/A2108311072   \n",
       "6           Bernhard Meier  https://openalex.org/A2019380442   \n",
       "7          Oscar H. Franco  https://openalex.org/A2780562525   \n",
       "8            Mark A. Rubin  https://openalex.org/A2098244239   \n",
       "9         Marco Valgimigli  https://openalex.org/A2787512318   \n",
       "10          Thierry Carrel   https://openalex.org/A604791313   \n",
       "11            Norbert Thom  https://openalex.org/A2590639528   \n",
       "12           Thomas Geiser  https://openalex.org/A2073116349   \n",
       "13         Heinrich Mattle   https://openalex.org/A228242714   \n",
       "14        Alberto Cervelli  https://openalex.org/A2818111121   \n",
       "15          Nicolas Thomas  https://openalex.org/A2136270743   \n",
       "16  Maria Elena Stramaglia  https://openalex.org/A2904670603   \n",
       "17             Horst Bunke  https://openalex.org/A1948338481   \n",
       "18          Emanuele Zucca  https://openalex.org/A2019598601   \n",
       "19         Niklaus P. Lang  https://openalex.org/A2633098061   \n",
       "\n",
       "                                    orcid  works_count  cited_by_count  \\\n",
       "0   https://orcid.org/0000-0002-5423-8079         1608           83747   \n",
       "1   https://orcid.org/0000-0003-2653-6762         1458          138808   \n",
       "2   https://orcid.org/0000-0001-7212-1096         1241           80620   \n",
       "3   https://orcid.org/0000-0002-2603-1169         1046           16068   \n",
       "4   https://orcid.org/0000-0001-7462-5132         1024          205205   \n",
       "5   https://orcid.org/0000-0003-0442-3361          997           67892   \n",
       "6   https://orcid.org/0000-0001-7566-8011          956           35063   \n",
       "7   https://orcid.org/0000-0002-4606-4929          949           60692   \n",
       "8   https://orcid.org/0000-0001-5421-0220          855           92276   \n",
       "9   https://orcid.org/0000-0002-4353-7110          843           65194   \n",
       "10  https://orcid.org/0000-0002-7881-6822          824           18136   \n",
       "11                                   None          780             706   \n",
       "12                                   None          735            5628   \n",
       "13  https://orcid.org/0000-0001-7968-1731          701           25084   \n",
       "14  https://orcid.org/0000-0002-0518-1459          663           25129   \n",
       "15  https://orcid.org/0000-0002-0146-0071          657           14496   \n",
       "16                                   None          632           22574   \n",
       "17                                   None          599           22092   \n",
       "18  https://orcid.org/0000-0002-5522-6109          575           27332   \n",
       "19  https://orcid.org/0000-0002-6496-6846          559           44311   \n",
       "\n",
       "                                           works_link  \n",
       "0   https://api.openalex.org/works?filter=author.i...  \n",
       "1   https://api.openalex.org/works?filter=author.i...  \n",
       "2   https://api.openalex.org/works?filter=author.i...  \n",
       "3   https://api.openalex.org/works?filter=author.i...  \n",
       "4   https://api.openalex.org/works?filter=author.i...  \n",
       "5   https://api.openalex.org/works?filter=author.i...  \n",
       "6   https://api.openalex.org/works?filter=author.i...  \n",
       "7   https://api.openalex.org/works?filter=author.i...  \n",
       "8   https://api.openalex.org/works?filter=author.i...  \n",
       "9   https://api.openalex.org/works?filter=author.i...  \n",
       "10  https://api.openalex.org/works?filter=author.i...  \n",
       "11  https://api.openalex.org/works?filter=author.i...  \n",
       "12  https://api.openalex.org/works?filter=author.i...  \n",
       "13  https://api.openalex.org/works?filter=author.i...  \n",
       "14  https://api.openalex.org/works?filter=author.i...  \n",
       "15  https://api.openalex.org/works?filter=author.i...  \n",
       "16  https://api.openalex.org/works?filter=author.i...  \n",
       "17  https://api.openalex.org/works?filter=author.i...  \n",
       "18  https://api.openalex.org/works?filter=author.i...  \n",
       "19  https://api.openalex.org/works?filter=author.i...  "
      ]
     },
     "execution_count": 70,
     "metadata": {},
     "output_type": "execute_result"
    }
   ],
   "source": [
    "df"
   ]
  },
  {
   "cell_type": "markdown",
   "metadata": {},
   "source": [
    "#### Filter by multiple features & use logical operators"
   ]
  },
  {
   "cell_type": "markdown",
   "metadata": {},
   "source": [
    "You can not only use several filters at once, by **simply stacking** them. An you can use filters with **logical operators**, like `!` for NOT, `|` for OR, less-than `<`, or greater-than `>`. For further details see [tihs page](https://docs.openalex.org/api/get-lists-of-entities/filter-entity-lists#logical-expressions)."
   ]
  },
  {
   "cell_type": "code",
   "execution_count": 71,
   "metadata": {},
   "outputs": [
    {
     "data": {
      "text/plain": [
       "{'count': 5, 'db_response_time_ms': 33, 'page': 1, 'per_page': 20}"
      ]
     },
     "execution_count": 71,
     "metadata": {},
     "output_type": "execute_result"
    }
   ],
   "source": [
    "# Example: Authors with only a few publications, but high citation count\n",
    "url = 'https://api.openalex.org/authors?'\n",
    "params = {'mailto': email,\n",
    "         'filter': 'works_count:<5,cited_by_count:>100000',\n",
    "         'per-page': 20}\n",
    "\n",
    "r = requests.get(url, params=params) \n",
    "data = r.json()\n",
    "data['meta']"
   ]
  },
  {
   "cell_type": "code",
   "execution_count": 72,
   "metadata": {},
   "outputs": [
    {
     "data": {
      "text/plain": [
       "[['Susan E B Folstein', 4, 151850],\n",
       " ['A. Lewis Farr', 2, 282317],\n",
       " ['Rose J. Randall', 1, 281373],\n",
       " ['Nira J. Rosebrough', 1, 281373],\n",
       " ['R Core Team', 1, 131554]]"
      ]
     },
     "execution_count": 72,
     "metadata": {},
     "output_type": "execute_result"
    }
   ],
   "source": [
    "[[i['display_name'], i['works_count'], i['cited_by_count']] for i in data['results']]"
   ]
  },
  {
   "cell_type": "code",
   "execution_count": 73,
   "metadata": {},
   "outputs": [
    {
     "data": {
      "text/plain": [
       "{'count': 585871, 'db_response_time_ms': 125, 'page': 1, 'per_page': 20}"
      ]
     },
     "execution_count": 73,
     "metadata": {},
     "output_type": "execute_result"
    }
   ],
   "source": [
    "# Example: Authors from archives or nonprofit institutions outside the USA\n",
    "url = 'https://api.openalex.org/authors?'\n",
    "params = {'mailto': email,\n",
    "         'filter': 'last_known_institution.type:archive|nonprofit,last_known_institution.country_code:!us',\n",
    "         'per-page': 20}\n",
    "\n",
    "r = requests.get(url, params=params) \n",
    "data = r.json()\n",
    "data['meta']"
   ]
  },
  {
   "cell_type": "code",
   "execution_count": 74,
   "metadata": {},
   "outputs": [
    {
     "data": {
      "text/plain": [
       "[['George Davey Smith', 'Cancer Research UK'],\n",
       " ['Klaus Müllen', 'Max Planck Society'],\n",
       " ['David H. Adams', 'Wellcome Sanger Institute'],\n",
       " ['Cheryl H. Arrowsmith', 'Structural Genomics Consortium'],\n",
       " ['Dierk Raabe', 'Max Planck Society'],\n",
       " ['Th. Müller', 'Max Planck Society'],\n",
       " ['David Cameron', 'Cancer Research UK'],\n",
       " ['Jochen Greiner', 'Max Planck Society'],\n",
       " ['Benjamin List', 'Max Planck Society'],\n",
       " ['Thomas H. Marwick', 'Baker IDI Heart and Diabetes Institute'],\n",
       " ['Heinrich H. Bülthoff', 'Max Planck Society'],\n",
       " ['Jian Xu', 'Chinese Research Academy of Environmental Sciences'],\n",
       " ['Werner Seeger', 'Max Planck Society'],\n",
       " ['Stefan Kluth', 'Max Planck Society'],\n",
       " ['Martin Jansen', 'Max Planck Society'],\n",
       " ['J. L. Prieto', 'Millennium Institute'],\n",
       " ['Graham G. Giles', 'Cancer Council Victoria'],\n",
       " ['Siegfried Bethke', 'Max Planck Society'],\n",
       " ['Th. Henning', 'Max Planck Society'],\n",
       " ['Sebastian Grinstein', 'Institució Catalana de Recerca i Estudis Avançats']]"
      ]
     },
     "execution_count": 74,
     "metadata": {},
     "output_type": "execute_result"
    }
   ],
   "source": [
    "[[i['display_name'], i['last_known_institution']['display_name']] for i in data['results']]"
   ]
  },
  {
   "cell_type": "markdown",
   "metadata": {},
   "source": [
    "#### Group authors due to a certain feature"
   ]
  },
  {
   "cell_type": "markdown",
   "metadata": {},
   "source": [
    "As a use case, it is very easy to group all authors according to their last known institution's country. Just use the `last_known_institution.country_code` sub-attribute of the *Author* object as **grouping parameter**. Find more features to group authors by [here](https://docs.openalex.org/api/get-groups-of-entities#authors-group_by-attributes)."
   ]
  },
  {
   "cell_type": "code",
   "execution_count": 75,
   "metadata": {},
   "outputs": [],
   "source": [
    "url = 'https://api.openalex.org/authors?'\n",
    "params = {'mailto': email,\n",
    "         'group_by': 'last_known_institution.country_code'}\n",
    "\n",
    "r = requests.get(url, params=params) \n",
    "data = r.json()"
   ]
  },
  {
   "cell_type": "code",
   "execution_count": 76,
   "metadata": {},
   "outputs": [
    {
     "data": {
      "text/plain": [
       "{'count': 200, 'db_response_time_ms': 2025, 'page': 1, 'per_page': 200}"
      ]
     },
     "execution_count": 76,
     "metadata": {},
     "output_type": "execute_result"
    }
   ],
   "source": [
    "data['meta']"
   ]
  },
  {
   "cell_type": "code",
   "execution_count": 77,
   "metadata": {},
   "outputs": [
    {
     "data": {
      "text/plain": [
       "[['unknown', 162630674],\n",
       " ['United States of America', 12601130],\n",
       " ['China', 10484548],\n",
       " ['United Kingdom of Great Britain and Northern Ireland', 2752374],\n",
       " ['Japan', 2509248],\n",
       " ['Germany', 2075026],\n",
       " ['India', 1860613],\n",
       " ['Brazil', 1581809],\n",
       " ['France', 1564974],\n",
       " ['Canada', 1325666]]"
      ]
     },
     "execution_count": 77,
     "metadata": {},
     "output_type": "execute_result"
    }
   ],
   "source": [
    "# Accessing the 10 biggest countries of affiliations, default sorted in descending count\n",
    "[[i['key_display_name'], i['count']] for i in data['group_by'][:10]]"
   ]
  },
  {
   "cell_type": "markdown",
   "metadata": {},
   "source": [
    "#### Combine filters and grouping"
   ]
  },
  {
   "cell_type": "markdown",
   "metadata": {},
   "source": [
    "Of course you can combine filters and groupings also for authors' data. In the example beneath you will group all authors writing about *Big Data* `C75684735` according to their (last known) institution type."
   ]
  },
  {
   "cell_type": "code",
   "execution_count": 78,
   "metadata": {},
   "outputs": [
    {
     "data": {
      "text/plain": [
       "{'count': 9, 'db_response_time_ms': 65, 'page': 1, 'per_page': 200}"
      ]
     },
     "execution_count": 78,
     "metadata": {},
     "output_type": "execute_result"
    }
   ],
   "source": [
    "url = 'https://api.openalex.org/authors?'\n",
    "params = {'mailto': email,\n",
    "         'filter': 'x_concepts.id:C75684735',\n",
    "         'group_by': 'last_known_institution.type'}\n",
    "\n",
    "r = requests.get(url, params=params) \n",
    "data = r.json()\n",
    "data['meta']"
   ]
  },
  {
   "cell_type": "code",
   "execution_count": 79,
   "metadata": {},
   "outputs": [
    {
     "data": {
      "text/plain": [
       "[{'key': 'unknown', 'key_display_name': 'unknown', 'count': 121255},\n",
       " {'key': 'education', 'key_display_name': 'education', 'count': 57492},\n",
       " {'key': 'company', 'key_display_name': 'company', 'count': 6556},\n",
       " {'key': 'facility', 'key_display_name': 'facility', 'count': 2952},\n",
       " {'key': 'government', 'key_display_name': 'government', 'count': 2734},\n",
       " {'key': 'nonprofit', 'key_display_name': 'nonprofit', 'count': 1156},\n",
       " {'key': 'healthcare', 'key_display_name': 'healthcare', 'count': 716},\n",
       " {'key': 'other', 'key_display_name': 'other', 'count': 389},\n",
       " {'key': 'archive', 'key_display_name': 'archive', 'count': 76}]"
      ]
     },
     "execution_count": 79,
     "metadata": {},
     "output_type": "execute_result"
    }
   ],
   "source": [
    "data['group_by']"
   ]
  },
  {
   "cell_type": "code",
   "execution_count": 80,
   "metadata": {},
   "outputs": [],
   "source": [
    "inst_data =[[i['key_display_name'], i['count']] for i in data['group_by']]"
   ]
  },
  {
   "cell_type": "code",
   "execution_count": 81,
   "metadata": {},
   "outputs": [
    {
     "data": {
      "text/plain": [
       "193326"
      ]
     },
     "execution_count": 81,
     "metadata": {},
     "output_type": "execute_result"
    }
   ],
   "source": [
    "inst_sum = 0\n",
    "for i in inst_data:\n",
    "    inst_sum += i[1]\n",
    "inst_sum"
   ]
  },
  {
   "cell_type": "code",
   "execution_count": 82,
   "metadata": {},
   "outputs": [
    {
     "data": {
      "text/plain": [
       "[['unknown', 121255, '62.7%'],\n",
       " ['education', 57492, '29.7%'],\n",
       " ['company', 6556, '3.4%'],\n",
       " ['facility', 2952, '1.5%'],\n",
       " ['government', 2734, '1.4%'],\n",
       " ['nonprofit', 1156, '0.6%'],\n",
       " ['healthcare', 716, '0.4%'],\n",
       " ['other', 389, '0.2%'],\n",
       " ['archive', 76, '0.0%']]"
      ]
     },
     "execution_count": 82,
     "metadata": {},
     "output_type": "execute_result"
    }
   ],
   "source": [
    "# Calculating and adding percentages\n",
    "for i in inst_data:\n",
    "    i.append(str(round(i[1]/inst_sum*100,1)) + '%')\n",
    "inst_data"
   ]
  },
  {
   "cell_type": "markdown",
   "metadata": {},
   "source": [
    "Now let's have a look at those authors writing about big data, whose last know affiliation is a company. For this, we will use 2 filters concurrently here: `x_concepts.id:C75684735` and `last_known_institution.type=company`."
   ]
  },
  {
   "cell_type": "code",
   "execution_count": 83,
   "metadata": {},
   "outputs": [
    {
     "data": {
      "text/plain": [
       "{'count': 6556, 'db_response_time_ms': 118, 'page': 1, 'per_page': 25}"
      ]
     },
     "execution_count": 83,
     "metadata": {},
     "output_type": "execute_result"
    }
   ],
   "source": [
    "url = 'https://api.openalex.org/authors?'\n",
    "params = {'mailto': email,\n",
    "         'filter': 'x_concepts.id:C75684735,last_known_institution.type:company'}\n",
    "\n",
    "r = requests.get(url, params=params) \n",
    "data = r.json()\n",
    "data['meta']"
   ]
  },
  {
   "cell_type": "code",
   "execution_count": 84,
   "metadata": {},
   "outputs": [
    {
     "data": {
      "text/plain": [
       "[['Aris Gkoulalas-Divanis', 'IBM', 106],\n",
       " ['Madhusudhan Govindaraju', 'IBM', 97],\n",
       " ['Lexi Xu', 'China United Network Communications Group', 92],\n",
       " ['Fatma Ozcan', 'IBM', 80],\n",
       " ['Ganesh Ananthanarayanan', 'Microsoft', 77],\n",
       " ['Meikel Poess', 'Oracle', 74],\n",
       " ['Matteo Interlandi', 'Microsoft', 73],\n",
       " ['Badrish Chandramouli', 'Microsoft', 73],\n",
       " ['Alekh Jindal', 'Microsoft', 63],\n",
       " ['Xinzhou Cheng', 'China United Network Communications Group', 62],\n",
       " ['Yuanyuan Tian', 'IBM', 60],\n",
       " ['Raghunath Nambiar', 'Cisco Systems', 56],\n",
       " ['Mohamed Y. Eltabakh', 'Teradata', 53],\n",
       " ['Anupama Raman', 'IBM', 51],\n",
       " ['Aameek Singh', 'IBM', 49],\n",
       " ['Rekha Singhal', 'Tata Consultancy Services', 48],\n",
       " ['Sudipto Das', 'Amazon', 48],\n",
       " ['Emmanuel Mathot', 'Critical Software', 48],\n",
       " ['Zhen Jia', 'Amazon', 47],\n",
       " ['Amol Ghoting', 'LinkedIn', 44]]"
      ]
     },
     "execution_count": 84,
     "metadata": {},
     "output_type": "execute_result"
    }
   ],
   "source": [
    "# Showing the 20 most productive authors in Big Data working at a company\n",
    "[[i['display_name'], i['last_known_institution']['display_name'], i['works_count']] for i in data['results'][:20]]"
   ]
  },
  {
   "cell_type": "markdown",
   "metadata": {},
   "source": [
    "## 🔖 Concepts endpoint"
   ]
  },
  {
   "cell_type": "markdown",
   "metadata": {},
   "source": [
    "***Concept*** entities are OpenAlex' notion of subjects, which are attached to *Works*,  but also in an experimental way to *Authors*, *Institutions* and *Venues*. All concepts refer to [Wikidata](https://www.wikidata.org/wiki/Wikidata:Main_Page) entities. [Here](https://docs.openalex.org/about-the-data/concept) you find the *Concept* object documentation with more information.\n",
    "\n",
    "Concepts can be accessed via their OpenAlex identifier (starting with an \"C\" like `C75684735`) or via Wikidata identifier like `Q858810`. You might also try a random concept with the request `https://api.openalex.org/concepts/random`."
   ]
  },
  {
   "cell_type": "code",
   "execution_count": 85,
   "metadata": {},
   "outputs": [],
   "source": [
    "base_url = 'https://api.openalex.org/concepts/'\n",
    "params = {'mailto': email} \n",
    "\n",
    "openalex_id = 'C2778269268'\n",
    "wd_id = 'wikidata:Q1026962'\n",
    "\n",
    "# Adjust identifier\n",
    "r = requests.get(base_url + wd_id, params=params) \n",
    "data = r.json()"
   ]
  },
  {
   "cell_type": "code",
   "execution_count": 86,
   "metadata": {},
   "outputs": [
    {
     "data": {
      "text/plain": [
       "['id',\n",
       " 'wikidata',\n",
       " 'display_name',\n",
       " 'level',\n",
       " 'description',\n",
       " 'works_count',\n",
       " 'cited_by_count',\n",
       " 'ids',\n",
       " 'image_url',\n",
       " 'image_thumbnail_url',\n",
       " 'international',\n",
       " 'ancestors',\n",
       " 'related_concepts',\n",
       " 'counts_by_year',\n",
       " 'works_api_url',\n",
       " 'updated_date',\n",
       " 'created_date']"
      ]
     },
     "execution_count": 86,
     "metadata": {},
     "output_type": "execute_result"
    }
   ],
   "source": [
    "# Available attributes of the Concept entity\n",
    "list(data)"
   ]
  },
  {
   "cell_type": "code",
   "execution_count": 87,
   "metadata": {},
   "outputs": [
    {
     "data": {
      "text/plain": [
       "'Digital humanities'"
      ]
     },
     "execution_count": 87,
     "metadata": {},
     "output_type": "execute_result"
    }
   ],
   "source": [
    "data['display_name']"
   ]
  },
  {
   "cell_type": "code",
   "execution_count": 88,
   "metadata": {},
   "outputs": [
    {
     "data": {
      "text/plain": [
       "{'openalex': 'https://openalex.org/C24351657',\n",
       " 'wikidata': 'https://www.wikidata.org/wiki/Q1026962',\n",
       " 'mag': '24351657',\n",
       " 'wikipedia': 'https://en.wikipedia.org/wiki/Digital%20humanities'}"
      ]
     },
     "execution_count": 88,
     "metadata": {},
     "output_type": "execute_result"
    }
   ],
   "source": [
    "# Available identifiers\n",
    "data['ids']"
   ]
  },
  {
   "cell_type": "code",
   "execution_count": 89,
   "metadata": {},
   "outputs": [
    {
     "data": {
      "text/plain": [
       "'an area of scholarly activity at the intersection of computing or digital technologies and the disciplines of the humanities'"
      ]
     },
     "execution_count": 89,
     "metadata": {},
     "output_type": "execute_result"
    }
   ],
   "source": [
    "data['description']"
   ]
  },
  {
   "cell_type": "code",
   "execution_count": 90,
   "metadata": {},
   "outputs": [
    {
     "data": {
      "text/plain": [
       "'https://api.openalex.org/works?filter=concepts.id:C24351657'"
      ]
     },
     "execution_count": 90,
     "metadata": {},
     "output_type": "execute_result"
    }
   ],
   "source": [
    "# API link to works dealing with the concept\n",
    "data['works_api_url']"
   ]
  },
  {
   "cell_type": "code",
   "execution_count": 91,
   "metadata": {},
   "outputs": [
    {
     "data": {
      "text/plain": [
       "[{'year': 2022, 'works_count': 100, 'cited_by_count': 286},\n",
       " {'year': 2021, 'works_count': 654, 'cited_by_count': 2231},\n",
       " {'year': 2020, 'works_count': 1230, 'cited_by_count': 2191},\n",
       " {'year': 2019, 'works_count': 1128, 'cited_by_count': 2244},\n",
       " {'year': 2018, 'works_count': 1246, 'cited_by_count': 1890},\n",
       " {'year': 2017, 'works_count': 1447, 'cited_by_count': 1776},\n",
       " {'year': 2016, 'works_count': 1576, 'cited_by_count': 1851},\n",
       " {'year': 2015, 'works_count': 1542, 'cited_by_count': 2026},\n",
       " {'year': 2014, 'works_count': 1308, 'cited_by_count': 1693},\n",
       " {'year': 2013, 'works_count': 1580, 'cited_by_count': 1337},\n",
       " {'year': 2012, 'works_count': 1091, 'cited_by_count': 1198}]"
      ]
     },
     "execution_count": 91,
     "metadata": {},
     "output_type": "execute_result"
    }
   ],
   "source": [
    "# Count of works and citations\n",
    "data['counts_by_year']"
   ]
  },
  {
   "cell_type": "code",
   "execution_count": 92,
   "metadata": {},
   "outputs": [
    {
     "data": {
      "text/plain": [
       "'https://upload.wikimedia.org/wikipedia/commons/9/9b/Pride_and_Prejudice_in_Voyant_Tools.png'"
      ]
     },
     "execution_count": 92,
     "metadata": {},
     "output_type": "execute_result"
    }
   ],
   "source": [
    "data['image_url']"
   ]
  },
  {
   "cell_type": "code",
   "execution_count": 93,
   "metadata": {},
   "outputs": [
    {
     "name": "stdout",
     "output_type": "stream",
     "text": [
      "數位人文學\n"
     ]
    },
    {
     "data": {
      "text/plain": [
       "'Anwendung computergestützter Verfahren und digitaler Ressourcen in den Geistes- und Kulturwissenschaften'"
      ]
     },
     "execution_count": 93,
     "metadata": {},
     "output_type": "execute_result"
    }
   ],
   "source": [
    "# International labels: display names and descriptions in various languages\n",
    "print(data['international']['display_name']['zh'])\n",
    "data['international']['description']['de']"
   ]
  },
  {
   "cell_type": "code",
   "execution_count": 94,
   "metadata": {},
   "outputs": [
    {
     "data": {
      "text/plain": [
       "[['Humanities', 3.7359028],\n",
       " ['XML', 2.545006],\n",
       " ['Information science', 2.2626412],\n",
       " ['Sociology', 2.1464186],\n",
       " ['Digital scholarship', 2.0532613],\n",
       " ['Text mining', 1.9728084],\n",
       " ['Digital library', 1.8703471],\n",
       " ['Social science', 1.8225119],\n",
       " ['Multimedia', 1.7509125],\n",
       " ['Computer science', 1.6482133],\n",
       " ['Digital media', 1.5831949],\n",
       " ['Geographic information system', 1.5214525],\n",
       " ['Media studies', 1.5027701],\n",
       " ['Information technology', 1.497078],\n",
       " ['Digitization', 1.4900615],\n",
       " ['Big data', 1.4359401],\n",
       " ['Metadata', 1.4208316],\n",
       " ['Museum informatics', 0.81996965],\n",
       " ['Stylometry', 0.79749846]]"
      ]
     },
     "execution_count": 94,
     "metadata": {},
     "output_type": "execute_result"
    }
   ],
   "source": [
    "# Related concepts with \"relatedness\" score\n",
    "[[i['display_name'], i['score']] for i in data['related_concepts']]"
   ]
  },
  {
   "cell_type": "markdown",
   "metadata": {},
   "source": [
    "## 🏫 Institutions endpoint"
   ]
  },
  {
   "cell_type": "markdown",
   "metadata": {},
   "source": [
    "***Institution*** entities are the organizations which host the authors when they write their publications (affiliations). Thus, publications can be assigned as output to certain institutions. OpenAlex uses the categories of institutions of the [ROR](https://ror.org/) registry: education, healthcare, governnment, nonprofit, archive, company, facility, unknown. See also the [Institution](https://docs.openalex.org/about-the-data/institution) object documentation.\n",
    "\n",
    "You can use the `/institutions` endpoint with OpenAlex identifier (starting with an \"I\" like `I118564535`) or the popular identifier ROR ID."
   ]
  },
  {
   "cell_type": "code",
   "execution_count": 95,
   "metadata": {},
   "outputs": [],
   "source": [
    "base_url = 'https://api.openalex.org/institutions/'\n",
    "params = {'mailto': email} \n",
    "\n",
    "#openalex_id = 'I118564535'\n",
    "#openalex_id_namespace = 'openalex:I118564535'\n",
    "ror_id = 'ror:02k7v4d05'\n",
    "\n",
    "# Adapt identifier if necessary\n",
    "r = requests.get(base_url + ror_id, params=params) \n",
    "data = r.json()"
   ]
  },
  {
   "cell_type": "code",
   "execution_count": 96,
   "metadata": {},
   "outputs": [
    {
     "data": {
      "text/plain": [
       "['id',\n",
       " 'ror',\n",
       " 'display_name',\n",
       " 'country_code',\n",
       " 'type',\n",
       " 'homepage_url',\n",
       " 'image_url',\n",
       " 'image_thumbnail_url',\n",
       " 'display_name_acronyms',\n",
       " 'display_name_alternatives',\n",
       " 'works_count',\n",
       " 'cited_by_count',\n",
       " 'ids',\n",
       " 'geo',\n",
       " 'international',\n",
       " 'associated_institutions',\n",
       " 'counts_by_year',\n",
       " 'x_concepts',\n",
       " 'works_api_url',\n",
       " 'updated_date',\n",
       " 'created_date']"
      ]
     },
     "execution_count": 96,
     "metadata": {},
     "output_type": "execute_result"
    }
   ],
   "source": [
    "# Overview of data fields\n",
    "list(data)"
   ]
  },
  {
   "cell_type": "code",
   "execution_count": 97,
   "metadata": {},
   "outputs": [
    {
     "data": {
      "text/plain": [
       "'https://openalex.org/I118564535'"
      ]
     },
     "execution_count": 97,
     "metadata": {},
     "output_type": "execute_result"
    }
   ],
   "source": [
    "# OpenAlex institution ID\n",
    "data['id']"
   ]
  },
  {
   "cell_type": "code",
   "execution_count": 98,
   "metadata": {},
   "outputs": [
    {
     "data": {
      "text/plain": [
       "{'openalex': 'https://openalex.org/I118564535',\n",
       " 'ror': 'https://ror.org/02k7v4d05',\n",
       " 'mag': '118564535',\n",
       " 'grid': 'grid.5734.5',\n",
       " 'wikipedia': 'https://en.wikipedia.org/wiki/University%20of%20Bern',\n",
       " 'wikidata': 'https://www.wikidata.org/wiki/Q659080'}"
      ]
     },
     "execution_count": 98,
     "metadata": {},
     "output_type": "execute_result"
    }
   ],
   "source": [
    "# All institution identifiers\n",
    "data['ids']"
   ]
  },
  {
   "cell_type": "code",
   "execution_count": 99,
   "metadata": {},
   "outputs": [
    {
     "data": {
      "text/plain": [
       "'University of Bern'"
      ]
     },
     "execution_count": 99,
     "metadata": {},
     "output_type": "execute_result"
    }
   ],
   "source": [
    "# Preferable name\n",
    "data['display_name']"
   ]
  },
  {
   "cell_type": "code",
   "execution_count": 100,
   "metadata": {},
   "outputs": [
    {
     "data": {
      "text/plain": [
       "['UB']"
      ]
     },
     "execution_count": 100,
     "metadata": {},
     "output_type": "execute_result"
    }
   ],
   "source": [
    "# Acronym\n",
    "data['display_name_acronyms']"
   ]
  },
  {
   "cell_type": "code",
   "execution_count": 101,
   "metadata": {},
   "outputs": [
    {
     "data": {
      "text/plain": [
       "'Universitas Bernensis'"
      ]
     },
     "execution_count": 101,
     "metadata": {},
     "output_type": "execute_result"
    }
   ],
   "source": [
    "# Display name in other languages, e.g. Latin\n",
    "data['international']['display_name']['la']"
   ]
  },
  {
   "cell_type": "code",
   "execution_count": 102,
   "metadata": {},
   "outputs": [
    {
     "data": {
      "text/plain": [
       "'https://api.openalex.org/works?filter=institutions.id:I118564535'"
      ]
     },
     "execution_count": 102,
     "metadata": {},
     "output_type": "execute_result"
    }
   ],
   "source": [
    "# API link to all affiliated publications\n",
    "data['works_api_url']"
   ]
  },
  {
   "cell_type": "code",
   "execution_count": 103,
   "metadata": {},
   "outputs": [
    {
     "data": {
      "text/plain": [
       "7104416"
      ]
     },
     "execution_count": 103,
     "metadata": {},
     "output_type": "execute_result"
    }
   ],
   "source": [
    "# Number of citations of affiliated publications\n",
    "data['cited_by_count']"
   ]
  },
  {
   "cell_type": "code",
   "execution_count": 104,
   "metadata": {},
   "outputs": [
    {
     "data": {
      "text/plain": [
       "[{'year': 2022, 'works_count': 1204, 'cited_by_count': 131138},\n",
       " {'year': 2021, 'works_count': 7282, 'cited_by_count': 841091},\n",
       " {'year': 2020, 'works_count': 6035, 'cited_by_count': 650140},\n",
       " {'year': 2019, 'works_count': 5409, 'cited_by_count': 546343},\n",
       " {'year': 2018, 'works_count': 4802, 'cited_by_count': 473974},\n",
       " {'year': 2017, 'works_count': 4780, 'cited_by_count': 477116},\n",
       " {'year': 2016, 'works_count': 4334, 'cited_by_count': 467887},\n",
       " {'year': 2015, 'works_count': 3980, 'cited_by_count': 452230},\n",
       " {'year': 2014, 'works_count': 3683, 'cited_by_count': 391733},\n",
       " {'year': 2013, 'works_count': 3401, 'cited_by_count': 369875},\n",
       " {'year': 2012, 'works_count': 3260, 'cited_by_count': 313580}]"
      ]
     },
     "execution_count": 104,
     "metadata": {},
     "output_type": "execute_result"
    }
   ],
   "source": [
    "# Number of affiliated publications and citations by year, since 2012\n",
    "data['counts_by_year']"
   ]
  },
  {
   "cell_type": "code",
   "execution_count": 105,
   "metadata": {},
   "outputs": [
    {
     "data": {
      "text/plain": [
       "[{'id': 'https://openalex.org/I2801112126',\n",
       "  'ror': 'https://ror.org/01q9sj412',\n",
       "  'display_name': 'University Hospital of Bern',\n",
       "  'country_code': 'CH',\n",
       "  'type': 'healthcare',\n",
       "  'relationship': 'related'},\n",
       " {'id': 'https://openalex.org/I4210087665',\n",
       "  'ror': 'https://ror.org/003bz8x96',\n",
       "  'display_name': 'Wiederkäuerklinik',\n",
       "  'country_code': 'CH',\n",
       "  'type': 'healthcare',\n",
       "  'relationship': 'related'}]"
      ]
     },
     "execution_count": 105,
     "metadata": {},
     "output_type": "execute_result"
    }
   ],
   "source": [
    "# Associated institutions\n",
    "data['associated_institutions']"
   ]
  },
  {
   "cell_type": "code",
   "execution_count": 106,
   "metadata": {},
   "outputs": [
    {
     "data": {
      "text/plain": [
       "{'city': 'Bern',\n",
       " 'geonames_city_id': '2661552',\n",
       " 'region': None,\n",
       " 'country_code': 'CH',\n",
       " 'country': 'Switzerland',\n",
       " 'latitude': 46.95052,\n",
       " 'longitude': 7.438109}"
      ]
     },
     "execution_count": 106,
     "metadata": {},
     "output_type": "execute_result"
    }
   ],
   "source": [
    "# Geographical information\n",
    "data['geo']"
   ]
  },
  {
   "cell_type": "markdown",
   "metadata": {},
   "source": [
    "### Access multiple Institution entities"
   ]
  },
  {
   "cell_type": "markdown",
   "metadata": {},
   "source": [
    "You can access all *Institutions* at once, and use filters and groupings on them. See the available filters for *Institution* entities [here](https://docs.openalex.org/api/get-lists-of-entities/filter-entity-lists#institutions-filters) and possible grouping parameters [here](https://docs.openalex.org/api/get-groups-of-entities#institutions-group_by-attributes).\n",
    "\n",
    "In the example you will narrow down to Swiss institutionsi only and group these due to institution types."
   ]
  },
  {
   "cell_type": "code",
   "execution_count": 107,
   "metadata": {},
   "outputs": [],
   "source": [
    "url = 'https://api.openalex.org/institutions?'\n",
    "params = {'mailto': email,\n",
    "         'filter': 'country_code:CH',\n",
    "         'group_by': 'type'}\n",
    "\n",
    "r = requests.get(url, params=params) \n",
    "data = r.json()"
   ]
  },
  {
   "cell_type": "code",
   "execution_count": 108,
   "metadata": {},
   "outputs": [
    {
     "data": {
      "text/plain": [
       "{'count': 9, 'db_response_time_ms': 0, 'page': 1, 'per_page': 200}"
      ]
     },
     "execution_count": 108,
     "metadata": {},
     "output_type": "execute_result"
    }
   ],
   "source": [
    "data['meta']"
   ]
  },
  {
   "cell_type": "code",
   "execution_count": 109,
   "metadata": {},
   "outputs": [
    {
     "data": {
      "text/plain": [
       "[['company', 590],\n",
       " ['nonprofit', 201],\n",
       " ['other', 178],\n",
       " ['healthcare', 163],\n",
       " ['education', 127],\n",
       " ['government', 100],\n",
       " ['archive', 96],\n",
       " ['facility', 92],\n",
       " ['unknown', 55]]"
      ]
     },
     "execution_count": 109,
     "metadata": {},
     "output_type": "execute_result"
    }
   ],
   "source": [
    "[[i['key_display_name'], i['count']] for i in data['group_by']]"
   ]
  },
  {
   "cell_type": "markdown",
   "metadata": {},
   "source": [
    "Now, let's look at the 96 Swiss archives producing scholarly publications. To get this data, you have to use 2 filters at once: `country_code:CH` and `type:archive`."
   ]
  },
  {
   "cell_type": "code",
   "execution_count": 110,
   "metadata": {},
   "outputs": [
    {
     "data": {
      "text/plain": [
       "{'count': 96, 'db_response_time_ms': 28, 'page': 1, 'per_page': 25}"
      ]
     },
     "execution_count": 110,
     "metadata": {},
     "output_type": "execute_result"
    }
   ],
   "source": [
    "url = 'https://api.openalex.org/institutions?'\n",
    "params = {'mailto': email,\n",
    "         'filter': 'country_code:CH,type:archive'}\n",
    "\n",
    "r = requests.get(url, params=params) \n",
    "data = r.json()\n",
    "data['meta']"
   ]
  },
  {
   "cell_type": "code",
   "execution_count": 111,
   "metadata": {},
   "outputs": [
    {
     "data": {
      "text/plain": [
       "[['Natural History Museum of Geneva', 221],\n",
       " ['Swiss National Museum', 44],\n",
       " ['Swiss National Park', 42],\n",
       " ['Denkmalpflege und Archäologie', 38],\n",
       " ['Amt für Archäologie', 33],\n",
       " ['Sukkulenten-Sammlung Zürich', 31],\n",
       " [\"Musée d'Art et d'Histoire\", 13],\n",
       " ['Centre Suisse de Cartographie de la Faune', 13],\n",
       " ['Swiss National Library', 10],\n",
       " ['Basler Afrika Bibliographien', 10]]"
      ]
     },
     "execution_count": 111,
     "metadata": {},
     "output_type": "execute_result"
    }
   ],
   "source": [
    "# Showing the top 10\n",
    "[[i['display_name'], i['works_count']] for i in data['results'][:10]]"
   ]
  },
  {
   "cell_type": "markdown",
   "metadata": {},
   "source": [
    "## 📰 Venues endpoint"
   ]
  },
  {
   "cell_type": "markdown",
   "metadata": {},
   "source": [
    "***Venue*** entities in OpenAlex are the **media, infrastructures or organizations, which host publications**. For journal articles this will be their journals, for book parts their volume. Venues for instance can also be monograph series like `V4210167446` or repositories like `V2734324842`.\n",
    "\n",
    "To access data about a certain *Venue*, you can use its OpenAlex identifier (starting with a \"V\" like `V4210209919`) or the the popular [ISSN](https://en.wikipedia.org/wiki/International_Standard_Serial_Number) identifier. See also the [Venue](https://docs.openalex.org/about-the-data/venue) object documentation and try a random venue with `https://api.openalex.org/venues/random`."
   ]
  },
  {
   "cell_type": "code",
   "execution_count": 112,
   "metadata": {},
   "outputs": [],
   "source": [
    "base_url = 'https://api.openalex.org/venues/'\n",
    "params = {'mailto': email} \n",
    "\n",
    "#openalex_id = 'V4210226834'\n",
    "#issn = 'issn:0028-0836'   # non-OA journal\n",
    "issn = 'issn:1654-6369'   # OA journal\n",
    "\n",
    "r = requests.get(base_url + issn, params=params) \n",
    "data = r.json()"
   ]
  },
  {
   "cell_type": "code",
   "execution_count": 113,
   "metadata": {},
   "outputs": [
    {
     "data": {
      "text/plain": [
       "['id',\n",
       " 'issn_l',\n",
       " 'issn',\n",
       " 'display_name',\n",
       " 'publisher',\n",
       " 'works_count',\n",
       " 'cited_by_count',\n",
       " 'is_oa',\n",
       " 'is_in_doaj',\n",
       " 'homepage_url',\n",
       " 'ids',\n",
       " 'x_concepts',\n",
       " 'counts_by_year',\n",
       " 'works_api_url',\n",
       " 'updated_date',\n",
       " 'created_date']"
      ]
     },
     "execution_count": 113,
     "metadata": {},
     "output_type": "execute_result"
    }
   ],
   "source": [
    "list(data)"
   ]
  },
  {
   "cell_type": "code",
   "execution_count": 114,
   "metadata": {},
   "outputs": [
    {
     "data": {
      "text/plain": [
       "'https://openalex.org/V107893744'"
      ]
     },
     "execution_count": 114,
     "metadata": {},
     "output_type": "execute_result"
    }
   ],
   "source": [
    "# OpenAlex venue ID\n",
    "data['id']"
   ]
  },
  {
   "cell_type": "code",
   "execution_count": 115,
   "metadata": {},
   "outputs": [
    {
     "data": {
      "text/plain": [
       "{'openalex': 'https://openalex.org/V107893744',\n",
       " 'issn_l': '1654-6369',\n",
       " 'mag': '107893744',\n",
       " 'issn': ['1654-6369', '1654-4951']}"
      ]
     },
     "execution_count": 115,
     "metadata": {},
     "output_type": "execute_result"
    }
   ],
   "source": [
    "# All identifiers. \"issn_l\" should be used preferably while using OpenAlex API.\n",
    "data['ids']"
   ]
  },
  {
   "cell_type": "code",
   "execution_count": 116,
   "metadata": {},
   "outputs": [
    {
     "data": {
      "text/plain": [
       "'Ethics & Global Politics'"
      ]
     },
     "execution_count": 116,
     "metadata": {},
     "output_type": "execute_result"
    }
   ],
   "source": [
    "# Title of the venue\n",
    "data['display_name']"
   ]
  },
  {
   "cell_type": "code",
   "execution_count": 117,
   "metadata": {},
   "outputs": [
    {
     "data": {
      "text/plain": [
       "'Taylor & Francis'"
      ]
     },
     "execution_count": 117,
     "metadata": {},
     "output_type": "execute_result"
    }
   ],
   "source": [
    "# Publisher name\n",
    "data['publisher']"
   ]
  },
  {
   "cell_type": "code",
   "execution_count": 118,
   "metadata": {},
   "outputs": [],
   "source": [
    "data['homepage_url']"
   ]
  },
  {
   "cell_type": "code",
   "execution_count": 119,
   "metadata": {},
   "outputs": [
    {
     "name": "stdout",
     "output_type": "stream",
     "text": [
      "True\n"
     ]
    },
    {
     "data": {
      "text/plain": [
       "True"
      ]
     },
     "execution_count": 119,
     "metadata": {},
     "output_type": "execute_result"
    }
   ],
   "source": [
    "# Is it an Open Access venue (and is it in DOAJ registry)?\n",
    "print(data['is_oa'])\n",
    "data['is_in_doaj']"
   ]
  },
  {
   "cell_type": "code",
   "execution_count": 120,
   "metadata": {},
   "outputs": [
    {
     "data": {
      "text/plain": [
       "222"
      ]
     },
     "execution_count": 120,
     "metadata": {},
     "output_type": "execute_result"
    }
   ],
   "source": [
    "# Number of hosted publications\n",
    "data['works_count']"
   ]
  },
  {
   "cell_type": "code",
   "execution_count": 121,
   "metadata": {},
   "outputs": [
    {
     "data": {
      "text/plain": [
       "[{'year': 2022, 'works_count': 3, 'cited_by_count': 16},\n",
       " {'year': 2021, 'works_count': 16, 'cited_by_count': 254},\n",
       " {'year': 2020, 'works_count': 21, 'cited_by_count': 315},\n",
       " {'year': 2019, 'works_count': 23, 'cited_by_count': 334},\n",
       " {'year': 2018, 'works_count': 12, 'cited_by_count': 109},\n",
       " {'year': 2017, 'works_count': 7, 'cited_by_count': 209},\n",
       " {'year': 2016, 'works_count': 17, 'cited_by_count': 48},\n",
       " {'year': 2015, 'works_count': 11, 'cited_by_count': 108},\n",
       " {'year': 2014, 'works_count': 12, 'cited_by_count': 109},\n",
       " {'year': 2013, 'works_count': 22, 'cited_by_count': 212},\n",
       " {'year': 2012, 'works_count': 10, 'cited_by_count': 46}]"
      ]
     },
     "execution_count": 121,
     "metadata": {},
     "output_type": "execute_result"
    }
   ],
   "source": [
    "# Number of hosted publications and number of citations of hosted publications by year\n",
    "data['counts_by_year']"
   ]
  },
  {
   "cell_type": "code",
   "execution_count": 122,
   "metadata": {},
   "outputs": [
    {
     "data": {
      "text/plain": [
       "'https://api.openalex.org/works?filter=host_venue.id:V107893744'"
      ]
     },
     "execution_count": 122,
     "metadata": {},
     "output_type": "execute_result"
    }
   ],
   "source": [
    "# API link to hosted publications\n",
    "data['works_api_url']"
   ]
  },
  {
   "cell_type": "markdown",
   "metadata": {},
   "source": [
    "### Access multiple Venue entities"
   ]
  },
  {
   "cell_type": "markdown",
   "metadata": {},
   "source": [
    "You can access all *Venues* at once, and use filters and groupings on them. See the available filters for *Venue* entities [here](https://docs.openalex.org/api/get-lists-of-entities/filter-entity-lists#venues-filters) and possible grouping parameters [here](https://docs.openalex.org/api/get-groups-of-entities#venues-group_by-attributes).\n",
    "\n",
    "In the example at the end you will narrow down to open access venues only and group these due to publishers."
   ]
  },
  {
   "cell_type": "code",
   "execution_count": 123,
   "metadata": {},
   "outputs": [
    {
     "data": {
      "text/plain": [
       "{'count': 124066, 'db_response_time_ms': 18, 'page': 1, 'per_page': 25}"
      ]
     },
     "execution_count": 123,
     "metadata": {},
     "output_type": "execute_result"
    }
   ],
   "source": [
    "# Acessing all venues (sorted by number of works)\n",
    "url = 'https://api.openalex.org/venues?'\n",
    "params = {'mailto': email}\n",
    "\n",
    "r = requests.get(url, params=params) \n",
    "data = r.json()\n",
    "data['meta']"
   ]
  },
  {
   "cell_type": "code",
   "execution_count": 124,
   "metadata": {},
   "outputs": [
    {
     "data": {
      "text/plain": [
       "[['Social Science Research Network', 876560, None],\n",
       " ['Research Papers in Economics', 791035, None],\n",
       " ['ChemInform', 728300, False],\n",
       " ['Lecture Notes in Computer Science', 493532, False],\n",
       " ['BMJ', 301955, False],\n",
       " ['PLOS ONE', 282522, True],\n",
       " ['Nature', 272575, False],\n",
       " ['The Lancet', 253083, False],\n",
       " ['Bulletin of the American Physical Society', 238230, None],\n",
       " ['Science', 225120, False]]"
      ]
     },
     "execution_count": 124,
     "metadata": {},
     "output_type": "execute_result"
    }
   ],
   "source": [
    "# Showing the first 10 biggest venues (name, number of works, OA status)\n",
    "[[i['display_name'], i['works_count'], i['is_oa']] for i in data['results'][:10]]"
   ]
  },
  {
   "cell_type": "code",
   "execution_count": 125,
   "metadata": {},
   "outputs": [
    {
     "data": {
      "text/plain": [
       "{'count': 200, 'db_response_time_ms': 1, 'page': 1, 'per_page': 200}"
      ]
     },
     "execution_count": 125,
     "metadata": {},
     "output_type": "execute_result"
    }
   ],
   "source": [
    "# Inspecting OA venues according to their publishers\n",
    "url = 'https://api.openalex.org/venues?'\n",
    "params = {'mailto': email,\n",
    "         'filter': 'is_oa:True',\n",
    "         'group_by': 'publisher'}\n",
    "\n",
    "r = requests.get(url, params=params) \n",
    "data = r.json()\n",
    "data['meta']"
   ]
  },
  {
   "cell_type": "code",
   "execution_count": 126,
   "metadata": {},
   "outputs": [],
   "source": [
    "pub_data = [[i['key_display_name'], i['count']] for i in data['group_by']]"
   ]
  },
  {
   "cell_type": "code",
   "execution_count": 127,
   "metadata": {},
   "outputs": [
    {
     "data": {
      "text/plain": [
       "16716"
      ]
     },
     "execution_count": 127,
     "metadata": {},
     "output_type": "execute_result"
    }
   ],
   "source": [
    "pub_sum = 0\n",
    "for i in pub_data:\n",
    "    pub_sum += i[1]\n",
    "pub_sum"
   ]
  },
  {
   "cell_type": "code",
   "execution_count": 128,
   "metadata": {},
   "outputs": [
    {
     "data": {
      "text/plain": [
       "[['unknown', 2711, '16.2%'],\n",
       " ['elsevier', 738, '4.4%'],\n",
       " ['springer nature', 597, '3.6%'],\n",
       " ['hindawi limited', 526, '3.1%'],\n",
       " ['mdpi ag', 315, '1.9%'],\n",
       " ['de gruyter open sp. z o.o.', 313, '1.9%'],\n",
       " ['scielo', 264, '1.6%'],\n",
       " ['scientific research publishing, inc.', 243, '1.5%'],\n",
       " ['sage', 230, '1.4%'],\n",
       " ['bentham science', 218, '1.3%'],\n",
       " ['taylor & francis', 215, '1.3%'],\n",
       " ['wiley', 205, '1.2%'],\n",
       " ['medknow publications', 203, '1.2%'],\n",
       " ['science publishing group', 203, '1.2%'],\n",
       " ['openedition', 177, '1.1%'],\n",
       " ['centre for evaluation in education and science', 170, '1.0%'],\n",
       " ['armenian green publishing co.', 167, '1.0%'],\n",
       " ['omics publishing group', 166, '1.0%'],\n",
       " ['nepal journals online', 151, '0.9%'],\n",
       " ['universidade de sao paulo, agencia usp de gestao da informacao academica (aguia)',\n",
       "  150,\n",
       "  '0.9%'],\n",
       " ['dove medical press', 132, '0.8%'],\n",
       " ['open access text', 124, '0.7%'],\n",
       " ['hindawi (international scholarly research network)', 123, '0.7%'],\n",
       " ['bangladesh journals online', 120, '0.7%'],\n",
       " ['frontiers media sa', 111, '0.7%'],\n",
       " ['african journals online', 108, '0.6%'],\n",
       " ['academic journals', 106, '0.6%'],\n",
       " ['egypts presidential specialized council for education and scientific research',\n",
       "  103,\n",
       "  '0.6%'],\n",
       " ['walter de gruyter gmbh', 100, '0.6%'],\n",
       " ['consortium erudit', 94, '0.6%'],\n",
       " ['institute of research and community services diponegoro university (lppm undip)',\n",
       "  91,\n",
       "  '0.5%'],\n",
       " ['science alert', 89, '0.5%'],\n",
       " ['peertechz publications private limited', 83, '0.5%'],\n",
       " ['sri lanka journals online', 82, '0.5%'],\n",
       " ['academy and industry research collaboration center', 81, '0.5%'],\n",
       " ['escipub llc', 81, '0.5%'],\n",
       " ['universitas negeri semarang', 81, '0.5%'],\n",
       " ['pagepress publications', 80, '0.5%'],\n",
       " ['herbert publications', 79, '0.5%'],\n",
       " ['inderscience enterprises ltd.', 79, '0.5%'],\n",
       " ['universidad complutense de madrid', 78, '0.5%'],\n",
       " ['open access pub', 77, '0.5%'],\n",
       " ['oxford university press', 77, '0.5%'],\n",
       " ['universitas gadjah mada', 76, '0.5%'],\n",
       " ['universitas pendidikan ganesha', 74, '0.4%'],\n",
       " ['brawijaya university', 73, '0.4%'],\n",
       " ['universitas airlangga', 73, '0.4%'],\n",
       " ['uniwersytet mikolaja kopernika/nicolaus copernicus university', 70, '0.4%'],\n",
       " ['medcrave group', 69, '0.4%'],\n",
       " ['scientific and academic publishing', 69, '0.4%'],\n",
       " ['clinmed international library', 67, '0.4%'],\n",
       " ['ecorfan', 67, '0.4%'],\n",
       " ['adam mickiewicz university poznan', 66, '0.4%'],\n",
       " ['universitas udayana', 66, '0.4%'],\n",
       " ['uniwersytet jagiellonski â€“ wydawnictwo uniwersytetu jagiellonskiego',\n",
       "  65,\n",
       "  '0.4%'],\n",
       " ['herald scholarly open access', 62, '0.4%'],\n",
       " ['conscientia beam', 61, '0.4%'],\n",
       " ['universidad nacional autonoma de mexico', 60, '0.4%'],\n",
       " ['juniper publishers', 59, '0.4%'],\n",
       " ['igi global', 58, '0.3%'],\n",
       " ['ubiquity press, ltd.', 58, '0.3%'],\n",
       " ['national library of serbia', 57, '0.3%'],\n",
       " ['istanbul university', 56, '0.3%'],\n",
       " ['universitas negeri padang (unp)', 56, '0.3%'],\n",
       " ['universidad nacional de la plata', 55, '0.3%'],\n",
       " ['universidade do estado do rio de janeiro uerj', 55, '0.3%'],\n",
       " ['horizon research publishing co., ltd.', 54, '0.3%'],\n",
       " ['scitechnol biosoft pvt. ltd (omics)', 54, '0.3%'],\n",
       " ['aarhus university library', 53, '0.3%'],\n",
       " ['akinik publications', 53, '0.3%'],\n",
       " ['ame publishing company', 53, '0.3%'],\n",
       " ['ibima publishing', 53, '0.3%'],\n",
       " ['medwin publishers', 53, '0.3%'],\n",
       " ['national and university library of the republic of srpska', 53, '0.3%'],\n",
       " ['universitas negeri yogyakarta', 53, '0.3%'],\n",
       " ['kowsar medical institute', 52, '0.3%'],\n",
       " ['knowledge e', 51, '0.3%'],\n",
       " ['national academy of sciences of ukraine (co. ltd ukrinformnauka)',\n",
       "  51,\n",
       "  '0.3%'],\n",
       " ['state university of malang (um)', 51, '0.3%'],\n",
       " ['universitas sebelas maret', 51, '0.3%'],\n",
       " ['american research institute for policy development', 50, '0.3%'],\n",
       " ['pensoft publishers', 50, '0.3%'],\n",
       " ['uniwersytet lodzki (university of lodz)', 50, '0.3%'],\n",
       " ['crimson publishers', 49, '0.3%'],\n",
       " ['latin america journals online', 49, '0.3%'],\n",
       " ['sciencedomain international', 49, '0.3%'],\n",
       " ['universitas islam negeri alauddin makassar', 49, '0.3%'],\n",
       " ['emerald (mcb up)', 48, '0.3%'],\n",
       " ['nb-media, ltd.', 47, '0.3%'],\n",
       " ['universidad nacional de colombia', 47, '0.3%'],\n",
       " ['universitas pendidikan indonesia', 47, '0.3%'],\n",
       " ['austin publishing group', 46, '0.3%'],\n",
       " ['science and education publishing co., ltd.', 46, '0.3%'],\n",
       " ['aosis', 45, '0.3%'],\n",
       " ['universitas muhammadiyah malang', 45, '0.3%'],\n",
       " ['s. karger ag', 44, '0.3%'],\n",
       " ['universitas andalas', 44, '0.3%'],\n",
       " ['universitas padjadjaran', 44, '0.3%'],\n",
       " ['heighten science publications corporation', 43, '0.3%'],\n",
       " ['ip innovative publication pvt ltd', 43, '0.3%'],\n",
       " ['symbiosis group', 43, '0.3%'],\n",
       " ['university of alberta libraries', 43, '0.3%'],\n",
       " ['avens publishing group', 42, '0.3%'],\n",
       " ['canadian center of science and education', 42, '0.3%'],\n",
       " ['clausius scientific press, inc.', 42, '0.3%'],\n",
       " ['conselho nacional de pesquisa e pos-graduacao em direito - conpedi',\n",
       "  42,\n",
       "  '0.3%'],\n",
       " ['david publishing company', 42, '0.3%'],\n",
       " ['sci forschen, inc.', 42, '0.3%'],\n",
       " ['institut pertanian bogor', 41, '0.2%'],\n",
       " ['institution of electrical engineers', 41, '0.2%'],\n",
       " ['university library system, university of pittsburgh', 41, '0.2%'],\n",
       " ['vilnius university', 41, '0.2%'],\n",
       " ['galenos yayinevi', 40, '0.2%'],\n",
       " ['gavin publishers', 40, '0.2%'],\n",
       " ['georg thieme verlag kg', 40, '0.2%'],\n",
       " ['lupine publishers llc', 40, '0.2%'],\n",
       " ['maad rayan publishing company', 40, '0.2%'],\n",
       " ['national documentation centre (ekt)', 40, '0.2%'],\n",
       " ['universitat de valencia', 40, '0.2%'],\n",
       " [\"al-jami'ah research centre\", 39, '0.2%'],\n",
       " ['jaypee brothers medical publishing', 39, '0.2%'],\n",
       " ['masaryk university press', 39, '0.2%'],\n",
       " ['scidoc publishers llc', 39, '0.2%'],\n",
       " ['termedia sp. z.o.o.', 39, '0.2%'],\n",
       " ['editorial csic', 38, '0.2%'],\n",
       " ['edp sciences', 38, '0.2%'],\n",
       " ['universidade federal de santa catarina', 38, '0.2%'],\n",
       " ['arc publications pvt ltd.', 37, '0.2%'],\n",
       " ['edicions de la universitat de barcelona', 37, '0.2%'],\n",
       " ['gn1 genesis network', 37, '0.2%'],\n",
       " ['oles honchar dnipropetrovsk national university', 37, '0.2%'],\n",
       " ['scholink co, ltd.', 37, '0.2%'],\n",
       " ['sunan gunung djati state islamic university of bandung', 37, '0.2%'],\n",
       " ['american institute of mathematical sciences', 36, '0.2%'],\n",
       " ['universidad de costa rica', 36, '0.2%'],\n",
       " ['universidad libre', 36, '0.2%'],\n",
       " ['ankara university', 35, '0.2%'],\n",
       " ['editorial universidad de sevilla', 35, '0.2%'],\n",
       " ['madridge publishers, llc', 35, '0.2%'],\n",
       " ['negah scientific publisher', 35, '0.2%'],\n",
       " ['servicio de publicaciones de la universidad e murcia', 35, '0.2%'],\n",
       " ['uin walisongo semarang', 35, '0.2%'],\n",
       " ['universitas islam negeri ar-raniry', 35, '0.2%'],\n",
       " ['universitas jenderal soedirman', 35, '0.2%'],\n",
       " ['universitat autonoma de barcelona', 35, '0.2%'],\n",
       " ['wydawnictwo uniwersytetu marii curie-skå\\x82odowskiej w lublinie',\n",
       "  35,\n",
       "  '0.2%'],\n",
       " ['cambridge university press', 34, '0.2%'],\n",
       " ['medwell publications', 34, '0.2%'],\n",
       " ['openventio publishers', 34, '0.2%'],\n",
       " ['publicaciones universidad de alicante', 34, '0.2%'],\n",
       " ['science publications', 34, '0.2%'],\n",
       " ['universitas mataram', 34, '0.2%'],\n",
       " ['universitas muhammadiyah surakarta', 34, '0.2%'],\n",
       " ['universitas negeri jakarta', 34, '0.2%'],\n",
       " ['annex publishers, llc', 33, '0.2%'],\n",
       " ['biblioteca central da unb', 33, '0.2%'],\n",
       " ['pontifical catholic university of sao paulo (puc-sp)', 33, '0.2%'],\n",
       " ['universitas pamulang', 33, '0.2%'],\n",
       " ['university of szczecin', 33, '0.2%'],\n",
       " ['faculty of philology, university of belgrade', 32, '0.2%'],\n",
       " ['greener journals', 32, '0.2%'],\n",
       " ['universidad de chile', 32, '0.2%'],\n",
       " ['universidade federal do rio grande do sul', 32, '0.2%'],\n",
       " ['universitas lampung', 32, '0.2%'],\n",
       " ['universitas muhammadiyah yogyakarta', 32, '0.2%'],\n",
       " ['universitas negeri makassar', 32, '0.2%'],\n",
       " ['university of trunojoyo madura', 32, '0.2%'],\n",
       " ['upt penerbitan universitas jember', 32, '0.2%'],\n",
       " ['bilingual publishing co.', 31, '0.2%'],\n",
       " ['center for journal management and publication, lambung mangkurat university',\n",
       "  31,\n",
       "  '0.2%'],\n",
       " ['lp2m universitas islam negeri (uin) syarif hidayatullah jakarta',\n",
       "  31,\n",
       "  '0.2%'],\n",
       " ['maulana malik ibrahim state islamic university', 31, '0.2%'],\n",
       " ['scandinavian university press / universitetsforlaget as', 31, '0.2%'],\n",
       " ['sciedu press', 31, '0.2%'],\n",
       " ['universidade federal de juiz de fora', 31, '0.2%'],\n",
       " ['edufu - editora da universidade federal de uberlandia', 30, '0.2%'],\n",
       " ['iris publishers llc', 30, '0.2%'],\n",
       " ['state islamic university of raden fatah palembang', 30, '0.2%'],\n",
       " ['universidad de antioquia', 30, '0.2%'],\n",
       " ['universidade federal de santa maria', 30, '0.2%'],\n",
       " ['universitas ahmad dahlan', 30, '0.2%'],\n",
       " ['universitas islam negeri sultan syarif kasim riau', 30, '0.2%'],\n",
       " ['v. n. karazin kharkiv national university', 30, '0.2%'],\n",
       " ['coimbra university press', 29, '0.2%'],\n",
       " ['lembaga penelitian dan pengabdian kepada masyarakat its', 29, '0.2%'],\n",
       " ['opast group llc', 29, '0.2%'],\n",
       " ['sophia publishing group, inc.', 29, '0.2%'],\n",
       " ['universidad nacional del litoral', 29, '0.2%'],\n",
       " ['universitas indonesia, directorate of research and public service',\n",
       "  29,\n",
       "  '0.2%'],\n",
       " ['university of silesia in katowice', 29, '0.2%'],\n",
       " ['auctores publishing llc', 28, '0.2%'],\n",
       " ['faculty of education and teacher training, jambi university', 28, '0.2%'],\n",
       " ['lookus bilisim a.s.', 28, '0.2%'],\n",
       " ['saint petersburg state university', 28, '0.2%'],\n",
       " ['tanjungpura university', 28, '0.2%'],\n",
       " ['universitas medan area', 28, '0.2%'],\n",
       " ['universitat politecnica de valencia', 28, '0.2%'],\n",
       " ['american research journals', 27, '0.2%'],\n",
       " ['asos yayinevi', 27, '0.2%'],\n",
       " ['editorial de la universidad de granada', 27, '0.2%']]"
      ]
     },
     "execution_count": 128,
     "metadata": {},
     "output_type": "execute_result"
    }
   ],
   "source": [
    "# Showing the biggest OA publishers (according to number of venues), with percentages\n",
    "for i in pub_data:\n",
    "    i.append(str(round(i[1]/pub_sum*100,1)) + '%')\n",
    "pub_data"
   ]
  }
 ],
 "metadata": {
  "kernelspec": {
   "display_name": "Python 3 (ipykernel)",
   "language": "python",
   "name": "python3"
  },
  "language_info": {
   "codemirror_mode": {
    "name": "ipython",
    "version": 3
   },
   "file_extension": ".py",
   "mimetype": "text/x-python",
   "name": "python",
   "nbconvert_exporter": "python",
   "pygments_lexer": "ipython3",
   "version": "3.8.5"
  },
  "toc": {
   "base_numbering": 1,
   "nav_menu": {},
   "number_sections": true,
   "sideBar": true,
   "skip_h1_title": true,
   "title_cell": " Using the OpenAlex API",
   "title_sidebar": "Contents",
   "toc_cell": true,
   "toc_position": {
    "height": "calc(100% - 180px)",
    "left": "10px",
    "top": "150px",
    "width": "390.333px"
   },
   "toc_section_display": true,
   "toc_window_display": true
  },
  "varInspector": {
   "cols": {
    "lenName": 16,
    "lenType": 16,
    "lenVar": 40
   },
   "kernels_config": {
    "python": {
     "delete_cmd_postfix": "",
     "delete_cmd_prefix": "del ",
     "library": "var_list.py",
     "varRefreshCmd": "print(var_dic_list())"
    },
    "r": {
     "delete_cmd_postfix": ") ",
     "delete_cmd_prefix": "rm(",
     "library": "var_list.r",
     "varRefreshCmd": "cat(var_dic_list()) "
    }
   },
   "types_to_exclude": [
    "module",
    "function",
    "builtin_function_or_method",
    "instance",
    "_Feature"
   ],
   "window_display": false
  }
 },
 "nbformat": 4,
 "nbformat_minor": 4
}
