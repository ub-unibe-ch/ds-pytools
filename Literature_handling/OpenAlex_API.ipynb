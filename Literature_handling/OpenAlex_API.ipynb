{
 "cells": [
  {
   "cell_type": "markdown",
   "metadata": {},
   "source": [
    "# Using the OpenAlex API"
   ]
  },
  {
   "cell_type": "markdown",
   "metadata": {},
   "source": [
    "##  🎓 About OpenAlex"
   ]
  },
  {
   "cell_type": "markdown",
   "metadata": {},
   "source": [
    "[OpenAlex](https://docs.openalex.org/) is a great resource for searching and accessing **scholarly publication data** comprehensively. Furthermore, OpenAlex holds data about **authors, institutions and sources** and more [entities](https://docs.openalex.org/api-entities/entities-overview) relating to those publications. For this, it brings together data from a series well-known [data sources](https://docs.openalex.org/additional-help/faq#where-does-your-data-come-from).\n",
    "\n",
    "And, what's maybe the best about it: OpenAlex data is published under the Creative Commons Public Domain Dedication ([CC0](https://creativecommons.org/publicdomain/zero/1.0/)) - waiving copyright at all!\n",
    "\n",
    "**💻 Snapshots and API**\n",
    "\n",
    "OpenAlex offers data [snapshots](https://docs.openalex.org/download-snapshot) on a regularly basis, but can accessed far more nuanced via [**REST API**](https://docs.openalex.org/how-to-use-the-api/api-overview). This notebook will give you a small overview about its basic functionality and the data which can be accessed there.\n",
    "\n",
    "There is one thing which is helpful to understand and use OpenAlex' API: It consists of different endpoints representing the different entity types, OpenAlex provides data on:\n",
    "* `/works` - scholarly publications like journal articles, book chapters etc.\n",
    "* `/authors` - the contributors of these publications\n",
    "* `/topics` - the subjects, which are treated by works\n",
    "* `/institutions` - the institutions, which host contributors of publications like universities\n",
    "* `/sources` - the sources which hold the single works, like journals, series, conferences, and repositories\n",
    "* `/publishers`- companies and organizations that distribute works\n",
    "* `/funders`- organizations that fund research\n",
    "\n",
    "\n",
    "This notebook will show these endpoints, but not all possible actions. Despite this, OpenAlex API is constantly growing: To get it all, consult the [documentation](https://docs.openalex.org/how-to-use-the-api/api-overview).\n",
    "\n",
    "**☝️ Caveat**\n",
    "\n",
    "Gathering and integrating data of scholarly publications is a tough thing to do. Data sources are manifold and even original data is often incomplete. So, also data of aggregators like OpenAlex will not be 100% complete, free from errors or duplicates. **Handle all derivative numbers with care** and draw conclusions with respect to this imperfect data base. If possible, use other data sources to crosscheck your findings.\n",
    "\n",
    "**😇 Be polite and show who you are**\n",
    "\n",
    "One more essential hint about using the OpenAlex API: You can access it freely and without any API key or any other authentication. However, it is recommended to be \"polite\" and show who you are resp. that you are human by **specifying your e-mail address**. This also will give you faster and more consistent **response times**!"
   ]
  },
  {
   "cell_type": "code",
   "execution_count": 1,
   "metadata": {
    "execution": {
     "iopub.execute_input": "2024-04-14T22:15:20.433325Z",
     "iopub.status.busy": "2024-04-14T22:15:20.432647Z",
     "iopub.status.idle": "2024-04-14T22:15:20.589724Z",
     "shell.execute_reply": "2024-04-14T22:15:20.586838Z",
     "shell.execute_reply.started": "2024-04-14T22:15:20.433258Z"
    },
    "tags": []
   },
   "outputs": [
    {
     "name": "stdout",
     "output_type": "stream",
     "text": [
      "Python 3.11.5\n"
     ]
    }
   ],
   "source": [
    "# Check Python version\n",
    "!python --version"
   ]
  },
  {
   "cell_type": "code",
   "execution_count": 2,
   "metadata": {
    "execution": {
     "iopub.execute_input": "2024-04-14T22:15:20.597701Z",
     "iopub.status.busy": "2024-04-14T22:15:20.596800Z",
     "iopub.status.idle": "2024-04-14T22:15:20.607909Z",
     "shell.execute_reply": "2024-04-14T22:15:20.605941Z",
     "shell.execute_reply.started": "2024-04-14T22:15:20.597603Z"
    },
    "tags": []
   },
   "outputs": [],
   "source": [
    "# Install necessary libraries if not already available\n",
    "#!pip install requests pandas"
   ]
  },
  {
   "cell_type": "code",
   "execution_count": 3,
   "metadata": {
    "execution": {
     "iopub.execute_input": "2024-04-14T22:15:20.610397Z",
     "iopub.status.busy": "2024-04-14T22:15:20.609889Z",
     "iopub.status.idle": "2024-04-14T22:15:21.296802Z",
     "shell.execute_reply": "2024-04-14T22:15:21.295218Z",
     "shell.execute_reply.started": "2024-04-14T22:15:20.610350Z"
    },
    "tags": []
   },
   "outputs": [],
   "source": [
    "# Import the necessary libraries\n",
    "import json, requests\n",
    "import pandas as pd"
   ]
  },
  {
   "cell_type": "code",
   "execution_count": 4,
   "metadata": {
    "execution": {
     "iopub.execute_input": "2024-04-14T22:15:21.298388Z",
     "iopub.status.busy": "2024-04-14T22:15:21.298011Z",
     "iopub.status.idle": "2024-04-14T22:15:21.305935Z",
     "shell.execute_reply": "2024-04-14T22:15:21.303819Z",
     "shell.execute_reply.started": "2024-04-14T22:15:21.298361Z"
    },
    "tags": []
   },
   "outputs": [],
   "source": [
    "# IMPORTANT: Fill in your e-mail address\n",
    "email = '...'"
   ]
  },
  {
   "cell_type": "markdown",
   "metadata": {},
   "source": [
    "## 📚 Works endpoint"
   ]
  },
  {
   "cell_type": "markdown",
   "metadata": {},
   "source": [
    "The core of OpenAlex data are **scholarly publications**. These are are represented as ***Work* entities**, which can be retrieved via the `/works` endpoint. Single *Work* entities can be directly accessed by their OpenAlex identifier (starting with a \"W\" like `W3093430496`) or by their Digital Object Identifier (DOI) respectively. You can access a random publication with `https://api.openalex.org/works/random`.\n",
    "\n",
    "To learn about the attributes a *Work* entity can have, take a look into the [Work](https://docs.openalex.org/about-the-data/work) object documentation.\n",
    "\n",
    "We'll start by accessing a single *Work* entity aka a publication record. The code cell below queries the OpenAlex API (via it's `/works` endpoint). The base URL is completed with an identifier and enriched with the e-mail statement.\n",
    "\n",
    "There are several examples you might try by commenting out the identifiers and adapt the request accordingly."
   ]
  },
  {
   "cell_type": "code",
   "execution_count": 5,
   "metadata": {
    "execution": {
     "iopub.execute_input": "2024-04-14T22:15:21.309070Z",
     "iopub.status.busy": "2024-04-14T22:15:21.308320Z",
     "iopub.status.idle": "2024-04-14T22:15:21.777309Z",
     "shell.execute_reply": "2024-04-14T22:15:21.775300Z",
     "shell.execute_reply.started": "2024-04-14T22:15:21.309000Z"
    },
    "tags": []
   },
   "outputs": [
    {
     "data": {
      "text/plain": [
       "dict"
      ]
     },
     "execution_count": 5,
     "metadata": {},
     "output_type": "execute_result"
    }
   ],
   "source": [
    "base_url = 'https://api.openalex.org/works/'\n",
    "params = {'mailto': email}\n",
    "\n",
    "# Using different work identifiers\n",
    "openalex_id = 'W3093430496'                               # doctoral thesis\n",
    "#openalex_id = 'W2489129678'                              # monograph\n",
    "#openalex_id = 'W4200635144'                             # conference publication\n",
    "#doi = 'doi:10.1007/978-3-319-20319-5_4'                  # book part\n",
    "#doi = 'doi:10.1007/10.22617/tim210529'                   # report\n",
    "\n",
    "doi =  'doi:https://doi.org/10.1007/s10479-016-2314-1'    # green OA article\n",
    "#doi = 'doi:https://doi.org/10.1371/journal.pone.0121874' # gold OA article\n",
    "#doi = 'doi:https://doi.org/10.1007/s10489-020-02029-z'   # bronze OA article\n",
    "#doi = 'https://doi.org/10.1134/s2079086415010053'         # closed article\n",
    "\n",
    "    \n",
    "# Adapt identifier if necessary: doi, openalex_id\n",
    "r = requests.get(base_url + doi, params=params)\n",
    "data = r.json()\n",
    "type(data)"
   ]
  },
  {
   "cell_type": "markdown",
   "metadata": {},
   "source": [
    "The data answer of the OpenAlex API is [JSON](https://en.wikipedia.org/wiki/JSON) formatted. Therefore, it is decoded with the `json()` command and written into an Python object named `data`. Resembling the JSON structure, this is a Python [dictionary](https://docs.python.org/3/tutorial/datastructures.html#dictionaries).\n",
    "\n",
    "This request and decoding method will be used throughout the whole notebook.\n",
    "\n",
    "The `list()` function gives you an overview of the available data fields (which are the *Work*'s attributes) in the dictionary by listing all its *keys*. Calling a certain attribute *value* can easily done with its key, for instance `data['id']`."
   ]
  },
  {
   "cell_type": "code",
   "execution_count": 6,
   "metadata": {
    "execution": {
     "iopub.execute_input": "2024-04-14T22:15:21.779525Z",
     "iopub.status.busy": "2024-04-14T22:15:21.779090Z",
     "iopub.status.idle": "2024-04-14T22:15:21.790673Z",
     "shell.execute_reply": "2024-04-14T22:15:21.788857Z",
     "shell.execute_reply.started": "2024-04-14T22:15:21.779487Z"
    },
    "tags": []
   },
   "outputs": [
    {
     "data": {
      "text/plain": [
       "['id',\n",
       " 'doi',\n",
       " 'title',\n",
       " 'display_name',\n",
       " 'publication_year',\n",
       " 'publication_date',\n",
       " 'ids',\n",
       " 'language',\n",
       " 'primary_location',\n",
       " 'type',\n",
       " 'type_crossref',\n",
       " 'indexed_in',\n",
       " 'open_access',\n",
       " 'authorships',\n",
       " 'countries_distinct_count',\n",
       " 'institutions_distinct_count',\n",
       " 'corresponding_author_ids',\n",
       " 'corresponding_institution_ids',\n",
       " 'apc_list',\n",
       " 'apc_paid',\n",
       " 'has_fulltext',\n",
       " 'fulltext_origin',\n",
       " 'cited_by_count',\n",
       " 'cited_by_percentile_year',\n",
       " 'biblio',\n",
       " 'is_retracted',\n",
       " 'is_paratext',\n",
       " 'primary_topic',\n",
       " 'topics',\n",
       " 'keywords',\n",
       " 'concepts',\n",
       " 'mesh',\n",
       " 'locations_count',\n",
       " 'locations',\n",
       " 'best_oa_location',\n",
       " 'sustainable_development_goals',\n",
       " 'grants',\n",
       " 'datasets',\n",
       " 'versions',\n",
       " 'referenced_works_count',\n",
       " 'referenced_works',\n",
       " 'related_works',\n",
       " 'ngrams_url',\n",
       " 'abstract_inverted_index',\n",
       " 'cited_by_api_url',\n",
       " 'counts_by_year',\n",
       " 'updated_date',\n",
       " 'created_date']"
      ]
     },
     "execution_count": 6,
     "metadata": {},
     "output_type": "execute_result"
    }
   ],
   "source": [
    "# Overview of available data fields\n",
    "list(data)"
   ]
  },
  {
   "cell_type": "code",
   "execution_count": 7,
   "metadata": {
    "execution": {
     "iopub.execute_input": "2024-04-14T22:15:21.795093Z",
     "iopub.status.busy": "2024-04-14T22:15:21.794701Z",
     "iopub.status.idle": "2024-04-14T22:15:21.853329Z",
     "shell.execute_reply": "2024-04-14T22:15:21.851233Z",
     "shell.execute_reply.started": "2024-04-14T22:15:21.795058Z"
    },
    "tags": []
   },
   "outputs": [
    {
     "data": {
      "text/plain": [
       "'https://openalex.org/W2518998880'"
      ]
     },
     "execution_count": 7,
     "metadata": {},
     "output_type": "execute_result"
    }
   ],
   "source": [
    "# Calling the OpenAlex work ID field by its key (\"id\")\n",
    "data['id']"
   ]
  },
  {
   "cell_type": "code",
   "execution_count": 8,
   "metadata": {
    "execution": {
     "iopub.execute_input": "2024-04-14T22:15:21.856583Z",
     "iopub.status.busy": "2024-04-14T22:15:21.855740Z",
     "iopub.status.idle": "2024-04-14T22:15:21.912678Z",
     "shell.execute_reply": "2024-04-14T22:15:21.910274Z",
     "shell.execute_reply.started": "2024-04-14T22:15:21.856466Z"
    },
    "tags": []
   },
   "outputs": [
    {
     "data": {
      "text/plain": [
       "'A framework for investigating optimization of service parts performance with big data'"
      ]
     },
     "execution_count": 8,
     "metadata": {},
     "output_type": "execute_result"
    }
   ],
   "source": [
    "# Publication title\n",
    "data['title']"
   ]
  },
  {
   "cell_type": "code",
   "execution_count": 9,
   "metadata": {
    "execution": {
     "iopub.execute_input": "2024-04-14T22:15:21.915856Z",
     "iopub.status.busy": "2024-04-14T22:15:21.915119Z",
     "iopub.status.idle": "2024-04-14T22:15:22.042361Z",
     "shell.execute_reply": "2024-04-14T22:15:22.040054Z",
     "shell.execute_reply.started": "2024-04-14T22:15:21.915789Z"
    },
    "tags": []
   },
   "outputs": [
    {
     "data": {
      "text/plain": [
       "{'openalex': 'https://openalex.org/W2518998880',\n",
       " 'doi': 'https://doi.org/10.1007/s10479-016-2314-1',\n",
       " 'mag': '2518998880'}"
      ]
     },
     "execution_count": 9,
     "metadata": {},
     "output_type": "execute_result"
    }
   ],
   "source": [
    "# All available identifiers, given as an own Python dictionary\n",
    "data['ids']"
   ]
  },
  {
   "cell_type": "code",
   "execution_count": 10,
   "metadata": {
    "execution": {
     "iopub.execute_input": "2024-04-14T22:15:22.045613Z",
     "iopub.status.busy": "2024-04-14T22:15:22.044871Z",
     "iopub.status.idle": "2024-04-14T22:15:22.093706Z",
     "shell.execute_reply": "2024-04-14T22:15:22.091570Z",
     "shell.execute_reply.started": "2024-04-14T22:15:22.045550Z"
    },
    "tags": []
   },
   "outputs": [
    {
     "data": {
      "text/plain": [
       "'article'"
      ]
     },
     "execution_count": 10,
     "metadata": {},
     "output_type": "execute_result"
    }
   ],
   "source": [
    "# Publication type\n",
    "data['type']"
   ]
  },
  {
   "cell_type": "code",
   "execution_count": 11,
   "metadata": {
    "execution": {
     "iopub.execute_input": "2024-04-14T22:15:22.096820Z",
     "iopub.status.busy": "2024-04-14T22:15:22.096011Z",
     "iopub.status.idle": "2024-04-14T22:15:22.146396Z",
     "shell.execute_reply": "2024-04-14T22:15:22.144050Z",
     "shell.execute_reply.started": "2024-04-14T22:15:22.096754Z"
    },
    "tags": []
   },
   "outputs": [
    {
     "data": {
      "text/plain": [
       "{'volume': '270', 'issue': '1-2', 'first_page': '65', 'last_page': '74'}"
      ]
     },
     "execution_count": 11,
     "metadata": {},
     "output_type": "execute_result"
    }
   ],
   "source": [
    "# Bibliographic information\n",
    "data['biblio']"
   ]
  },
  {
   "cell_type": "code",
   "execution_count": 12,
   "metadata": {
    "execution": {
     "iopub.execute_input": "2024-04-14T22:15:22.149511Z",
     "iopub.status.busy": "2024-04-14T22:15:22.148797Z",
     "iopub.status.idle": "2024-04-14T22:15:22.313359Z",
     "shell.execute_reply": "2024-04-14T22:15:22.311298Z",
     "shell.execute_reply.started": "2024-04-14T22:15:22.149444Z"
    },
    "tags": []
   },
   "outputs": [
    {
     "data": {
      "text/plain": [
       "True"
      ]
     },
     "execution_count": 12,
     "metadata": {},
     "output_type": "execute_result"
    }
   ],
   "source": [
    "# Has OpenAlex a fulltext available (only) for indexing?\n",
    "data['has_fulltext']"
   ]
  },
  {
   "cell_type": "code",
   "execution_count": 13,
   "metadata": {
    "execution": {
     "iopub.execute_input": "2024-04-14T22:15:22.316252Z",
     "iopub.status.busy": "2024-04-14T22:15:22.315604Z",
     "iopub.status.idle": "2024-04-14T22:15:22.386787Z",
     "shell.execute_reply": "2024-04-14T22:15:22.384426Z",
     "shell.execute_reply.started": "2024-04-14T22:15:22.316197Z"
    },
    "tags": []
   },
   "outputs": [
    {
     "data": {
      "text/plain": [
       "'ngrams'"
      ]
     },
     "execution_count": 13,
     "metadata": {},
     "output_type": "execute_result"
    }
   ],
   "source": [
    "# Fulltext source information\n",
    "data['fulltext_origin']"
   ]
  },
  {
   "cell_type": "code",
   "execution_count": 14,
   "metadata": {
    "execution": {
     "iopub.execute_input": "2024-04-14T22:15:22.390030Z",
     "iopub.status.busy": "2024-04-14T22:15:22.389309Z",
     "iopub.status.idle": "2024-04-14T22:15:22.438398Z",
     "shell.execute_reply": "2024-04-14T22:15:22.436024Z",
     "shell.execute_reply.started": "2024-04-14T22:15:22.389968Z"
    },
    "tags": []
   },
   "outputs": [
    {
     "data": {
      "text/plain": [
       "'https://api.openalex.org/works/W2518998880/ngrams'"
      ]
     },
     "execution_count": 14,
     "metadata": {},
     "output_type": "execute_result"
    }
   ],
   "source": [
    "# See ngrams made from fulltext\n",
    "data['ngrams_url']"
   ]
  },
  {
   "cell_type": "code",
   "execution_count": 15,
   "metadata": {
    "execution": {
     "iopub.execute_input": "2024-04-14T22:15:22.442404Z",
     "iopub.status.busy": "2024-04-14T22:15:22.440884Z",
     "iopub.status.idle": "2024-04-14T22:15:22.494091Z",
     "shell.execute_reply": "2024-04-14T22:15:22.492004Z",
     "shell.execute_reply.started": "2024-04-14T22:15:22.442336Z"
    },
    "tags": []
   },
   "outputs": [
    {
     "data": {
      "text/plain": [
       "{'is_oa': False,\n",
       " 'landing_page_url': 'https://doi.org/10.1007/s10479-016-2314-1',\n",
       " 'pdf_url': None,\n",
       " 'source': {'id': 'https://openalex.org/S57667410',\n",
       "  'display_name': 'Annals of operation research/Annals of operations research',\n",
       "  'issn_l': '0254-5330',\n",
       "  'issn': ['0254-5330', '1572-9338'],\n",
       "  'is_oa': False,\n",
       "  'is_in_doaj': False,\n",
       "  'host_organization': 'https://openalex.org/P4310319900',\n",
       "  'host_organization_name': 'Springer Science+Business Media',\n",
       "  'host_organization_lineage': ['https://openalex.org/P4310319965',\n",
       "   'https://openalex.org/P4310319900'],\n",
       "  'host_organization_lineage_names': ['Springer Nature',\n",
       "   'Springer Science+Business Media'],\n",
       "  'type': 'journal'},\n",
       " 'license': None,\n",
       " 'version': None,\n",
       " 'is_accepted': False,\n",
       " 'is_published': False}"
      ]
     },
     "execution_count": 15,
     "metadata": {},
     "output_type": "execute_result"
    }
   ],
   "source": [
    "# Bibliographic information of primary location (= publication medium/infrastructure)\n",
    "# \"issn_l\" should be used preferably of all ISSNs while using OpenAlex API with ISSN identifier\n",
    "data['primary_location']"
   ]
  },
  {
   "cell_type": "code",
   "execution_count": 16,
   "metadata": {
    "execution": {
     "iopub.execute_input": "2024-04-14T22:15:22.496928Z",
     "iopub.status.busy": "2024-04-14T22:15:22.496301Z",
     "iopub.status.idle": "2024-04-14T22:15:22.546104Z",
     "shell.execute_reply": "2024-04-14T22:15:22.544076Z",
     "shell.execute_reply.started": "2024-04-14T22:15:22.496877Z"
    },
    "tags": []
   },
   "outputs": [
    {
     "data": {
      "text/plain": [
       "[{'is_oa': False,\n",
       "  'landing_page_url': 'https://doi.org/10.1007/s10479-016-2314-1',\n",
       "  'pdf_url': None,\n",
       "  'source': {'id': 'https://openalex.org/S57667410',\n",
       "   'display_name': 'Annals of operation research/Annals of operations research',\n",
       "   'issn_l': '0254-5330',\n",
       "   'issn': ['0254-5330', '1572-9338'],\n",
       "   'is_oa': False,\n",
       "   'is_in_doaj': False,\n",
       "   'host_organization': 'https://openalex.org/P4310319900',\n",
       "   'host_organization_name': 'Springer Science+Business Media',\n",
       "   'host_organization_lineage': ['https://openalex.org/P4310319965',\n",
       "    'https://openalex.org/P4310319900'],\n",
       "   'host_organization_lineage_names': ['Springer Nature',\n",
       "    'Springer Science+Business Media'],\n",
       "   'type': 'journal'},\n",
       "  'license': None,\n",
       "  'version': None,\n",
       "  'is_accepted': False,\n",
       "  'is_published': False},\n",
       " {'is_oa': True,\n",
       "  'landing_page_url': 'https://lib.dr.iastate.edu/cgi/viewcontent.cgi?article=1058&context=scm_pubs',\n",
       "  'pdf_url': 'https://dr.lib.iastate.edu/bitstreams/be13ecc3-ad5c-4d7e-8a41-75e62733974c/download',\n",
       "  'source': {'id': 'https://openalex.org/S4377196104',\n",
       "   'display_name': 'Iowa State University Digital Repository (Iowa State University)',\n",
       "   'issn_l': None,\n",
       "   'issn': None,\n",
       "   'is_oa': False,\n",
       "   'is_in_doaj': False,\n",
       "   'host_organization': 'https://openalex.org/I173911158',\n",
       "   'host_organization_name': 'Iowa State University',\n",
       "   'host_organization_lineage': ['https://openalex.org/I173911158'],\n",
       "   'host_organization_lineage_names': ['Iowa State University'],\n",
       "   'type': 'repository'},\n",
       "  'license': None,\n",
       "  'version': 'publishedVersion',\n",
       "  'is_accepted': True,\n",
       "  'is_published': True}]"
      ]
     },
     "execution_count": 16,
     "metadata": {},
     "output_type": "execute_result"
    }
   ],
   "source": [
    "# Alternative locations, especially to provide Open Access versions of closed publications\n",
    "data['locations']"
   ]
  },
  {
   "cell_type": "code",
   "execution_count": 17,
   "metadata": {
    "execution": {
     "iopub.execute_input": "2024-04-14T22:15:22.548765Z",
     "iopub.status.busy": "2024-04-14T22:15:22.548064Z",
     "iopub.status.idle": "2024-04-14T22:15:22.598819Z",
     "shell.execute_reply": "2024-04-14T22:15:22.596568Z",
     "shell.execute_reply.started": "2024-04-14T22:15:22.548708Z"
    },
    "tags": []
   },
   "outputs": [
    {
     "data": {
      "text/plain": [
       "{'is_oa': True,\n",
       " 'oa_status': 'green',\n",
       " 'oa_url': 'https://dr.lib.iastate.edu/bitstreams/be13ecc3-ad5c-4d7e-8a41-75e62733974c/download',\n",
       " 'any_repository_has_fulltext': True}"
      ]
     },
     "execution_count": 17,
     "metadata": {},
     "output_type": "execute_result"
    }
   ],
   "source": [
    "# Open Access status\n",
    "data['open_access']"
   ]
  },
  {
   "cell_type": "code",
   "execution_count": 18,
   "metadata": {
    "execution": {
     "iopub.execute_input": "2024-04-14T22:15:22.601993Z",
     "iopub.status.busy": "2024-04-14T22:15:22.601280Z",
     "iopub.status.idle": "2024-04-14T22:15:22.651796Z",
     "shell.execute_reply": "2024-04-14T22:15:22.649519Z",
     "shell.execute_reply.started": "2024-04-14T22:15:22.601930Z"
    },
    "tags": []
   },
   "outputs": [
    {
     "data": {
      "text/plain": [
       "['https://openalex.org/W1558765224',\n",
       " 'https://openalex.org/W1570319579',\n",
       " 'https://openalex.org/W1595530445',\n",
       " 'https://openalex.org/W1605623810',\n",
       " 'https://openalex.org/W1608367906']"
      ]
     },
     "execution_count": 18,
     "metadata": {},
     "output_type": "execute_result"
    }
   ],
   "source": [
    "# The first 5 cited works by their OpenAlex links\n",
    "data['referenced_works'][:5]"
   ]
  },
  {
   "cell_type": "code",
   "execution_count": 19,
   "metadata": {
    "execution": {
     "iopub.execute_input": "2024-04-14T22:15:22.654929Z",
     "iopub.status.busy": "2024-04-14T22:15:22.654223Z",
     "iopub.status.idle": "2024-04-14T22:15:22.704157Z",
     "shell.execute_reply": "2024-04-14T22:15:22.701860Z",
     "shell.execute_reply.started": "2024-04-14T22:15:22.654865Z"
    },
    "tags": []
   },
   "outputs": [
    {
     "data": {
      "text/plain": [
       "17"
      ]
     },
     "execution_count": 19,
     "metadata": {},
     "output_type": "execute_result"
    }
   ],
   "source": [
    "# Times cited\n",
    "data['cited_by_count']"
   ]
  },
  {
   "cell_type": "code",
   "execution_count": 20,
   "metadata": {
    "execution": {
     "iopub.execute_input": "2024-04-14T22:15:22.707297Z",
     "iopub.status.busy": "2024-04-14T22:15:22.706651Z",
     "iopub.status.idle": "2024-04-14T22:15:22.775296Z",
     "shell.execute_reply": "2024-04-14T22:15:22.773028Z",
     "shell.execute_reply.started": "2024-04-14T22:15:22.707239Z"
    },
    "tags": []
   },
   "outputs": [
    {
     "data": {
      "text/plain": [
       "[{'year': 2023, 'cited_by_count': 2},\n",
       " {'year': 2022, 'cited_by_count': 3},\n",
       " {'year': 2021, 'cited_by_count': 2},\n",
       " {'year': 2020, 'cited_by_count': 3},\n",
       " {'year': 2019, 'cited_by_count': 2},\n",
       " {'year': 2018, 'cited_by_count': 1},\n",
       " {'year': 2017, 'cited_by_count': 4}]"
      ]
     },
     "execution_count": 20,
     "metadata": {},
     "output_type": "execute_result"
    }
   ],
   "source": [
    "# Citations by year (since 2012)\n",
    "data['counts_by_year']"
   ]
  },
  {
   "cell_type": "code",
   "execution_count": 21,
   "metadata": {
    "execution": {
     "iopub.execute_input": "2024-04-14T22:15:22.778360Z",
     "iopub.status.busy": "2024-04-14T22:15:22.777719Z",
     "iopub.status.idle": "2024-04-14T22:15:22.825383Z",
     "shell.execute_reply": "2024-04-14T22:15:22.822975Z",
     "shell.execute_reply.started": "2024-04-14T22:15:22.778303Z"
    },
    "tags": []
   },
   "outputs": [
    {
     "data": {
      "text/plain": [
       "'https://api.openalex.org/works?filter=cites:W2518998880'"
      ]
     },
     "execution_count": 21,
     "metadata": {},
     "output_type": "execute_result"
    }
   ],
   "source": [
    "# API link to citing publications\n",
    "data['cited_by_api_url']"
   ]
  },
  {
   "cell_type": "code",
   "execution_count": 22,
   "metadata": {
    "execution": {
     "iopub.execute_input": "2024-04-14T22:15:22.839386Z",
     "iopub.status.busy": "2024-04-14T22:15:22.838929Z",
     "iopub.status.idle": "2024-04-14T22:15:22.893154Z",
     "shell.execute_reply": "2024-04-14T22:15:22.890678Z",
     "shell.execute_reply.started": "2024-04-14T22:15:22.839349Z"
    },
    "tags": []
   },
   "outputs": [
    {
     "name": "stdout",
     "output_type": "stream",
     "text": [
      "False\n"
     ]
    },
    {
     "data": {
      "text/plain": [
       "False"
      ]
     },
     "execution_count": 22,
     "metadata": {},
     "output_type": "execute_result"
    }
   ],
   "source": [
    "# Status information: paratext, retraction\n",
    "print(data['is_paratext'])\n",
    "data['is_retracted']"
   ]
  },
  {
   "cell_type": "markdown",
   "metadata": {},
   "source": [
    "A special feature of OpenAlex *Work* data is the attribute `abstract_inverted_index`. Instead of delivering the plain text **abstract of a publication**, its vocabulary or tokenized version is given, listing all words/tokens with their position in the abstract. This is done for copyright reasons. However, this information can be used to search *Works* (see 2.2) and build other applications upon.\n",
    "Note that punctuation is treated as part of the tokens."
   ]
  },
  {
   "cell_type": "code",
   "execution_count": 23,
   "metadata": {
    "execution": {
     "iopub.execute_input": "2024-04-14T22:15:22.896462Z",
     "iopub.status.busy": "2024-04-14T22:15:22.895682Z",
     "iopub.status.idle": "2024-04-14T22:15:22.956491Z",
     "shell.execute_reply": "2024-04-14T22:15:22.954358Z",
     "shell.execute_reply.started": "2024-04-14T22:15:22.896393Z"
    },
    "tags": []
   },
   "outputs": [
    {
     "data": {
      "text/plain": [
       "{'As': [0],\n",
       " 'national': [1],\n",
       " 'economies': [2],\n",
       " 'continue': [3],\n",
       " 'to': [4, 14, 23, 27, 52, 78, 92, 120, 133, 149, 177],\n",
       " 'evolve': [5],\n",
       " 'across': [6],\n",
       " 'the': [7, 126, 156],\n",
       " 'globe,': [8],\n",
       " 'businesses': [9, 46, 116, 122],\n",
       " 'are': [10, 47, 57, 69, 75, 108, 117],\n",
       " 'increasing': [11],\n",
       " 'their': [12],\n",
       " 'capacity': [13],\n",
       " 'not': [15, 58],\n",
       " 'only': [16],\n",
       " 'generate': [17],\n",
       " 'new': [18],\n",
       " 'products': [19],\n",
       " 'and': [20, 56, 162, 169],\n",
       " 'deliver': [21],\n",
       " 'them': [22],\n",
       " 'customers,': [24],\n",
       " 'but': [25],\n",
       " 'also': [26],\n",
       " 'increase': [28],\n",
       " 'levels': [29],\n",
       " 'of': [30, 36, 97, 128, 158],\n",
       " 'after-sales': [31],\n",
       " 'service.': [32],\n",
       " 'One': [33],\n",
       " 'major': [34],\n",
       " 'component': [35],\n",
       " 'after-sale': [37],\n",
       " 'service': [38, 40, 44, 66, 98, 105, 114, 151, 179],\n",
       " 'involves': [39],\n",
       " 'parts': [41, 45, 67, 99, 106, 115, 152, 180],\n",
       " 'management.': [42, 100],\n",
       " 'However,': [43, 101],\n",
       " 'typically': [48],\n",
       " 'seen': [49],\n",
       " 'as': [50],\n",
       " 'add-ons': [51],\n",
       " 'existing': [53],\n",
       " 'business': [54],\n",
       " 'models,': [55],\n",
       " 'well': [59],\n",
       " 'integrated': [60],\n",
       " 'with': [61],\n",
       " 'primary': [62, 79, 121],\n",
       " 'businesses.': [63, 80],\n",
       " 'Consequently,': [64],\n",
       " 'many': [65],\n",
       " 'operations': [68],\n",
       " 'managed': [70],\n",
       " 'using': [71],\n",
       " 'ad-hoc': [72],\n",
       " 'practices': [73],\n",
       " 'that': [74, 147],\n",
       " 'often': [76, 109, 118],\n",
       " 'subordinated': [77, 119],\n",
       " 'Early': [81],\n",
       " 'research': [82],\n",
       " 'in': [83, 89],\n",
       " 'this': [84],\n",
       " 'area': [85],\n",
       " 'has': [86],\n",
       " 'been': [87],\n",
       " 'instrumental': [88],\n",
       " 'assisting': [90],\n",
       " 'organizations': [91],\n",
       " 'begin': [93],\n",
       " 'optimizing': [94],\n",
       " 'some': [95],\n",
       " 'aspects': [96],\n",
       " 'performance': [102, 153],\n",
       " 'goals': [103, 154],\n",
       " 'for': [104, 155],\n",
       " 'management': [107, 181],\n",
       " 'ill-defined.': [110],\n",
       " 'Further,': [111],\n",
       " 'because': [112],\n",
       " 'these': [113, 136],\n",
       " 'within': [123],\n",
       " 'a': [124, 145],\n",
       " 'firm,': [125],\n",
       " 'use': [127],\n",
       " 'newer': [129],\n",
       " 'big': [130, 171],\n",
       " 'data': [131, 172],\n",
       " 'applications': [132, 173],\n",
       " 'help': [134],\n",
       " 'manage': [135],\n",
       " 'processes': [137],\n",
       " 'is': [138],\n",
       " 'almost': [139],\n",
       " 'completely': [140],\n",
       " 'absent.': [141],\n",
       " 'Herein,': [142],\n",
       " 'we': [143],\n",
       " 'develop': [144],\n",
       " 'framework': [146],\n",
       " 'seeks': [148],\n",
       " 'define': [150],\n",
       " 'purpose': [157],\n",
       " 'outlining': [159],\n",
       " 'where': [160],\n",
       " 'scholars': [161],\n",
       " 'practitioners': [163],\n",
       " 'can': [164, 174],\n",
       " 'further': [165],\n",
       " 'examine': [166],\n",
       " 'where,': [167],\n",
       " 'how,': [168],\n",
       " 'why': [170],\n",
       " 'be': [175],\n",
       " 'employed': [176],\n",
       " 'enhance': [178],\n",
       " 'performance.': [182]}"
      ]
     },
     "execution_count": 23,
     "metadata": {},
     "output_type": "execute_result"
    }
   ],
   "source": [
    "# Inverted index with positions of words\n",
    "data['abstract_inverted_index']"
   ]
  },
  {
   "cell_type": "code",
   "execution_count": 24,
   "metadata": {
    "execution": {
     "iopub.execute_input": "2024-04-14T22:15:22.958751Z",
     "iopub.status.busy": "2024-04-14T22:15:22.958284Z",
     "iopub.status.idle": "2024-04-14T22:15:23.001603Z",
     "shell.execute_reply": "2024-04-14T22:15:22.999403Z",
     "shell.execute_reply.started": "2024-04-14T22:15:22.958717Z"
    },
    "tags": []
   },
   "outputs": [
    {
     "data": {
      "text/plain": [
       "['https://openalex.org/W1969008554',\n",
       " 'https://openalex.org/W2283214536',\n",
       " 'https://openalex.org/W2549510740',\n",
       " 'https://openalex.org/W2808736867',\n",
       " 'https://openalex.org/W2154017244']"
      ]
     },
     "execution_count": 24,
     "metadata": {},
     "output_type": "execute_result"
    }
   ],
   "source": [
    "# First 5 related works by their OpenAlex links\n",
    "data['related_works'][:5]"
   ]
  },
  {
   "cell_type": "code",
   "execution_count": 25,
   "metadata": {
    "execution": {
     "iopub.execute_input": "2024-04-14T22:15:23.004493Z",
     "iopub.status.busy": "2024-04-14T22:15:23.003810Z",
     "iopub.status.idle": "2024-04-14T22:15:23.076340Z",
     "shell.execute_reply": "2024-04-14T22:15:23.074040Z",
     "shell.execute_reply.started": "2024-04-14T22:15:23.004434Z"
    },
    "tags": []
   },
   "outputs": [
    {
     "data": {
      "text/plain": [
       "'2024-04-11T21:41:48.457905'"
      ]
     },
     "execution_count": 25,
     "metadata": {},
     "output_type": "execute_result"
    }
   ],
   "source": [
    "# How up to date is this information?\n",
    "data['updated_date']"
   ]
  },
  {
   "cell_type": "code",
   "execution_count": 26,
   "metadata": {
    "execution": {
     "iopub.execute_input": "2024-04-14T22:15:23.079775Z",
     "iopub.status.busy": "2024-04-14T22:15:23.079051Z",
     "iopub.status.idle": "2024-04-14T22:15:23.128460Z",
     "shell.execute_reply": "2024-04-14T22:15:23.126150Z",
     "shell.execute_reply.started": "2024-04-14T22:15:23.079713Z"
    },
    "tags": []
   },
   "outputs": [
    {
     "data": {
      "text/plain": [
       "[{'id': 'https://openalex.org/C2780378061',\n",
       "  'wikidata': 'https://www.wikidata.org/wiki/Q25351891',\n",
       "  'display_name': 'Service (business)',\n",
       "  'level': 2,\n",
       "  'score': 0.66861594},\n",
       " {'id': 'https://openalex.org/C2775899829',\n",
       "  'wikidata': 'https://www.wikidata.org/wiki/Q3109007',\n",
       "  'display_name': 'Globe',\n",
       "  'level': 2,\n",
       "  'score': 0.5246128},\n",
       " {'id': 'https://openalex.org/C61063171',\n",
       "  'wikidata': 'https://www.wikidata.org/wiki/Q532781',\n",
       "  'display_name': 'Service design',\n",
       "  'level': 4,\n",
       "  'score': 0.4948439}]"
      ]
     },
     "execution_count": 26,
     "metadata": {},
     "output_type": "execute_result"
    }
   ],
   "source": [
    "# Attached concepts (subjects) - with a more sophisticated data structure: a list of dictionaries\n",
    "data['concepts'][:3]"
   ]
  },
  {
   "cell_type": "code",
   "execution_count": 27,
   "metadata": {
    "execution": {
     "iopub.execute_input": "2024-04-14T22:15:23.131336Z",
     "iopub.status.busy": "2024-04-14T22:15:23.130724Z",
     "iopub.status.idle": "2024-04-14T22:15:23.185900Z",
     "shell.execute_reply": "2024-04-14T22:15:23.183625Z",
     "shell.execute_reply.started": "2024-04-14T22:15:23.131281Z"
    },
    "tags": []
   },
   "outputs": [
    {
     "data": {
      "text/plain": [
       "['Service (business)',\n",
       " 'Globe',\n",
       " 'Service design',\n",
       " 'Business',\n",
       " 'Service delivery framework',\n",
       " 'Process management',\n",
       " 'Computer science',\n",
       " 'Big data',\n",
       " 'Service provider',\n",
       " 'Marketing',\n",
       " 'Knowledge management',\n",
       " 'Medicine',\n",
       " 'Ophthalmology',\n",
       " 'Operating system']"
      ]
     },
     "execution_count": 27,
     "metadata": {},
     "output_type": "execute_result"
    }
   ],
   "source": [
    "# Use Python list comprehension to access the display names of subjects\n",
    "[i['display_name'] for i in data['concepts']]"
   ]
  },
  {
   "cell_type": "code",
   "execution_count": 28,
   "metadata": {
    "execution": {
     "iopub.execute_input": "2024-04-14T22:15:23.189118Z",
     "iopub.status.busy": "2024-04-14T22:15:23.188343Z",
     "iopub.status.idle": "2024-04-14T22:15:23.246656Z",
     "shell.execute_reply": "2024-04-14T22:15:23.244366Z",
     "shell.execute_reply.started": "2024-04-14T22:15:23.189051Z"
    },
    "tags": []
   },
   "outputs": [
    {
     "data": {
      "text/plain": [
       "0"
      ]
     },
     "execution_count": 28,
     "metadata": {},
     "output_type": "execute_result"
    }
   ],
   "source": [
    "# How many MESH descriptors are there?\n",
    "len(data['mesh'])"
   ]
  },
  {
   "cell_type": "code",
   "execution_count": 29,
   "metadata": {
    "execution": {
     "iopub.execute_input": "2024-04-14T22:15:23.249844Z",
     "iopub.status.busy": "2024-04-14T22:15:23.249122Z",
     "iopub.status.idle": "2024-04-14T22:15:23.299637Z",
     "shell.execute_reply": "2024-04-14T22:15:23.297373Z",
     "shell.execute_reply.started": "2024-04-14T22:15:23.249778Z"
    },
    "tags": []
   },
   "outputs": [
    {
     "data": {
      "text/plain": [
       "[]"
      ]
     },
     "execution_count": 29,
     "metadata": {},
     "output_type": "execute_result"
    }
   ],
   "source": [
    "# Show the first 5 MESH descriptors with qualifier (\"None\" = no qualifier)\n",
    "[[i['descriptor_name'], i['qualifier_name']] for i in data['mesh'][:5]]"
   ]
  },
  {
   "cell_type": "code",
   "execution_count": 30,
   "metadata": {
    "execution": {
     "iopub.execute_input": "2024-04-14T22:15:23.302530Z",
     "iopub.status.busy": "2024-04-14T22:15:23.301951Z",
     "iopub.status.idle": "2024-04-14T22:15:23.348253Z",
     "shell.execute_reply": "2024-04-14T22:15:23.346243Z",
     "shell.execute_reply.started": "2024-04-14T22:15:23.302478Z"
    },
    "tags": []
   },
   "outputs": [
    {
     "data": {
      "text/plain": [
       "{'value': 2390, 'currency': 'EUR', 'value_usd': 2990, 'provenance': 'doaj'}"
      ]
     },
     "execution_count": 30,
     "metadata": {},
     "output_type": "execute_result"
    }
   ],
   "source": [
    "# Showing the APC of the source journal\n",
    "data['apc_list']"
   ]
  },
  {
   "cell_type": "markdown",
   "metadata": {},
   "source": [
    "### Author and affiliation data"
   ]
  },
  {
   "cell_type": "markdown",
   "metadata": {},
   "source": [
    "The *Works* object can hold attributes which provide more detailed information, or in a certain way, sub-attributes, like the attribute `authorships`.\n",
    "Let's take a look at some `authorships` data: It holds all authors of the publication, each introduced by the `author_position` statement. Thereafter follows the individual author's data, resembling the *Author* entity will get to now later with its own endpoint.\n",
    "\n",
    "Note that authors can have multiple `institutions` (which are their affiliations), each in turn described in detail, too."
   ]
  },
  {
   "cell_type": "code",
   "execution_count": 31,
   "metadata": {
    "execution": {
     "iopub.execute_input": "2024-04-14T22:15:23.352130Z",
     "iopub.status.busy": "2024-04-14T22:15:23.350776Z",
     "iopub.status.idle": "2024-04-14T22:15:23.397238Z",
     "shell.execute_reply": "2024-04-14T22:15:23.394910Z",
     "shell.execute_reply.started": "2024-04-14T22:15:23.352075Z"
    },
    "tags": []
   },
   "outputs": [
    {
     "data": {
      "text/plain": [
       "[{'author_position': 'first',\n",
       "  'author': {'id': 'https://openalex.org/A5080205434',\n",
       "   'display_name': 'Christopher A. Boone',\n",
       "   'orcid': 'https://orcid.org/0000-0001-9654-9062'},\n",
       "  'institutions': [{'id': 'https://openalex.org/I128956969',\n",
       "    'display_name': 'Texas Christian University',\n",
       "    'ror': 'https://ror.org/054b0b564',\n",
       "    'country_code': 'US',\n",
       "    'type': 'education',\n",
       "    'lineage': ['https://openalex.org/I128956969']}],\n",
       "  'countries': ['US'],\n",
       "  'is_corresponding': False,\n",
       "  'raw_author_name': 'Christopher A. Boone',\n",
       "  'raw_affiliation_string': 'Neeley School of Business, Texas Christian University, TX, USA',\n",
       "  'raw_affiliation_strings': ['Neeley School of Business, Texas Christian University, TX, USA']},\n",
       " {'author_position': 'middle',\n",
       "  'author': {'id': 'https://openalex.org/A5020324702',\n",
       "   'display_name': 'Benjamin T. Hazen',\n",
       "   'orcid': None},\n",
       "  'institutions': [{'id': 'https://openalex.org/I55061410',\n",
       "    'display_name': 'Air Force Institute of Technology',\n",
       "    'ror': 'https://ror.org/03f9f1d95',\n",
       "    'country_code': 'US',\n",
       "    'type': 'education',\n",
       "    'lineage': ['https://openalex.org/I4210089612',\n",
       "     'https://openalex.org/I55061410']}],\n",
       "  'countries': ['US'],\n",
       "  'is_corresponding': True,\n",
       "  'raw_author_name': 'Benjamin T. Hazen',\n",
       "  'raw_affiliation_string': 'Department of Operational Sciences, Air Force Institute of Technology, OH, USA',\n",
       "  'raw_affiliation_strings': ['Department of Operational Sciences, Air Force Institute of Technology, OH, USA']}]"
      ]
     },
     "execution_count": 31,
     "metadata": {},
     "output_type": "execute_result"
    }
   ],
   "source": [
    "# Showing the first 2 authors, assembled in \"authorships\" attribute\n",
    "data['authorships'][:2]"
   ]
  },
  {
   "cell_type": "code",
   "execution_count": 32,
   "metadata": {
    "execution": {
     "iopub.execute_input": "2024-04-14T22:15:23.400380Z",
     "iopub.status.busy": "2024-04-14T22:15:23.399631Z",
     "iopub.status.idle": "2024-04-14T22:15:23.442471Z",
     "shell.execute_reply": "2024-04-14T22:15:23.440536Z",
     "shell.execute_reply.started": "2024-04-14T22:15:23.400316Z"
    },
    "tags": []
   },
   "outputs": [
    {
     "name": "stdout",
     "output_type": "stream",
     "text": [
      "Christopher A. Boone\n",
      "https://orcid.org/0000-0001-9654-9062\n",
      "Neeley School of Business, Texas Christian University, TX, USA\n",
      "first\n",
      "---\n",
      "Benjamin T. Hazen\n",
      "None\n",
      "Department of Operational Sciences, Air Force Institute of Technology, OH, USA\n",
      "middle\n",
      "---\n",
      "Joseph B. Skipper\n",
      "None\n",
      "Stafford School of Business, Abraham Baldwin Agricultural College, Tifton, USA\n",
      "middle\n",
      "---\n",
      "Robert E. Overstreet\n",
      "https://orcid.org/0000-0002-5047-2415\n",
      "Department of Supply Chain and Information Systems, Iowa State University, Ames, USA\n",
      "last\n",
      "---\n"
     ]
    }
   ],
   "source": [
    "# Print out the names, ORCIDs, raw affiliation strings and positions of all authors with a loop\n",
    "for i in data['authorships']:\n",
    "    print(i['author']['display_name'])\n",
    "    print(i['author']['orcid'])\n",
    "    print(i['raw_affiliation_string'])\n",
    "    print(i['author_position'])\n",
    "    print('---')"
   ]
  },
  {
   "cell_type": "code",
   "execution_count": 33,
   "metadata": {
    "execution": {
     "iopub.execute_input": "2024-04-14T22:15:23.446358Z",
     "iopub.status.busy": "2024-04-14T22:15:23.444884Z",
     "iopub.status.idle": "2024-04-14T22:15:23.495116Z",
     "shell.execute_reply": "2024-04-14T22:15:23.492601Z",
     "shell.execute_reply.started": "2024-04-14T22:15:23.446287Z"
    },
    "tags": []
   },
   "outputs": [
    {
     "name": "stdout",
     "output_type": "stream",
     "text": [
      "Texas Christian University\n",
      "Air Force Institute of Technology\n",
      "Abraham Baldwin Agricultural College\n",
      "Iowa State University\n"
     ]
    }
   ],
   "source": [
    "# Print out all affiliations (short, normalized form) of the authors with a nested loop\n",
    "for i in data['authorships']:\n",
    "    for j in i['institutions']:\n",
    "        print(j['display_name'])"
   ]
  },
  {
   "cell_type": "markdown",
   "metadata": {},
   "source": [
    "### Use the search parameter"
   ]
  },
  {
   "cell_type": "markdown",
   "metadata": {},
   "source": [
    "With a slight adjustment you can use the *Works* endpoint for a simple **search in the title, abstract fields** and **fulltext**, if available for OpenALex. You can search multiple terms just by separating them with a blank. You can also search for **exact phrases** using quotation marks.\n",
    "\n",
    "The ranking (`relevance_score`) depends on similarity between request and field data, proximity of the single terms and citation counts. See [here](https://docs.openalex.org/api-entities/works/search-works) for a more detailed description of the search functionality."
   ]
  },
  {
   "cell_type": "code",
   "execution_count": 34,
   "metadata": {
    "execution": {
     "iopub.execute_input": "2024-04-14T22:15:23.498587Z",
     "iopub.status.busy": "2024-04-14T22:15:23.497853Z",
     "iopub.status.idle": "2024-04-14T22:15:24.131052Z",
     "shell.execute_reply": "2024-04-14T22:15:24.128868Z",
     "shell.execute_reply.started": "2024-04-14T22:15:23.498521Z"
    },
    "tags": []
   },
   "outputs": [],
   "source": [
    "# Search 2 terms in title, abstract and fulltext, where available\n",
    "url = 'https://api.openalex.org/works?search=einstein philosoph'\n",
    "\n",
    "# Compare\n",
    "#url = 'https://api.openalex.org/works?search=einsteins philosophie'\n",
    "\n",
    "# Search an exact phrase using quotes \"\"\n",
    "#url = 'https://api.openalex.org/works?search=\"einstein als philosoph\"'\n",
    "\n",
    "params = {'mailto': email}\n",
    "\n",
    "r = requests.get(url, params=params)\n",
    "data = r.json()"
   ]
  },
  {
   "cell_type": "code",
   "execution_count": 35,
   "metadata": {
    "execution": {
     "iopub.execute_input": "2024-04-14T22:15:24.133485Z",
     "iopub.status.busy": "2024-04-14T22:15:24.133052Z",
     "iopub.status.idle": "2024-04-14T22:15:24.145212Z",
     "shell.execute_reply": "2024-04-14T22:15:24.143492Z",
     "shell.execute_reply.started": "2024-04-14T22:15:24.133444Z"
    },
    "tags": []
   },
   "outputs": [
    {
     "data": {
      "text/plain": [
       "{'count': 453,\n",
       " 'db_response_time_ms': 118,\n",
       " 'page': 1,\n",
       " 'per_page': 25,\n",
       " 'groups_count': None}"
      ]
     },
     "execution_count": 35,
     "metadata": {},
     "output_type": "execute_result"
    }
   ],
   "source": [
    "data['meta']"
   ]
  },
  {
   "cell_type": "code",
   "execution_count": 36,
   "metadata": {
    "execution": {
     "iopub.execute_input": "2024-04-14T22:15:24.146886Z",
     "iopub.status.busy": "2024-04-14T22:15:24.146555Z",
     "iopub.status.idle": "2024-04-14T22:15:24.190303Z",
     "shell.execute_reply": "2024-04-14T22:15:24.187984Z",
     "shell.execute_reply.started": "2024-04-14T22:15:24.146855Z"
    },
    "tags": []
   },
   "outputs": [
    {
     "name": "stdout",
     "output_type": "stream",
     "text": [
      "Albert Einstein als Philosoph und Naturforscher\n",
      "197.5913\n",
      "book\n",
      "---\n",
      "Albert Einstein als Philosoph und Naturforscher : eine Auswahl\n",
      "79.943756\n",
      "article\n",
      "---\n",
      "Albert Einstein als Philosoph und Naturforscher\n",
      "72.85244\n",
      "book\n",
      "---\n",
      "Einsteins Philosoph: Moritz Schlick und die Relativitätstheorie\n",
      "56.678917\n",
      "article\n",
      "---\n",
      "Die Korrespondenz Einstein-Schlick: Zum Verhältnis der Physik zur Philosophie\n",
      "32.561615\n",
      "article\n",
      "---\n",
      "Teil V: Schlussbemerkungen: Einstein – Wissenschaftler und Philosoph\n",
      "17.587198\n",
      "book-chapter\n",
      "---\n",
      "Schill, P. A. : Albert Einstein als Philosoph und Naturforscher\n",
      "16.57221\n",
      "article\n",
      "---\n",
      "Semiconductor Optics\n",
      "14.787688\n",
      "book\n",
      "---\n",
      "Albert Einstein und Ernst Mach: Das Machsche Prinzip und die Krise des logischen Positivismus: Walther Gerlach zum Gedächtnis\n",
      "13.120136\n",
      "article\n",
      "---\n",
      "P. A. Schilpp (Ed.): <i>Albert Einstein als Philosoph und Naturforscher.</i> Eine Auswahl. Friedr. Vieweg &amp; Sohn, Braunschweig/Wiesbaden 1983. 250 Seiten, Preis: DM 34,—\n",
      "11.933929\n",
      "article\n",
      "---\n"
     ]
    }
   ],
   "source": [
    "for i in data['results'][:10]:\n",
    "    print(i['title'])\n",
    "    print(i['relevance_score'])\n",
    "    print(i['type'])\n",
    "    print('---')"
   ]
  },
  {
   "cell_type": "markdown",
   "metadata": {},
   "source": [
    "### Access multiple Work entities"
   ]
  },
  {
   "cell_type": "markdown",
   "metadata": {},
   "source": [
    "After retrieving one specific publication record successfully, it's time to look for a bunch of publications. First of all, it is easy to **access all available works** with the OpenAlex API - just use the *Works* endpoint without any further parameters. But presumably you will need this amount of data only in exceptional cases.\n",
    "\n",
    "But you can easily **add** to the *Work* endpoint **several filters** to narrow down your search. You find the **available filters** for *Work* entities [here](https://docs.openalex.org/api-entities/works/filter-works). As you may notice these are mainly the attributes and sub-attributes of the *Work* entities seen above."
   ]
  },
  {
   "cell_type": "markdown",
   "metadata": {},
   "source": [
    "#### Filter works by publication type"
   ]
  },
  {
   "cell_type": "markdown",
   "metadata": {},
   "source": [
    "Let's start with filtering all available publications due to a **certain publication type**, like for instance book parts or reports. Note that OpenAlex uses the same publication types like [Crossref](https://api.crossref.org/types). Feel free to try them out in the  code cell below."
   ]
  },
  {
   "cell_type": "code",
   "execution_count": 37,
   "metadata": {
    "execution": {
     "iopub.execute_input": "2024-04-14T22:15:24.193042Z",
     "iopub.status.busy": "2024-04-14T22:15:24.192238Z",
     "iopub.status.idle": "2024-04-14T22:15:24.902030Z",
     "shell.execute_reply": "2024-04-14T22:15:24.899812Z",
     "shell.execute_reply.started": "2024-04-14T22:15:24.192978Z"
    },
    "tags": []
   },
   "outputs": [],
   "source": [
    "# Accessing all publication of a certain publication type\n",
    "#url = 'https://api.openalex.org/works'   # all available publications\n",
    "\n",
    "url = 'https://api.openalex.org/works?filter=type:dissertation'\n",
    "params = {'mailto': email}\n",
    "\n",
    "r = requests.get(url, params=params) \n",
    "data = r.json()"
   ]
  },
  {
   "cell_type": "code",
   "execution_count": 38,
   "metadata": {
    "execution": {
     "iopub.execute_input": "2024-04-14T22:15:24.904387Z",
     "iopub.status.busy": "2024-04-14T22:15:24.903800Z",
     "iopub.status.idle": "2024-04-14T22:15:24.917547Z",
     "shell.execute_reply": "2024-04-14T22:15:24.916335Z",
     "shell.execute_reply.started": "2024-04-14T22:15:24.904333Z"
    },
    "tags": []
   },
   "outputs": [
    {
     "name": "stdout",
     "output_type": "stream",
     "text": [
      "['meta', 'results', 'group_by']\n"
     ]
    },
    {
     "data": {
      "text/plain": [
       "{'count': 6151129,\n",
       " 'db_response_time_ms': 41,\n",
       " 'page': 1,\n",
       " 'per_page': 25,\n",
       " 'groups_count': None}"
      ]
     },
     "execution_count": 38,
     "metadata": {},
     "output_type": "execute_result"
    }
   ],
   "source": [
    "print(list(data))\n",
    "data['meta']"
   ]
  },
  {
   "cell_type": "markdown",
   "metadata": {},
   "source": [
    "In the `results` section you will find the matching records.\n",
    "\n",
    "The `count` attribute in the `meta`section says how many results are there at all. The `per_page` attribute tells you how many records are delivered at once as default."
   ]
  },
  {
   "cell_type": "code",
   "execution_count": 39,
   "metadata": {
    "execution": {
     "iopub.execute_input": "2024-04-14T22:15:24.918994Z",
     "iopub.status.busy": "2024-04-14T22:15:24.918707Z",
     "iopub.status.idle": "2024-04-14T22:15:24.973628Z",
     "shell.execute_reply": "2024-04-14T22:15:24.972100Z",
     "shell.execute_reply.started": "2024-04-14T22:15:24.918968Z"
    },
    "tags": []
   },
   "outputs": [
    {
     "data": {
      "text/plain": [
       "{'id': 'https://openalex.org/W4240619026',\n",
       " 'doi': 'https://doi.org/10.25148/etd.fi14061505',\n",
       " 'title': 'The construct of work commitment: testing an integrative framework',\n",
       " 'display_name': 'The construct of work commitment: testing an integrative framework',\n",
       " 'publication_year': 2017,\n",
       " 'publication_date': '2017-11-13',\n",
       " 'ids': {'openalex': 'https://openalex.org/W4240619026',\n",
       "  'doi': 'https://doi.org/10.25148/etd.fi14061505'},\n",
       " 'language': 'en',\n",
       " 'primary_location': {'is_oa': True,\n",
       "  'landing_page_url': 'https://doi.org/10.25148/etd.fi14061505',\n",
       "  'pdf_url': 'https://digitalcommons.fiu.edu/cgi/viewcontent.cgi?article=3834&context=etd',\n",
       "  'source': None,\n",
       "  'license': None,\n",
       "  'version': 'publishedVersion',\n",
       "  'is_accepted': True,\n",
       "  'is_published': True},\n",
       " 'type': 'dissertation',\n",
       " 'type_crossref': 'dissertation',\n",
       " 'indexed_in': ['crossref'],\n",
       " 'open_access': {'is_oa': True,\n",
       "  'oa_status': 'bronze',\n",
       "  'oa_url': 'https://digitalcommons.fiu.edu/cgi/viewcontent.cgi?article=3834&context=etd',\n",
       "  'any_repository_has_fulltext': True},\n",
       " 'authorships': [{'author_position': 'first',\n",
       "   'author': {'id': 'https://openalex.org/A5023811272',\n",
       "    'display_name': 'Amy Rachelle Cooper',\n",
       "    'orcid': None},\n",
       "   'institutions': [],\n",
       "   'countries': [],\n",
       "   'is_corresponding': True,\n",
       "   'raw_author_name': 'Amy Rachelle Cooper',\n",
       "   'raw_affiliation_string': '',\n",
       "   'raw_affiliation_strings': []}],\n",
       " 'countries_distinct_count': 0,\n",
       " 'institutions_distinct_count': 0,\n",
       " 'corresponding_author_ids': ['https://openalex.org/A5023811272'],\n",
       " 'corresponding_institution_ids': [],\n",
       " 'apc_list': None,\n",
       " 'apc_paid': None,\n",
       " 'has_fulltext': True,\n",
       " 'fulltext_origin': 'pdf',\n",
       " 'cited_by_count': 541,\n",
       " 'cited_by_percentile_year': {'min': 99, 'max': 100},\n",
       " 'biblio': {'volume': None,\n",
       "  'issue': None,\n",
       "  'first_page': None,\n",
       "  'last_page': None},\n",
       " 'is_retracted': False,\n",
       " 'is_paratext': False,\n",
       " 'primary_topic': {'id': 'https://openalex.org/T13642',\n",
       "  'display_name': 'Causes and Consequences of Employee Downsizing',\n",
       "  'score': 0.3347,\n",
       "  'subfield': {'id': 'https://openalex.org/subfields/1407',\n",
       "   'display_name': 'Organizational Behavior and Human Resource Management'},\n",
       "  'field': {'id': 'https://openalex.org/fields/14',\n",
       "   'display_name': 'Business, Management and Accounting'},\n",
       "  'domain': {'id': 'https://openalex.org/domains/2',\n",
       "   'display_name': 'Social Sciences'}},\n",
       " 'topics': [{'id': 'https://openalex.org/T13642',\n",
       "   'display_name': 'Causes and Consequences of Employee Downsizing',\n",
       "   'score': 0.3347,\n",
       "   'subfield': {'id': 'https://openalex.org/subfields/1407',\n",
       "    'display_name': 'Organizational Behavior and Human Resource Management'},\n",
       "   'field': {'id': 'https://openalex.org/fields/14',\n",
       "    'display_name': 'Business, Management and Accounting'},\n",
       "   'domain': {'id': 'https://openalex.org/domains/2',\n",
       "    'display_name': 'Social Sciences'}},\n",
       "  {'id': 'https://openalex.org/T11959',\n",
       "   'display_name': 'Health Effects of Precarious Employment and Unemployment',\n",
       "   'score': 0.286,\n",
       "   'subfield': {'id': 'https://openalex.org/subfields/3600',\n",
       "    'display_name': 'General Health Professions'},\n",
       "   'field': {'id': 'https://openalex.org/fields/36',\n",
       "    'display_name': 'Health Professions'},\n",
       "   'domain': {'id': 'https://openalex.org/domains/4',\n",
       "    'display_name': 'Health Sciences'}},\n",
       "  {'id': 'https://openalex.org/T12843',\n",
       "   'display_name': 'Global Talent Management and Strategic HR Practices',\n",
       "   'score': 0.27,\n",
       "   'subfield': {'id': 'https://openalex.org/subfields/1407',\n",
       "    'display_name': 'Organizational Behavior and Human Resource Management'},\n",
       "   'field': {'id': 'https://openalex.org/fields/14',\n",
       "    'display_name': 'Business, Management and Accounting'},\n",
       "   'domain': {'id': 'https://openalex.org/domains/2',\n",
       "    'display_name': 'Social Sciences'}}],\n",
       " 'keywords': [{'id': 'https://openalex.org/keywords/employee-engagement',\n",
       "   'display_name': 'Employee Engagement',\n",
       "   'keyword': 'Employee Engagement',\n",
       "   'score': 0.559806}],\n",
       " 'concepts': [{'id': 'https://openalex.org/C2780801425',\n",
       "   'wikidata': 'https://www.wikidata.org/wiki/Q5164392',\n",
       "   'display_name': 'Construct (python library)',\n",
       "   'level': 2,\n",
       "   'score': 0.7942295},\n",
       "  {'id': 'https://openalex.org/C2718322',\n",
       "   'wikidata': 'https://www.wikidata.org/wiki/Q629463',\n",
       "   'display_name': 'Job satisfaction',\n",
       "   'level': 2,\n",
       "   'score': 0.73023856},\n",
       "  {'id': 'https://openalex.org/C83030740',\n",
       "   'wikidata': 'https://www.wikidata.org/wiki/Q267236',\n",
       "   'display_name': 'Organizational commitment',\n",
       "   'level': 2,\n",
       "   'score': 0.72752154},\n",
       "  {'id': 'https://openalex.org/C2780502288',\n",
       "   'wikidata': 'https://www.wikidata.org/wiki/Q28838156',\n",
       "   'display_name': 'Expansive',\n",
       "   'level': 3,\n",
       "   'score': 0.6405206},\n",
       "  {'id': 'https://openalex.org/C18762648',\n",
       "   'wikidata': 'https://www.wikidata.org/wiki/Q42213',\n",
       "   'display_name': 'Work (physics)',\n",
       "   'level': 2,\n",
       "   'score': 0.61093915},\n",
       "  {'id': 'https://openalex.org/C15744967',\n",
       "   'wikidata': 'https://www.wikidata.org/wiki/Q9418',\n",
       "   'display_name': 'Psychology',\n",
       "   'level': 0,\n",
       "   'score': 0.59286714},\n",
       "  {'id': 'https://openalex.org/C77805123',\n",
       "   'wikidata': 'https://www.wikidata.org/wiki/Q161272',\n",
       "   'display_name': 'Social psychology',\n",
       "   'level': 1,\n",
       "   'score': 0.5400802},\n",
       "  {'id': 'https://openalex.org/C174954385',\n",
       "   'wikidata': 'https://www.wikidata.org/wiki/Q6206740',\n",
       "   'display_name': 'Job performance',\n",
       "   'level': 3,\n",
       "   'score': 0.43433103},\n",
       "  {'id': 'https://openalex.org/C148220186',\n",
       "   'wikidata': 'https://www.wikidata.org/wiki/Q7111912',\n",
       "   'display_name': 'Outcome (game theory)',\n",
       "   'level': 2,\n",
       "   'score': 0.42644614},\n",
       "  {'id': 'https://openalex.org/C33923547',\n",
       "   'wikidata': 'https://www.wikidata.org/wiki/Q395',\n",
       "   'display_name': 'Mathematics',\n",
       "   'level': 0,\n",
       "   'score': 0.25365806},\n",
       "  {'id': 'https://openalex.org/C127413603',\n",
       "   'wikidata': 'https://www.wikidata.org/wiki/Q11023',\n",
       "   'display_name': 'Engineering',\n",
       "   'level': 0,\n",
       "   'score': 0.19017693},\n",
       "  {'id': 'https://openalex.org/C41008148',\n",
       "   'wikidata': 'https://www.wikidata.org/wiki/Q21198',\n",
       "   'display_name': 'Computer science',\n",
       "   'level': 0,\n",
       "   'score': 0.16636792},\n",
       "  {'id': 'https://openalex.org/C144237770',\n",
       "   'wikidata': 'https://www.wikidata.org/wiki/Q747534',\n",
       "   'display_name': 'Mathematical economics',\n",
       "   'level': 1,\n",
       "   'score': 0.0713985},\n",
       "  {'id': 'https://openalex.org/C78519656',\n",
       "   'wikidata': 'https://www.wikidata.org/wiki/Q101333',\n",
       "   'display_name': 'Mechanical engineering',\n",
       "   'level': 1,\n",
       "   'score': 0.0},\n",
       "  {'id': 'https://openalex.org/C30407753',\n",
       "   'wikidata': 'https://www.wikidata.org/wiki/Q186191',\n",
       "   'display_name': 'Compressive strength',\n",
       "   'level': 2,\n",
       "   'score': 0.0},\n",
       "  {'id': 'https://openalex.org/C192562407',\n",
       "   'wikidata': 'https://www.wikidata.org/wiki/Q228736',\n",
       "   'display_name': 'Materials science',\n",
       "   'level': 0,\n",
       "   'score': 0.0},\n",
       "  {'id': 'https://openalex.org/C159985019',\n",
       "   'wikidata': 'https://www.wikidata.org/wiki/Q181790',\n",
       "   'display_name': 'Composite material',\n",
       "   'level': 1,\n",
       "   'score': 0.0},\n",
       "  {'id': 'https://openalex.org/C199360897',\n",
       "   'wikidata': 'https://www.wikidata.org/wiki/Q9143',\n",
       "   'display_name': 'Programming language',\n",
       "   'level': 1,\n",
       "   'score': 0.0}],\n",
       " 'mesh': [],\n",
       " 'locations_count': 1,\n",
       " 'locations': [{'is_oa': True,\n",
       "   'landing_page_url': 'https://doi.org/10.25148/etd.fi14061505',\n",
       "   'pdf_url': 'https://digitalcommons.fiu.edu/cgi/viewcontent.cgi?article=3834&context=etd',\n",
       "   'source': None,\n",
       "   'license': None,\n",
       "   'version': 'publishedVersion',\n",
       "   'is_accepted': True,\n",
       "   'is_published': True}],\n",
       " 'best_oa_location': {'is_oa': True,\n",
       "  'landing_page_url': 'https://doi.org/10.25148/etd.fi14061505',\n",
       "  'pdf_url': 'https://digitalcommons.fiu.edu/cgi/viewcontent.cgi?article=3834&context=etd',\n",
       "  'source': None,\n",
       "  'license': None,\n",
       "  'version': 'publishedVersion',\n",
       "  'is_accepted': True,\n",
       "  'is_published': True},\n",
       " 'sustainable_development_goals': [{'display_name': 'Decent work and economic growth',\n",
       "   'id': 'https://metadata.un.org/sdg/8',\n",
       "   'score': 0.57}],\n",
       " 'grants': [],\n",
       " 'datasets': [],\n",
       " 'versions': [],\n",
       " 'referenced_works_count': 0,\n",
       " 'referenced_works': [],\n",
       " 'related_works': ['https://openalex.org/W1185216456',\n",
       "  'https://openalex.org/W2181795137',\n",
       "  'https://openalex.org/W39337947',\n",
       "  'https://openalex.org/W3129511833',\n",
       "  'https://openalex.org/W2062916171',\n",
       "  'https://openalex.org/W2343770892',\n",
       "  'https://openalex.org/W2953738843',\n",
       "  'https://openalex.org/W2080227971',\n",
       "  'https://openalex.org/W2946596692',\n",
       "  'https://openalex.org/W4385961521'],\n",
       " 'ngrams_url': 'https://api.openalex.org/works/W4240619026/ngrams',\n",
       " 'abstract_inverted_index': {'This': [0],\n",
       "  'dissertation': [1],\n",
       "  'meta-analytically': [2],\n",
       "  'examined': [3],\n",
       "  'the': [4, 17, 40, 64, 70, 86],\n",
       "  'expansive': [5],\n",
       "  'material': [6],\n",
       "  'associated': [7],\n",
       "  'with': [8, 24],\n",
       "  'work': [9, 43, 73, 89],\n",
       "  'commitment.': [10],\n",
       "  'Work': [11],\n",
       "  'commitment,': [12],\n",
       "  'a': [13, 50],\n",
       "  'multidimensional': [14],\n",
       "  'construct,': [15],\n",
       "  'encompasses': [16],\n",
       "  'level': [18],\n",
       "  'of': [19, 39, 42, 52, 57, 69, 72, 88],\n",
       "  'involvement': [20],\n",
       "  'an': [21],\n",
       "  'employee': [22],\n",
       "  'has': [23, 45],\n",
       "  'his': [25],\n",
       "  'or': [26],\n",
       "  'her': [27],\n",
       "  'work,': [28],\n",
       "  'organization,': [29],\n",
       "  'job,': [30],\n",
       "  'career,': [31],\n",
       "  'and': [32, 82, 92, 102],\n",
       "  'union': [33],\n",
       "  '(Morrow': [34],\n",
       "  '&': [35],\n",
       "  'Goetz,': [36],\n",
       "  '1998).': [37],\n",
       "  'Each': [38],\n",
       "  'dimensions': [41, 71, 91],\n",
       "  'commitment': [44, 74, 90],\n",
       "  'been': [46],\n",
       "  'further': [47],\n",
       "  'divided': [48],\n",
       "  'into': [49],\n",
       "  'number': [51],\n",
       "  'subdimensions.': [53],\n",
       "  'The': [54],\n",
       "  'primary': [55],\n",
       "  'purpose': [56],\n",
       "  'this': [58],\n",
       "  'study': [59],\n",
       "  'was': [60],\n",
       "  'to': [61, 75, 83],\n",
       "  '(1)': [62],\n",
       "  'cumulate': [63],\n",
       "  'correlations': [65],\n",
       "  'found': [66],\n",
       "  'among': [67],\n",
       "  'each': [68],\n",
       "  'see': [76],\n",
       "  'which,': [77],\n",
       "  'if': [78],\n",
       "  'any,': [79],\n",
       "  'were': [80],\n",
       "  'intercorrelated,': [81],\n",
       "  '(2)': [84],\n",
       "  'determine': [85],\n",
       "  'impact': [87],\n",
       "  'subdimensions': [93],\n",
       "  'on': [94],\n",
       "  'specific': [95],\n",
       "  'outcome': [96],\n",
       "  'variables': [97],\n",
       "  '(job': [98],\n",
       "  'satisfaction,': [99],\n",
       "  'job': [100],\n",
       "  'performance,': [101],\n",
       "  'turnover).': [103]},\n",
       " 'cited_by_api_url': 'https://api.openalex.org/works?filter=cites:W4240619026',\n",
       " 'counts_by_year': [{'year': 2024, 'cited_by_count': 5},\n",
       "  {'year': 2023, 'cited_by_count': 34},\n",
       "  {'year': 2022, 'cited_by_count': 30},\n",
       "  {'year': 2021, 'cited_by_count': 27},\n",
       "  {'year': 2020, 'cited_by_count': 74},\n",
       "  {'year': 2019, 'cited_by_count': 28},\n",
       "  {'year': 2018, 'cited_by_count': 22},\n",
       "  {'year': 2017, 'cited_by_count': 35},\n",
       "  {'year': 2016, 'cited_by_count': 31},\n",
       "  {'year': 2015, 'cited_by_count': 22},\n",
       "  {'year': 2014, 'cited_by_count': 41},\n",
       "  {'year': 2013, 'cited_by_count': 29},\n",
       "  {'year': 2012, 'cited_by_count': 40}],\n",
       " 'updated_date': '2024-04-12T05:52:21.877885',\n",
       " 'created_date': '2022-05-12'}"
      ]
     },
     "execution_count": 39,
     "metadata": {},
     "output_type": "execute_result"
    }
   ],
   "source": [
    "# Pick one example from the results list\n",
    "data['results'][11]"
   ]
  },
  {
   "cell_type": "markdown",
   "metadata": {},
   "source": [
    "#### Filter works by \"source\":  journal, repository etc"
   ]
  },
  {
   "cell_type": "markdown",
   "metadata": {},
   "source": [
    "Next we try to retrieve all publications of a certain \"source\". ***Source* entities** in OpenAlex are the venues, like **journals, conferences, preprint repositories,** and **institutional repositories**, that host publications. For journals articles this will be their journals, for book parts their volume. Sources can also be monograph series like [S4210167446](https://api.openalex.org/sources/S4210167446), repositories like [S4306402567](https://api.openalex.org/sources/S4306402567).\n",
    "\n",
    "Source information is given in the *Works* attribute `primary_location` and `locations`. To get an impression of sources you may use the random generation `https://api.openalex.org/sources/random`.\n",
    "\n",
    "To identify the desired source you can use its OpenAlex ID (starting with a \"S\"), for instance `S4210209919`. This identifier is also a sub-attribute of `locations.source`, and can be addressed with `locations.source.id` in the *Works* endpoint filter. You may also use the popular [ISSN](https://en.wikipedia.org/wiki/International_Standard_Serial_Number) identifier in the same way."
   ]
  },
  {
   "cell_type": "code",
   "execution_count": 40,
   "metadata": {
    "execution": {
     "iopub.execute_input": "2024-04-14T22:15:24.974892Z",
     "iopub.status.busy": "2024-04-14T22:15:24.974606Z",
     "iopub.status.idle": "2024-04-14T22:15:25.659423Z",
     "shell.execute_reply": "2024-04-14T22:15:25.656883Z",
     "shell.execute_reply.started": "2024-04-14T22:15:24.974866Z"
    },
    "tags": []
   },
   "outputs": [
    {
     "data": {
      "text/plain": [
       "{'count': 133,\n",
       " 'db_response_time_ms': 241,\n",
       " 'page': 1,\n",
       " 'per_page': 25,\n",
       " 'groups_count': None}"
      ]
     },
     "execution_count": 40,
     "metadata": {},
     "output_type": "execute_result"
    }
   ],
   "source": [
    "# Accessing works of a certain host venue, using OpenAlex ID\n",
    "url = 'https://api.openalex.org/works?filter=locations.source.id:S4210209919'\n",
    "\n",
    "# Using ISSN identifier\n",
    "#url = 'https://api.openalex.org/works?filter=locations.source.issn:2391-7652'\n",
    "\n",
    "params = {'mailto': email}\n",
    "\n",
    "r = requests.get(url, params=params) \n",
    "data = r.json()\n",
    "data['meta']"
   ]
  },
  {
   "cell_type": "code",
   "execution_count": 41,
   "metadata": {
    "execution": {
     "iopub.execute_input": "2024-04-14T22:15:25.661518Z",
     "iopub.status.busy": "2024-04-14T22:15:25.661098Z",
     "iopub.status.idle": "2024-04-14T22:15:25.676099Z",
     "shell.execute_reply": "2024-04-14T22:15:25.673941Z",
     "shell.execute_reply.started": "2024-04-14T22:15:25.661481Z"
    },
    "tags": []
   },
   "outputs": [
    {
     "data": {
      "text/plain": [
       "['Caste: The Origins of Our Discontents',\n",
       " 'Caste Identities and Structures of Threats: Stigma, Prejudice and Social Representation in Indian universities',\n",
       " 'Dalit or Brahmanical Patriarchy? Rethinking Indian Feminism',\n",
       " 'Politics of Recognition and Caste among Muslims: A Study of Shekhra Biradari of Bihar, India',\n",
       " 'The Human Dignity Argument against Manual Scavenging in India',\n",
       " 'The Caste of Campus Habitus: Caste and Gender Encounters of the First-generation Dalit Women Students in Indian Universities',\n",
       " 'As a Dalit Women',\n",
       " 'Caste and Socioeconomic Inequality in Child Health and Nutrition in India: Evidences from National Family Health Survey',\n",
       " 'Manual Scavenging in India: The Banality of An Everyday Crime',\n",
       " 'Why a Journal on Caste?',\n",
       " 'Sex as a Weapon to Settle Scores against Dalits: An Quotidian Phenomenon',\n",
       " 'Editorial Essay',\n",
       " 'Caste and Consequences',\n",
       " 'Revolt of the Upper Castes',\n",
       " 'Population-Poverty Linkages and Health Consequences',\n",
       " 'Caste, Religion and Ethnicity',\n",
       " 'Witch Hunting: A Form of violence against Dalit Women in India',\n",
       " 'Thathagata Buddha Songs: Buddhism as Religion and Cultural-Resistance among Dalit Women Singers of Uttar Pradesh',\n",
       " 'Intersecting Dalit and Cultural Studies: De-brahmanising the Disciplinary Space',\n",
       " 'Persisting Prejudice: Measuring Attitudes and Outcomes by Caste and Gender',\n",
       " 'Caste and Counselling Psychology in India: Dalit Perspectives in Theory and Practice',\n",
       " 'Reading Dalit Autobiographies in English: A Top Ten List',\n",
       " 'On the margins of Healthcare: Role of Social Capital in Health of Migrants in India',\n",
       " 'Importance of Caste-Based Headcounts: An Analysis of Caste Specific Demographics Transition in India',\n",
       " 'Un‘casting’ Universities: Examining the Intersections of Inclusive Curriculum and Dalit Pedagogies in a Private University in Bangalore, India']"
      ]
     },
     "execution_count": 41,
     "metadata": {},
     "output_type": "execute_result"
    }
   ],
   "source": [
    "# Article titles of the result set\n",
    "[i['title'] for i in data['results']]"
   ]
  },
  {
   "cell_type": "markdown",
   "metadata": {},
   "source": [
    "We might adapt now the request by defining a **bigger default result set** to get all hits at once.\n",
    "\n",
    "Instead to add the parameter to the URL directly, you may also use the `params` dictionary for more clarity."
   ]
  },
  {
   "cell_type": "code",
   "execution_count": 42,
   "metadata": {
    "execution": {
     "iopub.execute_input": "2024-04-14T22:15:25.678065Z",
     "iopub.status.busy": "2024-04-14T22:15:25.677656Z",
     "iopub.status.idle": "2024-04-14T22:15:26.683399Z",
     "shell.execute_reply": "2024-04-14T22:15:26.681698Z",
     "shell.execute_reply.started": "2024-04-14T22:15:25.678031Z"
    },
    "tags": []
   },
   "outputs": [],
   "source": [
    "url = 'https://api.openalex.org/works?'\n",
    "\n",
    "params = {'mailto': email,\n",
    "          'filter': 'locations.source.id:S4210209919',\n",
    "          'per_page': 100}\n",
    "\n",
    "r = requests.get(url, params=params) \n",
    "data = r.json()"
   ]
  },
  {
   "cell_type": "code",
   "execution_count": 43,
   "metadata": {
    "execution": {
     "iopub.execute_input": "2024-04-14T22:15:26.684850Z",
     "iopub.status.busy": "2024-04-14T22:15:26.684590Z",
     "iopub.status.idle": "2024-04-14T22:15:26.693474Z",
     "shell.execute_reply": "2024-04-14T22:15:26.692303Z",
     "shell.execute_reply.started": "2024-04-14T22:15:26.684827Z"
    },
    "tags": []
   },
   "outputs": [
    {
     "data": {
      "text/plain": [
       "{'count': 133,\n",
       " 'db_response_time_ms': 123,\n",
       " 'page': 1,\n",
       " 'per_page': 100,\n",
       " 'groups_count': None}"
      ]
     },
     "execution_count": 43,
     "metadata": {},
     "output_type": "execute_result"
    }
   ],
   "source": [
    "data['meta']"
   ]
  },
  {
   "cell_type": "code",
   "execution_count": 44,
   "metadata": {
    "execution": {
     "iopub.execute_input": "2024-04-14T22:15:26.694684Z",
     "iopub.status.busy": "2024-04-14T22:15:26.694449Z",
     "iopub.status.idle": "2024-04-14T22:15:26.773631Z",
     "shell.execute_reply": "2024-04-14T22:15:26.772165Z",
     "shell.execute_reply.started": "2024-04-14T22:15:26.694663Z"
    },
    "tags": []
   },
   "outputs": [
    {
     "data": {
      "text/plain": [
       "{'id': 'https://openalex.org/W3099866883',\n",
       " 'doi': 'https://doi.org/10.26812/caste.v1i2.198',\n",
       " 'title': 'Dalit Counterpublic and Social Space on Indian Campuses',\n",
       " 'display_name': 'Dalit Counterpublic and Social Space on Indian Campuses',\n",
       " 'publication_year': 2020,\n",
       " 'publication_date': '2020-10-31',\n",
       " 'ids': {'openalex': 'https://openalex.org/W3099866883',\n",
       "  'doi': 'https://doi.org/10.26812/caste.v1i2.198',\n",
       "  'mag': '3099866883'},\n",
       " 'language': 'en',\n",
       " 'primary_location': {'is_oa': True,\n",
       "  'landing_page_url': 'https://doi.org/10.26812/caste.v1i2.198',\n",
       "  'pdf_url': 'https://journals.library.brandeis.edu/index.php/caste/article/download/198/52',\n",
       "  'source': {'id': 'https://openalex.org/S4210209919',\n",
       "   'display_name': 'Caste',\n",
       "   'issn_l': '2639-4928',\n",
       "   'issn': ['2639-4928'],\n",
       "   'is_oa': True,\n",
       "   'is_in_doaj': True,\n",
       "   'host_organization': None,\n",
       "   'host_organization_name': None,\n",
       "   'host_organization_lineage': [],\n",
       "   'host_organization_lineage_names': [],\n",
       "   'type': 'journal'},\n",
       "  'license': 'cc-by',\n",
       "  'version': 'publishedVersion',\n",
       "  'is_accepted': True,\n",
       "  'is_published': True},\n",
       " 'type': 'article',\n",
       " 'type_crossref': 'journal-article',\n",
       " 'indexed_in': ['crossref', 'doaj'],\n",
       " 'open_access': {'is_oa': True,\n",
       "  'oa_status': 'gold',\n",
       "  'oa_url': 'https://journals.library.brandeis.edu/index.php/caste/article/download/198/52',\n",
       "  'any_repository_has_fulltext': False},\n",
       " 'authorships': [{'author_position': 'first',\n",
       "   'author': {'id': 'https://openalex.org/A5031925161',\n",
       "    'display_name': 'Kristina Garalytė',\n",
       "    'orcid': None},\n",
       "   'institutions': [{'id': 'https://openalex.org/I173212132',\n",
       "     'display_name': 'Vilnius University',\n",
       "     'ror': 'https://ror.org/03nadee84',\n",
       "     'country_code': 'LT',\n",
       "     'type': 'education',\n",
       "     'lineage': ['https://openalex.org/I173212132']}],\n",
       "   'countries': ['LT'],\n",
       "   'is_corresponding': True,\n",
       "   'raw_author_name': 'Kristina Garalyte',\n",
       "   'raw_affiliation_string': 'Institute of Asian and Transcultural Studies at Vilnius University',\n",
       "   'raw_affiliation_strings': ['Institute of Asian and Transcultural Studies at Vilnius University']}],\n",
       " 'countries_distinct_count': 1,\n",
       " 'institutions_distinct_count': 1,\n",
       " 'corresponding_author_ids': ['https://openalex.org/A5031925161'],\n",
       " 'corresponding_institution_ids': ['https://openalex.org/I173212132'],\n",
       " 'apc_list': {'value': 0,\n",
       "  'currency': 'USD',\n",
       "  'value_usd': 0,\n",
       "  'provenance': 'doaj'},\n",
       " 'apc_paid': {'value': 0,\n",
       "  'currency': 'USD',\n",
       "  'value_usd': 0,\n",
       "  'provenance': 'doaj'},\n",
       " 'has_fulltext': True,\n",
       " 'fulltext_origin': 'pdf',\n",
       " 'cited_by_count': 1,\n",
       " 'cited_by_percentile_year': {'min': 67, 'max': 74},\n",
       " 'biblio': {'volume': '1',\n",
       "  'issue': '2',\n",
       "  'first_page': '135',\n",
       "  'last_page': '156'},\n",
       " 'is_retracted': False,\n",
       " 'is_paratext': False,\n",
       " 'primary_topic': {'id': 'https://openalex.org/T11474',\n",
       "  'display_name': 'Evolution and Impacts of Event Tourism',\n",
       "  'score': 11474.0,\n",
       "  'subfield': {'id': 'https://openalex.org/subfields/3312',\n",
       "   'display_name': 'Sociology and Political Science'},\n",
       "  'field': {'id': 'https://openalex.org/fields/33',\n",
       "   'display_name': 'Social Sciences'},\n",
       "  'domain': {'id': 'https://openalex.org/domains/2',\n",
       "   'display_name': 'Social Sciences'}},\n",
       " 'topics': [{'id': 'https://openalex.org/T11474',\n",
       "   'display_name': 'Evolution and Impacts of Event Tourism',\n",
       "   'score': 11474.0,\n",
       "   'subfield': {'id': 'https://openalex.org/subfields/3312',\n",
       "    'display_name': 'Sociology and Political Science'},\n",
       "   'field': {'id': 'https://openalex.org/fields/33',\n",
       "    'display_name': 'Social Sciences'},\n",
       "   'domain': {'id': 'https://openalex.org/domains/2',\n",
       "    'display_name': 'Social Sciences'}},\n",
       "  {'id': 'https://openalex.org/T13029',\n",
       "   'display_name': 'Kashmir Conflict and Indian Federalism',\n",
       "   'score': 13029.0,\n",
       "   'subfield': {'id': 'https://openalex.org/subfields/3320',\n",
       "    'display_name': 'Political Science and International Relations'},\n",
       "   'field': {'id': 'https://openalex.org/fields/33',\n",
       "    'display_name': 'Social Sciences'},\n",
       "   'domain': {'id': 'https://openalex.org/domains/2',\n",
       "    'display_name': 'Social Sciences'}},\n",
       "  {'id': 'https://openalex.org/T13334',\n",
       "   'display_name': 'The Global Influence of Bollywood Cinema',\n",
       "   'score': 13334.0,\n",
       "   'subfield': {'id': 'https://openalex.org/subfields/1213',\n",
       "    'display_name': 'Visual Arts and Performing Arts'},\n",
       "   'field': {'id': 'https://openalex.org/fields/12',\n",
       "    'display_name': 'Arts and Humanities'},\n",
       "   'domain': {'id': 'https://openalex.org/domains/2',\n",
       "    'display_name': 'Social Sciences'}}],\n",
       " 'keywords': [{'id': 'https://openalex.org/keywords/social-representations',\n",
       "   'display_name': 'Social Representations',\n",
       "   'keyword': 'Social Representations',\n",
       "   'score': 0.462882}],\n",
       " 'concepts': [{'id': 'https://openalex.org/C2779509574',\n",
       "   'wikidata': 'https://www.wikidata.org/wiki/Q484416',\n",
       "   'display_name': 'Caste',\n",
       "   'level': 2,\n",
       "   'score': 0.7577154},\n",
       "  {'id': 'https://openalex.org/C2776931063',\n",
       "   'wikidata': 'https://www.wikidata.org/wiki/Q4781738',\n",
       "   'display_name': 'Appropriation',\n",
       "   'level': 2,\n",
       "   'score': 0.6532978},\n",
       "  {'id': 'https://openalex.org/C94625758',\n",
       "   'wikidata': 'https://www.wikidata.org/wiki/Q7163',\n",
       "   'display_name': 'Politics',\n",
       "   'level': 2,\n",
       "   'score': 0.6517887},\n",
       "  {'id': 'https://openalex.org/C2778061430',\n",
       "   'wikidata': 'https://www.wikidata.org/wiki/Q188823',\n",
       "   'display_name': 'Scholarship',\n",
       "   'level': 2,\n",
       "   'score': 0.63349354},\n",
       "  {'id': 'https://openalex.org/C144024400',\n",
       "   'wikidata': 'https://www.wikidata.org/wiki/Q21201',\n",
       "   'display_name': 'Sociology',\n",
       "   'level': 0,\n",
       "   'score': 0.60882413},\n",
       "  {'id': 'https://openalex.org/C29595303',\n",
       "   'wikidata': 'https://www.wikidata.org/wiki/Q165650',\n",
       "   'display_name': 'Media studies',\n",
       "   'level': 1,\n",
       "   'score': 0.53016925},\n",
       "  {'id': 'https://openalex.org/C2778572836',\n",
       "   'wikidata': 'https://www.wikidata.org/wiki/Q380933',\n",
       "   'display_name': 'Space (punctuation)',\n",
       "   'level': 2,\n",
       "   'score': 0.5274273},\n",
       "  {'id': 'https://openalex.org/C163258240',\n",
       "   'wikidata': 'https://www.wikidata.org/wiki/Q25342',\n",
       "   'display_name': 'Power (physics)',\n",
       "   'level': 2,\n",
       "   'score': 0.49756578},\n",
       "  {'id': 'https://openalex.org/C2779005484',\n",
       "   'wikidata': 'https://www.wikidata.org/wiki/Q7551384',\n",
       "   'display_name': 'Social space',\n",
       "   'level': 3,\n",
       "   'score': 0.47337812},\n",
       "  {'id': 'https://openalex.org/C107993555',\n",
       "   'wikidata': 'https://www.wikidata.org/wiki/Q1662673',\n",
       "   'display_name': 'Gender studies',\n",
       "   'level': 1,\n",
       "   'score': 0.4563788},\n",
       "  {'id': 'https://openalex.org/C199776023',\n",
       "   'wikidata': 'https://www.wikidata.org/wiki/Q202875',\n",
       "   'display_name': 'Negotiation',\n",
       "   'level': 2,\n",
       "   'score': 0.42097265},\n",
       "  {'id': 'https://openalex.org/C179454799',\n",
       "   'wikidata': 'https://www.wikidata.org/wiki/Q132151',\n",
       "   'display_name': 'Ethnography',\n",
       "   'level': 2,\n",
       "   'score': 0.4131143},\n",
       "  {'id': 'https://openalex.org/C17744445',\n",
       "   'wikidata': 'https://www.wikidata.org/wiki/Q36442',\n",
       "   'display_name': 'Political science',\n",
       "   'level': 0,\n",
       "   'score': 0.32093665},\n",
       "  {'id': 'https://openalex.org/C36289849',\n",
       "   'wikidata': 'https://www.wikidata.org/wiki/Q34749',\n",
       "   'display_name': 'Social science',\n",
       "   'level': 1,\n",
       "   'score': 0.2578187},\n",
       "  {'id': 'https://openalex.org/C19165224',\n",
       "   'wikidata': 'https://www.wikidata.org/wiki/Q23404',\n",
       "   'display_name': 'Anthropology',\n",
       "   'level': 1,\n",
       "   'score': 0.18683344},\n",
       "  {'id': 'https://openalex.org/C199539241',\n",
       "   'wikidata': 'https://www.wikidata.org/wiki/Q7748',\n",
       "   'display_name': 'Law',\n",
       "   'level': 1,\n",
       "   'score': 0.15835106},\n",
       "  {'id': 'https://openalex.org/C138885662',\n",
       "   'wikidata': 'https://www.wikidata.org/wiki/Q5891',\n",
       "   'display_name': 'Philosophy',\n",
       "   'level': 0,\n",
       "   'score': 0.0},\n",
       "  {'id': 'https://openalex.org/C41895202',\n",
       "   'wikidata': 'https://www.wikidata.org/wiki/Q8162',\n",
       "   'display_name': 'Linguistics',\n",
       "   'level': 1,\n",
       "   'score': 0.0},\n",
       "  {'id': 'https://openalex.org/C121332964',\n",
       "   'wikidata': 'https://www.wikidata.org/wiki/Q413',\n",
       "   'display_name': 'Physics',\n",
       "   'level': 0,\n",
       "   'score': 0.0},\n",
       "  {'id': 'https://openalex.org/C62520636',\n",
       "   'wikidata': 'https://www.wikidata.org/wiki/Q944',\n",
       "   'display_name': 'Quantum mechanics',\n",
       "   'level': 1,\n",
       "   'score': 0.0}],\n",
       " 'mesh': [],\n",
       " 'locations_count': 2,\n",
       " 'locations': [{'is_oa': True,\n",
       "   'landing_page_url': 'https://doi.org/10.26812/caste.v1i2.198',\n",
       "   'pdf_url': 'https://journals.library.brandeis.edu/index.php/caste/article/download/198/52',\n",
       "   'source': {'id': 'https://openalex.org/S4210209919',\n",
       "    'display_name': 'Caste',\n",
       "    'issn_l': '2639-4928',\n",
       "    'issn': ['2639-4928'],\n",
       "    'is_oa': True,\n",
       "    'is_in_doaj': True,\n",
       "    'host_organization': None,\n",
       "    'host_organization_name': None,\n",
       "    'host_organization_lineage': [],\n",
       "    'host_organization_lineage_names': [],\n",
       "    'type': 'journal'},\n",
       "   'license': 'cc-by',\n",
       "   'version': 'publishedVersion',\n",
       "   'is_accepted': True,\n",
       "   'is_published': True},\n",
       "  {'is_oa': False,\n",
       "   'landing_page_url': 'https://doaj.org/article/9d16701b9c3449abac9128b15b1395a1',\n",
       "   'pdf_url': None,\n",
       "   'source': {'id': 'https://openalex.org/S4306401280',\n",
       "    'display_name': 'DOAJ (DOAJ: Directory of Open Access Journals)',\n",
       "    'issn_l': None,\n",
       "    'issn': None,\n",
       "    'is_oa': True,\n",
       "    'is_in_doaj': False,\n",
       "    'host_organization': None,\n",
       "    'host_organization_name': None,\n",
       "    'host_organization_lineage': [],\n",
       "    'host_organization_lineage_names': [],\n",
       "    'type': 'repository'},\n",
       "   'license': None,\n",
       "   'version': None,\n",
       "   'is_accepted': False,\n",
       "   'is_published': False}],\n",
       " 'best_oa_location': {'is_oa': True,\n",
       "  'landing_page_url': 'https://doi.org/10.26812/caste.v1i2.198',\n",
       "  'pdf_url': 'https://journals.library.brandeis.edu/index.php/caste/article/download/198/52',\n",
       "  'source': {'id': 'https://openalex.org/S4210209919',\n",
       "   'display_name': 'Caste',\n",
       "   'issn_l': '2639-4928',\n",
       "   'issn': ['2639-4928'],\n",
       "   'is_oa': True,\n",
       "   'is_in_doaj': True,\n",
       "   'host_organization': None,\n",
       "   'host_organization_name': None,\n",
       "   'host_organization_lineage': [],\n",
       "   'host_organization_lineage_names': [],\n",
       "   'type': 'journal'},\n",
       "  'license': 'cc-by',\n",
       "  'version': 'publishedVersion',\n",
       "  'is_accepted': True,\n",
       "  'is_published': True},\n",
       " 'sustainable_development_goals': [{'display_name': 'Reduced inequalities',\n",
       "   'id': 'https://metadata.un.org/sdg/10',\n",
       "   'score': 0.63}],\n",
       " 'grants': [],\n",
       " 'datasets': [],\n",
       " 'versions': [],\n",
       " 'referenced_works_count': 15,\n",
       " 'referenced_works': ['https://openalex.org/W112859681',\n",
       "  'https://openalex.org/W561886867',\n",
       "  'https://openalex.org/W1512248114',\n",
       "  'https://openalex.org/W1903163041',\n",
       "  'https://openalex.org/W1982847543',\n",
       "  'https://openalex.org/W1992656296',\n",
       "  'https://openalex.org/W2086986094',\n",
       "  'https://openalex.org/W2093208119',\n",
       "  'https://openalex.org/W2119755702',\n",
       "  'https://openalex.org/W2474523835',\n",
       "  'https://openalex.org/W2516963694',\n",
       "  'https://openalex.org/W2792609458',\n",
       "  'https://openalex.org/W2801090620',\n",
       "  'https://openalex.org/W2897098916',\n",
       "  'https://openalex.org/W3034509396'],\n",
       " 'related_works': ['https://openalex.org/W2469673851',\n",
       "  'https://openalex.org/W2249313864',\n",
       "  'https://openalex.org/W2955921067',\n",
       "  'https://openalex.org/W1964514031',\n",
       "  'https://openalex.org/W2042228383',\n",
       "  'https://openalex.org/W111008509',\n",
       "  'https://openalex.org/W4206685608',\n",
       "  'https://openalex.org/W2938016763',\n",
       "  'https://openalex.org/W4391119076',\n",
       "  'https://openalex.org/W2935167219'],\n",
       " 'ngrams_url': 'https://api.openalex.org/works/W3099866883/ngrams',\n",
       " 'abstract_inverted_index': {'This': [0, 91],\n",
       "  'article': [1, 92, 165],\n",
       "  'discusses': [2, 93],\n",
       "  'three': [3],\n",
       "  'different': [4],\n",
       "  'university': [5, 129],\n",
       "  'campuses': [6, 143],\n",
       "  'in': [7, 67, 98, 109, 118, 161, 204],\n",
       "  'India': [8],\n",
       "  '(Jawaharlal': [9],\n",
       "  'Nehru': [10],\n",
       "  'University,': [11, 13],\n",
       "  'Osmania': [12],\n",
       "  'and': [14, 17, 21, 24, 40, 101, 138, 176],\n",
       "  'the': [15, 60, 83, 94, 102, 128, 150, 155, 168, 184, 198, 207],\n",
       "  'English': [16],\n",
       "  'Foreign': [18],\n",
       "  'Languages': [19],\n",
       "  'University)': [20],\n",
       "  'their': [22],\n",
       "  'political': [23, 78],\n",
       "  'social': [25, 111, 120],\n",
       "  'environments': [26],\n",
       "  'with': [27, 75],\n",
       "  'a': [28],\n",
       "  'particular': [29],\n",
       "  'focus': [30],\n",
       "  'on': [31, 88, 127, 158],\n",
       "  'Dalit': [32, 56, 71, 84, 113, 124, 151, 181, 201],\n",
       "  'student': [33, 57, 72, 77, 85, 114, 159, 177, 202],\n",
       "  'activism': [34, 86, 203],\n",
       "  'from': [35, 41],\n",
       "  'March': [36],\n",
       "  'to': [37, 43, 135, 154],\n",
       "  'June,': [38],\n",
       "  '2013,': [39],\n",
       "  'January': [42],\n",
       "  'March,': [44],\n",
       "  '2014': [45],\n",
       "  'when': [46],\n",
       "  'this': [47, 164],\n",
       "  'ethnographic': [48],\n",
       "  'research': [49],\n",
       "  'was': [50],\n",
       "  'conducted.': [51],\n",
       "  'It': [52],\n",
       "  'questions': [53],\n",
       "  'what': [54, 80],\n",
       "  'place': [55],\n",
       "  'activism,': [58],\n",
       "  'constituting': [59],\n",
       "  '‘counterpublic’': [61],\n",
       "  '(Fraser,': [62],\n",
       "  '1990;': [63],\n",
       "  'Warner,': [64],\n",
       "  '2002),': [65],\n",
       "  'occupied': [66],\n",
       "  'these': [68],\n",
       "  'campuses;': [69],\n",
       "  'how': [70, 180, 192],\n",
       "  'activists': [73, 115],\n",
       "  'interacted': [74],\n",
       "  'other': [76],\n",
       "  'groups;': [79],\n",
       "  'characteristic': [81],\n",
       "  'features': [82],\n",
       "  'had': [87],\n",
       "  'each': [89, 205],\n",
       "  'campus.': [90],\n",
       "  'changing': [95],\n",
       "  'power': [96],\n",
       "  'relations': [97],\n",
       "  'Indian': [99],\n",
       "  'universities': [100],\n",
       "  'role': [103],\n",
       "  'of': [104, 149, 170, 200, 206],\n",
       "  '‘social': [105],\n",
       "  'space’': [106],\n",
       "  '(Bourdieu,': [107],\n",
       "  '2018)': [108],\n",
       "  'negotiating': [110],\n",
       "  'statuses.': [112],\n",
       "  'actively': [116],\n",
       "  'engaged': [117],\n",
       "  'appropriating': [119],\n",
       "  'space': [121, 175, 186],\n",
       "  'by': [122],\n",
       "  'installing': [123],\n",
       "  'symbolic': [125, 188],\n",
       "  'icons': [126],\n",
       "  'campuses,': [130],\n",
       "  'bringing': [131],\n",
       "  'up': [132],\n",
       "  'caste': [133],\n",
       "  'issues': [134],\n",
       "  'public': [136],\n",
       "  'attention': [137],\n",
       "  'thus': [139],\n",
       "  'temporarily': [140],\n",
       "  'turning': [141],\n",
       "  'certain': [142],\n",
       "  'into': [144],\n",
       "  '‘political': [145],\n",
       "  'strongholds’': [146],\n",
       "  '(Jaoul,': [147],\n",
       "  '2012)': [148],\n",
       "  'movement.': [152],\n",
       "  'Contributing': [153],\n",
       "  'recent': [156],\n",
       "  'scholarship': [157],\n",
       "  'politics': [160],\n",
       "  'South': [162],\n",
       "  'Asia': [163],\n",
       "  'argues': [166],\n",
       "  'for': [167],\n",
       "  'understanding': [169],\n",
       "  'interactive': [171],\n",
       "  'relation': [172],\n",
       "  'between': [173],\n",
       "  'campus': [174, 185, 195],\n",
       "  'politics,': [178],\n",
       "  'showing': [179],\n",
       "  'students': [182],\n",
       "  'changed': [183],\n",
       "  'through': [187],\n",
       "  'appropriation': [189],\n",
       "  'and,': [190],\n",
       "  'conversely,': [191],\n",
       "  'historically': [193],\n",
       "  'constituted': [194],\n",
       "  'spaces': [196],\n",
       "  'affected': [197],\n",
       "  'nature': [199],\n",
       "  'discussed': [208],\n",
       "  'localities.': [209]},\n",
       " 'cited_by_api_url': 'https://api.openalex.org/works?filter=cites:W3099866883',\n",
       " 'counts_by_year': [{'year': 2023, 'cited_by_count': 1}],\n",
       " 'updated_date': '2024-04-13T23:40:21.038453',\n",
       " 'created_date': '2020-11-23'}"
      ]
     },
     "execution_count": 44,
     "metadata": {},
     "output_type": "execute_result"
    }
   ],
   "source": [
    "# Pick one example of the result set\n",
    "data['results'][67]"
   ]
  },
  {
   "cell_type": "code",
   "execution_count": 45,
   "metadata": {
    "execution": {
     "iopub.execute_input": "2024-04-14T22:15:26.775660Z",
     "iopub.status.busy": "2024-04-14T22:15:26.775376Z",
     "iopub.status.idle": "2024-04-14T22:15:26.800345Z",
     "shell.execute_reply": "2024-04-14T22:15:26.798165Z",
     "shell.execute_reply.started": "2024-04-14T22:15:26.775636Z"
    },
    "tags": []
   },
   "outputs": [
    {
     "data": {
      "text/plain": [
       "['“Our Poverty has No Shame; the Stomach has No Shame, so We Migrate Seasonally”: Women Sugarcane Cutters from Maharashtra, India',\n",
       " 'Periyar: Forging a Gendered Utopia',\n",
       " 'Repertoires of Anti-caste Sentiments in the Everyday Performance: Narratives of a Dalit Woman Singer',\n",
       " 'The Bir Sunarwala: An Uncharted Dalit Land Movement of Haryana, India',\n",
       " 'Teaching Dalit Bahujan Utopias: Notes from the Classroom']"
      ]
     },
     "execution_count": 45,
     "metadata": {},
     "output_type": "execute_result"
    }
   ],
   "source": [
    "# Access 5 publications by title\n",
    "[i['title'] for i in data['results'][35:40]]"
   ]
  },
  {
   "cell_type": "code",
   "execution_count": 46,
   "metadata": {
    "execution": {
     "iopub.execute_input": "2024-04-14T22:15:26.802933Z",
     "iopub.status.busy": "2024-04-14T22:15:26.802431Z",
     "iopub.status.idle": "2024-04-14T22:15:26.895974Z",
     "shell.execute_reply": "2024-04-14T22:15:26.893588Z",
     "shell.execute_reply.started": "2024-04-14T22:15:26.802891Z"
    },
    "tags": []
   },
   "outputs": [
    {
     "data": {
      "text/plain": [
       "[['Caste',\n",
       "  'Poverty',\n",
       "  'Shame',\n",
       "  'Socioeconomics',\n",
       "  'Sanitation',\n",
       "  'Economic growth',\n",
       "  'Work (physics)',\n",
       "  'Geography',\n",
       "  'Political science',\n",
       "  'Business',\n",
       "  'Sociology',\n",
       "  'Medicine',\n",
       "  'Economics',\n",
       "  'Mechanical engineering',\n",
       "  'Engineering',\n",
       "  'Pathology',\n",
       "  'Law'],\n",
       " ['Utopia',\n",
       "  'Sociology',\n",
       "  'Feminism',\n",
       "  'Ideology',\n",
       "  'Legitimacy',\n",
       "  'Gender studies',\n",
       "  'Grassroots',\n",
       "  'Coercion (linguistics)',\n",
       "  'Law',\n",
       "  'Political science',\n",
       "  'Politics',\n",
       "  'Philosophy',\n",
       "  'Linguistics']]"
      ]
     },
     "execution_count": 46,
     "metadata": {},
     "output_type": "execute_result"
    }
   ],
   "source": [
    "# Access the subjects of a sample from the middle of the publication set\n",
    "[[j['display_name'] for j in i['concepts']] for i in data['results'][35:37]]"
   ]
  },
  {
   "cell_type": "markdown",
   "metadata": {},
   "source": [
    "#### Filter works by author & handle big result sets"
   ]
  },
  {
   "cell_type": "markdown",
   "metadata": {},
   "source": [
    "Similarly to the venue filtering, you may show all publication by a certain author, using its OpenAlex ID (starting with a \"A\"), for instance `A2420227930`. This identifier can be addressed with `authorships.author.id` or shorter, `author.id` in the *Works* endpoint filter.\n",
    "\n",
    "Furthermore, you may access a certain sub result set (\"result page\") via the `page` parameter, like in the example below."
   ]
  },
  {
   "cell_type": "code",
   "execution_count": 47,
   "metadata": {
    "execution": {
     "iopub.execute_input": "2024-04-14T22:15:26.899354Z",
     "iopub.status.busy": "2024-04-14T22:15:26.898632Z",
     "iopub.status.idle": "2024-04-14T22:15:27.772196Z",
     "shell.execute_reply": "2024-04-14T22:15:27.769968Z",
     "shell.execute_reply.started": "2024-04-14T22:15:26.899291Z"
    },
    "tags": []
   },
   "outputs": [
    {
     "data": {
      "text/plain": [
       "{'count': 365,\n",
       " 'db_response_time_ms': 50,\n",
       " 'page': 1,\n",
       " 'per_page': 50,\n",
       " 'groups_count': None}"
      ]
     },
     "execution_count": 47,
     "metadata": {},
     "output_type": "execute_result"
    }
   ],
   "source": [
    "url = 'https://api.openalex.org/works?filter=author.id:A5067955208&page=1&per-page=50'\n",
    "params = {'mailto': email}\n",
    "\n",
    "r = requests.get(url, params=params) \n",
    "data = r.json()\n",
    "data['meta']"
   ]
  },
  {
   "cell_type": "markdown",
   "metadata": {},
   "source": [
    "Since the `per-page` parameter only can be set up to 200, several requests are necessary to access the whole result set.\n",
    "\n",
    "This can be easily done by writing a small loop."
   ]
  },
  {
   "cell_type": "code",
   "execution_count": 48,
   "metadata": {
    "execution": {
     "iopub.execute_input": "2024-04-14T22:15:27.775074Z",
     "iopub.status.busy": "2024-04-14T22:15:27.774340Z",
     "iopub.status.idle": "2024-04-14T22:15:31.425933Z",
     "shell.execute_reply": "2024-04-14T22:15:31.424663Z",
     "shell.execute_reply.started": "2024-04-14T22:15:27.775014Z"
    },
    "tags": []
   },
   "outputs": [
    {
     "data": {
      "text/plain": [
       "365"
      ]
     },
     "execution_count": 48,
     "metadata": {},
     "output_type": "execute_result"
    }
   ],
   "source": [
    "results = []\n",
    "for page in range(1,5):\n",
    "    url = 'https://api.openalex.org/works?'\n",
    "    params = {'mailto': email,\n",
    "              'filter': 'author.id:A5067955208',\n",
    "              'per-page': 100,\n",
    "              'page': page}\n",
    "    r = requests.get(url, params=params)\n",
    "    data = r.json()\n",
    "    for record in data['results']:\n",
    "        results.append(record)\n",
    "len(results)"
   ]
  },
  {
   "cell_type": "code",
   "execution_count": 49,
   "metadata": {
    "execution": {
     "iopub.execute_input": "2024-04-14T22:15:31.427544Z",
     "iopub.status.busy": "2024-04-14T22:15:31.427239Z",
     "iopub.status.idle": "2024-04-14T22:15:31.437158Z",
     "shell.execute_reply": "2024-04-14T22:15:31.435922Z",
     "shell.execute_reply.started": "2024-04-14T22:15:31.427517Z"
    },
    "tags": []
   },
   "outputs": [
    {
     "data": {
      "text/plain": [
       "['A new and easier method for the assessment of final erosion depth in cancellous bone',\n",
       " 'Solid-phase radioimmunoassay of immunoglobulins G, A and M: Applicability in analysis of sucrose gradients',\n",
       " 'A Model Curriculum for Teaching Teachers To Use Computers as an Instructional Aid.',\n",
       " 'Review for \"History of Previous Fracture and Imminent Fracture Risk in Swedish Women Aged 55–90 Years Presenting with a Fragility Fracture\"',\n",
       " 'En kvinne i 50-årene med residiverende svimmelhet',\n",
       " 'TransCon PTH, a long-acting PTH, in patients with hypoparathyroidism: Results of the phase 2 PaTH forward trial',\n",
       " 'Changes in protein profile in bone marrow extracts before and one year after gastric bypass surgery',\n",
       " 'Contributors',\n",
       " 'Steroidhormones downregulate integrins in human stroma derived osteobilasts',\n",
       " 'Reply']"
      ]
     },
     "execution_count": 49,
     "metadata": {},
     "output_type": "execute_result"
    }
   ],
   "source": [
    "[i['title'] for i in results[320:330]]"
   ]
  },
  {
   "cell_type": "markdown",
   "metadata": {},
   "source": [
    "#### Group works due to a certain feature"
   ]
  },
  {
   "cell_type": "markdown",
   "metadata": {},
   "source": [
    "Grouping is another way to adjust your data search. Here, you **split the result set** into groups **according to a certain data attribute**. Note that doing so, you are not targeting the records themselves, but deriving statements from the data. Because of this you will not use `filter` as parameter but `group_by` in your request. Accordingly, you will find the `results` section empty, but your demanded data in the `group_by`section.\n",
    "\n",
    "For example you might look for the hosting sources of all publications, grouping them around this feature, and get the size of these groups. Note that the maximum of groups is 200 - if there are more variants you will get the 200 biggest of them."
   ]
  },
  {
   "cell_type": "code",
   "execution_count": 50,
   "metadata": {
    "execution": {
     "iopub.execute_input": "2024-04-14T22:15:31.438553Z",
     "iopub.status.busy": "2024-04-14T22:15:31.438273Z",
     "iopub.status.idle": "2024-04-14T22:15:31.974720Z",
     "shell.execute_reply": "2024-04-14T22:15:31.972375Z",
     "shell.execute_reply.started": "2024-04-14T22:15:31.438529Z"
    },
    "tags": []
   },
   "outputs": [],
   "source": [
    "url = 'https://api.openalex.org/works'\n",
    "params = {'mailto': email,\n",
    "         'group_by': 'locations.source.id'}\n",
    "\n",
    "r = requests.get(url, params=params) \n",
    "data = r.json()"
   ]
  },
  {
   "cell_type": "code",
   "execution_count": 51,
   "metadata": {
    "execution": {
     "iopub.execute_input": "2024-04-14T22:15:31.978062Z",
     "iopub.status.busy": "2024-04-14T22:15:31.977405Z",
     "iopub.status.idle": "2024-04-14T22:15:31.990537Z",
     "shell.execute_reply": "2024-04-14T22:15:31.988568Z",
     "shell.execute_reply.started": "2024-04-14T22:15:31.978002Z"
    },
    "tags": []
   },
   "outputs": [
    {
     "data": {
      "text/plain": [
       "['meta', 'group_by']"
      ]
     },
     "execution_count": 51,
     "metadata": {},
     "output_type": "execute_result"
    }
   ],
   "source": [
    "list(data)"
   ]
  },
  {
   "cell_type": "code",
   "execution_count": 52,
   "metadata": {
    "execution": {
     "iopub.execute_input": "2024-04-14T22:15:31.992935Z",
     "iopub.status.busy": "2024-04-14T22:15:31.992427Z",
     "iopub.status.idle": "2024-04-14T22:15:32.047412Z",
     "shell.execute_reply": "2024-04-14T22:15:32.044996Z",
     "shell.execute_reply.started": "2024-04-14T22:15:31.992891Z"
    },
    "tags": []
   },
   "outputs": [
    {
     "data": {
      "text/plain": [
       "{'count': 251664028,\n",
       " 'db_response_time_ms': 2091,\n",
       " 'page': 1,\n",
       " 'per_page': 200,\n",
       " 'groups_count': 200}"
      ]
     },
     "execution_count": 52,
     "metadata": {},
     "output_type": "execute_result"
    }
   ],
   "source": [
    "data['meta']"
   ]
  },
  {
   "cell_type": "code",
   "execution_count": 53,
   "metadata": {
    "execution": {
     "iopub.execute_input": "2024-04-14T22:15:32.050864Z",
     "iopub.status.busy": "2024-04-14T22:15:32.050152Z",
     "iopub.status.idle": "2024-04-14T22:15:32.124119Z",
     "shell.execute_reply": "2024-04-14T22:15:32.122156Z",
     "shell.execute_reply.started": "2024-04-14T22:15:32.050800Z"
    },
    "tags": []
   },
   "outputs": [
    {
     "data": {
      "text/plain": [
       "[{'key': 'https://openalex.org/S4306525036',\n",
       "  'key_display_name': 'PubMed',\n",
       "  'count': 34833104},\n",
       " {'key': 'https://openalex.org/S2764455111',\n",
       "  'key_display_name': 'PubMed Central',\n",
       "  'count': 7987269},\n",
       " {'key': 'https://openalex.org/S4306401280',\n",
       "  'key_display_name': 'DOAJ (DOAJ: Directory of Open Access Journals)',\n",
       "  'count': 5651831},\n",
       " {'key': 'https://openalex.org/S4306400806',\n",
       "  'key_display_name': 'Europe PMC (PubMed Central)',\n",
       "  'count': 5311547},\n",
       " {'key': 'https://openalex.org/S4306400194',\n",
       "  'key_display_name': 'arXiv (Cornell University)',\n",
       "  'count': 3516599}]"
      ]
     },
     "execution_count": 53,
     "metadata": {},
     "output_type": "execute_result"
    }
   ],
   "source": [
    "data['group_by'][:5]"
   ]
  },
  {
   "cell_type": "code",
   "execution_count": 54,
   "metadata": {
    "execution": {
     "iopub.execute_input": "2024-04-14T22:15:32.126816Z",
     "iopub.status.busy": "2024-04-14T22:15:32.126204Z",
     "iopub.status.idle": "2024-04-14T22:15:32.305132Z",
     "shell.execute_reply": "2024-04-14T22:15:32.302754Z",
     "shell.execute_reply.started": "2024-04-14T22:15:32.126761Z"
    },
    "tags": []
   },
   "outputs": [
    {
     "data": {
      "text/plain": [
       "[['PubMed', 34833104],\n",
       " ['PubMed Central', 7987269],\n",
       " ['DOAJ (DOAJ: Directory of Open Access Journals)', 5651831],\n",
       " ['Europe PMC (PubMed Central)', 5311547],\n",
       " ['arXiv (Cornell University)', 3516599],\n",
       " ['DataCite API', 3258344],\n",
       " ['Springer eBooks', 3212360],\n",
       " ['HAL (Le Centre pour la Communication Scientifique Directe)', 2748048],\n",
       " ['Zenodo (CERN European Organization for Nuclear Research)', 1991504],\n",
       " ['Routledge eBooks', 1541318],\n",
       " ['De Gruyter eBooks', 1279414],\n",
       " ['Oxford University Press eBooks', 1201386],\n",
       " ['Elsevier eBooks', 1161028],\n",
       " ['OSTI OAI (U.S. Department of Energy Office of Scientific and Technical Information)',\n",
       "  1135259],\n",
       " ['RePEc: Research Papers in Economics', 1103339],\n",
       " ['Social Science Research Network', 1038875],\n",
       " ['Cambridge University Press eBooks', 648440],\n",
       " ['LA Referencia (Red Federada de Repositorios Institucionales de Publicaciones Científicas)',\n",
       "  610943],\n",
       " ['CRC Press eBooks', 596660],\n",
       " ['CiteSeer X (The Pennsylvania State University)', 576106]]"
      ]
     },
     "execution_count": 54,
     "metadata": {},
     "output_type": "execute_result"
    }
   ],
   "source": [
    "# Accessing the biggest 20 sources, default sorted in descending count\n",
    "[[i['key_display_name'], i['count']] for i in data['group_by'][:20]]"
   ]
  },
  {
   "cell_type": "markdown",
   "metadata": {},
   "source": [
    "#### Combine filters and grouping"
   ]
  },
  {
   "cell_type": "markdown",
   "metadata": {},
   "source": [
    "You can easily combine filters and grouping, for instance, filter according to a specific institution, like *University of Bern* `I118564535`, and group its publications by `concepts.id`. Then, of course, the resulting groups are based on the filtered subset."
   ]
  },
  {
   "cell_type": "code",
   "execution_count": 55,
   "metadata": {
    "execution": {
     "iopub.execute_input": "2024-04-14T22:15:32.307777Z",
     "iopub.status.busy": "2024-04-14T22:15:32.307169Z",
     "iopub.status.idle": "2024-04-14T22:15:32.906530Z",
     "shell.execute_reply": "2024-04-14T22:15:32.904028Z",
     "shell.execute_reply.started": "2024-04-14T22:15:32.307722Z"
    },
    "tags": []
   },
   "outputs": [],
   "source": [
    "# Use the \"params\" dictionary for using filter and group_by at the same time\n",
    "url = 'https://api.openalex.org/works'\n",
    "params = {'mailto': email,\n",
    "          'filter': 'institutions.id:I118564535',\n",
    "          'group_by': 'concepts.id'}\n",
    "\n",
    "r = requests.get(url, params=params) \n",
    "data = r.json()"
   ]
  },
  {
   "cell_type": "code",
   "execution_count": 56,
   "metadata": {
    "execution": {
     "iopub.execute_input": "2024-04-14T22:15:32.909533Z",
     "iopub.status.busy": "2024-04-14T22:15:32.908951Z",
     "iopub.status.idle": "2024-04-14T22:15:32.924803Z",
     "shell.execute_reply": "2024-04-14T22:15:32.922783Z",
     "shell.execute_reply.started": "2024-04-14T22:15:32.909480Z"
    },
    "tags": []
   },
   "outputs": [
    {
     "data": {
      "text/plain": [
       "[['Medicine', 52766],\n",
       " ['Biology', 38588],\n",
       " ['Internal medicine', 26943],\n",
       " ['Computer science', 23669],\n",
       " ['Physics', 23046],\n",
       " ['Chemistry', 22563],\n",
       " ['Biochemistry', 15357],\n",
       " ['Mathematics', 12999],\n",
       " ['Pathology', 12559],\n",
       " ['Genetics', 12508],\n",
       " ['Gene', 11837],\n",
       " ['Psychology', 11681],\n",
       " ['Geology', 11170],\n",
       " ['Surgery', 10468],\n",
       " ['Political science', 10227],\n",
       " ['Philosophy', 9518],\n",
       " ['Ecology', 9420],\n",
       " ['Geography', 9200],\n",
       " ['Materials science', 9198],\n",
       " ['Quantum mechanics', 9131]]"
      ]
     },
     "execution_count": 56,
     "metadata": {},
     "output_type": "execute_result"
    }
   ],
   "source": [
    "# Accessing the most 20 concepts, default sorted in descending count\n",
    "[[i['key_display_name'], i['count']] for i in data['group_by'][:20]]"
   ]
  },
  {
   "cell_type": "code",
   "execution_count": 57,
   "metadata": {
    "execution": {
     "iopub.execute_input": "2024-04-14T22:15:32.927332Z",
     "iopub.status.busy": "2024-04-14T22:15:32.926900Z",
     "iopub.status.idle": "2024-04-14T22:15:33.098437Z",
     "shell.execute_reply": "2024-04-14T22:15:33.096099Z",
     "shell.execute_reply.started": "2024-04-14T22:15:32.927296Z"
    },
    "tags": []
   },
   "outputs": [
    {
     "data": {
      "text/plain": [
       "777856"
      ]
     },
     "execution_count": 57,
     "metadata": {},
     "output_type": "execute_result"
    }
   ],
   "source": [
    "concepts_data =[[i['key_display_name'], i['count']] for i in data['group_by']]\n",
    "concepts_sum = 0\n",
    "for i in concepts_data:\n",
    "    concepts_sum += i[1]\n",
    "concepts_sum"
   ]
  },
  {
   "cell_type": "code",
   "execution_count": 58,
   "metadata": {
    "execution": {
     "iopub.execute_input": "2024-04-14T22:15:33.101805Z",
     "iopub.status.busy": "2024-04-14T22:15:33.101181Z",
     "iopub.status.idle": "2024-04-14T22:15:33.219744Z",
     "shell.execute_reply": "2024-04-14T22:15:33.217500Z",
     "shell.execute_reply.started": "2024-04-14T22:15:33.101749Z"
    },
    "tags": []
   },
   "outputs": [
    {
     "data": {
      "text/plain": [
       "[['Medicine', 52766, '6.8%'],\n",
       " ['Biology', 38588, '5.0%'],\n",
       " ['Internal medicine', 26943, '3.5%'],\n",
       " ['Computer science', 23669, '3.0%'],\n",
       " ['Physics', 23046, '3.0%'],\n",
       " ['Chemistry', 22563, '2.9%'],\n",
       " ['Biochemistry', 15357, '2.0%'],\n",
       " ['Mathematics', 12999, '1.7%'],\n",
       " ['Pathology', 12559, '1.6%'],\n",
       " ['Genetics', 12508, '1.6%']]"
      ]
     },
     "execution_count": 58,
     "metadata": {},
     "output_type": "execute_result"
    }
   ],
   "source": [
    "# Calculating and adding percentages\n",
    "for i in concepts_data:\n",
    "    i.append(str(round(i[1]/concepts_sum*100,1)) + '%')\n",
    "concepts_data[:10]"
   ]
  },
  {
   "cell_type": "markdown",
   "metadata": {},
   "source": [
    "## 👨‍🎓  Authors endpoint"
   ]
  },
  {
   "cell_type": "markdown",
   "metadata": {},
   "source": [
    "Similar to the *Works* endpoint, there is an ***Authors*** endpoint in OpenAlex, delivering rich information about authors of scholarly publications: `/authors`. The *Authors* endpoint can be accessed via OpenAlex identifier (starting with an \"A\" like `A2156811675`) or for instance, via the popular [ORCID](https://orcid.org/) identifier. For detailed information see the *Author* object documentation [here](https://docs.openalex.org/about-the-data/author).\n"
   ]
  },
  {
   "cell_type": "code",
   "execution_count": 59,
   "metadata": {
    "execution": {
     "iopub.execute_input": "2024-04-14T22:15:33.222940Z",
     "iopub.status.busy": "2024-04-14T22:15:33.222203Z",
     "iopub.status.idle": "2024-04-14T22:15:33.714522Z",
     "shell.execute_reply": "2024-04-14T22:15:33.712026Z",
     "shell.execute_reply.started": "2024-04-14T22:15:33.222878Z"
    },
    "tags": []
   },
   "outputs": [],
   "source": [
    "base_url = 'https://api.openalex.org/authors/'\n",
    "params = {'mailto': email} \n",
    "\n",
    "# Usable identifiers:\n",
    "openalex_id = 'A2156811675'\n",
    "openalex_id_namespace = 'openalex:A2156811675'\n",
    "orcid = 'orcid:0000-0002-9344-1029'\n",
    "\n",
    "# Adjust the used identifier\n",
    "r = requests.get(base_url + orcid, params=params) \n",
    "data = r.json()"
   ]
  },
  {
   "cell_type": "code",
   "execution_count": 60,
   "metadata": {
    "execution": {
     "iopub.execute_input": "2024-04-14T22:15:33.717479Z",
     "iopub.status.busy": "2024-04-14T22:15:33.716890Z",
     "iopub.status.idle": "2024-04-14T22:15:33.730131Z",
     "shell.execute_reply": "2024-04-14T22:15:33.728110Z",
     "shell.execute_reply.started": "2024-04-14T22:15:33.717427Z"
    },
    "tags": []
   },
   "outputs": [
    {
     "data": {
      "text/plain": [
       "['id',\n",
       " 'orcid',\n",
       " 'display_name',\n",
       " 'display_name_alternatives',\n",
       " 'works_count',\n",
       " 'cited_by_count',\n",
       " 'summary_stats',\n",
       " 'ids',\n",
       " 'affiliations',\n",
       " 'last_known_institution',\n",
       " 'last_known_institutions',\n",
       " 'x_concepts',\n",
       " 'counts_by_year',\n",
       " 'works_api_url',\n",
       " 'updated_date',\n",
       " 'created_date']"
      ]
     },
     "execution_count": 60,
     "metadata": {},
     "output_type": "execute_result"
    }
   ],
   "source": [
    "list(data)"
   ]
  },
  {
   "cell_type": "code",
   "execution_count": 61,
   "metadata": {
    "execution": {
     "iopub.execute_input": "2024-04-14T22:15:33.732321Z",
     "iopub.status.busy": "2024-04-14T22:15:33.731827Z",
     "iopub.status.idle": "2024-04-14T22:15:33.781980Z",
     "shell.execute_reply": "2024-04-14T22:15:33.779889Z",
     "shell.execute_reply.started": "2024-04-14T22:15:33.732252Z"
    },
    "tags": []
   },
   "outputs": [
    {
     "data": {
      "text/plain": [
       "'https://openalex.org/A5015900970'"
      ]
     },
     "execution_count": 61,
     "metadata": {},
     "output_type": "execute_result"
    }
   ],
   "source": [
    "data['id']"
   ]
  },
  {
   "cell_type": "code",
   "execution_count": 62,
   "metadata": {
    "execution": {
     "iopub.execute_input": "2024-04-14T22:15:33.785145Z",
     "iopub.status.busy": "2024-04-14T22:15:33.784406Z",
     "iopub.status.idle": "2024-04-14T22:15:33.829691Z",
     "shell.execute_reply": "2024-04-14T22:15:33.827577Z",
     "shell.execute_reply.started": "2024-04-14T22:15:33.785088Z"
    },
    "tags": []
   },
   "outputs": [
    {
     "data": {
      "text/plain": [
       "{'openalex': 'https://openalex.org/A5015900970',\n",
       " 'orcid': 'https://orcid.org/0000-0002-9344-1029'}"
      ]
     },
     "execution_count": 62,
     "metadata": {},
     "output_type": "execute_result"
    }
   ],
   "source": [
    "# All available person identifiers\n",
    "data['ids']"
   ]
  },
  {
   "cell_type": "code",
   "execution_count": 63,
   "metadata": {
    "execution": {
     "iopub.execute_input": "2024-04-14T22:15:33.833695Z",
     "iopub.status.busy": "2024-04-14T22:15:33.832103Z",
     "iopub.status.idle": "2024-04-14T22:15:33.879653Z",
     "shell.execute_reply": "2024-04-14T22:15:33.877306Z",
     "shell.execute_reply.started": "2024-04-14T22:15:33.833621Z"
    },
    "tags": []
   },
   "outputs": [
    {
     "name": "stdout",
     "output_type": "stream",
     "text": [
      "Christine L. Borgman\n"
     ]
    },
    {
     "data": {
      "text/plain": [
       "['C L. Borgman',\n",
       " 'Christine Borgman',\n",
       " 'Christine Louise Borgman',\n",
       " 'C.L. Christine L. Borgman',\n",
       " 'C. Borgman',\n",
       " 'Christine L. Borgman',\n",
       " 'C. L. Borgman']"
      ]
     },
     "execution_count": 63,
     "metadata": {},
     "output_type": "execute_result"
    }
   ],
   "source": [
    "# Normalized plain name and variants\n",
    "print(data['display_name'])\n",
    "data['display_name_alternatives']"
   ]
  },
  {
   "cell_type": "code",
   "execution_count": 64,
   "metadata": {
    "execution": {
     "iopub.execute_input": "2024-04-14T22:15:33.884081Z",
     "iopub.status.busy": "2024-04-14T22:15:33.882720Z",
     "iopub.status.idle": "2024-04-14T22:15:33.940117Z",
     "shell.execute_reply": "2024-04-14T22:15:33.937877Z",
     "shell.execute_reply.started": "2024-04-14T22:15:33.884008Z"
    },
    "tags": []
   },
   "outputs": [
    {
     "name": "stdout",
     "output_type": "stream",
     "text": [
      "8348\n"
     ]
    },
    {
     "data": {
      "text/plain": [
       "{'2yr_mean_citedness': 0.5217391304347826, 'h_index': 42, 'i10_index': 98}"
      ]
     },
     "execution_count": 64,
     "metadata": {},
     "output_type": "execute_result"
    }
   ],
   "source": [
    "# How many times the publications of this person were cited?\n",
    "print(data['cited_by_count'])\n",
    "data['summary_stats']"
   ]
  },
  {
   "cell_type": "code",
   "execution_count": 65,
   "metadata": {
    "execution": {
     "iopub.execute_input": "2024-04-14T22:15:33.943209Z",
     "iopub.status.busy": "2024-04-14T22:15:33.942515Z",
     "iopub.status.idle": "2024-04-14T22:15:33.993656Z",
     "shell.execute_reply": "2024-04-14T22:15:33.991247Z",
     "shell.execute_reply.started": "2024-04-14T22:15:33.943144Z"
    },
    "tags": []
   },
   "outputs": [
    {
     "data": {
      "text/plain": [
       "[{'year': 2024, 'works_count': 1, 'cited_by_count': 82},\n",
       " {'year': 2023, 'works_count': 1, 'cited_by_count': 381},\n",
       " {'year': 2022, 'works_count': 3, 'cited_by_count': 460},\n",
       " {'year': 2021, 'works_count': 20, 'cited_by_count': 482},\n",
       " {'year': 2020, 'works_count': 29, 'cited_by_count': 683},\n",
       " {'year': 2019, 'works_count': 8, 'cited_by_count': 409},\n",
       " {'year': 2018, 'works_count': 24, 'cited_by_count': 376},\n",
       " {'year': 2017, 'works_count': 21, 'cited_by_count': 443},\n",
       " {'year': 2016, 'works_count': 23, 'cited_by_count': 512},\n",
       " {'year': 2015, 'works_count': 42, 'cited_by_count': 487},\n",
       " {'year': 2014, 'works_count': 27, 'cited_by_count': 523},\n",
       " {'year': 2013, 'works_count': 20, 'cited_by_count': 381},\n",
       " {'year': 2012, 'works_count': 22, 'cited_by_count': 376}]"
      ]
     },
     "execution_count": 65,
     "metadata": {},
     "output_type": "execute_result"
    }
   ],
   "source": [
    "# Count of published works and citations per year, sicne 2012\n",
    "data['counts_by_year']"
   ]
  },
  {
   "cell_type": "code",
   "execution_count": 66,
   "metadata": {
    "execution": {
     "iopub.execute_input": "2024-04-14T22:15:33.996755Z",
     "iopub.status.busy": "2024-04-14T22:15:33.996024Z",
     "iopub.status.idle": "2024-04-14T22:15:34.050332Z",
     "shell.execute_reply": "2024-04-14T22:15:34.048024Z",
     "shell.execute_reply.started": "2024-04-14T22:15:33.996695Z"
    }
   },
   "outputs": [
    {
     "data": {
      "text/plain": [
       "'https://api.openalex.org/works?filter=author.id:A5015900970'"
      ]
     },
     "execution_count": 66,
     "metadata": {},
     "output_type": "execute_result"
    }
   ],
   "source": [
    "# API link to the publications of the author (using filter of the \"Works\" endpoint)\n",
    "data['works_api_url']"
   ]
  },
  {
   "cell_type": "code",
   "execution_count": 67,
   "metadata": {
    "execution": {
     "iopub.execute_input": "2024-04-14T22:15:34.074733Z",
     "iopub.status.busy": "2024-04-14T22:15:34.074266Z",
     "iopub.status.idle": "2024-04-14T22:15:34.097589Z",
     "shell.execute_reply": "2024-04-14T22:15:34.095938Z",
     "shell.execute_reply.started": "2024-04-14T22:15:34.074694Z"
    },
    "tags": []
   },
   "outputs": [
    {
     "data": {
      "text/plain": [
       "{'id': 'https://openalex.org/I161318765',\n",
       " 'ror': 'https://ror.org/046rm7j60',\n",
       " 'display_name': 'University of California, Los Angeles',\n",
       " 'country_code': 'US',\n",
       " 'type': 'education',\n",
       " 'lineage': ['https://openalex.org/I161318765',\n",
       "  'https://openalex.org/I2803209242']}"
      ]
     },
     "execution_count": 67,
     "metadata": {},
     "output_type": "execute_result"
    }
   ],
   "source": [
    "# The persons last known affiliation\n",
    "data['last_known_institution']"
   ]
  },
  {
   "cell_type": "code",
   "execution_count": 68,
   "metadata": {
    "execution": {
     "iopub.execute_input": "2024-04-14T22:15:34.099979Z",
     "iopub.status.busy": "2024-04-14T22:15:34.099502Z",
     "iopub.status.idle": "2024-04-14T22:15:34.157009Z",
     "shell.execute_reply": "2024-04-14T22:15:34.154552Z",
     "shell.execute_reply.started": "2024-04-14T22:15:34.099936Z"
    },
    "tags": []
   },
   "outputs": [
    {
     "data": {
      "text/plain": [
       "[{'id': 'https://openalex.org/C41008148',\n",
       "  'wikidata': 'https://www.wikidata.org/wiki/Q21198',\n",
       "  'display_name': 'Computer science',\n",
       "  'level': 0,\n",
       "  'score': 91.5},\n",
       " {'id': 'https://openalex.org/C17744445',\n",
       "  'wikidata': 'https://www.wikidata.org/wiki/Q36442',\n",
       "  'display_name': 'Political science',\n",
       "  'level': 0,\n",
       "  'score': 50.4},\n",
       " {'id': 'https://openalex.org/C136764020',\n",
       "  'wikidata': 'https://www.wikidata.org/wiki/Q466',\n",
       "  'display_name': 'World Wide Web',\n",
       "  'level': 1,\n",
       "  'score': 48.4},\n",
       " {'id': 'https://openalex.org/C199539241',\n",
       "  'wikidata': 'https://www.wikidata.org/wiki/Q7748',\n",
       "  'display_name': 'Law',\n",
       "  'level': 1,\n",
       "  'score': 43.1},\n",
       " {'id': 'https://openalex.org/C2522767166',\n",
       "  'wikidata': 'https://www.wikidata.org/wiki/Q2374463',\n",
       "  'display_name': 'Data science',\n",
       "  'level': 1,\n",
       "  'score': 42.3},\n",
       " {'id': 'https://openalex.org/C111919701',\n",
       "  'wikidata': 'https://www.wikidata.org/wiki/Q9135',\n",
       "  'display_name': 'Operating system',\n",
       "  'level': 1,\n",
       "  'score': 36.3},\n",
       " {'id': 'https://openalex.org/C127413603',\n",
       "  'wikidata': 'https://www.wikidata.org/wiki/Q11023',\n",
       "  'display_name': 'Engineering',\n",
       "  'level': 0,\n",
       "  'score': 32.9},\n",
       " {'id': 'https://openalex.org/C138885662',\n",
       "  'wikidata': 'https://www.wikidata.org/wiki/Q5891',\n",
       "  'display_name': 'Philosophy',\n",
       "  'level': 0,\n",
       "  'score': 28.5},\n",
       " {'id': 'https://openalex.org/C162324750',\n",
       "  'wikidata': 'https://www.wikidata.org/wiki/Q8134',\n",
       "  'display_name': 'Economics',\n",
       "  'level': 0,\n",
       "  'score': 27.6},\n",
       " {'id': 'https://openalex.org/C144024400',\n",
       "  'wikidata': 'https://www.wikidata.org/wiki/Q21201',\n",
       "  'display_name': 'Sociology',\n",
       "  'level': 0,\n",
       "  'score': 26.4},\n",
       " {'id': 'https://openalex.org/C161191863',\n",
       "  'wikidata': 'https://www.wikidata.org/wiki/Q199655',\n",
       "  'display_name': 'Library science',\n",
       "  'level': 1,\n",
       "  'score': 26.1},\n",
       " {'id': 'https://openalex.org/C33923547',\n",
       "  'wikidata': 'https://www.wikidata.org/wiki/Q395',\n",
       "  'display_name': 'Mathematics',\n",
       "  'level': 0,\n",
       "  'score': 25.9},\n",
       " {'id': 'https://openalex.org/C86803240',\n",
       "  'wikidata': 'https://www.wikidata.org/wiki/Q420',\n",
       "  'display_name': 'Biology',\n",
       "  'level': 0,\n",
       "  'score': 23.2},\n",
       " {'id': 'https://openalex.org/C144133560',\n",
       "  'wikidata': 'https://www.wikidata.org/wiki/Q4830453',\n",
       "  'display_name': 'Business',\n",
       "  'level': 0,\n",
       "  'score': 21.1},\n",
       " {'id': 'https://openalex.org/C205649164',\n",
       "  'wikidata': 'https://www.wikidata.org/wiki/Q1071',\n",
       "  'display_name': 'Geography',\n",
       "  'level': 0,\n",
       "  'score': 20.4}]"
      ]
     },
     "execution_count": 68,
     "metadata": {},
     "output_type": "execute_result"
    }
   ],
   "source": [
    "# Please notice: Concepts for authors is a experimental fetaure by now - use with caution!\n",
    "data['x_concepts']"
   ]
  },
  {
   "cell_type": "markdown",
   "metadata": {},
   "source": [
    "### Use the search parameter"
   ]
  },
  {
   "cell_type": "markdown",
   "metadata": {},
   "source": [
    "Using the search parameter on the `/authors`endpoint looks for the terms in the `display_name` attribute only. Read more about the search functionality [here](https://docs.openalex.org/api-entities/authors/search-authors)."
   ]
  },
  {
   "cell_type": "code",
   "execution_count": 69,
   "metadata": {
    "execution": {
     "iopub.execute_input": "2024-04-14T22:15:34.160483Z",
     "iopub.status.busy": "2024-04-14T22:15:34.159812Z",
     "iopub.status.idle": "2024-04-14T22:15:34.726656Z",
     "shell.execute_reply": "2024-04-14T22:15:34.724774Z",
     "shell.execute_reply.started": "2024-04-14T22:15:34.160405Z"
    },
    "tags": []
   },
   "outputs": [],
   "source": [
    "base_url = 'https://api.openalex.org/authors?'\n",
    "params = {'mailto': email,\n",
    "         'search': 'erik eriksen'}\n",
    "\n",
    "r = requests.get(base_url, params=params)\n",
    "data = r.json()"
   ]
  },
  {
   "cell_type": "code",
   "execution_count": 70,
   "metadata": {
    "execution": {
     "iopub.execute_input": "2024-04-14T22:15:34.728994Z",
     "iopub.status.busy": "2024-04-14T22:15:34.728474Z",
     "iopub.status.idle": "2024-04-14T22:15:34.740886Z",
     "shell.execute_reply": "2024-04-14T22:15:34.738932Z",
     "shell.execute_reply.started": "2024-04-14T22:15:34.728949Z"
    },
    "tags": []
   },
   "outputs": [
    {
     "data": {
      "text/plain": [
       "{'count': 25,\n",
       " 'db_response_time_ms': 140,\n",
       " 'page': 1,\n",
       " 'per_page': 25,\n",
       " 'groups_count': None}"
      ]
     },
     "execution_count": 70,
     "metadata": {},
     "output_type": "execute_result"
    }
   ],
   "source": [
    "data['meta']"
   ]
  },
  {
   "cell_type": "code",
   "execution_count": 71,
   "metadata": {
    "execution": {
     "iopub.execute_input": "2024-04-14T22:15:34.742861Z",
     "iopub.status.busy": "2024-04-14T22:15:34.742460Z",
     "iopub.status.idle": "2024-04-14T22:15:34.790069Z",
     "shell.execute_reply": "2024-04-14T22:15:34.787580Z",
     "shell.execute_reply.started": "2024-04-14T22:15:34.742825Z"
    },
    "tags": []
   },
   "outputs": [
    {
     "data": {
      "text/plain": [
       "[['Erik Fink Eriksen', 362, 'SpesialistSenteret Pilestredet Park'],\n",
       " ['Erik Oddvar Eriksen', 146, 'University of Oslo'],\n",
       " ['E. Eriksen', 37, 'University of Oslo'],\n",
       " ['Tor Erik Eriksen', 61, 'Norwegian Institute for Water Research'],\n",
       " ['Erik Nymann Eriksen', 27, 'University of Copenhagen'],\n",
       " ['Erik A. Eriksen', 23, 'ExxonMobil (Germany)'],\n",
       " ['Erik Fink-Eriksen', 1, 'Aarhus University Hospital'],\n",
       " ['Erik Eriksen', 3, 'Oslo University Hospital'],\n",
       " ['Jan Erik Eriksen', 2, 'Halliburton (United Kingdom)'],\n",
       " ['E. L. Eriksen', 2, 'Novartis (China)']]"
      ]
     },
     "execution_count": 71,
     "metadata": {},
     "output_type": "execute_result"
    }
   ],
   "source": [
    "# Name, number of works and first ranked concept of \"ted underwood\" authors\n",
    "[[i['display_name'], i['works_count'], i['last_known_institution']['display_name']] \\\n",
    "                     for i in data['results'][:10]]"
   ]
  },
  {
   "cell_type": "markdown",
   "metadata": {},
   "source": [
    "### Access multiple Author entities"
   ]
  },
  {
   "cell_type": "markdown",
   "metadata": {},
   "source": [
    "Like for publications (aka *Works* entities), you can search for mutliple authors at once, and **use filters and groupings**. "
   ]
  },
  {
   "cell_type": "markdown",
   "metadata": {},
   "source": [
    "#### Filter authors by institution & put the data into a dataframe"
   ]
  },
  {
   "cell_type": "markdown",
   "metadata": {},
   "source": [
    "For example, you might search for all authors, which last known affiliation is *University of Bern*. For this, you can use its OpenAlex identifier `I118564535`. Filtering authors will use the `works_count` attribute to sort the results by default. To adjust the default sorting methods look [here](https://docs.openalex.org/how-to-use-the-api/get-lists-of-entities/sort-entity-lists)."
   ]
  },
  {
   "cell_type": "code",
   "execution_count": 72,
   "metadata": {
    "execution": {
     "iopub.execute_input": "2024-04-14T22:15:34.793453Z",
     "iopub.status.busy": "2024-04-14T22:15:34.792791Z",
     "iopub.status.idle": "2024-04-14T22:15:35.476481Z",
     "shell.execute_reply": "2024-04-14T22:15:35.474372Z",
     "shell.execute_reply.started": "2024-04-14T22:15:34.793394Z"
    },
    "tags": []
   },
   "outputs": [],
   "source": [
    "url = 'https://api.openalex.org/authors?'\n",
    "params = {'mailto': email,\n",
    "         'filter': 'last_known_institution.id:I118564535',\n",
    "         'per-page': 20}\n",
    "\n",
    "r = requests.get(url, params=params) \n",
    "data = r.json()"
   ]
  },
  {
   "cell_type": "code",
   "execution_count": 73,
   "metadata": {
    "execution": {
     "iopub.execute_input": "2024-04-14T22:15:35.478330Z",
     "iopub.status.busy": "2024-04-14T22:15:35.477965Z",
     "iopub.status.idle": "2024-04-14T22:15:35.491248Z",
     "shell.execute_reply": "2024-04-14T22:15:35.488616Z",
     "shell.execute_reply.started": "2024-04-14T22:15:35.478297Z"
    },
    "tags": []
   },
   "outputs": [
    {
     "data": {
      "text/plain": [
       "{'count': 13108,\n",
       " 'db_response_time_ms': 201,\n",
       " 'page': 1,\n",
       " 'per_page': 20,\n",
       " 'groups_count': None}"
      ]
     },
     "execution_count": 73,
     "metadata": {},
     "output_type": "execute_result"
    }
   ],
   "source": [
    "data['meta']"
   ]
  },
  {
   "cell_type": "markdown",
   "metadata": {},
   "source": [
    "By reading out certain attributes of the result set you can easily transform the data into a dataframe for further research."
   ]
  },
  {
   "cell_type": "code",
   "execution_count": 74,
   "metadata": {
    "execution": {
     "iopub.execute_input": "2024-04-14T22:15:35.494763Z",
     "iopub.status.busy": "2024-04-14T22:15:35.493964Z",
     "iopub.status.idle": "2024-04-14T22:15:35.553819Z",
     "shell.execute_reply": "2024-04-14T22:15:35.551373Z",
     "shell.execute_reply.started": "2024-04-14T22:15:35.494696Z"
    },
    "tags": []
   },
   "outputs": [],
   "source": [
    "names = []\n",
    "ids = []\n",
    "orcids = []\n",
    "workcounts = []\n",
    "citedcounts = []\n",
    "workslinks = []\n",
    "\n",
    "for i in data['results']:\n",
    "    names.append(i['display_name'])\n",
    "    ids.append(i['id'])\n",
    "    orcids.append(i['orcid'])\n",
    "    workcounts.append(i['works_count'])\n",
    "    citedcounts.append(i['cited_by_count'])\n",
    "    workslinks.append(i['works_api_url'])\n",
    "    \n",
    "zipped = list(zip(names, ids, orcids, workcounts, citedcounts, workslinks))\n",
    "df = pd.DataFrame(zipped, columns=['author', 'openalex_id', 'orcid', \\\n",
    "                                    'works_count', 'cited_by_count', 'works_link'])"
   ]
  },
  {
   "cell_type": "code",
   "execution_count": 75,
   "metadata": {
    "execution": {
     "iopub.execute_input": "2024-04-14T22:15:35.557081Z",
     "iopub.status.busy": "2024-04-14T22:15:35.556229Z",
     "iopub.status.idle": "2024-04-14T22:15:35.620067Z",
     "shell.execute_reply": "2024-04-14T22:15:35.618309Z",
     "shell.execute_reply.started": "2024-04-14T22:15:35.557011Z"
    }
   },
   "outputs": [
    {
     "data": {
      "text/html": [
       "<div>\n",
       "<style scoped>\n",
       "    .dataframe tbody tr th:only-of-type {\n",
       "        vertical-align: middle;\n",
       "    }\n",
       "\n",
       "    .dataframe tbody tr th {\n",
       "        vertical-align: top;\n",
       "    }\n",
       "\n",
       "    .dataframe thead th {\n",
       "        text-align: right;\n",
       "    }\n",
       "</style>\n",
       "<table border=\"1\" class=\"dataframe\">\n",
       "  <thead>\n",
       "    <tr style=\"text-align: right;\">\n",
       "      <th></th>\n",
       "      <th>author</th>\n",
       "      <th>openalex_id</th>\n",
       "      <th>orcid</th>\n",
       "      <th>works_count</th>\n",
       "      <th>cited_by_count</th>\n",
       "      <th>works_link</th>\n",
       "    </tr>\n",
       "  </thead>\n",
       "  <tbody>\n",
       "    <tr>\n",
       "      <th>0</th>\n",
       "      <td>H. P. Beck</td>\n",
       "      <td>https://openalex.org/A5080302579</td>\n",
       "      <td>https://orcid.org/0000-0001-7212-1096</td>\n",
       "      <td>1498</td>\n",
       "      <td>55948</td>\n",
       "      <td>https://api.openalex.org/works?filter=author.i...</td>\n",
       "    </tr>\n",
       "    <tr>\n",
       "      <th>1</th>\n",
       "      <td>S. Haug</td>\n",
       "      <td>https://openalex.org/A5055549637</td>\n",
       "      <td>https://orcid.org/0000-0003-0442-3361</td>\n",
       "      <td>1467</td>\n",
       "      <td>65351</td>\n",
       "      <td>https://api.openalex.org/works?filter=author.i...</td>\n",
       "    </tr>\n",
       "    <tr>\n",
       "      <th>2</th>\n",
       "      <td>Peter Würz</td>\n",
       "      <td>https://openalex.org/A5080499966</td>\n",
       "      <td>https://orcid.org/0000-0002-2603-1169</td>\n",
       "      <td>1237</td>\n",
       "      <td>18587</td>\n",
       "      <td>https://api.openalex.org/works?filter=author.i...</td>\n",
       "    </tr>\n",
       "    <tr>\n",
       "      <th>3</th>\n",
       "      <td>Thomas Berger</td>\n",
       "      <td>https://openalex.org/A5086222360</td>\n",
       "      <td>https://orcid.org/0000-0002-2432-7791</td>\n",
       "      <td>1082</td>\n",
       "      <td>23433</td>\n",
       "      <td>https://api.openalex.org/works?filter=author.i...</td>\n",
       "    </tr>\n",
       "    <tr>\n",
       "      <th>4</th>\n",
       "      <td>Bernhard Meier</td>\n",
       "      <td>https://openalex.org/A5088511695</td>\n",
       "      <td>None</td>\n",
       "      <td>1073</td>\n",
       "      <td>40873</td>\n",
       "      <td>https://api.openalex.org/works?filter=author.i...</td>\n",
       "    </tr>\n",
       "    <tr>\n",
       "      <th>5</th>\n",
       "      <td>Mark A. Rubin</td>\n",
       "      <td>https://openalex.org/A5035068594</td>\n",
       "      <td>https://orcid.org/0000-0002-8321-9950</td>\n",
       "      <td>939</td>\n",
       "      <td>85684</td>\n",
       "      <td>https://api.openalex.org/works?filter=author.i...</td>\n",
       "    </tr>\n",
       "    <tr>\n",
       "      <th>6</th>\n",
       "      <td>Franz H. Messerli</td>\n",
       "      <td>https://openalex.org/A5021945153</td>\n",
       "      <td>https://orcid.org/0000-0002-4107-2583</td>\n",
       "      <td>907</td>\n",
       "      <td>41881</td>\n",
       "      <td>https://api.openalex.org/works?filter=author.i...</td>\n",
       "    </tr>\n",
       "    <tr>\n",
       "      <th>7</th>\n",
       "      <td>Philippe Renaud</td>\n",
       "      <td>https://openalex.org/A5052161335</td>\n",
       "      <td>https://orcid.org/0000-0002-9069-7109</td>\n",
       "      <td>895</td>\n",
       "      <td>16524</td>\n",
       "      <td>https://api.openalex.org/works?filter=author.i...</td>\n",
       "    </tr>\n",
       "    <tr>\n",
       "      <th>8</th>\n",
       "      <td>Norbert Thom</td>\n",
       "      <td>https://openalex.org/A5044612304</td>\n",
       "      <td>None</td>\n",
       "      <td>821</td>\n",
       "      <td>410</td>\n",
       "      <td>https://api.openalex.org/works?filter=author.i...</td>\n",
       "    </tr>\n",
       "    <tr>\n",
       "      <th>9</th>\n",
       "      <td>A. Miucci</td>\n",
       "      <td>https://openalex.org/A5084822178</td>\n",
       "      <td>https://orcid.org/0000-0001-8828-843X</td>\n",
       "      <td>809</td>\n",
       "      <td>32653</td>\n",
       "      <td>https://api.openalex.org/works?filter=author.i...</td>\n",
       "    </tr>\n",
       "    <tr>\n",
       "      <th>10</th>\n",
       "      <td>Thomas Klöti</td>\n",
       "      <td>https://openalex.org/A5029540518</td>\n",
       "      <td>https://orcid.org/0000-0001-5295-5958</td>\n",
       "      <td>740</td>\n",
       "      <td>39</td>\n",
       "      <td>https://api.openalex.org/works?filter=author.i...</td>\n",
       "    </tr>\n",
       "    <tr>\n",
       "      <th>11</th>\n",
       "      <td>W. Benz</td>\n",
       "      <td>https://openalex.org/A5008637582</td>\n",
       "      <td>https://orcid.org/0000-0001-7896-6479</td>\n",
       "      <td>720</td>\n",
       "      <td>23979</td>\n",
       "      <td>https://api.openalex.org/works?filter=author.i...</td>\n",
       "    </tr>\n",
       "    <tr>\n",
       "      <th>12</th>\n",
       "      <td>Horst Bunke</td>\n",
       "      <td>https://openalex.org/A5049873589</td>\n",
       "      <td>None</td>\n",
       "      <td>692</td>\n",
       "      <td>20770</td>\n",
       "      <td>https://api.openalex.org/works?filter=author.i...</td>\n",
       "    </tr>\n",
       "    <tr>\n",
       "      <th>13</th>\n",
       "      <td>Anton Sculean</td>\n",
       "      <td>https://openalex.org/A5051452604</td>\n",
       "      <td>https://orcid.org/0000-0003-2836-5477</td>\n",
       "      <td>657</td>\n",
       "      <td>21255</td>\n",
       "      <td>https://api.openalex.org/works?filter=author.i...</td>\n",
       "    </tr>\n",
       "    <tr>\n",
       "      <th>14</th>\n",
       "      <td>Urs E. Studer</td>\n",
       "      <td>https://openalex.org/A5075222976</td>\n",
       "      <td>None</td>\n",
       "      <td>642</td>\n",
       "      <td>19235</td>\n",
       "      <td>https://api.openalex.org/works?filter=author.i...</td>\n",
       "    </tr>\n",
       "    <tr>\n",
       "      <th>15</th>\n",
       "      <td>J. Wicht</td>\n",
       "      <td>https://openalex.org/A5018494086</td>\n",
       "      <td>None</td>\n",
       "      <td>619</td>\n",
       "      <td>19896</td>\n",
       "      <td>https://api.openalex.org/works?filter=author.i...</td>\n",
       "    </tr>\n",
       "    <tr>\n",
       "      <th>16</th>\n",
       "      <td>N. Thomas</td>\n",
       "      <td>https://openalex.org/A5081159380</td>\n",
       "      <td>https://orcid.org/0000-0002-0146-0071</td>\n",
       "      <td>616</td>\n",
       "      <td>17476</td>\n",
       "      <td>https://api.openalex.org/works?filter=author.i...</td>\n",
       "    </tr>\n",
       "    <tr>\n",
       "      <th>17</th>\n",
       "      <td>Niklaus P. Lang</td>\n",
       "      <td>https://openalex.org/A5073952077</td>\n",
       "      <td>https://orcid.org/0000-0002-6938-9611</td>\n",
       "      <td>609</td>\n",
       "      <td>50775</td>\n",
       "      <td>https://api.openalex.org/works?filter=author.i...</td>\n",
       "    </tr>\n",
       "    <tr>\n",
       "      <th>18</th>\n",
       "      <td>Dale Jacquette</td>\n",
       "      <td>https://openalex.org/A5042065312</td>\n",
       "      <td>None</td>\n",
       "      <td>580</td>\n",
       "      <td>1433</td>\n",
       "      <td>https://api.openalex.org/works?filter=author.i...</td>\n",
       "    </tr>\n",
       "    <tr>\n",
       "      <th>19</th>\n",
       "      <td>Nicolas Thomas</td>\n",
       "      <td>https://openalex.org/A5086198199</td>\n",
       "      <td>None</td>\n",
       "      <td>576</td>\n",
       "      <td>1448</td>\n",
       "      <td>https://api.openalex.org/works?filter=author.i...</td>\n",
       "    </tr>\n",
       "  </tbody>\n",
       "</table>\n",
       "</div>"
      ],
      "text/plain": [
       "               author                       openalex_id  \\\n",
       "0          H. P. Beck  https://openalex.org/A5080302579   \n",
       "1             S. Haug  https://openalex.org/A5055549637   \n",
       "2          Peter Würz  https://openalex.org/A5080499966   \n",
       "3       Thomas Berger  https://openalex.org/A5086222360   \n",
       "4      Bernhard Meier  https://openalex.org/A5088511695   \n",
       "5       Mark A. Rubin  https://openalex.org/A5035068594   \n",
       "6   Franz H. Messerli  https://openalex.org/A5021945153   \n",
       "7     Philippe Renaud  https://openalex.org/A5052161335   \n",
       "8        Norbert Thom  https://openalex.org/A5044612304   \n",
       "9           A. Miucci  https://openalex.org/A5084822178   \n",
       "10       Thomas Klöti  https://openalex.org/A5029540518   \n",
       "11            W. Benz  https://openalex.org/A5008637582   \n",
       "12        Horst Bunke  https://openalex.org/A5049873589   \n",
       "13      Anton Sculean  https://openalex.org/A5051452604   \n",
       "14      Urs E. Studer  https://openalex.org/A5075222976   \n",
       "15           J. Wicht  https://openalex.org/A5018494086   \n",
       "16          N. Thomas  https://openalex.org/A5081159380   \n",
       "17    Niklaus P. Lang  https://openalex.org/A5073952077   \n",
       "18     Dale Jacquette  https://openalex.org/A5042065312   \n",
       "19     Nicolas Thomas  https://openalex.org/A5086198199   \n",
       "\n",
       "                                    orcid  works_count  cited_by_count  \\\n",
       "0   https://orcid.org/0000-0001-7212-1096         1498           55948   \n",
       "1   https://orcid.org/0000-0003-0442-3361         1467           65351   \n",
       "2   https://orcid.org/0000-0002-2603-1169         1237           18587   \n",
       "3   https://orcid.org/0000-0002-2432-7791         1082           23433   \n",
       "4                                    None         1073           40873   \n",
       "5   https://orcid.org/0000-0002-8321-9950          939           85684   \n",
       "6   https://orcid.org/0000-0002-4107-2583          907           41881   \n",
       "7   https://orcid.org/0000-0002-9069-7109          895           16524   \n",
       "8                                    None          821             410   \n",
       "9   https://orcid.org/0000-0001-8828-843X          809           32653   \n",
       "10  https://orcid.org/0000-0001-5295-5958          740              39   \n",
       "11  https://orcid.org/0000-0001-7896-6479          720           23979   \n",
       "12                                   None          692           20770   \n",
       "13  https://orcid.org/0000-0003-2836-5477          657           21255   \n",
       "14                                   None          642           19235   \n",
       "15                                   None          619           19896   \n",
       "16  https://orcid.org/0000-0002-0146-0071          616           17476   \n",
       "17  https://orcid.org/0000-0002-6938-9611          609           50775   \n",
       "18                                   None          580            1433   \n",
       "19                                   None          576            1448   \n",
       "\n",
       "                                           works_link  \n",
       "0   https://api.openalex.org/works?filter=author.i...  \n",
       "1   https://api.openalex.org/works?filter=author.i...  \n",
       "2   https://api.openalex.org/works?filter=author.i...  \n",
       "3   https://api.openalex.org/works?filter=author.i...  \n",
       "4   https://api.openalex.org/works?filter=author.i...  \n",
       "5   https://api.openalex.org/works?filter=author.i...  \n",
       "6   https://api.openalex.org/works?filter=author.i...  \n",
       "7   https://api.openalex.org/works?filter=author.i...  \n",
       "8   https://api.openalex.org/works?filter=author.i...  \n",
       "9   https://api.openalex.org/works?filter=author.i...  \n",
       "10  https://api.openalex.org/works?filter=author.i...  \n",
       "11  https://api.openalex.org/works?filter=author.i...  \n",
       "12  https://api.openalex.org/works?filter=author.i...  \n",
       "13  https://api.openalex.org/works?filter=author.i...  \n",
       "14  https://api.openalex.org/works?filter=author.i...  \n",
       "15  https://api.openalex.org/works?filter=author.i...  \n",
       "16  https://api.openalex.org/works?filter=author.i...  \n",
       "17  https://api.openalex.org/works?filter=author.i...  \n",
       "18  https://api.openalex.org/works?filter=author.i...  \n",
       "19  https://api.openalex.org/works?filter=author.i...  "
      ]
     },
     "execution_count": 75,
     "metadata": {},
     "output_type": "execute_result"
    }
   ],
   "source": [
    "df"
   ]
  },
  {
   "cell_type": "markdown",
   "metadata": {},
   "source": [
    "#### Filter by multiple features & use logical operators"
   ]
  },
  {
   "cell_type": "markdown",
   "metadata": {},
   "source": [
    "You can not only use several filters at once, by **simply stacking** them. An you can use filters with **logical operators**, like `!` for NOT, `|` for OR, less-than `<`, or greater-than `>`. For further details see [this page](https://docs.openalex.org/how-to-use-the-api/get-lists-of-entities/filter-entity-lists)."
   ]
  },
  {
   "cell_type": "code",
   "execution_count": 76,
   "metadata": {
    "execution": {
     "iopub.execute_input": "2024-04-14T22:15:35.622051Z",
     "iopub.status.busy": "2024-04-14T22:15:35.621703Z",
     "iopub.status.idle": "2024-04-14T22:15:36.095719Z",
     "shell.execute_reply": "2024-04-14T22:15:36.093680Z",
     "shell.execute_reply.started": "2024-04-14T22:15:35.622019Z"
    },
    "tags": []
   },
   "outputs": [
    {
     "data": {
      "text/plain": [
       "{'count': 3,\n",
       " 'db_response_time_ms': 59,\n",
       " 'page': 1,\n",
       " 'per_page': 20,\n",
       " 'groups_count': None}"
      ]
     },
     "execution_count": 76,
     "metadata": {},
     "output_type": "execute_result"
    }
   ],
   "source": [
    "# Example: Authors with only a few publications, but high citation count\n",
    "url = 'https://api.openalex.org/authors?'\n",
    "params = {'mailto': email,\n",
    "         'filter': 'works_count:<5,cited_by_count:>50000',\n",
    "         'per-page': 20}\n",
    "\n",
    "r = requests.get(url, params=params) \n",
    "data = r.json()\n",
    "data['meta']"
   ]
  },
  {
   "cell_type": "code",
   "execution_count": 77,
   "metadata": {
    "execution": {
     "iopub.execute_input": "2024-04-14T22:15:36.098660Z",
     "iopub.status.busy": "2024-04-14T22:15:36.098111Z",
     "iopub.status.idle": "2024-04-14T22:15:36.111476Z",
     "shell.execute_reply": "2024-04-14T22:15:36.109566Z",
     "shell.execute_reply.started": "2024-04-14T22:15:36.098611Z"
    },
    "tags": []
   },
   "outputs": [
    {
     "data": {
      "text/plain": [
       "[['S Nicklen',\n",
       "  2,\n",
       "  59717,\n",
       "  'https://api.openalex.org/works?filter=author.id:A5035256244'],\n",
       " ['Rose J. Randall',\n",
       "  2,\n",
       "  304570,\n",
       "  'https://api.openalex.org/works?filter=author.id:A5074535928'],\n",
       " ['N. J. Rosebrough',\n",
       "  1,\n",
       "  304586,\n",
       "  'https://api.openalex.org/works?filter=author.id:A5032482932']]"
      ]
     },
     "execution_count": 77,
     "metadata": {},
     "output_type": "execute_result"
    }
   ],
   "source": [
    "[[i['display_name'], i['works_count'], i['cited_by_count'], i['works_api_url']] for i in data['results']]"
   ]
  },
  {
   "cell_type": "code",
   "execution_count": 78,
   "metadata": {
    "execution": {
     "iopub.execute_input": "2024-04-14T22:15:36.113557Z",
     "iopub.status.busy": "2024-04-14T22:15:36.113147Z",
     "iopub.status.idle": "2024-04-14T22:15:36.802879Z",
     "shell.execute_reply": "2024-04-14T22:15:36.801136Z",
     "shell.execute_reply.started": "2024-04-14T22:15:36.113520Z"
    },
    "tags": []
   },
   "outputs": [
    {
     "data": {
      "text/plain": [
       "{'count': 1596836,\n",
       " 'db_response_time_ms': 282,\n",
       " 'page': 1,\n",
       " 'per_page': 20,\n",
       " 'groups_count': None}"
      ]
     },
     "execution_count": 78,
     "metadata": {},
     "output_type": "execute_result"
    }
   ],
   "source": [
    "# Example: Authors from companies or nonprofit institutions outside the USA and China\n",
    "url = 'https://api.openalex.org/authors?'\n",
    "params = {'mailto': email,\n",
    "         'filter': 'last_known_institution.type:company|nonprofit,last_known_institution.country_code:!US|CN',\n",
    "         'per-page': 20}\n",
    "\n",
    "r = requests.get(url, params=params) \n",
    "data = r.json()\n",
    "data['meta']"
   ]
  },
  {
   "cell_type": "code",
   "execution_count": 79,
   "metadata": {
    "execution": {
     "iopub.execute_input": "2024-04-14T22:15:36.804890Z",
     "iopub.status.busy": "2024-04-14T22:15:36.804444Z",
     "iopub.status.idle": "2024-04-14T22:15:36.817007Z",
     "shell.execute_reply": "2024-04-14T22:15:36.815266Z",
     "shell.execute_reply.started": "2024-04-14T22:15:36.804851Z"
    },
    "tags": []
   },
   "outputs": [
    {
     "data": {
      "text/plain": [
       "[['Marina Bährle-Rapp', 'New Valve Technology (Germany)'],\n",
       " ['Ki Wook Kim', 'Robert Bosch (Germany)'],\n",
       " ['Miguel Ángel', 'Danieli (Italy)'],\n",
       " ['C.H. Arrowsmith', 'Structural Genomics Consortium'],\n",
       " ['Alamat Florist', 'Pancur Kasih Association'],\n",
       " ['Hiroshi Ishiguro', 'Sumitomo Dainippon Pharma (Japan)'],\n",
       " ['Hiroshi Takahashi', 'John Wiley & Sons (United Kingdom)'],\n",
       " ['Redaktion Facharztmagazine', 'Springer Nature (Germany)'],\n",
       " ['Nigel Collar', 'BirdLife international'],\n",
       " ['Àlex', 'Campden BRI (Hungary)'],\n",
       " ['A.M. Edwards', 'Structural Genomics Consortium'],\n",
       " ['Yusuke Nakamura', 'Japanese Foundation For Cancer Research'],\n",
       " ['Ji‐Hyun Lee', 'Samsung (South Korea)'],\n",
       " ['T. Dorigo', 'Universal Scientific Education and Research Network'],\n",
       " ['Ho Kim', 'Robert Bosch (Germany)'],\n",
       " ['Holger Eickhoff', 'Scienion (Germany)'],\n",
       " ['Yuming Wang', 'Huawei Technologies (Sweden)'],\n",
       " ['Joshua Cantlon-Bruce', 'Scienion (Germany)'],\n",
       " ['Kazuo Yamada', 'Honda (Japan)'],\n",
       " ['Dong-Won Kim', 'Doosan Heavy Industries & Construction (South Korea)']]"
      ]
     },
     "execution_count": 79,
     "metadata": {},
     "output_type": "execute_result"
    }
   ],
   "source": [
    "[[i['display_name'], i['last_known_institution']['display_name']] for i in data['results']]"
   ]
  },
  {
   "cell_type": "markdown",
   "metadata": {},
   "source": [
    "#### Group authors due to a certain feature"
   ]
  },
  {
   "cell_type": "markdown",
   "metadata": {},
   "source": [
    "As a use case, it is very easy to group all authors according to their last known institution's country. Just use the `last_known_institution.country_code` sub-attribute of the *Author* object as **grouping parameter**. Find more features to group authors by [here](https://docs.openalex.org/api-entities/authors/group-authors)."
   ]
  },
  {
   "cell_type": "code",
   "execution_count": 80,
   "metadata": {
    "execution": {
     "iopub.execute_input": "2024-04-14T22:15:36.818937Z",
     "iopub.status.busy": "2024-04-14T22:15:36.818599Z",
     "iopub.status.idle": "2024-04-14T22:15:37.310764Z",
     "shell.execute_reply": "2024-04-14T22:15:37.308597Z",
     "shell.execute_reply.started": "2024-04-14T22:15:36.818896Z"
    },
    "tags": []
   },
   "outputs": [],
   "source": [
    "url = 'https://api.openalex.org/authors?'\n",
    "params = {'mailto': email,\n",
    "         'group_by': 'last_known_institution.country_code'}\n",
    "\n",
    "r = requests.get(url, params=params) \n",
    "data = r.json()"
   ]
  },
  {
   "cell_type": "code",
   "execution_count": 81,
   "metadata": {
    "execution": {
     "iopub.execute_input": "2024-04-14T22:15:37.313666Z",
     "iopub.status.busy": "2024-04-14T22:15:37.313077Z",
     "iopub.status.idle": "2024-04-14T22:15:37.325555Z",
     "shell.execute_reply": "2024-04-14T22:15:37.323927Z",
     "shell.execute_reply.started": "2024-04-14T22:15:37.313613Z"
    },
    "tags": []
   },
   "outputs": [
    {
     "data": {
      "text/plain": [
       "{'count': 91549341,\n",
       " 'db_response_time_ms': 113,\n",
       " 'page': 1,\n",
       " 'per_page': 200,\n",
       " 'groups_count': 200}"
      ]
     },
     "execution_count": 81,
     "metadata": {},
     "output_type": "execute_result"
    }
   ],
   "source": [
    "data['meta']"
   ]
  },
  {
   "cell_type": "code",
   "execution_count": 82,
   "metadata": {
    "execution": {
     "iopub.execute_input": "2024-04-14T22:15:37.327559Z",
     "iopub.status.busy": "2024-04-14T22:15:37.327103Z",
     "iopub.status.idle": "2024-04-14T22:15:37.437591Z",
     "shell.execute_reply": "2024-04-14T22:15:37.435373Z",
     "shell.execute_reply.started": "2024-04-14T22:15:37.327518Z"
    },
    "tags": []
   },
   "outputs": [
    {
     "data": {
      "text/plain": [
       "[['United States of America', 6625148],\n",
       " ['China', 3422192],\n",
       " ['Brazil', 1571521],\n",
       " ['Germany', 1427754],\n",
       " ['Japan', 1389100],\n",
       " ['United Kingdom of Great Britain and Northern Ireland', 1371968],\n",
       " ['India', 1333513],\n",
       " ['Indonesia', 1271352],\n",
       " ['France', 1042041],\n",
       " ['Russian Federation', 881732]]"
      ]
     },
     "execution_count": 82,
     "metadata": {},
     "output_type": "execute_result"
    }
   ],
   "source": [
    "# Accessing the 10 biggest countries of affiliations, default sorted in descending count\n",
    "[[i['key_display_name'], i['count']] for i in data['group_by'][:10]]"
   ]
  },
  {
   "cell_type": "markdown",
   "metadata": {},
   "source": [
    "#### Combine filters and grouping"
   ]
  },
  {
   "cell_type": "markdown",
   "metadata": {},
   "source": [
    "Of course you can combine filters and groupings also for authors' data. In the example beneath you will group all authors writing about *Ethical Implications of Artificial Intelligence* `T10883` according to their (last known) institution type."
   ]
  },
  {
   "cell_type": "code",
   "execution_count": 83,
   "metadata": {
    "execution": {
     "iopub.execute_input": "2024-04-14T22:15:37.440818Z",
     "iopub.status.busy": "2024-04-14T22:15:37.440039Z",
     "iopub.status.idle": "2024-04-14T22:15:37.934785Z",
     "shell.execute_reply": "2024-04-14T22:15:37.932430Z",
     "shell.execute_reply.started": "2024-04-14T22:15:37.440756Z"
    },
    "tags": []
   },
   "outputs": [
    {
     "data": {
      "text/plain": [
       "{'count': 18132,\n",
       " 'db_response_time_ms': 55,\n",
       " 'page': 1,\n",
       " 'per_page': 200,\n",
       " 'groups_count': 8}"
      ]
     },
     "execution_count": 83,
     "metadata": {},
     "output_type": "execute_result"
    }
   ],
   "source": [
    "url = 'https://api.openalex.org/authors?'\n",
    "params = {'mailto': email,\n",
    "         'filter': 'topics.id:T10883',\n",
    "         'group_by': 'last_known_institution.type'}\n",
    "\n",
    "r = requests.get(url, params=params) \n",
    "data = r.json()\n",
    "data['meta']"
   ]
  },
  {
   "cell_type": "code",
   "execution_count": 84,
   "metadata": {
    "execution": {
     "iopub.execute_input": "2024-04-14T22:15:37.938106Z",
     "iopub.status.busy": "2024-04-14T22:15:37.937463Z",
     "iopub.status.idle": "2024-04-14T22:15:37.951140Z",
     "shell.execute_reply": "2024-04-14T22:15:37.949775Z",
     "shell.execute_reply.started": "2024-04-14T22:15:37.938048Z"
    },
    "tags": []
   },
   "outputs": [
    {
     "data": {
      "text/plain": [
       "[{'key': 'education', 'key_display_name': 'education', 'count': 12038},\n",
       " {'key': 'company', 'key_display_name': 'company', 'count': 1036},\n",
       " {'key': 'facility', 'key_display_name': 'facility', 'count': 847},\n",
       " {'key': 'nonprofit', 'key_display_name': 'nonprofit', 'count': 537},\n",
       " {'key': 'healthcare', 'key_display_name': 'healthcare', 'count': 455},\n",
       " {'key': 'government', 'key_display_name': 'government', 'count': 400},\n",
       " {'key': 'other', 'key_display_name': 'other', 'count': 229},\n",
       " {'key': 'archive', 'key_display_name': 'archive', 'count': 33}]"
      ]
     },
     "execution_count": 84,
     "metadata": {},
     "output_type": "execute_result"
    }
   ],
   "source": [
    "data['group_by']"
   ]
  },
  {
   "cell_type": "code",
   "execution_count": 85,
   "metadata": {
    "execution": {
     "iopub.execute_input": "2024-04-14T22:15:37.953532Z",
     "iopub.status.busy": "2024-04-14T22:15:37.953111Z",
     "iopub.status.idle": "2024-04-14T22:15:38.003991Z",
     "shell.execute_reply": "2024-04-14T22:15:38.001640Z",
     "shell.execute_reply.started": "2024-04-14T22:15:37.953495Z"
    },
    "tags": []
   },
   "outputs": [
    {
     "data": {
      "text/plain": [
       "15575"
      ]
     },
     "execution_count": 85,
     "metadata": {},
     "output_type": "execute_result"
    }
   ],
   "source": [
    "inst_data =[[i['key_display_name'], i['count']] for i in data['group_by']]\n",
    "inst_sum = 0\n",
    "for i in inst_data:\n",
    "    inst_sum += i[1]\n",
    "inst_sum"
   ]
  },
  {
   "cell_type": "code",
   "execution_count": 86,
   "metadata": {
    "execution": {
     "iopub.execute_input": "2024-04-14T22:15:38.007150Z",
     "iopub.status.busy": "2024-04-14T22:15:38.006444Z",
     "iopub.status.idle": "2024-04-14T22:15:38.056738Z",
     "shell.execute_reply": "2024-04-14T22:15:38.054469Z",
     "shell.execute_reply.started": "2024-04-14T22:15:38.007087Z"
    },
    "tags": []
   },
   "outputs": [
    {
     "data": {
      "text/plain": [
       "[['education', 12038, '77.3%'],\n",
       " ['company', 1036, '6.7%'],\n",
       " ['facility', 847, '5.4%'],\n",
       " ['nonprofit', 537, '3.4%'],\n",
       " ['healthcare', 455, '2.9%'],\n",
       " ['government', 400, '2.6%'],\n",
       " ['other', 229, '1.5%'],\n",
       " ['archive', 33, '0.2%']]"
      ]
     },
     "execution_count": 86,
     "metadata": {},
     "output_type": "execute_result"
    }
   ],
   "source": [
    "# Calculating and adding percentages\n",
    "for i in inst_data:\n",
    "    i.append(str(round(i[1]/inst_sum*100,1)) + '%')\n",
    "inst_data"
   ]
  },
  {
   "cell_type": "markdown",
   "metadata": {},
   "source": [
    "Now let's have a look at those authors writing about AI Ethics, whose last know affiliation is a company. For this, we will use 2 filters concurrently here: `topics.id:T10883` and `last_known_institution.type=company`."
   ]
  },
  {
   "cell_type": "code",
   "execution_count": 87,
   "metadata": {
    "execution": {
     "iopub.execute_input": "2024-04-14T22:15:38.059428Z",
     "iopub.status.busy": "2024-04-14T22:15:38.058810Z",
     "iopub.status.idle": "2024-04-14T22:15:38.750308Z",
     "shell.execute_reply": "2024-04-14T22:15:38.749024Z",
     "shell.execute_reply.started": "2024-04-14T22:15:38.059369Z"
    },
    "tags": []
   },
   "outputs": [
    {
     "data": {
      "text/plain": [
       "{'count': 1038,\n",
       " 'db_response_time_ms': 134,\n",
       " 'page': 1,\n",
       " 'per_page': 25,\n",
       " 'groups_count': None}"
      ]
     },
     "execution_count": 87,
     "metadata": {},
     "output_type": "execute_result"
    }
   ],
   "source": [
    "url = 'https://api.openalex.org/authors?'\n",
    "params = {'mailto': email,\n",
    "         'filter': 'topics.id:T10883,last_known_institution.type:company'}\n",
    "\n",
    "r = requests.get(url, params=params) \n",
    "data = r.json()\n",
    "data['meta']"
   ]
  },
  {
   "cell_type": "code",
   "execution_count": 88,
   "metadata": {
    "execution": {
     "iopub.execute_input": "2024-04-14T22:15:38.752054Z",
     "iopub.status.busy": "2024-04-14T22:15:38.751752Z",
     "iopub.status.idle": "2024-04-14T22:15:38.762824Z",
     "shell.execute_reply": "2024-04-14T22:15:38.761687Z",
     "shell.execute_reply.started": "2024-04-14T22:15:38.752027Z"
    },
    "tags": []
   },
   "outputs": [
    {
     "data": {
      "text/plain": [
       "[['Alekh Agarwal', 'Systems Analytics (United States)', 445],\n",
       " ['J. Vaughan', 'Microsoft (United States)', 406],\n",
       " ['Andreas Hepp', 'Walter de Gruyter (Germany)', 398],\n",
       " ['Simon M. Lucas', 'Merck (Germany)', 389],\n",
       " ['Bernd Stahl', 'Nutricia Research (Netherlands)', 364],\n",
       " ['Jun Zhao', 'Aviation Industry Corporation of China (China)', 363],\n",
       " ['Jordon Rowe Adams', 'LinkedIn (United States)', 359],\n",
       " ['Hal Daumé', 'Microsoft (United States)', 334],\n",
       " ['Lora Aroyo', 'Google (United States)', 327],\n",
       " ['Elizabeth F. Churchill', 'Google (United States)', 318],\n",
       " ['Yunlong Cai', 'Visa (United Kingdom)', 313],\n",
       " ['Thomas H. Davenport', 'Deloitte (United States)', 312],\n",
       " ['Cacm Staff', 'Intelligent Systems Research (United States)', 302],\n",
       " ['Stamatis Karnouskos',\n",
       "  'Systems, Applications & Products in Data Processing (Germany)',\n",
       "  293],\n",
       " ['Ivica Crnković', 'Software (Spain)', 288],\n",
       " ['Ryan A. Rossi', 'Adobe Systems (United States)', 283],\n",
       " ['Antonino Rotolo', 'Zambon (Italy)', 280],\n",
       " ['Stephen J. Cimbala', 'Brandywine Photonics (United States)', 276],\n",
       " ['Huzefa Rangwala', 'Amazon (United States)', 271],\n",
       " ['Dorsa Sadigh', 'Google (United States)', 268]]"
      ]
     },
     "execution_count": 88,
     "metadata": {},
     "output_type": "execute_result"
    }
   ],
   "source": [
    "# Showing the 20 most productive authors in AI Ethics working at a company\n",
    "[[i['display_name'], i['last_known_institution']['display_name'], i['works_count']] for i in data['results'][:20]]"
   ]
  },
  {
   "cell_type": "markdown",
   "metadata": {},
   "source": [
    "## 🔖 Topics endpoint"
   ]
  },
  {
   "cell_type": "markdown",
   "metadata": {},
   "source": [
    "***Topics*** entities are OpenAlex' notion of subjects, which are attached to *Works*, using an automated system that takes into account the available information including title, abstract, source (journal) name, and citations. The highest-scoring topic is that Work's `primary_topic`. There is also an attribute `topics`of a Work entity with additional highly ranked topics.\n",
    "\n",
    "Topics are hierarchically organzied in sub-fields, fields, and domains, for further information see the [Topics page](https://docs.openalex.org/api-entities/topics)\n"
   ]
  },
  {
   "cell_type": "code",
   "execution_count": 89,
   "metadata": {
    "execution": {
     "iopub.execute_input": "2024-04-14T22:15:38.764330Z",
     "iopub.status.busy": "2024-04-14T22:15:38.764043Z",
     "iopub.status.idle": "2024-04-14T22:15:39.282156Z",
     "shell.execute_reply": "2024-04-14T22:15:39.279646Z",
     "shell.execute_reply.started": "2024-04-14T22:15:38.764305Z"
    },
    "tags": []
   },
   "outputs": [],
   "source": [
    "base_url = 'https://api.openalex.org/topics/'\n",
    "params = {'mailto': email} \n",
    "\n",
    "openalex_id = 'T10101'\n",
    "\n",
    "r = requests.get(base_url + openalex_id, params=params) \n",
    "data = r.json()"
   ]
  },
  {
   "cell_type": "code",
   "execution_count": 90,
   "metadata": {
    "execution": {
     "iopub.execute_input": "2024-04-14T22:15:39.285769Z",
     "iopub.status.busy": "2024-04-14T22:15:39.285049Z",
     "iopub.status.idle": "2024-04-14T22:15:39.301671Z",
     "shell.execute_reply": "2024-04-14T22:15:39.299798Z",
     "shell.execute_reply.started": "2024-04-14T22:15:39.285704Z"
    },
    "tags": []
   },
   "outputs": [
    {
     "data": {
      "text/plain": [
       "['id',\n",
       " 'display_name',\n",
       " 'description',\n",
       " 'keywords',\n",
       " 'ids',\n",
       " 'subfield',\n",
       " 'field',\n",
       " 'domain',\n",
       " 'siblings',\n",
       " 'works_count',\n",
       " 'cited_by_count',\n",
       " 'updated_date',\n",
       " 'created_date']"
      ]
     },
     "execution_count": 90,
     "metadata": {},
     "output_type": "execute_result"
    }
   ],
   "source": [
    "# Available attributes of the Concept entity\n",
    "list(data)"
   ]
  },
  {
   "cell_type": "code",
   "execution_count": 91,
   "metadata": {
    "execution": {
     "iopub.execute_input": "2024-04-14T22:15:39.304137Z",
     "iopub.status.busy": "2024-04-14T22:15:39.303647Z",
     "iopub.status.idle": "2024-04-14T22:15:39.346698Z",
     "shell.execute_reply": "2024-04-14T22:15:39.344261Z",
     "shell.execute_reply.started": "2024-04-14T22:15:39.304093Z"
    },
    "tags": []
   },
   "outputs": [
    {
     "name": "stdout",
     "output_type": "stream",
     "text": [
      "Cloud Computing and Big Data Technologies\n",
      "{'openalex': 'https://openalex.org/T10101', 'wikipedia': 'https://en.wikipedia.org/wiki/Cloud_computing'}\n"
     ]
    },
    {
     "data": {
      "text/plain": [
       "['Cloud Computing',\n",
       " 'Big Data',\n",
       " 'MapReduce',\n",
       " 'Virtualization',\n",
       " 'Data Centers',\n",
       " 'Resource Management',\n",
       " 'Hadoop',\n",
       " 'Distributed Systems',\n",
       " 'Energy Efficiency',\n",
       " 'Scalability']"
      ]
     },
     "execution_count": 91,
     "metadata": {},
     "output_type": "execute_result"
    }
   ],
   "source": [
    "print(data['display_name'])\n",
    "print(data['ids'])\n",
    "data['keywords']"
   ]
  },
  {
   "cell_type": "code",
   "execution_count": 92,
   "metadata": {
    "execution": {
     "iopub.execute_input": "2024-04-14T22:15:39.350527Z",
     "iopub.status.busy": "2024-04-14T22:15:39.349782Z",
     "iopub.status.idle": "2024-04-14T22:15:39.385663Z",
     "shell.execute_reply": "2024-04-14T22:15:39.383621Z",
     "shell.execute_reply.started": "2024-04-14T22:15:39.350464Z"
    },
    "tags": []
   },
   "outputs": [
    {
     "data": {
      "text/plain": [
       "'This cluster of papers covers a wide range of topics related to cloud computing, big data technologies, and data center management. It includes discussions on MapReduce, virtualization, Hadoop, resource management, energy efficiency, scalability, and distributed systems. The papers also address challenges and opportunities in the field of cloud computing and big data.'"
      ]
     },
     "execution_count": 92,
     "metadata": {},
     "output_type": "execute_result"
    }
   ],
   "source": [
    "data['description']"
   ]
  },
  {
   "cell_type": "markdown",
   "metadata": {},
   "source": [
    "## 🏫 Institutions endpoint"
   ]
  },
  {
   "cell_type": "markdown",
   "metadata": {},
   "source": [
    "***Institution*** entities are the organizations which host the authors when they write their publications (affiliations). Thus, publications can be assigned as output to certain institutions. OpenAlex uses the categories of institutions of the [ROR](https://ror.org/) registry: education, healthcare, governnment, nonprofit, archive, company, facility, unknown. See also the [Institution](https://docs.openalex.org/about-the-data/institution) object documentation.\n",
    "\n",
    "You can use the `/institutions` endpoint with OpenAlex identifier (starting with an \"I\" like `I118564535`) or the popular identifier ROR ID."
   ]
  },
  {
   "cell_type": "code",
   "execution_count": 93,
   "metadata": {
    "execution": {
     "iopub.execute_input": "2024-04-14T22:15:39.389853Z",
     "iopub.status.busy": "2024-04-14T22:15:39.388037Z",
     "iopub.status.idle": "2024-04-14T22:15:39.937036Z",
     "shell.execute_reply": "2024-04-14T22:15:39.934298Z",
     "shell.execute_reply.started": "2024-04-14T22:15:39.389776Z"
    },
    "tags": []
   },
   "outputs": [],
   "source": [
    "base_url = 'https://api.openalex.org/institutions/'\n",
    "params = {'mailto': email} \n",
    "\n",
    "#openalex_id = 'I118564535'\n",
    "#openalex_id_namespace = 'openalex:I118564535'\n",
    "ror_id = 'ror:02k7v4d05'\n",
    "\n",
    "# Adapt identifier if necessary\n",
    "r = requests.get(base_url + ror_id, params=params) \n",
    "data = r.json()"
   ]
  },
  {
   "cell_type": "code",
   "execution_count": 94,
   "metadata": {
    "execution": {
     "iopub.execute_input": "2024-04-14T22:15:39.940946Z",
     "iopub.status.busy": "2024-04-14T22:15:39.940130Z",
     "iopub.status.idle": "2024-04-14T22:15:39.956061Z",
     "shell.execute_reply": "2024-04-14T22:15:39.953573Z",
     "shell.execute_reply.started": "2024-04-14T22:15:39.940857Z"
    },
    "tags": []
   },
   "outputs": [
    {
     "data": {
      "text/plain": [
       "['id',\n",
       " 'ror',\n",
       " 'display_name',\n",
       " 'country_code',\n",
       " 'type',\n",
       " 'type_id',\n",
       " 'lineage',\n",
       " 'homepage_url',\n",
       " 'image_url',\n",
       " 'image_thumbnail_url',\n",
       " 'display_name_acronyms',\n",
       " 'display_name_alternatives',\n",
       " 'repositories',\n",
       " 'works_count',\n",
       " 'cited_by_count',\n",
       " 'summary_stats',\n",
       " 'ids',\n",
       " 'geo',\n",
       " 'international',\n",
       " 'associated_institutions',\n",
       " 'counts_by_year',\n",
       " 'roles',\n",
       " 'topics',\n",
       " 'topic_share',\n",
       " 'x_concepts',\n",
       " 'works_api_url',\n",
       " 'updated_date',\n",
       " 'created_date']"
      ]
     },
     "execution_count": 94,
     "metadata": {},
     "output_type": "execute_result"
    }
   ],
   "source": [
    "# Overview of data fields\n",
    "list(data)"
   ]
  },
  {
   "cell_type": "code",
   "execution_count": 95,
   "metadata": {
    "execution": {
     "iopub.execute_input": "2024-04-14T22:15:39.959164Z",
     "iopub.status.busy": "2024-04-14T22:15:39.958527Z",
     "iopub.status.idle": "2024-04-14T22:15:39.995676Z",
     "shell.execute_reply": "2024-04-14T22:15:39.992617Z",
     "shell.execute_reply.started": "2024-04-14T22:15:39.959106Z"
    },
    "tags": []
   },
   "outputs": [
    {
     "data": {
      "text/plain": [
       "'https://openalex.org/I118564535'"
      ]
     },
     "execution_count": 95,
     "metadata": {},
     "output_type": "execute_result"
    }
   ],
   "source": [
    "# OpenAlex institution ID\n",
    "data['id']"
   ]
  },
  {
   "cell_type": "code",
   "execution_count": 96,
   "metadata": {
    "execution": {
     "iopub.execute_input": "2024-04-14T22:15:39.999437Z",
     "iopub.status.busy": "2024-04-14T22:15:39.998585Z",
     "iopub.status.idle": "2024-04-14T22:15:40.044153Z",
     "shell.execute_reply": "2024-04-14T22:15:40.041760Z",
     "shell.execute_reply.started": "2024-04-14T22:15:39.999320Z"
    },
    "tags": []
   },
   "outputs": [
    {
     "data": {
      "text/plain": [
       "{'openalex': 'https://openalex.org/I118564535',\n",
       " 'ror': 'https://ror.org/02k7v4d05',\n",
       " 'mag': '118564535',\n",
       " 'grid': 'grid.5734.5',\n",
       " 'wikipedia': 'https://en.wikipedia.org/wiki/University%20of%20Bern',\n",
       " 'wikidata': 'https://www.wikidata.org/wiki/Q659080'}"
      ]
     },
     "execution_count": 96,
     "metadata": {},
     "output_type": "execute_result"
    }
   ],
   "source": [
    "# All institution identifiers\n",
    "data['ids']"
   ]
  },
  {
   "cell_type": "code",
   "execution_count": 97,
   "metadata": {
    "execution": {
     "iopub.execute_input": "2024-04-14T22:15:40.048329Z",
     "iopub.status.busy": "2024-04-14T22:15:40.047670Z",
     "iopub.status.idle": "2024-04-14T22:15:40.084595Z",
     "shell.execute_reply": "2024-04-14T22:15:40.082537Z",
     "shell.execute_reply.started": "2024-04-14T22:15:40.048246Z"
    }
   },
   "outputs": [
    {
     "data": {
      "text/plain": [
       "'University of Bern'"
      ]
     },
     "execution_count": 97,
     "metadata": {},
     "output_type": "execute_result"
    }
   ],
   "source": [
    "# Preferable name\n",
    "data['display_name']"
   ]
  },
  {
   "cell_type": "code",
   "execution_count": 98,
   "metadata": {
    "execution": {
     "iopub.execute_input": "2024-04-14T22:15:40.088247Z",
     "iopub.status.busy": "2024-04-14T22:15:40.087679Z",
     "iopub.status.idle": "2024-04-14T22:15:40.123301Z",
     "shell.execute_reply": "2024-04-14T22:15:40.120876Z",
     "shell.execute_reply.started": "2024-04-14T22:15:40.088201Z"
    },
    "tags": []
   },
   "outputs": [
    {
     "data": {
      "text/plain": [
       "'Universitas Bernensis'"
      ]
     },
     "execution_count": 98,
     "metadata": {},
     "output_type": "execute_result"
    }
   ],
   "source": [
    "# Display name in other languages, e.g. Latin\n",
    "data['international']['display_name']['la']"
   ]
  },
  {
   "cell_type": "code",
   "execution_count": 99,
   "metadata": {
    "execution": {
     "iopub.execute_input": "2024-04-14T22:15:40.128125Z",
     "iopub.status.busy": "2024-04-14T22:15:40.126135Z",
     "iopub.status.idle": "2024-04-14T22:15:40.165084Z",
     "shell.execute_reply": "2024-04-14T22:15:40.162923Z",
     "shell.execute_reply.started": "2024-04-14T22:15:40.128064Z"
    },
    "tags": []
   },
   "outputs": [
    {
     "data": {
      "text/plain": [
       "'https://api.openalex.org/works?filter=institutions.id:I118564535'"
      ]
     },
     "execution_count": 99,
     "metadata": {},
     "output_type": "execute_result"
    }
   ],
   "source": [
    "# API link to all affiliated publications\n",
    "data['works_api_url']"
   ]
  },
  {
   "cell_type": "code",
   "execution_count": 100,
   "metadata": {
    "execution": {
     "iopub.execute_input": "2024-04-14T22:15:40.168553Z",
     "iopub.status.busy": "2024-04-14T22:15:40.167510Z",
     "iopub.status.idle": "2024-04-14T22:15:40.210150Z",
     "shell.execute_reply": "2024-04-14T22:15:40.207474Z",
     "shell.execute_reply.started": "2024-04-14T22:15:40.168433Z"
    },
    "tags": []
   },
   "outputs": [
    {
     "data": {
      "text/plain": [
       "3582551"
      ]
     },
     "execution_count": 100,
     "metadata": {},
     "output_type": "execute_result"
    }
   ],
   "source": [
    "# Number of citations of affiliated publications\n",
    "data['cited_by_count']"
   ]
  },
  {
   "cell_type": "code",
   "execution_count": 101,
   "metadata": {
    "execution": {
     "iopub.execute_input": "2024-04-14T22:15:40.213968Z",
     "iopub.status.busy": "2024-04-14T22:15:40.212761Z",
     "iopub.status.idle": "2024-04-14T22:15:40.252337Z",
     "shell.execute_reply": "2024-04-14T22:15:40.250260Z",
     "shell.execute_reply.started": "2024-04-14T22:15:40.213903Z"
    },
    "tags": []
   },
   "outputs": [
    {
     "data": {
      "text/plain": [
       "[{'year': 2024, 'works_count': 1970, 'cited_by_count': 103562},\n",
       " {'year': 2023, 'works_count': 7872, 'cited_by_count': 349367},\n",
       " {'year': 2022, 'works_count': 8130, 'cited_by_count': 341962},\n",
       " {'year': 2021, 'works_count': 7892, 'cited_by_count': 322673},\n",
       " {'year': 2020, 'works_count': 7064, 'cited_by_count': 270942},\n",
       " {'year': 2019, 'works_count': 6126, 'cited_by_count': 222126},\n",
       " {'year': 2018, 'works_count': 5529, 'cited_by_count': 193331},\n",
       " {'year': 2017, 'works_count': 5118, 'cited_by_count': 171436},\n",
       " {'year': 2016, 'works_count': 4923, 'cited_by_count': 159501},\n",
       " {'year': 2015, 'works_count': 4192, 'cited_by_count': 153036},\n",
       " {'year': 2014, 'works_count': 3880, 'cited_by_count': 140873},\n",
       " {'year': 2013, 'works_count': 3517, 'cited_by_count': 130026},\n",
       " {'year': 2012, 'works_count': 3348, 'cited_by_count': 114152}]"
      ]
     },
     "execution_count": 101,
     "metadata": {},
     "output_type": "execute_result"
    }
   ],
   "source": [
    "# Number of affiliated publications and citations by year, since 2012\n",
    "data['counts_by_year']"
   ]
  },
  {
   "cell_type": "code",
   "execution_count": 102,
   "metadata": {
    "execution": {
     "iopub.execute_input": "2024-04-14T22:15:40.255859Z",
     "iopub.status.busy": "2024-04-14T22:15:40.254821Z",
     "iopub.status.idle": "2024-04-14T22:15:40.293100Z",
     "shell.execute_reply": "2024-04-14T22:15:40.291005Z",
     "shell.execute_reply.started": "2024-04-14T22:15:40.255801Z"
    },
    "tags": []
   },
   "outputs": [
    {
     "data": {
      "text/plain": [
       "[{'id': 'https://openalex.org/I2801112126',\n",
       "  'ror': 'https://ror.org/01q9sj412',\n",
       "  'display_name': 'University Hospital of Bern',\n",
       "  'country_code': 'CH',\n",
       "  'type': 'healthcare',\n",
       "  'relationship': 'related'},\n",
       " {'id': 'https://openalex.org/I4210087665',\n",
       "  'ror': 'https://ror.org/003bz8x96',\n",
       "  'display_name': 'Wiederkäuerklinik',\n",
       "  'country_code': 'CH',\n",
       "  'type': 'healthcare',\n",
       "  'relationship': 'related'}]"
      ]
     },
     "execution_count": 102,
     "metadata": {},
     "output_type": "execute_result"
    }
   ],
   "source": [
    "# Associated institutions\n",
    "data['associated_institutions']"
   ]
  },
  {
   "cell_type": "code",
   "execution_count": 103,
   "metadata": {
    "execution": {
     "iopub.execute_input": "2024-04-14T22:15:40.296689Z",
     "iopub.status.busy": "2024-04-14T22:15:40.295593Z",
     "iopub.status.idle": "2024-04-14T22:15:40.338216Z",
     "shell.execute_reply": "2024-04-14T22:15:40.335860Z",
     "shell.execute_reply.started": "2024-04-14T22:15:40.296610Z"
    },
    "tags": []
   },
   "outputs": [
    {
     "data": {
      "text/plain": [
       "{'city': 'Bern',\n",
       " 'geonames_city_id': '2661552',\n",
       " 'region': None,\n",
       " 'country_code': 'CH',\n",
       " 'country': 'Switzerland',\n",
       " 'latitude': 46.94809,\n",
       " 'longitude': 7.44744}"
      ]
     },
     "execution_count": 103,
     "metadata": {},
     "output_type": "execute_result"
    }
   ],
   "source": [
    "# Geographical information\n",
    "data['geo']"
   ]
  },
  {
   "cell_type": "markdown",
   "metadata": {},
   "source": [
    "### Access multiple Institution entities"
   ]
  },
  {
   "cell_type": "markdown",
   "metadata": {},
   "source": [
    "You can access all *Institutions* at once, and use filters and groupings on them. See the available filters for *Institution* entities [here](https://docs.openalex.org/api-entities/institutions/filter-institutions) and possible grouping parameters [here](https://docs.openalex.org/api-entities/institutions/group-institutions).\n",
    "\n",
    "In the example you will narrow down to Swiss institutions only and group these due to institution types."
   ]
  },
  {
   "cell_type": "code",
   "execution_count": 104,
   "metadata": {
    "execution": {
     "iopub.execute_input": "2024-04-14T22:15:40.341686Z",
     "iopub.status.busy": "2024-04-14T22:15:40.340930Z",
     "iopub.status.idle": "2024-04-14T22:15:40.828122Z",
     "shell.execute_reply": "2024-04-14T22:15:40.825678Z",
     "shell.execute_reply.started": "2024-04-14T22:15:40.341597Z"
    },
    "tags": []
   },
   "outputs": [],
   "source": [
    "url = 'https://api.openalex.org/institutions?'\n",
    "params = {'mailto': email,\n",
    "         'filter': 'country_code:CH',\n",
    "         'group_by': 'type'}\n",
    "\n",
    "r = requests.get(url, params=params) \n",
    "data = r.json()"
   ]
  },
  {
   "cell_type": "code",
   "execution_count": 105,
   "metadata": {
    "execution": {
     "iopub.execute_input": "2024-04-14T22:15:40.831947Z",
     "iopub.status.busy": "2024-04-14T22:15:40.831295Z",
     "iopub.status.idle": "2024-04-14T22:15:40.844767Z",
     "shell.execute_reply": "2024-04-14T22:15:40.842533Z",
     "shell.execute_reply.started": "2024-04-14T22:15:40.831892Z"
    },
    "tags": []
   },
   "outputs": [
    {
     "data": {
      "text/plain": [
       "{'count': 1548,\n",
       " 'db_response_time_ms': 29,\n",
       " 'page': 1,\n",
       " 'per_page': 200,\n",
       " 'groups_count': 8}"
      ]
     },
     "execution_count": 105,
     "metadata": {},
     "output_type": "execute_result"
    }
   ],
   "source": [
    "data['meta']"
   ]
  },
  {
   "cell_type": "code",
   "execution_count": 106,
   "metadata": {
    "execution": {
     "iopub.execute_input": "2024-04-14T22:15:40.847397Z",
     "iopub.status.busy": "2024-04-14T22:15:40.846872Z",
     "iopub.status.idle": "2024-04-14T22:15:40.948484Z",
     "shell.execute_reply": "2024-04-14T22:15:40.946145Z",
     "shell.execute_reply.started": "2024-04-14T22:15:40.847353Z"
    },
    "tags": []
   },
   "outputs": [
    {
     "data": {
      "text/plain": [
       "[['company', 591],\n",
       " ['nonprofit', 202],\n",
       " ['other', 177],\n",
       " ['healthcare', 163],\n",
       " ['education', 129],\n",
       " ['government', 100],\n",
       " ['archive', 96],\n",
       " ['facility', 90]]"
      ]
     },
     "execution_count": 106,
     "metadata": {},
     "output_type": "execute_result"
    }
   ],
   "source": [
    "[[i['key_display_name'], i['count']] for i in data['group_by']]"
   ]
  },
  {
   "cell_type": "markdown",
   "metadata": {},
   "source": [
    "Now, let's look at the 96 Swiss archives producing scholarly publications. To get this data, you have to use 2 filters at once: `country_code:CH` and `type:archive`."
   ]
  },
  {
   "cell_type": "code",
   "execution_count": 107,
   "metadata": {
    "execution": {
     "iopub.execute_input": "2024-04-14T22:15:40.951629Z",
     "iopub.status.busy": "2024-04-14T22:15:40.950983Z",
     "iopub.status.idle": "2024-04-14T22:15:41.699710Z",
     "shell.execute_reply": "2024-04-14T22:15:41.697739Z",
     "shell.execute_reply.started": "2024-04-14T22:15:40.951571Z"
    },
    "tags": []
   },
   "outputs": [
    {
     "data": {
      "text/plain": [
       "{'count': 96,\n",
       " 'db_response_time_ms': 42,\n",
       " 'page': 1,\n",
       " 'per_page': 25,\n",
       " 'groups_count': None}"
      ]
     },
     "execution_count": 107,
     "metadata": {},
     "output_type": "execute_result"
    }
   ],
   "source": [
    "url = 'https://api.openalex.org/institutions?'\n",
    "params = {'mailto': email,\n",
    "         'filter': 'country_code:CH,type:archive'}\n",
    "\n",
    "r = requests.get(url, params=params) \n",
    "data = r.json()\n",
    "data['meta']"
   ]
  },
  {
   "cell_type": "code",
   "execution_count": 108,
   "metadata": {
    "execution": {
     "iopub.execute_input": "2024-04-14T22:15:41.701671Z",
     "iopub.status.busy": "2024-04-14T22:15:41.701290Z",
     "iopub.status.idle": "2024-04-14T22:15:41.713487Z",
     "shell.execute_reply": "2024-04-14T22:15:41.711370Z",
     "shell.execute_reply.started": "2024-04-14T22:15:41.701636Z"
    },
    "tags": []
   },
   "outputs": [
    {
     "data": {
      "text/plain": [
       "[[\"Musée d'Art et d'Histoire\", 1637],\n",
       " ['Swiss Archaeology', 1493],\n",
       " ['Natural History Museum of Geneva', 1441],\n",
       " ['Natural History Museum of Basel', 845],\n",
       " ['Amt für Archäologie', 724],\n",
       " ['Zürich Zoological Garden', 716],\n",
       " ['Natural History Museum of Bern', 711],\n",
       " ['Conservatory and Botanical Garden of the City of Geneva', 657],\n",
       " ['International Museum of Horology', 533],\n",
       " ['Swiss National Museum', 446],\n",
       " ['Swiss Federal Archives', 379],\n",
       " ['Musée cantonal de zoologie de Lausanne', 359],\n",
       " ['Sukkulenten-Sammlung Zürich', 348],\n",
       " ['Centre Suisse de Cartographie de la Faune', 274],\n",
       " [\"Musée Cantonal d'Archéologie et d'Histoire\", 233],\n",
       " ['Swiss National Park', 160],\n",
       " ['Laténium', 80],\n",
       " ['Kantonsarchäologie Aargau', 59],\n",
       " ['Natur Museum Luzern', 53],\n",
       " ['Zentral und Hochschulbibliothek Luzern', 43]]"
      ]
     },
     "execution_count": 108,
     "metadata": {},
     "output_type": "execute_result"
    }
   ],
   "source": [
    "# Showing the top 10\n",
    "[[i['display_name'], i['works_count']] for i in data['results'][:20]]"
   ]
  },
  {
   "cell_type": "markdown",
   "metadata": {},
   "source": [
    "## 📰 Sources endpoint"
   ]
  },
  {
   "cell_type": "markdown",
   "metadata": {},
   "source": [
    "***Sources*** entities in OpenAlex are the **journals, conferences, preprint repositories**, and **institutional repositories** that hold the single publications aka `Works`. For journal articles this will be their journals, for book parts their volume. Sources for instance can also be monograph series like `S4210167446` or repositories like `S2734324842`.\n",
    "\n",
    "To access data about a certain *Source*, you can use its OpenAlex identifier (starting with a \"S\" like [S4210209919](https://openalex.org/S4210209919)) or the the popular [ISSN](https://en.wikipedia.org/wiki/International_Standard_Serial_Number) identifier. See also the [Source](https://docs.openalex.org/api-entities/sources) entity documentation and try a random source with `https://api.openalex.org/sources/random`."
   ]
  },
  {
   "cell_type": "code",
   "execution_count": 109,
   "metadata": {
    "execution": {
     "iopub.execute_input": "2024-04-14T22:15:41.715351Z",
     "iopub.status.busy": "2024-04-14T22:15:41.715023Z",
     "iopub.status.idle": "2024-04-14T22:15:42.328350Z",
     "shell.execute_reply": "2024-04-14T22:15:42.325832Z",
     "shell.execute_reply.started": "2024-04-14T22:15:41.715324Z"
    },
    "tags": []
   },
   "outputs": [],
   "source": [
    "base_url = 'https://api.openalex.org/sources/'\n",
    "params = {'mailto': email} \n",
    "\n",
    "#openalex_id = 'S98348390'\n",
    "#issn = 'issn:0028-0836'   # non-OA journal\n",
    "issn = 'issn:1654-6369'   # OA journal\n",
    "\n",
    "r = requests.get(base_url + issn, params=params) \n",
    "data = r.json()"
   ]
  },
  {
   "cell_type": "code",
   "execution_count": 110,
   "metadata": {
    "execution": {
     "iopub.execute_input": "2024-04-14T22:15:42.330937Z",
     "iopub.status.busy": "2024-04-14T22:15:42.330402Z",
     "iopub.status.idle": "2024-04-14T22:15:42.344402Z",
     "shell.execute_reply": "2024-04-14T22:15:42.341968Z",
     "shell.execute_reply.started": "2024-04-14T22:15:42.330889Z"
    },
    "tags": []
   },
   "outputs": [
    {
     "data": {
      "text/plain": [
       "['id',\n",
       " 'issn_l',\n",
       " 'issn',\n",
       " 'display_name',\n",
       " 'host_organization',\n",
       " 'host_organization_name',\n",
       " 'host_organization_lineage',\n",
       " 'works_count',\n",
       " 'cited_by_count',\n",
       " 'summary_stats',\n",
       " 'is_oa',\n",
       " 'is_in_doaj',\n",
       " 'ids',\n",
       " 'homepage_url',\n",
       " 'apc_prices',\n",
       " 'apc_usd',\n",
       " 'country_code',\n",
       " 'societies',\n",
       " 'alternate_titles',\n",
       " 'abbreviated_title',\n",
       " 'type',\n",
       " 'topics',\n",
       " 'topic_share',\n",
       " 'x_concepts',\n",
       " 'counts_by_year',\n",
       " 'works_api_url',\n",
       " 'updated_date',\n",
       " 'created_date']"
      ]
     },
     "execution_count": 110,
     "metadata": {},
     "output_type": "execute_result"
    }
   ],
   "source": [
    "list(data)"
   ]
  },
  {
   "cell_type": "code",
   "execution_count": 111,
   "metadata": {
    "execution": {
     "iopub.execute_input": "2024-04-14T22:15:42.346561Z",
     "iopub.status.busy": "2024-04-14T22:15:42.346130Z",
     "iopub.status.idle": "2024-04-14T22:15:42.396755Z",
     "shell.execute_reply": "2024-04-14T22:15:42.392990Z",
     "shell.execute_reply.started": "2024-04-14T22:15:42.346522Z"
    },
    "tags": []
   },
   "outputs": [
    {
     "data": {
      "text/plain": [
       "{'openalex': 'https://openalex.org/S107893744',\n",
       " 'issn_l': '1654-6369',\n",
       " 'issn': ['1654-6369', '1654-4951'],\n",
       " 'mag': '107893744'}"
      ]
     },
     "execution_count": 111,
     "metadata": {},
     "output_type": "execute_result"
    }
   ],
   "source": [
    "# All identifiers. \"issn_l\" should be used preferably while using OpenAlex API.\n",
    "data['ids']"
   ]
  },
  {
   "cell_type": "code",
   "execution_count": 112,
   "metadata": {
    "execution": {
     "iopub.execute_input": "2024-04-14T22:15:42.400576Z",
     "iopub.status.busy": "2024-04-14T22:15:42.399706Z",
     "iopub.status.idle": "2024-04-14T22:15:42.449445Z",
     "shell.execute_reply": "2024-04-14T22:15:42.447066Z",
     "shell.execute_reply.started": "2024-04-14T22:15:42.400445Z"
    },
    "tags": []
   },
   "outputs": [
    {
     "name": "stdout",
     "output_type": "stream",
     "text": [
      "Ethics & global politics\n",
      "Taylor & Francis\n"
     ]
    },
    {
     "data": {
      "text/plain": [
       "'https://www.tandfonline.com/toc/zegp20/current'"
      ]
     },
     "execution_count": 112,
     "metadata": {},
     "output_type": "execute_result"
    }
   ],
   "source": [
    "# Title of the source & name of host organization/publisher & website\n",
    "print(data['display_name'])\n",
    "print(data['host_organization_name'])\n",
    "data['homepage_url']"
   ]
  },
  {
   "cell_type": "code",
   "execution_count": 113,
   "metadata": {
    "execution": {
     "iopub.execute_input": "2024-04-14T22:15:42.451984Z",
     "iopub.status.busy": "2024-04-14T22:15:42.451404Z",
     "iopub.status.idle": "2024-04-14T22:15:42.498329Z",
     "shell.execute_reply": "2024-04-14T22:15:42.495944Z",
     "shell.execute_reply.started": "2024-04-14T22:15:42.451932Z"
    },
    "tags": []
   },
   "outputs": [
    {
     "name": "stdout",
     "output_type": "stream",
     "text": [
      "True\n"
     ]
    },
    {
     "data": {
      "text/plain": [
       "True"
      ]
     },
     "execution_count": 113,
     "metadata": {},
     "output_type": "execute_result"
    }
   ],
   "source": [
    "# Is it an Open Access venue (and is it in DOAJ registry)?\n",
    "print(data['is_oa'])\n",
    "data['is_in_doaj']"
   ]
  },
  {
   "cell_type": "code",
   "execution_count": 114,
   "metadata": {
    "execution": {
     "iopub.execute_input": "2024-04-14T22:15:42.501450Z",
     "iopub.status.busy": "2024-04-14T22:15:42.500817Z",
     "iopub.status.idle": "2024-04-14T22:15:42.545782Z",
     "shell.execute_reply": "2024-04-14T22:15:42.543271Z",
     "shell.execute_reply.started": "2024-04-14T22:15:42.501394Z"
    },
    "tags": []
   },
   "outputs": [
    {
     "data": {
      "text/plain": [
       "243"
      ]
     },
     "execution_count": 114,
     "metadata": {},
     "output_type": "execute_result"
    }
   ],
   "source": [
    "# Number of hosted publications\n",
    "data['works_count']"
   ]
  },
  {
   "cell_type": "code",
   "execution_count": 115,
   "metadata": {
    "execution": {
     "iopub.execute_input": "2024-04-14T22:15:42.549052Z",
     "iopub.status.busy": "2024-04-14T22:15:42.548202Z",
     "iopub.status.idle": "2024-04-14T22:15:42.597659Z",
     "shell.execute_reply": "2024-04-14T22:15:42.594154Z",
     "shell.execute_reply.started": "2024-04-14T22:15:42.548988Z"
    },
    "tags": []
   },
   "outputs": [
    {
     "data": {
      "text/plain": [
       "[['Theoretical Perspectives on Global Justice',\n",
       "  'The Responsibility to Protect in International Relations',\n",
       "  'Politics and Social Implications of Immigration',\n",
       "  'International Criminal Law and Human Rights Obligations',\n",
       "  'Biopolitics and State of Exception Studies',\n",
       "  'Human Rights and Development in Global Governance',\n",
       "  'Ethics of Just War Theory and Self-Defense',\n",
       "  'Education for Global Citizenship in a Globalized World',\n",
       "  'Political Thought of Hannah Arendt',\n",
       "  'Foucauldian Governmentality and Neoliberalism Studies',\n",
       "  'Foreign Aid and Development Policies',\n",
       "  'Antonio Gramsci and his Relevance in Contemporary Politics',\n",
       "  'Consequences of Nuclear War and Global Security',\n",
       "  'Critique of Political Economy and Capitalist Development',\n",
       "  'Income Inequality and Poverty Dynamics',\n",
       "  'Epistemology and Philosophical Knowledge Studies',\n",
       "  'Moral Distress in Healthcare Professionals',\n",
       "  'The Methodology of Emancipatory Education',\n",
       "  'Civil and Religious Law in Europe',\n",
       "  'Role of Public International Law in WTO Disputes',\n",
       "  'Critical Theory and Social Pathologies',\n",
       "  'Neural Correlates of Sense of Agency in Decision Making',\n",
       "  'Judicial Politics and Legal Consciousness',\n",
       "  'Geoengineering and Climate Ethics',\n",
       "  'Globalization and Its Impacts on Society']]"
      ]
     },
     "execution_count": 115,
     "metadata": {},
     "output_type": "execute_result"
    }
   ],
   "source": [
    "# Topics\n",
    "[[i['display_name'] for i in data['topics']]]"
   ]
  },
  {
   "cell_type": "code",
   "execution_count": 116,
   "metadata": {
    "execution": {
     "iopub.execute_input": "2024-04-14T22:15:42.602696Z",
     "iopub.status.busy": "2024-04-14T22:15:42.601562Z",
     "iopub.status.idle": "2024-04-14T22:15:42.648087Z",
     "shell.execute_reply": "2024-04-14T22:15:42.644969Z",
     "shell.execute_reply.started": "2024-04-14T22:15:42.602587Z"
    },
    "tags": []
   },
   "outputs": [
    {
     "data": {
      "text/plain": [
       "[{'price': 0, 'currency': 'USD'}]"
      ]
     },
     "execution_count": 116,
     "metadata": {},
     "output_type": "execute_result"
    }
   ],
   "source": [
    "# APC information\n",
    "data['apc_prices']"
   ]
  },
  {
   "cell_type": "code",
   "execution_count": 117,
   "metadata": {
    "execution": {
     "iopub.execute_input": "2024-04-14T22:15:42.652627Z",
     "iopub.status.busy": "2024-04-14T22:15:42.651512Z",
     "iopub.status.idle": "2024-04-14T22:15:42.689835Z",
     "shell.execute_reply": "2024-04-14T22:15:42.687203Z",
     "shell.execute_reply.started": "2024-04-14T22:15:42.652474Z"
    },
    "tags": []
   },
   "outputs": [
    {
     "data": {
      "text/plain": [
       "'https://api.openalex.org/works?filter=primary_location.source.id:S107893744'"
      ]
     },
     "execution_count": 117,
     "metadata": {},
     "output_type": "execute_result"
    }
   ],
   "source": [
    "# API link to hosted publications\n",
    "data['works_api_url']"
   ]
  },
  {
   "cell_type": "markdown",
   "metadata": {},
   "source": [
    "### Access multiple Source entities"
   ]
  },
  {
   "cell_type": "markdown",
   "metadata": {},
   "source": [
    "You can access all *Sources* at once, and use filters and groupings on them. See the available filters for *Source* entities [here](https://docs.openalex.org/api-entities/sources/filter-sources) and possible grouping parameters [here](https://docs.openalex.org/api-entities/sources/group-sources).\n",
    "\n",
    "In the example at the end you will narrow down to open access sources only and group these due to publishers resp. `host_organization`."
   ]
  },
  {
   "cell_type": "code",
   "execution_count": 118,
   "metadata": {
    "execution": {
     "iopub.execute_input": "2024-04-14T22:15:42.693827Z",
     "iopub.status.busy": "2024-04-14T22:15:42.693007Z",
     "iopub.status.idle": "2024-04-14T22:15:43.396116Z",
     "shell.execute_reply": "2024-04-14T22:15:43.394807Z",
     "shell.execute_reply.started": "2024-04-14T22:15:42.693745Z"
    },
    "tags": []
   },
   "outputs": [
    {
     "data": {
      "text/plain": [
       "{'count': 254423,\n",
       " 'db_response_time_ms': 43,\n",
       " 'page': 1,\n",
       " 'per_page': 25,\n",
       " 'groups_count': None}"
      ]
     },
     "execution_count": 118,
     "metadata": {},
     "output_type": "execute_result"
    }
   ],
   "source": [
    "# Acessing all sources (sorted by number of works)\n",
    "url = 'https://api.openalex.org/sources?'\n",
    "params = {'mailto': email}\n",
    "\n",
    "r = requests.get(url, params=params) \n",
    "data = r.json()\n",
    "data['meta']"
   ]
  },
  {
   "cell_type": "code",
   "execution_count": 119,
   "metadata": {
    "execution": {
     "iopub.execute_input": "2024-04-14T22:15:43.397747Z",
     "iopub.status.busy": "2024-04-14T22:15:43.397422Z",
     "iopub.status.idle": "2024-04-14T22:15:43.408630Z",
     "shell.execute_reply": "2024-04-14T22:15:43.407007Z",
     "shell.execute_reply.started": "2024-04-14T22:15:43.397718Z"
    },
    "tags": []
   },
   "outputs": [
    {
     "data": {
      "text/plain": [
       "[['PubMed', 33075864, False],\n",
       " ['PubMed Central', 8009760, True],\n",
       " ['Europe PMC (PubMed Central)', 5316266, True],\n",
       " ['arXiv (Cornell University)', 3015170, True],\n",
       " ['DOAJ (DOAJ: Directory of Open Access Journals)', 2672478, True],\n",
       " ['HAL (Le Centre pour la Communication Scientifique Directe)', 2571027, True],\n",
       " ['Springer eBooks', 2519831, False],\n",
       " ['Zenodo (CERN European Organization for Nuclear Research)', 1405433, True],\n",
       " ['RePEc: Research Papers in Economics', 1126422, True],\n",
       " ['Social Science Research Network', 1079692, False],\n",
       " ['De Gruyter eBooks', 1075912, False],\n",
       " ['Routledge eBooks', 977695, False],\n",
       " ['Elsevier eBooks', 860097, False],\n",
       " ['OSTI OAI (U.S. Department of Energy Office of Scientific and Technical Information)',\n",
       "  789870,\n",
       "  True],\n",
       " ['Oxford University Press eBooks', 706494, False],\n",
       " ['LA Referencia (Red Federada de Repositorios Institucionales de Publicaciones Científicas)',\n",
       "  616529,\n",
       "  True],\n",
       " ['Cambridge University Press eBooks', 591290, False],\n",
       " ['Lecture notes in computer science', 505773, False],\n",
       " ['Chem Inform', 485811, False],\n",
       " ['Lancet', 467658, False]]"
      ]
     },
     "execution_count": 119,
     "metadata": {},
     "output_type": "execute_result"
    }
   ],
   "source": [
    "# Showing the first 20 biggest sources (name, number of works, OA status)\n",
    "[[i['display_name'], i['works_count'], i['is_oa']] for i in data['results'][:20]]"
   ]
  },
  {
   "cell_type": "code",
   "execution_count": 120,
   "metadata": {
    "execution": {
     "iopub.execute_input": "2024-04-14T22:15:43.409993Z",
     "iopub.status.busy": "2024-04-14T22:15:43.409665Z",
     "iopub.status.idle": "2024-04-14T22:15:43.960219Z",
     "shell.execute_reply": "2024-04-14T22:15:43.958139Z",
     "shell.execute_reply.started": "2024-04-14T22:15:43.409965Z"
    },
    "tags": []
   },
   "outputs": [
    {
     "data": {
      "text/plain": [
       "{'count': 44894,\n",
       " 'db_response_time_ms': 68,\n",
       " 'page': 1,\n",
       " 'per_page': 200,\n",
       " 'groups_count': 200}"
      ]
     },
     "execution_count": 120,
     "metadata": {},
     "output_type": "execute_result"
    }
   ],
   "source": [
    "# Inspecting OA sources according to their publishers\n",
    "url = 'https://api.openalex.org/sources?'\n",
    "params = {'mailto': email,\n",
    "         'filter': 'is_oa:True',\n",
    "         'group_by': 'host_organization'}\n",
    "\n",
    "r = requests.get(url, params=params) \n",
    "data = r.json()\n",
    "data['meta']"
   ]
  },
  {
   "cell_type": "code",
   "execution_count": 121,
   "metadata": {
    "execution": {
     "iopub.execute_input": "2024-04-14T22:15:43.962724Z",
     "iopub.status.busy": "2024-04-14T22:15:43.962205Z",
     "iopub.status.idle": "2024-04-14T22:15:43.975536Z",
     "shell.execute_reply": "2024-04-14T22:15:43.973993Z",
     "shell.execute_reply.started": "2024-04-14T22:15:43.962675Z"
    },
    "tags": []
   },
   "outputs": [
    {
     "data": {
      "text/plain": [
       "11560"
      ]
     },
     "execution_count": 121,
     "metadata": {},
     "output_type": "execute_result"
    }
   ],
   "source": [
    "pub_data = [[i['key_display_name'], i['count']] for i in data['group_by']]\n",
    "pub_sum = 0\n",
    "for i in pub_data:\n",
    "    pub_sum += i[1]\n",
    "pub_sum"
   ]
  },
  {
   "cell_type": "code",
   "execution_count": 122,
   "metadata": {
    "execution": {
     "iopub.execute_input": "2024-04-14T22:15:43.977581Z",
     "iopub.status.busy": "2024-04-14T22:15:43.977179Z",
     "iopub.status.idle": "2024-04-14T22:15:44.051380Z",
     "shell.execute_reply": "2024-04-14T22:15:44.049265Z",
     "shell.execute_reply.started": "2024-04-14T22:15:43.977547Z"
    },
    "tags": []
   },
   "outputs": [
    {
     "data": {
      "text/plain": [
       "[['Elsevier BV', 1003, '8.7%'],\n",
       " ['Hindawi Publishing Corporation', 669, '5.8%'],\n",
       " ['De Gruyter Open', 351, '3.0%'],\n",
       " ['Multidisciplinary Digital Publishing Institute', 330, '2.9%'],\n",
       " ['BioMed Central', 305, '2.6%'],\n",
       " ['Science Publishing Group', 271, '2.3%'],\n",
       " ['Medknow', 246, '2.1%'],\n",
       " ['SAGE Publishing', 244, '2.1%'],\n",
       " ['Taylor & Francis', 241, '2.1%'],\n",
       " ['Scientific Research Publishing', 234, '2.0%'],\n",
       " ['De Gruyter', 219, '1.9%'],\n",
       " ['Springer Nature', 184, '1.6%'],\n",
       " ['OMICS Publishing Group', 181, '1.6%'],\n",
       " ['Frontiers Media', 177, '1.5%'],\n",
       " ['Springer Science+Business Media', 174, '1.5%'],\n",
       " ['Wiley', 168, '1.5%'],\n",
       " ['Bentham Science Publishers', 158, '1.4%'],\n",
       " ['Dove Medical Press', 137, '1.2%'],\n",
       " ['Süleyman Demirel University', 109, '0.9%'],\n",
       " ['Academic Journals', 104, '0.9%']]"
      ]
     },
     "execution_count": 122,
     "metadata": {},
     "output_type": "execute_result"
    }
   ],
   "source": [
    "# Showing the 20 biggest OA publishers (according to number of sources), with percentages\n",
    "for i in pub_data:\n",
    "    i.append(str(round(i[1]/pub_sum*100,1)) + '%')\n",
    "pub_data[:20]"
   ]
  }
 ],
 "metadata": {
  "kernelspec": {
   "display_name": "Python3",
   "language": "python",
   "name": "python3"
  },
  "language_info": {
   "codemirror_mode": {
    "name": "ipython",
    "version": 3
   },
   "file_extension": ".py",
   "mimetype": "text/x-python",
   "name": "python",
   "nbconvert_exporter": "python",
   "pygments_lexer": "ipython3",
   "version": "3.11.5"
  },
  "toc": {
   "base_numbering": 1,
   "nav_menu": {},
   "number_sections": true,
   "sideBar": true,
   "skip_h1_title": true,
   "title_cell": " Using the OpenAlex API",
   "title_sidebar": "Contents",
   "toc_cell": true,
   "toc_position": {
    "height": "calc(100% - 180px)",
    "left": "10px",
    "top": "150px",
    "width": "390.333px"
   },
   "toc_section_display": true,
   "toc_window_display": true
  },
  "toc-autonumbering": true,
  "varInspector": {
   "cols": {
    "lenName": 16,
    "lenType": 16,
    "lenVar": 40
   },
   "kernels_config": {
    "python": {
     "delete_cmd_postfix": "",
     "delete_cmd_prefix": "del ",
     "library": "var_list.py",
     "varRefreshCmd": "print(var_dic_list())"
    },
    "r": {
     "delete_cmd_postfix": ") ",
     "delete_cmd_prefix": "rm(",
     "library": "var_list.r",
     "varRefreshCmd": "cat(var_dic_list()) "
    }
   },
   "types_to_exclude": [
    "module",
    "function",
    "builtin_function_or_method",
    "instance",
    "_Feature"
   ],
   "window_display": false
  }
 },
 "nbformat": 4,
 "nbformat_minor": 4
}
