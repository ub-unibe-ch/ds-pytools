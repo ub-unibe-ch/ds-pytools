{
 "cells": [
  {
   "cell_type": "code",
   "execution_count": null,
   "id": "1f946ec8",
   "metadata": {
    "colab": {
     "base_uri": "https://localhost:8080/"
    },
    "id": "1f946ec8",
    "outputId": "d0f47701-1df6-42f6-ba73-f9daa027cae6",
    "tags": []
   },
   "outputs": [],
   "source": [
    "! python3 --version"
   ]
  },
  {
   "cell_type": "code",
   "execution_count": null,
   "id": "oH0Bmj0lKnjn",
   "metadata": {
    "id": "oH0Bmj0lKnjn",
    "tags": []
   },
   "outputs": [],
   "source": [
    "import pandas as pd\n",
    "import re\n",
    "import xml.dom.minidom\n",
    "import warnings\n",
    "warnings.filterwarnings(\"ignore\")"
   ]
  },
  {
   "cell_type": "code",
   "execution_count": null,
   "id": "a70bcae0-610c-4b88-bc16-a29b57598ed0",
   "metadata": {},
   "outputs": [],
   "source": [
    "# for file unpacking, if needed\n",
    "#! xzcat data.tsv.xz > data.tsv"
   ]
  },
  {
   "cell_type": "code",
   "execution_count": null,
   "id": "493ebb07",
   "metadata": {
    "colab": {
     "base_uri": "https://localhost:8080/",
     "height": 548
    },
    "id": "493ebb07",
    "outputId": "53561454-e443-4939-8b36-63990ec42b0f",
    "tags": []
   },
   "outputs": [],
   "source": [
    "infile = 'data.tsv'\n",
    "\n",
    "with open(infile, 'rb') as f:\n",
    "    df = pd.read_table(f, encoding='utf-8')\n",
    "df.tail() "
   ]
  },
  {
   "cell_type": "markdown",
   "id": "99b3d49a-913b-4297-a0dc-ff2633f852ce",
   "metadata": {
    "tags": []
   },
   "source": [
    "# Statistics"
   ]
  },
  {
   "cell_type": "code",
   "execution_count": null,
   "id": "KbGLiL1panYP",
   "metadata": {
    "colab": {
     "base_uri": "https://localhost:8080/"
    },
    "id": "KbGLiL1panYP",
    "outputId": "11191942-ae57-44c3-d094-a8eaebd479c4",
    "tags": []
   },
   "outputs": [],
   "source": [
    "df.info()"
   ]
  },
  {
   "cell_type": "code",
   "execution_count": null,
   "id": "m-5KGCn0ZcH-",
   "metadata": {
    "colab": {
     "base_uri": "https://localhost:8080/"
    },
    "id": "m-5KGCn0ZcH-",
    "outputId": "8aa29ef2-e4b8-4dba-8b7c-bdd12a2e3813",
    "tags": []
   },
   "outputs": [],
   "source": [
    "df.char_count.sum()"
   ]
  },
  {
   "cell_type": "code",
   "execution_count": null,
   "id": "Dg4tkdz9dfaH",
   "metadata": {
    "colab": {
     "base_uri": "https://localhost:8080/",
     "height": 398
    },
    "id": "Dg4tkdz9dfaH",
    "outputId": "8bdf3bc4-7fa7-41bc-da47-6c5ac8bae81c",
    "tags": []
   },
   "outputs": [],
   "source": [
    "df.nlargest(3, 'char_count')"
   ]
  },
  {
   "cell_type": "code",
   "execution_count": null,
   "id": "Z2IQfbBvatoY",
   "metadata": {
    "colab": {
     "base_uri": "https://localhost:8080/",
     "height": 288
    },
    "id": "Z2IQfbBvatoY",
    "outputId": "a9d2535c-9e38-467c-9715-76f1dcb47c1e",
    "tags": []
   },
   "outputs": [],
   "source": [
    "df.describe(include='object')"
   ]
  },
  {
   "cell_type": "code",
   "execution_count": null,
   "id": "bf9ae583",
   "metadata": {
    "colab": {
     "base_uri": "https://localhost:8080/"
    },
    "id": "bf9ae583",
    "outputId": "b23b8ad2-3ea8-4f67-af32-4d97b205cd7b",
    "tags": []
   },
   "outputs": [],
   "source": [
    "df.dateline.value_counts()    # medium_name"
   ]
  },
  {
   "cell_type": "code",
   "execution_count": null,
   "id": "cb02bfec",
   "metadata": {
    "colab": {
     "base_uri": "https://localhost:8080/",
     "height": 298
    },
    "id": "cb02bfec",
    "outputId": "8360b731-74bc-4113-c73e-9722518a17b8",
    "tags": []
   },
   "outputs": [],
   "source": [
    "df[df.rubric=='Briefe an die NZZ']"
   ]
  },
  {
   "cell_type": "code",
   "execution_count": null,
   "id": "157f6674-1340-4d18-81fd-3c16c7513d2e",
   "metadata": {
    "colab": {
     "base_uri": "https://localhost:8080/"
    },
    "id": "bf9ae583",
    "outputId": "b23b8ad2-3ea8-4f67-af32-4d97b205cd7b",
    "tags": []
   },
   "outputs": [],
   "source": [
    "df.groupby('rubric').char_count.mean().round(0)"
   ]
  },
  {
   "cell_type": "code",
   "execution_count": null,
   "id": "120e8cf3-7295-4bfb-9d50-a365ffa3c4c7",
   "metadata": {
    "tags": []
   },
   "outputs": [],
   "source": [
    "df.sort_values(by='rubric', key=lambda col: col.str.lower())"
   ]
  },
  {
   "cell_type": "markdown",
   "id": "f4f5b04e-542a-454f-8a9a-f08cec202d18",
   "metadata": {
    "tags": []
   },
   "source": [
    "# Search in various fields"
   ]
  },
  {
   "cell_type": "code",
   "execution_count": null,
   "id": "eeb11dec-3f14-4685-b1b0-eda3cf29e0b6",
   "metadata": {
    "tags": []
   },
   "outputs": [],
   "source": [
    "# Searching in various columns with - use regex\n",
    "# Example: select all items with the strings *kauf* OR *haus* in their titles\n",
    "df[df['head'].str.contains('kauf|haus', regex=True)]        "
   ]
  },
  {
   "cell_type": "code",
   "execution_count": null,
   "id": "9f8e8eca-3bc3-4936-b375-a019570eaad4",
   "metadata": {
    "tags": []
   },
   "outputs": [],
   "source": [
    "# Select all items from rubric \"Meinung und Debatte\" containing \"schlecht\" in the fulltext\n",
    "df[df['rubric'].str.contains('Meinung und Debatte', regex=True) & df['content'].str.contains('schlecht', regex=True)]"
   ]
  },
  {
   "cell_type": "code",
   "execution_count": null,
   "id": "2bd7cc3e-022a-42d7-98be-89049cb48559",
   "metadata": {
    "tags": []
   },
   "outputs": [],
   "source": [
    "# Select all items from rubrics starts with \"NZZ\" (+ ignore \"NA\"s)\n",
    "df[df['rubric'].str.contains(r'^NZZ', na=False)]"
   ]
  },
  {
   "cell_type": "markdown",
   "id": "4a13062b-918c-4ae9-85a0-13e741707e84",
   "metadata": {
    "tags": []
   },
   "source": [
    "# Handle XML tags"
   ]
  },
  {
   "cell_type": "markdown",
   "id": "e0465dde-69e0-4d33-87e1-ad41282daef3",
   "metadata": {
    "tags": []
   },
   "source": [
    "## Delete all XML tags - quick & plain"
   ]
  },
  {
   "cell_type": "code",
   "execution_count": null,
   "id": "26e1bf35-0396-4dea-aff8-0de5c3ca9aeb",
   "metadata": {
    "tags": []
   },
   "outputs": [],
   "source": [
    "# View sample XML content\n",
    "df.content[87]"
   ]
  },
  {
   "cell_type": "code",
   "execution_count": null,
   "id": "a31c193b-99fb-4af8-b83b-7be91552a8d8",
   "metadata": {
    "id": "70P13-mmedgJ",
    "tags": []
   },
   "outputs": [],
   "source": [
    "# Function to remove all mark-up tags\n",
    "def remove_tags(text_with_markup):\n",
    "    cleanr = re.compile('<[^<]+>')      # regex for tags\n",
    "    cleantext = re.sub(cleanr, ' ', text_with_markup)     # remove XML tags\n",
    "    cleantext = re.sub(' +', ' ', cleantext)      # remove multiple white spaces, resulting from deleting tags\n",
    "    return cleantext.strip()"
   ]
  },
  {
   "cell_type": "code",
   "execution_count": null,
   "id": "30f640b0-fa0b-4dee-9ce0-bb382e2c644d",
   "metadata": {
    "tags": []
   },
   "outputs": [],
   "source": [
    "remove_tags(df.content[87])"
   ]
  },
  {
   "cell_type": "code",
   "execution_count": null,
   "id": "35d66f81-d595-4734-b63b-1afcebd8a1e6",
   "metadata": {
    "tags": []
   },
   "outputs": [],
   "source": [
    "# Count characters\n",
    "len(remove_tags(df.content[87]))"
   ]
  },
  {
   "cell_type": "code",
   "execution_count": null,
   "id": "32087219-0877-4502-a1be-0995e9ca29ca",
   "metadata": {
    "tags": []
   },
   "outputs": [],
   "source": [
    "# Count words\n",
    "len(remove_tags(df.content[87]).split())"
   ]
  },
  {
   "cell_type": "code",
   "execution_count": null,
   "id": "3287c3dc-bc41-442f-9a3d-25cb9ce33ff4",
   "metadata": {
    "tags": []
   },
   "outputs": [],
   "source": [
    "# Count string in text\n",
    "remove_tags(df.content[87]).count(\"Bühne\")"
   ]
  },
  {
   "cell_type": "markdown",
   "id": "39a9613f-0438-4025-9c9f-311c225e35ce",
   "metadata": {
    "tags": []
   },
   "source": [
    "## Write XML content to file"
   ]
  },
  {
   "cell_type": "code",
   "execution_count": null,
   "id": "619d31e4-f06f-4d2d-8877-c8f8faa5256d",
   "metadata": {
    "tags": []
   },
   "outputs": [],
   "source": [
    "filename = 'winti_culture.xml'     \n",
    "with open(filename,'w') as f:\n",
    "    f.write(df.content[94])"
   ]
  },
  {
   "cell_type": "markdown",
   "id": "a6a235af-3fa4-4b3d-a0cf-e08e84f076e0",
   "metadata": {
    "tags": []
   },
   "source": [
    "## Parse XML"
   ]
  },
  {
   "cell_type": "code",
   "execution_count": null,
   "id": "2c65de92-0bd5-4e87-8c7e-df598687c994",
   "metadata": {
    "tags": []
   },
   "outputs": [],
   "source": [
    "# Parse XML from file\n",
    "doc = xml.dom.minidom.parse('winti_culture.xml')\n",
    "\n",
    "# Parse XML from datafield\n",
    "# doc = xml.dom.minidom.parseString(df.content[1])"
   ]
  },
  {
   "cell_type": "markdown",
   "id": "d4a71b94-fdc6-40fb-902e-68c4ac2a003e",
   "metadata": {
    "tags": []
   },
   "source": [
    "## Check all XML tags in a text"
   ]
  },
  {
   "cell_type": "code",
   "execution_count": null,
   "id": "b712c073-8dbc-4eff-9be7-394b8dbd39c9",
   "metadata": {
    "tags": []
   },
   "outputs": [],
   "source": [
    "# List all unique XML tags\n",
    "tags = set([elem.tagName for elem in doc.getElementsByTagName(\"*\")])\n",
    "print(tags)"
   ]
  },
  {
   "cell_type": "code",
   "execution_count": null,
   "id": "f1a303f8-b808-408d-b3be-93a3802e2ba7",
   "metadata": {
    "tags": []
   },
   "outputs": [],
   "source": [
    "# For definitions of the tags see the Swissdox@LiRI Wiki\n",
    "from IPython.display import IFrame\n",
    "website_url = \"https://liri.linguistik.uzh.ch/wiki/langtech/swissdox/core/content\"\n",
    "width = 800\n",
    "height = 400\n",
    "iframe = IFrame(website_url, width=width, height=height)\n",
    "display(iframe)"
   ]
  },
  {
   "cell_type": "markdown",
   "id": "bcd15017-91ff-4298-8413-9fd1889f2c60",
   "metadata": {
    "tags": []
   },
   "source": [
    "## Read whole text in pretty  XML"
   ]
  },
  {
   "cell_type": "code",
   "execution_count": null,
   "id": "236045d1-59b3-440f-86da-e1b415952af7",
   "metadata": {
    "tags": []
   },
   "outputs": [],
   "source": [
    "# Print whole text with pretty XML\n",
    "tags = doc.getElementsByTagName('tx') \n",
    "for tag in tags:\n",
    "    print(tag.toprettyxml())"
   ]
  },
  {
   "cell_type": "markdown",
   "id": "bd86cb0e-a0ec-4782-b85e-4096e3fd96a5",
   "metadata": {
    "execution": {
     "iopub.execute_input": "2024-01-31T13:32:56.181311Z",
     "iopub.status.busy": "2024-01-31T13:32:56.180388Z",
     "iopub.status.idle": "2024-01-31T13:32:56.192643Z",
     "shell.execute_reply": "2024-01-31T13:32:56.190092Z",
     "shell.execute_reply.started": "2024-01-31T13:32:56.181239Z"
    },
    "tags": []
   },
   "source": [
    "## Read certain XML tags and their content"
   ]
  },
  {
   "cell_type": "code",
   "execution_count": null,
   "id": "f30d8488-0be9-490b-a3be-4fb09fdc82be",
   "metadata": {
    "tags": []
   },
   "outputs": [],
   "source": [
    "# Print certain XML tags with their content\n",
    "tags = doc.getElementsByTagName('au')     \n",
    "for tag in tags:\n",
    "    print(tag.toprettyxml())"
   ]
  },
  {
   "cell_type": "code",
   "execution_count": null,
   "id": "bdd38c08-c72f-4229-a5c8-1a044a184db8",
   "metadata": {
    "tags": []
   },
   "outputs": [],
   "source": [
    "# Print certain XML tags with their content\n",
    "tags = doc.getElementsByTagName('lg')     # p\n",
    "for tag in tags:\n",
    "    print(tag.toprettyxml())"
   ]
  },
  {
   "cell_type": "code",
   "execution_count": null,
   "id": "64296afe-f210-4e29-8810-84b73bc7ca1f",
   "metadata": {
    "tags": []
   },
   "outputs": [],
   "source": [
    "# Print certain XML tag's content, incl subtag's contents\n",
    "tags = doc.getElementsByTagName('lg')     # ka\n",
    "for tag in tags:\n",
    "    print(remove_tags(tag.toxml()))"
   ]
  },
  {
   "cell_type": "code",
   "execution_count": null,
   "id": "a3dd6863-5569-49ab-b8c3-1ebf6da3dd0a",
   "metadata": {
    "tags": []
   },
   "outputs": [],
   "source": [
    "# Print certain XML tags with their content, incl subtag contents\n",
    "tags = doc.getElementsByTagName('p')     \n",
    "for tag in tags:\n",
    "    print(remove_tags(tag.toxml()))"
   ]
  },
  {
   "cell_type": "code",
   "execution_count": null,
   "id": "ae1b80ca-c212-4ff9-b898-cc8ee373dca0",
   "metadata": {
    "tags": []
   },
   "outputs": [],
   "source": [
    "df.content[1][:5000]"
   ]
  },
  {
   "cell_type": "code",
   "execution_count": null,
   "id": "9fbd6420-426f-4fcc-b628-958185e6054c",
   "metadata": {
    "tags": []
   },
   "outputs": [],
   "source": [
    "# Parse XML from datafield\n",
    "doc = xml.dom.minidom.parseString(df.content[1])"
   ]
  },
  {
   "cell_type": "code",
   "execution_count": null,
   "id": "42517dbe-3cb8-4128-9227-426fadec531c",
   "metadata": {
    "tags": []
   },
   "outputs": [],
   "source": [
    "# List all unique XML tags\n",
    "tags = set([elem.tagName for elem in doc.getElementsByTagName(\"*\")])\n",
    "print(tags)"
   ]
  },
  {
   "cell_type": "code",
   "execution_count": null,
   "id": "68e2cc16-a384-4fca-a5bb-8a3147a2049d",
   "metadata": {
    "tags": []
   },
   "outputs": [],
   "source": [
    "# Get contents of a certain XML tag of a certain row\n",
    "def get_tags(tag, i):\n",
    "    text = df.content[i]\n",
    "    doc = xml.dom.minidom.parseString(text)\n",
    "    return [remove_tags(t.toxml()) for t in doc.getElementsByTagName(tag)]\n",
    "    \n",
    "get_tags('au', 103)"
   ]
  },
  {
   "cell_type": "markdown",
   "id": "0a854289-5302-4dfe-a4cc-0ad0cc0fa869",
   "metadata": {},
   "source": [
    "## Select authors"
   ]
  },
  {
   "cell_type": "code",
   "execution_count": null,
   "id": "ec13b42d-5bed-4fc7-a91f-5b4b32e98ad4",
   "metadata": {
    "tags": []
   },
   "outputs": [],
   "source": [
    "# Get the authors of \"contetnt\" into a new column\n",
    "df['authors'] = ''\n",
    "for i in df.index:\n",
    "    df['authors'][i] = get_tags('au', i)"
   ]
  },
  {
   "cell_type": "code",
   "execution_count": null,
   "id": "8b5639c6-4cc9-44ac-be8a-6f03ee2b7569",
   "metadata": {
    "tags": []
   },
   "outputs": [],
   "source": [
    "# Doing the same for the lead texts\n",
    "df['opener'] = ''\n",
    "for i in df.index:\n",
    "    df['opener'][i] = get_tags('ld', i)"
   ]
  },
  {
   "cell_type": "code",
   "execution_count": null,
   "id": "e5b4ed2b-98e9-4640-beb8-4795084094fa",
   "metadata": {
    "tags": []
   },
   "outputs": [],
   "source": [
    "df.head()"
   ]
  },
  {
   "cell_type": "code",
   "execution_count": null,
   "id": "91a70cba-c7f6-46fe-bcf5-3abe89be1b63",
   "metadata": {
    "tags": []
   },
   "outputs": [],
   "source": [
    "# Caveat: Unfortunately, not ot all authors are tagged with <au>\n",
    "df.content[3]"
   ]
  },
  {
   "cell_type": "code",
   "execution_count": null,
   "id": "087cfcb7-9fb9-49a2-8304-7a982425cd21",
   "metadata": {
    "tags": []
   },
   "outputs": [],
   "source": [
    "# Example: Author information  in last <p> element\n",
    "df.content[201][6000:]"
   ]
  },
  {
   "cell_type": "code",
   "execution_count": null,
   "id": "5bec3185-4cc0-4ab1-9f5b-6f6d830ec6db",
   "metadata": {
    "tags": []
   },
   "outputs": [],
   "source": [
    "# And author information appears in various forms\n",
    "[i for i in df.authors][20:40]"
   ]
  }
 ],
 "metadata": {
  "colab": {
   "name": "swissdoxLiRI.ipynb",
   "provenance": []
  },
  "kernelspec": {
   "display_name": "Python3",
   "language": "python",
   "name": "python3"
  },
  "language_info": {
   "codemirror_mode": {
    "name": "ipython",
    "version": 3
   },
   "file_extension": ".py",
   "mimetype": "text/x-python",
   "name": "python",
   "nbconvert_exporter": "python",
   "pygments_lexer": "ipython3",
   "version": "3.11.5"
  },
  "toc-autonumbering": false,
  "toc-showmarkdowntxt": true
 },
 "nbformat": 4,
 "nbformat_minor": 5
}
