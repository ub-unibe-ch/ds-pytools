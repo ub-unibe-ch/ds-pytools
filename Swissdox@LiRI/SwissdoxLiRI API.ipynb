{
 "cells": [
  {
   "cell_type": "code",
   "execution_count": null,
   "id": "402351ba-45c7-46a5-a3de-cefa993139d0",
   "metadata": {
    "tags": []
   },
   "outputs": [],
   "source": [
    "! python3 --version"
   ]
  },
  {
   "cell_type": "code",
   "execution_count": null,
   "id": "49a4b581-4be5-4fbb-8806-120b3d28ff32",
   "metadata": {
    "tags": []
   },
   "outputs": [],
   "source": [
    "yaml_example = \"\"\"\n",
    "    query:\n",
    "      sources:\n",
    "        - NZZ\n",
    "      dates:\n",
    "        - from: 2020-01-01\n",
    "          to: 2024-04-30\n",
    "      languages:\n",
    "        - de\n",
    "      content:\n",
    "        AND:\n",
    "          - OR:\n",
    "              - Winterthur\n",
    "              - Winti\n",
    "          - OR:\n",
    "              - Kultur*\n",
    "              - Theater*\n",
    "    result:\n",
    "      format: TSV\n",
    "      maxResults: 10000000\n",
    "      columns:\n",
    "        - id\n",
    "        - pubtime\n",
    "        - medium_code\n",
    "        - medium_name\n",
    "        - rubric\n",
    "        - regional\n",
    "        - doctype\n",
    "        - doctype_description\n",
    "        - language\n",
    "        - char_count\n",
    "        - dateline\n",
    "        - head\n",
    "        - subhead\n",
    "        - content_id\n",
    "        - content\n",
    "    version: 1.2\n",
    "    \"\"\""
   ]
  },
  {
   "cell_type": "code",
   "execution_count": null,
   "id": "3c4a1b4f-8e0e-4ae3-be9b-a0ef4ac73980",
   "metadata": {
    "tags": []
   },
   "outputs": [],
   "source": [
    "'''\n",
    "More options for YAML query syntax:\n",
    " doctypes:\n",
    "    - WWE\n",
    "'''"
   ]
  },
  {
   "cell_type": "code",
   "execution_count": null,
   "id": "26288700-9833-4b0b-9f9a-90ad3394748a",
   "metadata": {
    "tags": []
   },
   "outputs": [],
   "source": [
    "# For API Secret + API Key go to https://swissdox.linguistik.uzh.ch/projects\n",
    "import requests\n",
    " \n",
    "headers = {\n",
    "    #\"X-API-Key\": \"...\",    # insert your credentials here\n",
    "    #\"X-API-Secret\": \"...\"     # insert your credentials here\n",
    "    \"X-API-Key\": \"245cbd3b-0335-3b6c-a4e0-fd2408ef982b\",\n",
    "    \"X-API-Secret\": \"39f27c9ee496ea7f70c98cbbd417565ca441f3924535589673ab6c585d4d284c\"\n",
    "}\n",
    "API_BASE_URL = \"https://swissdox.linguistik.uzh.ch/api\"\n",
    "API_URL_QUERY = f\"{API_BASE_URL}/query\"\n",
    "    \n",
    "    \n",
    "data = {\n",
    "    \"query\": yaml_example,\n",
    "    #\"test\": \"1\",          # to run test request wether YAML etc is correct\n",
    "    \"name\": \"Winti Kultur + Theater\",        # adapt to your search\n",
    "    \"comment\": \"Suche nach Winterthur + Kultur or Theater, ab Januar 2024, im Gesamtbestand\",     # adapt to your search\n",
    "    \"expirationDate\": \"2024-12-31\"      # adapt to your search\n",
    "}\n",
    " \n",
    "r = requests.post(\n",
    "    API_URL_QUERY,\n",
    "    headers=headers,\n",
    "    data=data\n",
    ")\n",
    "print(r.json())"
   ]
  },
  {
   "cell_type": "code",
   "execution_count": null,
   "id": "82370ea8-9f50-493b-afab-107f961912b0",
   "metadata": {
    "tags": []
   },
   "outputs": [],
   "source": [
    "# Check the status of the data request and available data sets\n",
    "import requests\n",
    "\n",
    "headers = {\n",
    "    #\"X-API-Key\": \"...\",    # insert your credentials here\n",
    "    #\"X-API-Secret\": \"...\"     # insert your credentials here\n",
    "    \"X-API-Key\": \"245cbd3b-0335-3b6c-a4e0-fd2408ef982b\",\n",
    "    \"X-API-Secret\": \"39f27c9ee496ea7f70c98cbbd417565ca441f3924535589673ab6c585d4d284c\"\n",
    "}\n",
    "API_BASE_URL = \"https://swissdox.linguistik.uzh.ch/api\"\n",
    "API_URL_STATUS = f\"{API_BASE_URL}/status\"\n",
    " \n",
    "r = requests.get(\n",
    "    API_URL_STATUS,\n",
    "    headers=headers\n",
    ")\n",
    "status = r.json()\n",
    "len(status)"
   ]
  },
  {
   "cell_type": "code",
   "execution_count": null,
   "id": "e1644681-305f-4beb-bad8-622918fee5da",
   "metadata": {
    "tags": []
   },
   "outputs": [],
   "source": [
    "# Show details of the available data sets\n",
    "\n",
    "for i in range(len(status)):\n",
    "    print(i, \"|\", status[i]['name'], \"|\", status[i]['status'], \"|\", \"is API request\", status[i]['isAPI'], \"|\", status[i]['downloadUrl'])"
   ]
  },
  {
   "cell_type": "code",
   "execution_count": null,
   "id": "fdb7a49f-d64f-453f-b55a-2b509b71321a",
   "metadata": {
    "tags": []
   },
   "outputs": [],
   "source": [
    "# Show whole status content\n",
    "#[i for i in status]"
   ]
  },
  {
   "cell_type": "code",
   "execution_count": null,
   "id": "9f68564b-d23b-4c70-b1e0-bf31d2e92fa0",
   "metadata": {
    "tags": []
   },
   "outputs": [],
   "source": [
    "# Select a specific download URL - 0 is newest\n",
    "status[3]['downloadUrl']"
   ]
  },
  {
   "cell_type": "code",
   "execution_count": null,
   "id": "00865826-cbf5-476e-a7c7-c70db91fe659",
   "metadata": {
    "tags": []
   },
   "outputs": [],
   "source": [
    "# Download specific dataset\n",
    " \n",
    "headers = {\n",
    "    #\"X-API-Key\": \"...\",    # insert your credentials here\n",
    "    #\"X-API-Secret\": \"...\"     # insert your credentials here\n",
    "    \"X-API-Key\": \"245cbd3b-0335-3b6c-a4e0-fd2408ef982b\",\n",
    "    \"X-API-Secret\": \"39f27c9ee496ea7f70c98cbbd417565ca441f3924535589673ab6c585d4d284c\"\n",
    "}\n",
    "API_BASE_URL = \"https://swissdox.linguistik.uzh.ch/api\"\n",
    "#API_URL_DOWNLOAD = f\"{API_BASE_URL}/download/....\"\n",
    "\n",
    "API_URL_DOWNLOAD = status[4]['downloadUrl']   # newest data request: 0\n",
    "\n",
    "r = requests.get(\n",
    "    API_URL_DOWNLOAD,\n",
    "    headers=headers\n",
    ")\n",
    "if r.status_code == 200:\n",
    "    print(\"Size of file: %.2f KB\" % (len(r.content)/1024))\n",
    "    fp = open(\"data.tsv.xz\", \"wb\")       # choose better file name here\n",
    "    fp.write(r.content)\n",
    "    fp.close()\n",
    "else:\n",
    "    print(r.text)"
   ]
  },
  {
   "cell_type": "code",
   "execution_count": null,
   "id": "45718b78-05f9-4218-ab4c-b6ee6b6098dc",
   "metadata": {
    "tags": []
   },
   "outputs": [],
   "source": [
    "# Unpack file to TSV\n",
    "! xzcat data.tsv.xz > data.tsv"
   ]
  }
 ],
 "metadata": {
  "kernelspec": {
   "display_name": "Python3",
   "language": "python",
   "name": "python3"
  },
  "language_info": {
   "codemirror_mode": {
    "name": "ipython",
    "version": 3
   },
   "file_extension": ".py",
   "mimetype": "text/x-python",
   "name": "python",
   "nbconvert_exporter": "python",
   "pygments_lexer": "ipython3",
   "version": "3.11.5"
  }
 },
 "nbformat": 4,
 "nbformat_minor": 5
}
